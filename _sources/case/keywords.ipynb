{
 "cells": [
  {
   "cell_type": "markdown",
   "id": "e392f77f",
   "metadata": {},
   "source": [
    "# Keyword analysis: Donald Trump's speeches"
   ]
  },
  {
   "cell_type": "code",
   "execution_count": 1,
   "id": "762c8df4",
   "metadata": {
    "tags": [
     "remove-cell"
    ]
   },
   "outputs": [
    {
     "name": "stderr",
     "output_type": "stream",
     "text": [
      "[nltk_data] Downloading package inaugural to /tmp/v4py/nltk_data...\n"
     ]
    },
    {
     "name": "stderr",
     "output_type": "stream",
     "text": [
      "[nltk_data]   Unzipping corpora/inaugural.zip.\n"
     ]
    },
    {
     "data": {
      "text/plain": [
       "True"
      ]
     },
     "execution_count": 1,
     "metadata": {},
     "output_type": "execute_result"
    }
   ],
   "source": [
    "# Download NLTK resources. Remove code from START_NLTK_TMP to\n",
    "# END_NLTK_TMP to store them in a permanent location instead of a\n",
    "# temporary directory.\n",
    "# --------------------------- START_NLTK_TMP ---------------------------\n",
    "import os\n",
    "import tempfile\n",
    "\n",
    "nltk_data = os.path.join(tempfile.gettempdir(), \"v4py\", \"nltk_data\")\n",
    "os.makedirs(nltk_data, exist_ok=True)\n",
    "os.environ[\"NLTK_DATA\"] = nltk_data\n",
    "# ---------------------------- END_NLTK_TMP ----------------------------\n",
    "\n",
    "import nltk\n",
    "\n",
    "nltk.download(\"inaugural\")"
   ]
  },
  {
   "cell_type": "markdown",
   "id": "7e627102",
   "metadata": {},
   "source": [
    "## Reference corpus & frequency distribution"
   ]
  },
  {
   "cell_type": "code",
   "execution_count": 2,
   "id": "a3d92c30",
   "metadata": {},
   "outputs": [],
   "source": [
    "from nltk.corpus import inaugural"
   ]
  },
  {
   "cell_type": "code",
   "execution_count": 3,
   "id": "c66f70b1",
   "metadata": {},
   "outputs": [
    {
     "data": {
      "text/plain": [
       "['1789-Washington.txt',\n",
       " '1793-Washington.txt',\n",
       " '1797-Adams.txt',\n",
       " '1801-Jefferson.txt',\n",
       " '1805-Jefferson.txt',\n",
       " '1809-Madison.txt',\n",
       " '1813-Madison.txt',\n",
       " '1817-Monroe.txt',\n",
       " '1821-Monroe.txt',\n",
       " '1825-Adams.txt',\n",
       " '1829-Jackson.txt',\n",
       " '1833-Jackson.txt',\n",
       " '1837-VanBuren.txt',\n",
       " '1841-Harrison.txt',\n",
       " '1845-Polk.txt',\n",
       " '1849-Taylor.txt',\n",
       " '1853-Pierce.txt',\n",
       " '1857-Buchanan.txt',\n",
       " '1861-Lincoln.txt',\n",
       " '1865-Lincoln.txt',\n",
       " '1869-Grant.txt',\n",
       " '1873-Grant.txt',\n",
       " '1877-Hayes.txt',\n",
       " '1881-Garfield.txt',\n",
       " '1885-Cleveland.txt',\n",
       " '1889-Harrison.txt',\n",
       " '1893-Cleveland.txt',\n",
       " '1897-McKinley.txt',\n",
       " '1901-McKinley.txt',\n",
       " '1905-Roosevelt.txt',\n",
       " '1909-Taft.txt',\n",
       " '1913-Wilson.txt',\n",
       " '1917-Wilson.txt',\n",
       " '1921-Harding.txt',\n",
       " '1925-Coolidge.txt',\n",
       " '1929-Hoover.txt',\n",
       " '1933-Roosevelt.txt',\n",
       " '1937-Roosevelt.txt',\n",
       " '1941-Roosevelt.txt',\n",
       " '1945-Roosevelt.txt',\n",
       " '1949-Truman.txt',\n",
       " '1953-Eisenhower.txt',\n",
       " '1957-Eisenhower.txt',\n",
       " '1961-Kennedy.txt',\n",
       " '1965-Johnson.txt',\n",
       " '1969-Nixon.txt',\n",
       " '1973-Nixon.txt',\n",
       " '1977-Carter.txt',\n",
       " '1981-Reagan.txt',\n",
       " '1985-Reagan.txt',\n",
       " '1989-Bush.txt',\n",
       " '1993-Clinton.txt',\n",
       " '1997-Clinton.txt',\n",
       " '2001-Bush.txt',\n",
       " '2005-Bush.txt',\n",
       " '2009-Obama.txt',\n",
       " '2013-Obama.txt',\n",
       " '2017-Trump.txt']"
      ]
     },
     "execution_count": 3,
     "metadata": {},
     "output_type": "execute_result"
    }
   ],
   "source": [
    "inaugural.fileids()"
   ]
  },
  {
   "cell_type": "code",
   "execution_count": 4,
   "id": "ad881b0b",
   "metadata": {},
   "outputs": [
    {
     "data": {
      "text/plain": [
       "['Fellow', '-', 'Citizens', 'of', 'the', 'Senate', ...]"
      ]
     },
     "execution_count": 4,
     "metadata": {},
     "output_type": "execute_result"
    }
   ],
   "source": [
    "inaugural.words()"
   ]
  },
  {
   "cell_type": "code",
   "execution_count": 5,
   "id": "fdc6b667",
   "metadata": {},
   "outputs": [],
   "source": [
    "from nltk import FreqDist"
   ]
  },
  {
   "cell_type": "code",
   "execution_count": 6,
   "id": "bbbe6a5e",
   "metadata": {},
   "outputs": [
    {
     "data": {
      "text/plain": [
       "FreqDist({'one': 2, 'two': 1, 'three': 1})"
      ]
     },
     "execution_count": 6,
     "metadata": {},
     "output_type": "execute_result"
    }
   ],
   "source": [
    "FreqDist([\"one\", \"two\", \"three\", \"one\"])"
   ]
  },
  {
   "cell_type": "code",
   "execution_count": 7,
   "id": "556cb772",
   "metadata": {},
   "outputs": [],
   "source": [
    "fd = FreqDist([\"one\", \"two\", \"three\", \"one\"])"
   ]
  },
  {
   "cell_type": "code",
   "execution_count": 8,
   "id": "a1dac6e8",
   "metadata": {},
   "outputs": [
    {
     "data": {
      "text/plain": [
       "2"
      ]
     },
     "execution_count": 8,
     "metadata": {},
     "output_type": "execute_result"
    }
   ],
   "source": [
    "fd[\"one\"]"
   ]
  },
  {
   "cell_type": "code",
   "execution_count": 9,
   "id": "445c0486",
   "metadata": {},
   "outputs": [
    {
     "data": {
      "text/plain": [
       "4"
      ]
     },
     "execution_count": 9,
     "metadata": {},
     "output_type": "execute_result"
    }
   ],
   "source": [
    "fd.N()"
   ]
  },
  {
   "cell_type": "code",
   "execution_count": 10,
   "id": "650d3c6e",
   "metadata": {},
   "outputs": [
    {
     "data": {
      "text/plain": [
       "0.5"
      ]
     },
     "execution_count": 10,
     "metadata": {},
     "output_type": "execute_result"
    }
   ],
   "source": [
    "fd.freq(\"one\")"
   ]
  },
  {
   "cell_type": "code",
   "execution_count": 11,
   "id": "7de6047d",
   "metadata": {},
   "outputs": [
    {
     "data": {
      "text/plain": [
       "[('one', 2), ('two', 1), ('three', 1)]"
      ]
     },
     "execution_count": 11,
     "metadata": {},
     "output_type": "execute_result"
    }
   ],
   "source": [
    "fd.most_common()"
   ]
  },
  {
   "cell_type": "code",
   "execution_count": 12,
   "id": "5eecac05",
   "metadata": {},
   "outputs": [
    {
     "data": {
      "image/png": "[encoded data removed]",
      "text/plain": [
       "<Figure size 432x288 with 1 Axes>"
      ]
     },
     "metadata": {
      "filenames": {
       "image/png": "/home/david/repos/v4py.github.io/_build/jupyter_execute/case/keywords_13_0.png"
      },
      "needs_background": "light"
     },
     "output_type": "display_data"
    },
    {
     "data": {
      "text/plain": [
       "<AxesSubplot:xlabel='Samples', ylabel='Counts'>"
      ]
     },
     "execution_count": 12,
     "metadata": {},
     "output_type": "execute_result"
    }
   ],
   "source": [
    "fd.plot()"
   ]
  },
  {
   "cell_type": "code",
   "execution_count": 13,
   "id": "2bea787d",
   "metadata": {},
   "outputs": [],
   "source": [
    "reference_fd = FreqDist(inaugural.words())"
   ]
  },
  {
   "cell_type": "code",
   "execution_count": 14,
   "id": "734793b0",
   "metadata": {
    "tags": [
     "raises-exception",
     "full-width",
     "output_scroll"
    ]
   },
   "outputs": [
    {
     "ename": "AttributeError",
     "evalue": "'ConcatenatedCorpusView' object has no attribute 'lower'",
     "output_type": "error",
     "traceback": [
      "\u001b[0;31m---------------------------------------------------------------------------\u001b[0m",
      "\u001b[0;31mAttributeError\u001b[0m                            Traceback (most recent call last)",
      "\u001b[0;32m/tmp/ipykernel_56977/2471470118.py\u001b[0m in \u001b[0;36m<module>\u001b[0;34m\u001b[0m\n\u001b[0;32m----> 1\u001b[0;31m \u001b[0minaugural\u001b[0m\u001b[0;34m.\u001b[0m\u001b[0mwords\u001b[0m\u001b[0;34m(\u001b[0m\u001b[0;34m)\u001b[0m\u001b[0;34m.\u001b[0m\u001b[0mlower\u001b[0m\u001b[0;34m(\u001b[0m\u001b[0;34m)\u001b[0m\u001b[0;34m\u001b[0m\u001b[0;34m\u001b[0m\u001b[0m\n\u001b[0m",
      "\u001b[0;31mAttributeError\u001b[0m: 'ConcatenatedCorpusView' object has no attribute 'lower'"
     ]
    }
   ],
   "source": [
    "inaugural.words().lower()"
   ]
  },
  {
   "cell_type": "code",
   "execution_count": 15,
   "id": "650e10d5",
   "metadata": {},
   "outputs": [],
   "source": [
    "reference_fd = FreqDist(\n",
    "    word.casefold()\n",
    "    for word in inaugural.words()\n",
    "    # if word.isalpha()\n",
    ")"
   ]
  },
  {
   "cell_type": "code",
   "execution_count": 16,
   "id": "d6c330a4",
   "metadata": {},
   "outputs": [
    {
     "data": {
      "text/plain": [
       "[('the', 10081),\n",
       " ('of', 7103),\n",
       " (',', 7045),\n",
       " ('and', 5304),\n",
       " ('.', 4856),\n",
       " ('to', 4535),\n",
       " ('in', 2784),\n",
       " ('a', 2245),\n",
       " ('our', 2182),\n",
       " ('that', 1793)]"
      ]
     },
     "execution_count": 16,
     "metadata": {},
     "output_type": "execute_result"
    }
   ],
   "source": [
    "reference_fd.most_common(10)"
   ]
  },
  {
   "cell_type": "code",
   "execution_count": 17,
   "id": "0c52dfaa",
   "metadata": {},
   "outputs": [
    {
     "data": {
      "image/png": "[encoded data removed]",
      "text/plain": [
       "<Figure size 432x288 with 1 Axes>"
      ]
     },
     "metadata": {
      "filenames": {
       "image/png": "/home/david/repos/v4py.github.io/_build/jupyter_execute/case/keywords_18_0.png"
      },
      "needs_background": "light"
     },
     "output_type": "display_data"
    },
    {
     "data": {
      "text/plain": [
       "<AxesSubplot:xlabel='Samples', ylabel='Counts'>"
      ]
     },
     "execution_count": 17,
     "metadata": {},
     "output_type": "execute_result"
    }
   ],
   "source": [
    "reference_fd.plot(10)"
   ]
  },
  {
   "cell_type": "code",
   "execution_count": 18,
   "id": "f7306aa6",
   "metadata": {},
   "outputs": [],
   "source": [
    "trump = \"\"\"\n",
    "Chief Justice Roberts, President Carter, President Clinton, President Bush, President Obama, fellow Americans, and people of the world: thank you.\n",
    "\n",
    "We, the citizens of America, are now joined in a great national effort to rebuild our country and to restore its promise for all of our people.\n",
    "\n",
    "Together, we will determine the course of America and the world for years to come.\n",
    "\n",
    "We will face challenges. We will confront hardships. But we will get the job done.\n",
    "\n",
    "Every four years, we gather on these steps to carry out the orderly and peaceful transfer of power, and we are grateful to President Obama and First Lady Michelle Obama for their gracious aid throughout this transition. They have been magnificent.\n",
    "\n",
    "Today’s ceremony, however, has very special meaning. Because today we are not merely transferring power from one Administration to another, or from one party to another – but we are transferring power from Washington, D.C. and giving it back to you, the American People.\n",
    "\n",
    "For too long, a small group in our nation’s Capital has reaped the rewards of government while the people have borne the cost.\n",
    "\n",
    "Washington flourished – but the people did not share in its wealth.\n",
    "\n",
    "Politicians prospered – but the jobs left, and the factories closed.\n",
    "\n",
    "The establishment protected itself, but not the citizens of our country.\n",
    "\n",
    "Their victories have not been your victories; their triumphs have not been your triumphs; and while they celebrated in our nation’s Capital, there was little to celebrate for struggling families all across our land.\n",
    "\n",
    "That all changes – starting right here, and right now, because this moment is your moment: it belongs to you.\n",
    "\n",
    "It belongs to everyone gathered here today and everyone watching all across America.\n",
    "\n",
    "This is your day. This is your celebration.\n",
    "\n",
    "And this, the United States of America, is your country.\n",
    "\n",
    "What truly matters is not which party controls our government, but whether our government is controlled by the people.\n",
    "\n",
    "January 20th 2017, will be remembered as the day the people became the rulers of this nation again.\n",
    "\n",
    "The forgotten men and women of our country will be forgotten no longer.\n",
    "\n",
    "Everyone is listening to you now.\n",
    "\n",
    "You came by the tens of millions to become part of a historic movement the likes of which the world has never seen before.\n",
    "\n",
    "At the center of this movement is a crucial conviction: that a nation exists to serve its citizens.\n",
    "\n",
    "Americans want great schools for their children, safe neighborhoods for their families, and good jobs for themselves.\n",
    "\n",
    "These are the just and reasonable demands of a righteous public.\n",
    "\n",
    "But for too many of our citizens, a different reality exists: Mothers and children trapped in poverty in our inner cities; rusted-out factories scattered like tombstones across the landscape of our nation; an education system, flush with cash, but which leaves our young and beautiful students deprived of knowledge; and the crime and gangs and drugs that have stolen too many lives and robbed our country of so much unrealized potential.\n",
    "\n",
    "This American carnage stops right here and stops right now.\n",
    "\n",
    "We are one nation – and their pain is our pain. Their dreams are our dreams; and their success will be our success. We share one heart, one home, and one glorious destiny.\n",
    "\n",
    "The oath of office I take today is an oath of allegiance to all Americans.\n",
    "\n",
    "For many decades, we’ve enriched foreign industry at the expense of American industry;\n",
    "\n",
    "Subsidized the armies of other countries while allowing for the very sad depletion of our military;\n",
    "\n",
    "We’ve defended other nation’s borders while refusing to defend our own;\n",
    "\n",
    "And spent trillions of dollars overseas while America’s infrastructure has fallen into disrepair and decay.\n",
    "\n",
    "We’ve made other countries rich while the wealth, strength, and confidence of our country has disappeared over the horizon.\n",
    "\n",
    "One by one, the factories shuttered and left our shores, with not even a thought about the millions upon millions of American workers left behind.\n",
    "\n",
    "The wealth of our middle class has been ripped from their homes and then redistributed across the entire world.\n",
    "\n",
    "But that is the past. And now we are looking only to the future.\n",
    "\n",
    "We assembled here today are issuing a new decree to be heard in every city, in every foreign capital, and in every hall of power.\n",
    "\n",
    "From this day forward, a new vision will govern our land.\n",
    "\n",
    "From this moment on, it’s going to be America First.\n",
    "\n",
    "Every decision on trade, on taxes, on immigration, on foreign affairs, will be made to benefit American workers and American families.\n",
    "\n",
    "We must protect our borders from the ravages of other countries making our products, stealing our companies, and destroying our jobs. Protection will lead to great prosperity and strength.\n",
    "\n",
    "I will fight for you with every breath in my body – and I will never, ever let you down.\n",
    "\n",
    "America will start winning again, winning like never before.\n",
    "\n",
    "We will bring back our jobs. We will bring back our borders. We will bring back our wealth. And we will bring back our dreams.\n",
    "\n",
    "We will build new roads, and highways, and bridges, and airports, and tunnels, and railways all across our wonderful nation.\n",
    "\n",
    "We will get our people off of welfare and back to work – rebuilding our country with American hands and American labor.\n",
    "\n",
    "We will follow two simple rules: Buy American and Hire American.\n",
    "\n",
    "We will seek friendship and goodwill with the nations of the world – but we do so with the understanding that it is the right of all nations to put their own interests first.\n",
    "\n",
    "We do not seek to impose our way of life on anyone, but rather to let it shine as an example for everyone to follow.\n",
    "\n",
    "We will reinforce old alliances and form new ones – and unite the civilized world against Radical Islamic Terrorism, which we will eradicate completely from the face of the Earth.\n",
    "\n",
    "At the bedrock of our politics will be a total allegiance to the United States of America, and through our loyalty to our country, we will rediscover our loyalty to each other.\n",
    "\n",
    "When you open your heart to patriotism, there is no room for prejudice.\n",
    "\n",
    "The Bible tells us, “how good and pleasant it is when God’s people live together in unity.”\n",
    "\n",
    "We must speak our minds openly, debate our disagreements honestly, but always pursue solidarity.\n",
    "\n",
    "When America is united, America is totally unstoppable.\n",
    "\n",
    "There should be no fear – we are protected, and we will always be protected.\n",
    "\n",
    "We will be protected by the great men and women of our military and law enforcement and, most importantly, we are protected by God.\n",
    "\n",
    "Finally, we must think big and dream even bigger.\n",
    "\n",
    "In America, we understand that a nation is only living as long as it is striving.\n",
    "\n",
    "We will no longer accept politicians who are all talk and no action – constantly complaining but never doing anything about it.\n",
    "\n",
    "The time for empty talk is over.\n",
    "\n",
    "Now arrives the hour of action.\n",
    "\n",
    "Do not let anyone tell you it cannot be done. No challenge can match the heart and fight and spirit of America.\n",
    "\n",
    "We will not fail. Our country will thrive and prosper again.\n",
    "\n",
    "We stand at the birth of a new millennium, ready to unlock the mysteries of space, to free the Earth from the miseries of disease, and to harness the energies, industries and technologies of tomorrow.\n",
    "\n",
    "A new national pride will stir our souls, lift our sights, and heal our divisions.\n",
    "\n",
    "It is time to remember that old wisdom our soldiers will never forget: that whether we are black or brown or white, we all bleed the same red blood of patriots, we all enjoy the same glorious freedoms, and we all salute the same great American Flag.\n",
    "\n",
    "And whether a child is born in the urban sprawl of Detroit or the windswept plains of Nebraska, they look up at the same night sky, they fill their heart with the same dreams, and they are infused with the breath of life by the same almighty Creator.\n",
    "\n",
    "So to all Americans, in every city near and far, small and large, from mountain to mountain, and from ocean to ocean, hear these words:\n",
    "\n",
    "You will never be ignored again.\n",
    "\n",
    "Your voice, your hopes, and your dreams, will define our American destiny. And your courage and goodness and love will forever guide us along the way.\n",
    "\n",
    "Together, We Will Make America Strong Again.\n",
    "\n",
    "We Will Make America Wealthy Again.\n",
    "\n",
    "We Will Make America Proud Again.\n",
    "\n",
    "We Will Make America Safe Again.\n",
    "\n",
    "And, Yes, Together, We Will Make America Great Again. Thank you, God Bless You, And God Bless America.\n",
    "\"\"\""
   ]
  },
  {
   "cell_type": "code",
   "execution_count": 19,
   "id": "3650ac4a",
   "metadata": {},
   "outputs": [],
   "source": [
    "%page -r trump"
   ]
  },
  {
   "cell_type": "markdown",
   "id": "67423df6",
   "metadata": {},
   "source": [
    "| ❄             | text  | ref. corpus |\n",
    "|---------------|-------|-------------|\n",
    "| *bigly*       | 270   | 2615        |\n",
    "| other words | 19937 | 120 748 715 |"
   ]
  },
  {
   "cell_type": "code",
   "execution_count": 20,
   "id": "efd93329",
   "metadata": {},
   "outputs": [],
   "source": [
    "prop_text = 270 / (270 + 19_937)"
   ]
  },
  {
   "cell_type": "code",
   "execution_count": 21,
   "id": "3feb65aa",
   "metadata": {},
   "outputs": [
    {
     "data": {
      "text/plain": [
       "0.01336170633938734"
      ]
     },
     "execution_count": 21,
     "metadata": {},
     "output_type": "execute_result"
    }
   ],
   "source": [
    "prop_text"
   ]
  },
  {
   "cell_type": "code",
   "execution_count": 22,
   "id": "cf18fa6e",
   "metadata": {},
   "outputs": [],
   "source": [
    "prop_ref = 2615 / (2615 + 120_748_715)"
   ]
  },
  {
   "cell_type": "code",
   "execution_count": 23,
   "id": "75f1d8de",
   "metadata": {},
   "outputs": [
    {
     "data": {
      "text/plain": [
       "2.1656076169098925e-05"
      ]
     },
     "execution_count": 23,
     "metadata": {},
     "output_type": "execute_result"
    }
   ],
   "source": [
    "prop_ref"
   ]
  },
  {
   "cell_type": "code",
   "execution_count": 24,
   "id": "39bc2e9f",
   "metadata": {},
   "outputs": [
    {
     "data": {
      "text/plain": [
       "True"
      ]
     },
     "execution_count": 24,
     "metadata": {},
     "output_type": "execute_result"
    }
   ],
   "source": [
    "prop_text > prop_ref"
   ]
  },
  {
   "cell_type": "code",
   "execution_count": 25,
   "id": "fcba741f",
   "metadata": {},
   "outputs": [],
   "source": [
    "from scipy.stats import chi2_contingency"
   ]
  },
  {
   "cell_type": "code",
   "execution_count": 26,
   "id": "ff6e6a3a",
   "metadata": {},
   "outputs": [
    {
     "data": {
      "text/plain": [
       "(149954.80206610577,\n",
       " 0.0,\n",
       " 1,\n",
       " array([[4.82706410e-01, 2.02065173e+04],\n",
       "        [2.88451729e+03, 1.20748445e+08]]))"
      ]
     },
     "execution_count": 26,
     "metadata": {},
     "output_type": "execute_result"
    }
   ],
   "source": [
    "chi2_contingency([[270, 19_937], [2615, 120_748_715]])"
   ]
  },
  {
   "cell_type": "code",
   "execution_count": 27,
   "id": "a6b8208c",
   "metadata": {},
   "outputs": [
    {
     "data": {
      "text/plain": [
       "0.0"
      ]
     },
     "execution_count": 27,
     "metadata": {},
     "output_type": "execute_result"
    }
   ],
   "source": [
    "chi2_contingency([[270, 19_937], [2615, 120_748_715]])[1]"
   ]
  },
  {
   "cell_type": "code",
   "execution_count": 28,
   "id": "df8de8eb",
   "metadata": {},
   "outputs": [
    {
     "data": {
      "text/plain": [
       "True"
      ]
     },
     "execution_count": 28,
     "metadata": {},
     "output_type": "execute_result"
    }
   ],
   "source": [
    "chi2_result = chi2_contingency([[270, 19_937], [2615, 120_748_715]])\n",
    "p = chi2_result[1]\n",
    "p < 0.05"
   ]
  },
  {
   "cell_type": "code",
   "execution_count": 29,
   "id": "0dc122a0",
   "metadata": {},
   "outputs": [],
   "source": [
    "from nltk import word_tokenize"
   ]
  },
  {
   "cell_type": "code",
   "execution_count": 30,
   "id": "d096a691",
   "metadata": {},
   "outputs": [],
   "source": [
    "trump_fd = FreqDist(\n",
    "    word.casefold()\n",
    "    for word in word_tokenize(trump)\n",
    "    # if word.isalpha()\n",
    ")"
   ]
  },
  {
   "cell_type": "code",
   "execution_count": 31,
   "id": "fa322a5e",
   "metadata": {},
   "outputs": [
    {
     "data": {
      "text/plain": [
       "[(',', 95),\n",
       " ('.', 86),\n",
       " ('and', 74),\n",
       " ('the', 70),\n",
       " ('we', 49),\n",
       " ('of', 48),\n",
       " ('our', 48),\n",
       " ('will', 40),\n",
       " ('to', 37),\n",
       " ('is', 21)]"
      ]
     },
     "execution_count": 31,
     "metadata": {},
     "output_type": "execute_result"
    }
   ],
   "source": [
    "trump_fd.most_common(10)"
   ]
  },
  {
   "cell_type": "code",
   "execution_count": 32,
   "id": "992a0f86",
   "metadata": {},
   "outputs": [],
   "source": [
    "def is_keyword(word, target_fd, reference_fd):\n",
    "    target_freq = target_fd[word]\n",
    "    target_rest = target_fd.N() - target_freq\n",
    "    reference_freq = reference_fd[word]\n",
    "    reference_rest = reference_fd.N() - reference_freq\n",
    "    chi2_result = chi2_contingency(\n",
    "        [[target_freq, target_rest],\n",
    "         [reference_freq, reference_rest]]\n",
    "    )\n",
    "    p = chi2_result[1]\n",
    "    return target_fd.freq(word) > reference_fd.freq(word) and p < 0.05"
   ]
  },
  {
   "cell_type": "code",
   "execution_count": 33,
   "id": "1e920d30",
   "metadata": {},
   "outputs": [
    {
     "data": {
      "text/plain": [
       "74"
      ]
     },
     "execution_count": 33,
     "metadata": {},
     "output_type": "execute_result"
    }
   ],
   "source": [
    "trump_fd[\"and\"]"
   ]
  },
  {
   "cell_type": "code",
   "execution_count": 34,
   "id": "f5cfeb70",
   "metadata": {},
   "outputs": [
    {
     "data": {
      "text/plain": [
       "1590"
      ]
     },
     "execution_count": 34,
     "metadata": {},
     "output_type": "execute_result"
    }
   ],
   "source": [
    "trump_fd.N() - trump_fd[\"and\"]"
   ]
  },
  {
   "cell_type": "code",
   "execution_count": 35,
   "id": "d90d3be4",
   "metadata": {},
   "outputs": [],
   "source": [
    "def din(word, target_fd, reference_fd):\n",
    "    target_freq = target_fd.freq(word)\n",
    "    reference_freq = reference_fd.freq(word)\n",
    "    return 100 * (target_freq - reference_freq) / (target_freq + reference_freq)"
   ]
  },
  {
   "cell_type": "markdown",
   "id": "8b9f2b11",
   "metadata": {},
   "source": [
    "For more on DIN (Difference INdex), see: <https://kwords.korpus.cz/>"
   ]
  },
  {
   "cell_type": "code",
   "execution_count": 36,
   "id": "7bb6b90a",
   "metadata": {},
   "outputs": [
    {
     "name": "stdout",
     "output_type": "stream",
     "text": [
      "chief\n"
     ]
    }
   ],
   "source": [
    "for word in trump_fd.keys():\n",
    "    print(word)\n",
    "    break"
   ]
  },
  {
   "cell_type": "code",
   "execution_count": 37,
   "id": "08f0fa41",
   "metadata": {},
   "outputs": [],
   "source": [
    "keywords = []\n",
    "\n",
    "for word in trump_fd.keys():\n",
    "    if is_keyword(word, trump_fd, reference_fd):\n",
    "        word_din = din(word, trump_fd, reference_fd)\n",
    "        keywords.append((word_din, word))"
   ]
  },
  {
   "cell_type": "code",
   "execution_count": 38,
   "id": "17203409",
   "metadata": {},
   "outputs": [
    {
     "data": {
      "text/plain": [
       "177"
      ]
     },
     "execution_count": 38,
     "metadata": {},
     "output_type": "execute_result"
    }
   ],
   "source": [
    "len(keywords)"
   ]
  },
  {
   "cell_type": "code",
   "execution_count": 39,
   "id": "6262e22e",
   "metadata": {},
   "outputs": [
    {
     "data": {
      "text/plain": [
       "[(97.80273469738084, 'roberts'),\n",
       " (66.98269164100009, 'president'),\n",
       " (95.65322448979592, 'carter'),\n",
       " (97.80273469738084, 'obama'),\n",
       " (65.90560468709332, 'americans'),\n",
       " (64.28364956401919, ':'),\n",
       " (78.2226161652816, 'thank'),\n",
       " (68.88842955794615, 'you'),\n",
       " (22.9078612403631, '.'),\n",
       " (43.331449924815, 'we'),\n",
       " (76.0921570023243, 'america'),\n",
       " (97.80273469738084, 'rebuild'),\n",
       " (32.89320572096895, 'our'),\n",
       " (43.62702249210978, 'country'),\n",
       " (62.535738505357386, 'together'),\n",
       " (59.51174372828367, 'will'),\n",
       " (97.80273469738084, 'hardships'),\n",
       " (95.65322448979592, 'get'),\n",
       " (97.80273469738084, 'lady'),\n",
       " (97.80273469738084, 'michelle'),\n",
       " (63.05092014589975, 'today'),\n",
       " (100.00000000000001, '’'),\n",
       " (48.24477135479292, 's'),\n",
       " (97.80273469738084, 'transferring'),\n",
       " (47.39954637815924, 'one'),\n",
       " (100.0, '–'),\n",
       " (76.4757164315377, 'washington'),\n",
       " (100.0, 'd.c.'),\n",
       " (88.4843566175314, 'back'),\n",
       " (73.77875827292783, 'american'),\n",
       " (43.882087324579494, 'nation'),\n",
       " (83.67717293343715, 'capital'),\n",
       " (97.80273469738084, 'reaped'),\n",
       " (72.80580491472013, 'while'),\n",
       " (95.65322448979592, 'flourished'),\n",
       " (81.36437656260405, 'wealth'),\n",
       " (97.80273469738084, 'politicians'),\n",
       " (93.54992925853905, 'prospered'),\n",
       " (94.07150214091843, 'jobs'),\n",
       " (81.82226457004485, 'left'),\n",
       " (93.54992925853905, 'factories'),\n",
       " (90.27712678324866, 'protected'),\n",
       " (95.65322448979592, 'victories'),\n",
       " (77.9024302554632, 'your'),\n",
       " (91.49137440637124, 'triumphs'),\n",
       " (88.81379788452044, 'families'),\n",
       " (88.28724309526294, 'across'),\n",
       " (95.65322448979592, 'starting'),\n",
       " (58.1804031885922, 'right'),\n",
       " (63.64371275474254, 'here'),\n",
       " (74.76272975984226, 'moment'),\n",
       " (84.61889238770743, 'belongs'),\n",
       " (94.07150214091843, 'everyone'),\n",
       " (93.54992925853905, 'gathered'),\n",
       " (68.7565129714922, 'whether'),\n",
       " (95.65322448979592, 'january'),\n",
       " (97.80273469738084, '2017'),\n",
       " (83.88561272903472, 'again'),\n",
       " (88.4843566175314, 'forgotten'),\n",
       " (74.76272975984227, 'longer'),\n",
       " (97.80273469738084, 'listening'),\n",
       " (74.19910030216047, 'millions'),\n",
       " (91.49137440637124, 'movement'),\n",
       " (97.80273469738084, 'likes'),\n",
       " (60.245257889847906, 'never'),\n",
       " (83.67717293343715, 'exists'),\n",
       " (76.4757164315377, 'safe'),\n",
       " (97.80273469738084, 'neighborhoods'),\n",
       " (97.80273469738084, 'trapped'),\n",
       " (95.65322448979592, 'inner'),\n",
       " (100.0, 'rusted-out'),\n",
       " (97.80273469738084, 'tombstones'),\n",
       " (97.80273469738084, 'landscape'),\n",
       " (97.80273469738084, 'flush'),\n",
       " (95.65322448979592, 'cash'),\n",
       " (95.65322448979592, 'students'),\n",
       " (95.65322448979592, 'gangs'),\n",
       " (97.80273469738084, 'stolen'),\n",
       " (97.80273469738084, 'robbed'),\n",
       " (97.80273469738084, 'unrealized'),\n",
       " (97.80273469738084, 'carnage'),\n",
       " (97.80273469738084, 'stops'),\n",
       " (93.54992925853905, 'pain'),\n",
       " (92.3095192550874, 'dreams'),\n",
       " (79.10909971363492, 'heart'),\n",
       " (91.49137440637124, 'glorious'),\n",
       " (93.54992925853905, 'allegiance'),\n",
       " (97.08100261595844, 've'),\n",
       " (93.54992925853905, 'enriched'),\n",
       " (97.80273469738084, 'subsidized'),\n",
       " (75.90100184163504, 'countries'),\n",
       " (97.80273469738084, 'allowing'),\n",
       " (97.80273469738084, 'sad'),\n",
       " (97.80273469738084, 'depletion'),\n",
       " (93.54992925853905, 'borders'),\n",
       " (93.54992925853905, 'refusing'),\n",
       " (95.65322448979592, 'trillions'),\n",
       " (95.65322448979592, 'dollars'),\n",
       " (97.80273469738084, 'overseas'),\n",
       " (97.80273469738084, 'infrastructure'),\n",
       " (97.80273469738084, 'disrepair'),\n",
       " (93.54992925853905, 'disappeared'),\n",
       " (95.65322448979592, 'horizon'),\n",
       " (93.54992925853905, 'shuttered'),\n",
       " (93.54992925853905, 'workers'),\n",
       " (97.80273469738084, 'ripped'),\n",
       " (97.80273469738084, 'redistributed'),\n",
       " (97.80273469738084, 'issuing'),\n",
       " (93.54992925853905, 'decree'),\n",
       " (87.50289458696591, 'city'),\n",
       " (93.54992925853905, 'hall'),\n",
       " (97.80273469738084, 'ravages'),\n",
       " (97.80273469738084, 'stealing'),\n",
       " (95.65322448979592, 'companies'),\n",
       " (93.54992925853905, 'destroying'),\n",
       " (88.4843566175314, 'fight'),\n",
       " (95.65322448979592, 'breath'),\n",
       " (96.72210804173534, 'winning'),\n",
       " (78.66475832662432, 'bring'),\n",
       " (93.54992925853905, 'bridges'),\n",
       " (95.65322448979592, 'airports'),\n",
       " (97.80273469738084, 'tunnels'),\n",
       " (93.54992925853905, 'rebuilding'),\n",
       " (80.00444612676267, 'follow'),\n",
       " (97.80273469738084, 'hire'),\n",
       " (100.0, 'goodwill'),\n",
       " (89.47614740982944, 'anyone'),\n",
       " (97.80273469738084, 'shine'),\n",
       " (97.80273469738084, 'reinforce'),\n",
       " (95.65322448979592, 'radical'),\n",
       " (97.80273469738084, 'islamic'),\n",
       " (95.65322448979592, 'terrorism'),\n",
       " (95.65322448979592, 'eradicate'),\n",
       " (97.80273469738084, 'bedrock'),\n",
       " (90.47843087389136, 'loyalty'),\n",
       " (95.65322448979592, 'rediscover'),\n",
       " (93.54992925853905, 'tells'),\n",
       " (100.0, '“'),\n",
       " (95.65322448979592, 'pleasant'),\n",
       " (53.854923610219544, 'god'),\n",
       " (100.0, 'unity.'),\n",
       " (100.0, '”'),\n",
       " (97.80273469738084, 'disagreements'),\n",
       " (97.80273469738084, 'solidarity'),\n",
       " (93.54992925853905, 'totally'),\n",
       " (97.80273469738084, 'unstoppable'),\n",
       " (95.65322448979592, 'importantly'),\n",
       " (94.59589365861896, 'talk'),\n",
       " (97.80273469738084, 'complaining'),\n",
       " (95.65322448979592, 'empty'),\n",
       " (97.80273469738084, 'arrives'),\n",
       " (93.54992925853905, 'thrive'),\n",
       " (93.54992925853905, 'millennium'),\n",
       " (95.65322448979592, 'unlock'),\n",
       " (97.80273469738084, 'mysteries'),\n",
       " (93.54992925853905, 'miseries'),\n",
       " (95.65322448979592, 'technologies'),\n",
       " (97.80273469738084, 'brown'),\n",
       " (97.80273469738084, 'bleed'),\n",
       " (70.89222052154734, 'same'),\n",
       " (95.65322448979592, 'red'),\n",
       " (95.65322448979592, 'freedoms'),\n",
       " (93.54992925853905, 'salute'),\n",
       " (97.80273469738084, 'urban'),\n",
       " (97.80273469738084, 'sprawl'),\n",
       " (95.65322448979592, 'detroit'),\n",
       " (97.80273469738084, 'windswept'),\n",
       " (93.54992925853905, 'plains'),\n",
       " (95.65322448979592, 'nebraska'),\n",
       " (93.54992925853905, 'sky'),\n",
       " (95.65322448979592, 'infused'),\n",
       " (96.72210804173534, 'mountain'),\n",
       " (82.74501192502181, 'ocean'),\n",
       " (97.80273469738084, 'ignored'),\n",
       " (51.26960964994218, 'make'),\n",
       " (93.54992925853905, 'wealthy'),\n",
       " (79.10909971363492, 'bless')]"
      ]
     },
     "execution_count": 39,
     "metadata": {},
     "output_type": "execute_result"
    }
   ],
   "source": [
    "keywords"
   ]
  },
  {
   "cell_type": "code",
   "execution_count": 40,
   "id": "568df46f",
   "metadata": {},
   "outputs": [
    {
     "data": {
      "text/plain": [
       "[(100.00000000000001, '’'),\n",
       " (100.0, '”'),\n",
       " (100.0, '“'),\n",
       " (100.0, '–'),\n",
       " (100.0, 'unity.'),\n",
       " (100.0, 'rusted-out'),\n",
       " (100.0, 'goodwill'),\n",
       " (100.0, 'd.c.'),\n",
       " (97.80273469738084, 'windswept'),\n",
       " (97.80273469738084, 'urban'),\n",
       " (97.80273469738084, 'unstoppable'),\n",
       " (97.80273469738084, 'unrealized'),\n",
       " (97.80273469738084, 'tunnels'),\n",
       " (97.80273469738084, 'trapped'),\n",
       " (97.80273469738084, 'transferring'),\n",
       " (97.80273469738084, 'tombstones'),\n",
       " (97.80273469738084, 'subsidized'),\n",
       " (97.80273469738084, 'stops'),\n",
       " (97.80273469738084, 'stolen'),\n",
       " (97.80273469738084, 'stealing'),\n",
       " (97.80273469738084, 'sprawl'),\n",
       " (97.80273469738084, 'solidarity'),\n",
       " (97.80273469738084, 'shine'),\n",
       " (97.80273469738084, 'sad'),\n",
       " (97.80273469738084, 'roberts'),\n",
       " (97.80273469738084, 'robbed'),\n",
       " (97.80273469738084, 'ripped'),\n",
       " (97.80273469738084, 'reinforce'),\n",
       " (97.80273469738084, 'redistributed'),\n",
       " (97.80273469738084, 'rebuild'),\n",
       " (97.80273469738084, 'reaped'),\n",
       " (97.80273469738084, 'ravages'),\n",
       " (97.80273469738084, 'politicians'),\n",
       " (97.80273469738084, 'overseas'),\n",
       " (97.80273469738084, 'obama'),\n",
       " (97.80273469738084, 'neighborhoods'),\n",
       " (97.80273469738084, 'mysteries'),\n",
       " (97.80273469738084, 'michelle'),\n",
       " (97.80273469738084, 'listening'),\n",
       " (97.80273469738084, 'likes'),\n",
       " (97.80273469738084, 'landscape'),\n",
       " (97.80273469738084, 'lady'),\n",
       " (97.80273469738084, 'issuing'),\n",
       " (97.80273469738084, 'islamic'),\n",
       " (97.80273469738084, 'infrastructure'),\n",
       " (97.80273469738084, 'ignored'),\n",
       " (97.80273469738084, 'hire'),\n",
       " (97.80273469738084, 'hardships'),\n",
       " (97.80273469738084, 'flush'),\n",
       " (97.80273469738084, 'disrepair'),\n",
       " (97.80273469738084, 'disagreements'),\n",
       " (97.80273469738084, 'depletion'),\n",
       " (97.80273469738084, 'complaining'),\n",
       " (97.80273469738084, 'carnage'),\n",
       " (97.80273469738084, 'brown'),\n",
       " (97.80273469738084, 'bleed'),\n",
       " (97.80273469738084, 'bedrock'),\n",
       " (97.80273469738084, 'arrives'),\n",
       " (97.80273469738084, 'allowing'),\n",
       " (97.80273469738084, '2017'),\n",
       " (97.08100261595844, 've'),\n",
       " (96.72210804173534, 'winning'),\n",
       " (96.72210804173534, 'mountain'),\n",
       " (95.65322448979592, 'victories'),\n",
       " (95.65322448979592, 'unlock'),\n",
       " (95.65322448979592, 'trillions'),\n",
       " (95.65322448979592, 'terrorism'),\n",
       " (95.65322448979592, 'technologies'),\n",
       " (95.65322448979592, 'students'),\n",
       " (95.65322448979592, 'starting'),\n",
       " (95.65322448979592, 'rediscover'),\n",
       " (95.65322448979592, 'red'),\n",
       " (95.65322448979592, 'radical'),\n",
       " (95.65322448979592, 'pleasant'),\n",
       " (95.65322448979592, 'nebraska'),\n",
       " (95.65322448979592, 'january'),\n",
       " (95.65322448979592, 'inner'),\n",
       " (95.65322448979592, 'infused'),\n",
       " (95.65322448979592, 'importantly'),\n",
       " (95.65322448979592, 'horizon'),\n",
       " (95.65322448979592, 'get'),\n",
       " (95.65322448979592, 'gangs'),\n",
       " (95.65322448979592, 'freedoms'),\n",
       " (95.65322448979592, 'flourished'),\n",
       " (95.65322448979592, 'eradicate'),\n",
       " (95.65322448979592, 'empty'),\n",
       " (95.65322448979592, 'dollars'),\n",
       " (95.65322448979592, 'detroit'),\n",
       " (95.65322448979592, 'companies'),\n",
       " (95.65322448979592, 'cash'),\n",
       " (95.65322448979592, 'carter'),\n",
       " (95.65322448979592, 'breath'),\n",
       " (95.65322448979592, 'airports'),\n",
       " (94.59589365861896, 'talk'),\n",
       " (94.07150214091843, 'jobs'),\n",
       " (94.07150214091843, 'everyone'),\n",
       " (93.54992925853905, 'workers'),\n",
       " (93.54992925853905, 'wealthy'),\n",
       " (93.54992925853905, 'totally'),\n",
       " (93.54992925853905, 'thrive'),\n",
       " (93.54992925853905, 'tells'),\n",
       " (93.54992925853905, 'sky'),\n",
       " (93.54992925853905, 'shuttered'),\n",
       " (93.54992925853905, 'salute'),\n",
       " (93.54992925853905, 'refusing'),\n",
       " (93.54992925853905, 'rebuilding'),\n",
       " (93.54992925853905, 'prospered'),\n",
       " (93.54992925853905, 'plains'),\n",
       " (93.54992925853905, 'pain'),\n",
       " (93.54992925853905, 'miseries'),\n",
       " (93.54992925853905, 'millennium'),\n",
       " (93.54992925853905, 'hall'),\n",
       " (93.54992925853905, 'gathered'),\n",
       " (93.54992925853905, 'factories'),\n",
       " (93.54992925853905, 'enriched'),\n",
       " (93.54992925853905, 'disappeared'),\n",
       " (93.54992925853905, 'destroying'),\n",
       " (93.54992925853905, 'decree'),\n",
       " (93.54992925853905, 'bridges'),\n",
       " (93.54992925853905, 'borders'),\n",
       " (93.54992925853905, 'allegiance'),\n",
       " (92.3095192550874, 'dreams'),\n",
       " (91.49137440637124, 'triumphs'),\n",
       " (91.49137440637124, 'movement'),\n",
       " (91.49137440637124, 'glorious'),\n",
       " (90.47843087389136, 'loyalty'),\n",
       " (90.27712678324866, 'protected'),\n",
       " (89.47614740982944, 'anyone'),\n",
       " (88.81379788452044, 'families'),\n",
       " (88.4843566175314, 'forgotten'),\n",
       " (88.4843566175314, 'fight'),\n",
       " (88.4843566175314, 'back'),\n",
       " (88.28724309526294, 'across'),\n",
       " (87.50289458696591, 'city'),\n",
       " (84.61889238770743, 'belongs'),\n",
       " (83.88561272903472, 'again'),\n",
       " (83.67717293343715, 'exists'),\n",
       " (83.67717293343715, 'capital'),\n",
       " (82.74501192502181, 'ocean'),\n",
       " (81.82226457004485, 'left'),\n",
       " (81.36437656260405, 'wealth'),\n",
       " (80.00444612676267, 'follow'),\n",
       " (79.10909971363492, 'heart'),\n",
       " (79.10909971363492, 'bless'),\n",
       " (78.66475832662432, 'bring'),\n",
       " (78.2226161652816, 'thank'),\n",
       " (77.9024302554632, 'your'),\n",
       " (76.4757164315377, 'washington'),\n",
       " (76.4757164315377, 'safe'),\n",
       " (76.0921570023243, 'america'),\n",
       " (75.90100184163504, 'countries'),\n",
       " (74.76272975984227, 'longer'),\n",
       " (74.76272975984226, 'moment'),\n",
       " (74.19910030216047, 'millions'),\n",
       " (73.77875827292783, 'american'),\n",
       " (72.80580491472013, 'while'),\n",
       " (70.89222052154734, 'same'),\n",
       " (68.88842955794615, 'you'),\n",
       " (68.7565129714922, 'whether'),\n",
       " (66.98269164100009, 'president'),\n",
       " (65.90560468709332, 'americans'),\n",
       " (64.28364956401919, ':'),\n",
       " (63.64371275474254, 'here'),\n",
       " (63.05092014589975, 'today'),\n",
       " (62.535738505357386, 'together'),\n",
       " (60.245257889847906, 'never'),\n",
       " (59.51174372828367, 'will'),\n",
       " (58.1804031885922, 'right'),\n",
       " (53.854923610219544, 'god'),\n",
       " (51.26960964994218, 'make'),\n",
       " (48.24477135479292, 's'),\n",
       " (47.39954637815924, 'one'),\n",
       " (43.882087324579494, 'nation'),\n",
       " (43.62702249210978, 'country'),\n",
       " (43.331449924815, 'we'),\n",
       " (32.89320572096895, 'our'),\n",
       " (22.9078612403631, '.')]"
      ]
     },
     "execution_count": 40,
     "metadata": {},
     "output_type": "execute_result"
    }
   ],
   "source": [
    "sorted(keywords, reverse=True)"
   ]
  },
  {
   "cell_type": "code",
   "execution_count": 41,
   "id": "0e36d305",
   "metadata": {},
   "outputs": [],
   "source": [
    "?sorted"
   ]
  }
 ],
 "metadata": {
  "jupytext": {
   "formats": "md:myst",
   "text_representation": {
    "extension": ".md",
    "format_name": "myst",
    "format_version": 0.12,
    "jupytext_version": "1.6.0"
   }
  },
  "kernelspec": {
   "display_name": "Python 3",
   "language": "python",
   "name": "python3"
  },
  "language_info": {
   "codemirror_mode": {
    "name": "ipython",
    "version": 3
   },
   "file_extension": ".py",
   "mimetype": "text/x-python",
   "name": "python",
   "nbconvert_exporter": "python",
   "pygments_lexer": "ipython3",
   "version": "3.9.6"
  },
  "source_map": [
   13,
   17,
   35,
   39,
   43,
   47,
   51,
   55,
   59,
   63,
   67,
   71,
   75,
   79,
   83,
   87,
   93,
   101,
   105,
   109,
   263,
   265,
   272,
   276,
   280,
   284,
   288,
   292,
   296,
   300,
   304,
   310,
   314,
   322,
   326,
   340,
   344,
   348,
   353,
   357,
   363,
   372,
   376,
   380,
   384
  ]
 },
 "nbformat": 4,
 "nbformat_minor": 5
}