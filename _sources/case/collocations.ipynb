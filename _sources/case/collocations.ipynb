{
 "cells": [
  {
   "cell_type": "markdown",
   "id": "c41e134c",
   "metadata": {},
   "source": [
    "# Collocations\n",
    "\n",
    "## Determining collocation strength\n",
    "\n",
    "Collocation strength between two words, *x* and *y*, can be quantified\n",
    "in various ways using so-called **association measures**. One which\n",
    "gives fairly useful and intuitive results is the **Dice score**:\n",
    "\n",
    "$\\Huge{Dice = \\frac{f(xy)}{\\frac{f(x) + f(y)}{2}} = \\frac{2 f(xy)}{f(x) + f(y)}}$"
   ]
  }
 ],
 "metadata": {
  "jupytext": {
   "formats": "md:myst",
   "text_representation": {
    "extension": ".md",
    "format_name": "myst",
    "format_version": 0.12,
    "jupytext_version": "1.6.0"
   }
  },
  "kernelspec": {
   "display_name": "Python 3",
   "language": "python",
   "name": "python3"
  },
  "language_info": {
   "codemirror_mode": {
    "name": "ipython",
    "version": 3
   },
   "file_extension": ".py",
   "mimetype": "text/x-python",
   "name": "python",
   "nbconvert_exporter": "python",
   "pygments_lexer": "ipython3",
   "version": "3.9.6"
  },
  "source_map": [
   13
  ]
 },
 "nbformat": 4,
 "nbformat_minor": 5
}