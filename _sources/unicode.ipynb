{
 "cells": [
  {
   "cell_type": "markdown",
   "id": "b894d461",
   "metadata": {},
   "source": [
    "# Text inside the computer\n",
    "\n",
    "## Why should I care?\n",
    "\n",
    "Even though as linguists, we may think we know everything about text,\n",
    "definitely more than programmers, thank you very much -- this ain't\n",
    "Kansas anymore as they say, this is Computerland, and the rules for how\n",
    "text works are strict and sometimes surprising. If we're going to take\n",
    "advantage of computers to supercharge our linguistic analyses, we need\n",
    "to learn to play by their rules, otherwise we stand a big chance of\n",
    "shooting ourselves in the foot.\n",
    "\n",
    "On occasion, this stuff might seem ridiculously low-level to a linguist\n",
    "-- you'll probably get that feeling more than once while perusing this\n",
    "chapter. But if you get it wrong, anything that you build on top will\n",
    "crumble like a house of cards and your linguistic analyses will be\n",
    "likely to yield garbage. And just to be extra clear, *every single day*,\n",
    "there are professional programmers who get some of this wrong. When was\n",
    "the last time an e-shop maltreated the diacritics in your name, for\n",
    "instance?\n",
    "\n",
    "## Binary and hexadeci-what-now?\n",
    "\n",
    "Before we get started, humor me as I engage in a short digression on\n",
    "representing numbers, to make sure we're all on the same page. Why\n",
    "numbers, I hear you ask, I thought this chapter was supposed to be about\n",
    "text?  Well because in a computer, it's numbers all the way down, even\n",
    "text is ultimately represented as numbers. So we need to be relatively\n",
    "comfortable with the different ways numbers are commonly written down in\n",
    "the context of computers:\n",
    "\n",
    "1. as a plain old **decimal** number, using 10 digits 0--9 (e.g. 12)\n",
    "2. as a **binary** number, using only 2 digits, 0 and 1 (e.g. 1100,\n",
    "   which equals decimal 12)\n",
    "3. as a **hexadecimal** number, using 16 digits: 0--9 and a--f (e.g. c,\n",
    "   which also equals decimal 12)\n",
    "\n",
    "All of these **numeral systems** can represent any number, the binary\n",
    "system doesn't stop counting at 1, any more than the decimal system\n",
    "stops counting at 9 -- beyond these respective points, we just add\n",
    "another digit and carry on. The only difference is that the fewer\n",
    "different digits a system uses, the more digits it takes to represent a\n",
    "number.\n",
    "\n",
    "```{margin}\n",
    "The **base** of a numeral system corresponds to the number of digits it\n",
    "uses: 2 for binary, 10 for decimal, 16 for hexadecimal.\n",
    "```\n",
    "\n",
    "If you're curious how that works, just take a moment to reflect on what\n",
    "you do implicitly each time you read a regular decimal number: you\n",
    "multiply the individual digits with increasing powers of 10, which is\n",
    "the **base** of the decimal system, starting from the right, and add\n",
    "this all up:\n",
    "\n",
    "- e.g. for (regular decimal) 12: $2 \\times 10^0 + 1 \\times 10^1 = 2\n",
    "  \\times 1 + 1 \\times 10 = 12$\n",
    "- for binary 1100, this goes: $0 \\times 2^0 + 0 \\times 2^1 + 1 \\times\n",
    "  2^2 + 1 \\times 2^3 = 0 + 0 + 4 + 8 = 12$\n",
    "- and for hexadecimal c: $c \\times 16^0 = c \\times 1 = 12 \\times 1 =\n",
    "  12$.\n",
    "\n",
    "```{margin}\n",
    "In theory, nothing prevents us from building decimal computer memory\n",
    "where each slot distinguishes between ten digits instead of two bits,\n",
    "and [some early\n",
    "computers](https://en.wikipedia.org/wiki/Decimal_computer) used that\n",
    "design. In practice though, it's much harder to make such slots\n",
    "reliable: distinguishing between ten levels per slot, e.g. based on\n",
    "differences in voltage, is much more error prone than distinguishing\n",
    "between just two.\n",
    "```\n",
    "\n",
    "Decimal numbers are useful because everybody knows them, which makes\n",
    "them universally easy to read. Binary numbers are useful because they\n",
    "closely map to the underlying hardware: **computer memory** consists of\n",
    "**bits**, tiny slots each of which can hold a 0 or a 1. A group of eight\n",
    "adjacent bits is called a **byte**.\n",
    "\n",
    "As a consequence, the need often arises to convert between these\n",
    "different systems. If you don't want to do so by hand, Python has your\n",
    "back! The `bin()` function gives you a *string representation* of the\n",
    "binary form of a number:"
   ]
  },
  {
   "cell_type": "code",
   "execution_count": 1,
   "id": "b9f6bc0e",
   "metadata": {},
   "outputs": [
    {
     "data": {
      "text/plain": [
       "'0b1000001'"
      ]
     },
     "execution_count": 1,
     "metadata": {},
     "output_type": "execute_result"
    }
   ],
   "source": [
    "bin(65)"
   ]
  },
  {
   "cell_type": "markdown",
   "id": "6ba0defb",
   "metadata": {},
   "source": [
    "As you can see, in Python, binary numbers are given a `0b` prefix to\n",
    "distinguish them from regular (decimal) numbers. The number itself is\n",
    "what follows after (i.e. 1000001).\n",
    "\n",
    "Similarly, hexadecimal numbers are given an `0x` prefix:"
   ]
  },
  {
   "cell_type": "code",
   "execution_count": 2,
   "id": "bc99b764",
   "metadata": {},
   "outputs": [
    {
     "data": {
      "text/plain": [
       "'0x41'"
      ]
     },
     "execution_count": 2,
     "metadata": {},
     "output_type": "execute_result"
    }
   ],
   "source": [
    "hex(65)"
   ]
  },
  {
   "cell_type": "markdown",
   "id": "b7e7f853",
   "metadata": {},
   "source": [
    "To convert in the opposite direction, i.e. *to* decimal, just evaluate\n",
    "the binary or hexadecimal representation of a number:"
   ]
  },
  {
   "cell_type": "code",
   "execution_count": 3,
   "id": "af01ff86",
   "metadata": {},
   "outputs": [
    {
     "data": {
      "text/plain": [
       "65"
      ]
     },
     "execution_count": 3,
     "metadata": {},
     "output_type": "execute_result"
    }
   ],
   "source": [
    "0b1000001"
   ]
  },
  {
   "cell_type": "code",
   "execution_count": 4,
   "id": "ae41a747",
   "metadata": {},
   "outputs": [
    {
     "data": {
      "text/plain": [
       "65"
      ]
     },
     "execution_count": 4,
     "metadata": {},
     "output_type": "execute_result"
    }
   ],
   "source": [
    "0x41"
   ]
  },
  {
   "cell_type": "markdown",
   "id": "02e24c8d",
   "metadata": {},
   "source": [
    "Number literals using these different bases are mutually compatible,\n",
    "e.g. for comparison purposes:"
   ]
  },
  {
   "cell_type": "code",
   "execution_count": 5,
   "id": "fdb30631",
   "metadata": {},
   "outputs": [
    {
     "data": {
      "text/plain": [
       "True"
      ]
     },
     "execution_count": 5,
     "metadata": {},
     "output_type": "execute_result"
    }
   ],
   "source": [
    "0b1000001 == 0x41 == 65"
   ]
  },
  {
   "cell_type": "markdown",
   "id": "bc5fb158",
   "metadata": {},
   "source": [
    "Why are hexadecimals useful? They're primarily a more **convenient,\n",
    "condensed** way of representing sequences of bits: each hexadecimal\n",
    "digit can represent 16 different values, and therefore it can stand in\n",
    "for a sequence of 4 bits, i.e. half a byte ($2^4 = 16$)."
   ]
  },
  {
   "cell_type": "code",
   "execution_count": 6,
   "id": "d4c8dc49",
   "metadata": {},
   "outputs": [
    {
     "data": {
      "text/plain": [
       "True"
      ]
     },
     "execution_count": 6,
     "metadata": {},
     "output_type": "execute_result"
    }
   ],
   "source": [
    "0xa == 0b1010"
   ]
  },
  {
   "cell_type": "code",
   "execution_count": 7,
   "id": "b251b2cb",
   "metadata": {},
   "outputs": [
    {
     "data": {
      "text/plain": [
       "True"
      ]
     },
     "execution_count": 7,
     "metadata": {},
     "output_type": "execute_result"
    }
   ],
   "source": [
    "0xb == 0b1011"
   ]
  },
  {
   "cell_type": "code",
   "execution_count": 8,
   "id": "344f30b4",
   "metadata": {},
   "outputs": [
    {
     "data": {
      "text/plain": [
       "True"
      ]
     },
     "execution_count": 8,
     "metadata": {},
     "output_type": "execute_result"
    }
   ],
   "source": [
    "# if we paste together hexadecimal a and b, it's the same as pasting\n",
    "# together binary 1010 and 1011\n",
    "0xab == 0b10101011"
   ]
  },
  {
   "cell_type": "markdown",
   "id": "97db7d5d",
   "metadata": {},
   "source": [
    "In other words, instead of binary `10101011`, we can just write\n",
    "hexadecimal `ab` and save ourselves some space. Of course, this only\n",
    "works if shorter binary numbers are **padded to a 4-bit width**:"
   ]
  },
  {
   "cell_type": "code",
   "execution_count": 9,
   "id": "35f9a7a2",
   "metadata": {},
   "outputs": [
    {
     "data": {
      "text/plain": [
       "True"
      ]
     },
     "execution_count": 9,
     "metadata": {},
     "output_type": "execute_result"
    }
   ],
   "source": [
    "0x2 == 0b10"
   ]
  },
  {
   "cell_type": "code",
   "execution_count": 10,
   "id": "4bfaeff8",
   "metadata": {},
   "outputs": [
    {
     "data": {
      "text/plain": [
       "True"
      ]
     },
     "execution_count": 10,
     "metadata": {},
     "output_type": "execute_result"
    }
   ],
   "source": [
    "0x3 == 0b11"
   ]
  },
  {
   "cell_type": "code",
   "execution_count": 11,
   "id": "4979e92a",
   "metadata": {},
   "outputs": [
    {
     "data": {
      "text/plain": [
       "True"
      ]
     },
     "execution_count": 11,
     "metadata": {},
     "output_type": "execute_result"
    }
   ],
   "source": [
    "# if we paste together hexadecimal 2 and 3, we have to paste together\n",
    "# binary 0010 and 0011...\n",
    "0x23 == 0b00100011"
   ]
  },
  {
   "cell_type": "code",
   "execution_count": 12,
   "id": "4b4acabd",
   "metadata": {},
   "outputs": [
    {
     "data": {
      "text/plain": [
       "False"
      ]
     },
     "execution_count": 12,
     "metadata": {},
     "output_type": "execute_result"
    }
   ],
   "source": [
    "# ... not just 10 and 11\n",
    "0x23 == 0b1011"
   ]
  },
  {
   "cell_type": "markdown",
   "id": "1e144e75",
   "metadata": {},
   "source": [
    "The padding has no effect on the value, much like decimal 42 and\n",
    "00000042 are effectively the same numbers.\n",
    "\n",
    "## Representing text: a DIY approach\n",
    "\n",
    "With that out of the way, the best way to understand how computers\n",
    "represent text, and why it works like it does, is to try and come up\n",
    "with our own system to do that. First of all, we'll need a table of all\n",
    "the **characters** we want to support, mapping each one of them, you\n",
    "guessed it, to a unique number, since computers only work with numbers.\n",
    "For this toy example, let's say four characters are enough:\n",
    "\n",
    "| number | character |\n",
    "| ---    | ---       |\n",
    "| 1      | a         |\n",
    "| 2      | b         |\n",
    "| 3      | c         |\n",
    "| 4      | d         |\n",
    "\n",
    "Such a table is called a **character set**, and each row is a\n",
    "**codepoint**, which basically means a number/character pair. Let's\n",
    "represent our character set as a Python dictionary; since we'll mostly\n",
    "be concerned with going from characters to numbers, we'll use the\n",
    "characters as keys."
   ]
  },
  {
   "cell_type": "code",
   "execution_count": 13,
   "id": "ed555c38",
   "metadata": {},
   "outputs": [
    {
     "data": {
      "text/plain": [
       "{'a': 1, 'b': 2, 'c': 3, 'd': 4}"
      ]
     },
     "execution_count": 13,
     "metadata": {},
     "output_type": "execute_result"
    }
   ],
   "source": [
    "charset = dict(a=1, b=2, c=3, d=4)\n",
    "charset"
   ]
  },
  {
   "cell_type": "markdown",
   "id": "e229a0d5",
   "metadata": {},
   "source": [
    "Now, we've just established that computers typically know only about two\n",
    "digits, 0 and 1, but our character set goes up to 4, so we're going to\n",
    "have to come up with a way to **encode** these numbers into series of\n",
    "0's and 1's so that we can store them in computer memory. We can think\n",
    "of an **encoding** as a function which decides how to turn a number into\n",
    "a sequence of bits. A very simple encoding would be to turn each number\n",
    "into the corresponding number of 1's and store those in the memory.\n",
    "\n",
    "```{margin}\n",
    "For these demonstration purposes, we'll be representing computer memory\n",
    "as strings of 1's and 0's, as it's easier to implement and also see\n",
    "what's going on than if we actually twiddled with individual bits.\n",
    "```"
   ]
  },
  {
   "cell_type": "code",
   "execution_count": 14,
   "id": "1cf2e8ab",
   "metadata": {},
   "outputs": [],
   "source": [
    "def encoding1(char):\n",
    "    num = charset[char]\n",
    "    return \"1\" * num"
   ]
  },
  {
   "cell_type": "markdown",
   "id": "78580d07",
   "metadata": {},
   "source": [
    "Let's see how our new `encoding1` encodes each character in `charset`."
   ]
  },
  {
   "cell_type": "code",
   "execution_count": 15,
   "id": "8495e47e",
   "metadata": {},
   "outputs": [
    {
     "name": "stdout",
     "output_type": "stream",
     "text": [
      "a -> 1\n",
      "b -> 11\n",
      "c -> 111\n",
      "d -> 1111\n"
     ]
    }
   ],
   "source": [
    "for char in charset.keys():\n",
    "    print(char, \"->\", encoding1(char))"
   ]
  },
  {
   "cell_type": "markdown",
   "id": "0fda2062",
   "metadata": {},
   "source": [
    "Looks fine so far, all of the characters map to a different sequence of\n",
    "bits! Now for something more challenging: let's see how it handles\n",
    "encoding strings which consist of multiple characters."
   ]
  },
  {
   "cell_type": "code",
   "execution_count": 16,
   "id": "60d1449e",
   "metadata": {},
   "outputs": [
    {
     "data": {
      "text/plain": [
       "['1', '111']"
      ]
     },
     "execution_count": 16,
     "metadata": {},
     "output_type": "execute_result"
    }
   ],
   "source": [
    "[encoding1(char) for char in \"ac\"]"
   ]
  },
  {
   "cell_type": "markdown",
   "id": "87c31454",
   "metadata": {},
   "source": [
    "This seems fine as well, except we have to remember that computer memory\n",
    "is just a long line of contiguous slots, with no boundaries between\n",
    "them. Even when we conceptually split it into bytes, the byte boundaries\n",
    "every eight bits are just imagined, it's not like there's some kind of\n",
    "fence in the memory after every eight slots. So we have to join this\n",
    "list of strings in order to get a more accurate idea of what our\n",
    "encoding would actually look like when stored in memory."
   ]
  },
  {
   "cell_type": "code",
   "execution_count": 17,
   "id": "6672a5da",
   "metadata": {},
   "outputs": [
    {
     "data": {
      "text/plain": [
       "'1111'"
      ]
     },
     "execution_count": 17,
     "metadata": {},
     "output_type": "execute_result"
    }
   ],
   "source": [
    "\"\".join(encoding1(char) for char in \"ac\")"
   ]
  },
  {
   "cell_type": "markdown",
   "id": "e3c4edef",
   "metadata": {},
   "source": [
    "Uh-oh. Can you spot the problem? Our encoding works perfectly well one\n",
    "way, to encode characters into bits, but in the other direction, it\n",
    "breaks down, because we don't really have a way to reconstruct the\n",
    "boundaries between individual characters. Imagine you're a program whose\n",
    "task it is to show characters on screen based on that chunk of memory.\n",
    "You see those four 1's. What characters should you display? Well, you\n",
    "could go for `aaaa`. Or for `ac`. Or `d`. Or... You get the gist.\n",
    "\n",
    "How can we fix this? We'll definitely have to put to use that other\n",
    "binary digit we have at our disposition, 0, because we just saw our\n",
    "problem is that `encoding1` yields an undifferentiated, uninterrupted\n",
    "string of 1's. One way we could do this is by using the 0 as a character\n",
    "terminator. This `encoding2` is basically the same as `encoding1`, just\n",
    "with a 0 tacked at the end each time."
   ]
  },
  {
   "cell_type": "code",
   "execution_count": 18,
   "id": "dbec96b5",
   "metadata": {},
   "outputs": [
    {
     "name": "stdout",
     "output_type": "stream",
     "text": [
      "a -> 10\n",
      "b -> 110\n",
      "c -> 1110\n",
      "d -> 11110\n"
     ]
    },
    {
     "data": {
      "text/plain": [
       "'101110'"
      ]
     },
     "execution_count": 18,
     "metadata": {},
     "output_type": "execute_result"
    }
   ],
   "source": [
    "def encoding2(char):\n",
    "    return encoding1(char) + \"0\"\n",
    "\n",
    "for char in charset.keys():\n",
    "    print(char, \"->\", encoding2(char))\n",
    "\n",
    "\"\".join(encoding2(char) for char in \"ac\")"
   ]
  },
  {
   "cell_type": "markdown",
   "id": "9cda29bf",
   "metadata": {},
   "source": [
    "That's better! Now we know that each time we encounter a 0, we've\n",
    "reached the end of a character, and we can determine which character it\n",
    "was by counting the number of preceding 1's. So `101110` can only\n",
    "correspond to `ac`. `encoding2` is the first encoding we've written\n",
    "worthy of the name because it can go both ways -- at least in theory,\n",
    "the function we've written obviously works only for encoding; for\n",
    "**decoding** series of bits into characters, we'd have to write the\n",
    "inverse function. It's a **variable-width** encoding, because different\n",
    "characters are encoded using different numbers of bits -- `a` is encoded\n",
    "as `10` for a width of 2, whereas `c` is 4 bits wide, `1110`.\n",
    "\n",
    "```{margin}\n",
    "The technical term for this kind of encoding is a [prefix\n",
    "code](https://en.wikipedia.org/wiki/Prefix_code). The name comes from\n",
    "the fact that you have to make sure that no character's encoding can be\n",
    "mistaken for the prefix of another character's (longer) encoding, which\n",
    "ensures that decoding is possible. By taking into account expected\n",
    "frequencies of the individual characters, there are ways to\n",
    "automatically come up with the optimal coding scheme, i.e. that which\n",
    "yields the shortest encoded messages on average. See [Huffman\n",
    "coding](https://en.wikipedia.org/wiki/Huffman_coding), but [this blog\n",
    "post](https://fasterthanli.me/blog/2019/huffman-101/) or [this\n",
    "video](https://youtu.be/JsTptu56GM8) might be more digestible than the\n",
    "Wikipedia article.\n",
    "```\n",
    "\n",
    "Unfortunately, it's not very good. The number of bits per character\n",
    "quickly gets out of hand. If we had a character set consisting of all 26\n",
    "letters of the English alphabet, the last few would take up more than 20\n",
    "bits per character, and that's just the lowercase letters.\n",
    "\n",
    "The trouble is that we've tied 1 and 0 down to a single role: 1's\n",
    "determine the codepoint number, and 0's tell us when to stop adding\n",
    "those 1's. If we could use both to encode the number, say in its usual\n",
    "binary form, then we could squeeze a lot more information into the same\n",
    "space. Something like this:"
   ]
  },
  {
   "cell_type": "code",
   "execution_count": 19,
   "id": "d2f317d2",
   "metadata": {},
   "outputs": [
    {
     "name": "stdout",
     "output_type": "stream",
     "text": [
      "a -> 1\n",
      "b -> 10\n",
      "c -> 11\n",
      "d -> 100\n"
     ]
    },
    {
     "data": {
      "text/plain": [
       "'111'"
      ]
     },
     "execution_count": 19,
     "metadata": {},
     "output_type": "execute_result"
    }
   ],
   "source": [
    "def encoding3(char):\n",
    "    num = charset[char]\n",
    "    binary = bin(num)\n",
    "    # remove the 0b prefix from the representation\n",
    "    without_prefix = binary[2:]\n",
    "    return without_prefix\n",
    "\n",
    "for char in charset.keys():\n",
    "    print(char, \"->\", encoding3(char))\n",
    "\n",
    "\"\".join(encoding3(char) for char in \"ac\")"
   ]
  },
  {
   "cell_type": "markdown",
   "id": "567b7f24",
   "metadata": {},
   "source": [
    "Except `encoding3` has the same drawback as `encoding1`: it's not a\n",
    "proper encoding, because it doesn't work both ways, the decoding back is\n",
    "ambiguous. `111` could stand for any of `aaa`, `ac` or `ca`. So how do\n",
    "we free the hands of the 0 to use its full potential as a digit? Can we\n",
    "use something else to mark character boundaries? But we've established\n",
    "there *is* nothing else than 1's and 0's in computer memory!\n",
    "\n",
    "... unless we use a trick. What if we said that each character always\n",
    "has to fit into the same number of bits, e.g. 1 byte? Then we could read\n",
    "memory by chunks of 8 bits and just interpret each chunk as a character.\n",
    "It would work exactly as if there were actual boundaries delimiting\n",
    "characters in the memory, spaced evenly 8 bits apart, even though we\n",
    "know that in actual fact, there are no boundaries between the individual\n",
    "tiny memory slots. This approach is called a **fixed-width** encoding,\n",
    "in contrast to the variable-width approach we encountered earlier.\n",
    "\n",
    "For our toy character set, we don't need 8 bits, 2 are enough to encode\n",
    "4 different characters, corresponding to the 4 different sequences of\n",
    "1's and 0's you can create with two available slots: `00`, `01`, `10`\n",
    "and `11`. Let's what decimal numbers these correspond to -- it's easy,\n",
    "you can probably do it in your head, but let Python tell us anyway."
   ]
  },
  {
   "cell_type": "code",
   "execution_count": 20,
   "id": "a1f75a8f",
   "metadata": {},
   "outputs": [
    {
     "data": {
      "text/plain": [
       "(0, 1, 2, 3)"
      ]
     },
     "execution_count": 20,
     "metadata": {},
     "output_type": "execute_result"
    }
   ],
   "source": [
    "0b00, 0b01, 0b10, 0b11"
   ]
  },
  {
   "cell_type": "markdown",
   "id": "7a953ce4",
   "metadata": {},
   "source": [
    "Neat, we can easily get those numbers by just shifting the number values\n",
    "in our character set table by 1 (i.e. subtracting 1). So an `encoding4`\n",
    "function could look something like this:"
   ]
  },
  {
   "cell_type": "code",
   "execution_count": 21,
   "id": "b89de9ba",
   "metadata": {},
   "outputs": [],
   "source": [
    "def encoding4(char):\n",
    "    num = charset[char] - 1\n",
    "    binary = bin(num)\n",
    "    without_prefix = binary[2:]\n",
    "    padded = without_prefix.rjust(2, \"0\")\n",
    "    return padded"
   ]
  },
  {
   "cell_type": "markdown",
   "id": "724ccb16",
   "metadata": {},
   "source": [
    "The `.rjust()` (and `.ljust()`) methods pad a string to a desired width\n",
    "with a provided padding character; in our case, we pad to a maximum\n",
    "width of 2 with 0's, unless the string is already 2 characters wide (or\n",
    "wider). Perhaps confusingly, `.rjust()` pads on the left and vice versa;\n",
    "this is because padding on the left *justifies* the text along the\n",
    "*right* margin (hence `.rjust()`). Let's take this baby out for a spin."
   ]
  },
  {
   "cell_type": "code",
   "execution_count": 22,
   "id": "9d96dcc2",
   "metadata": {},
   "outputs": [
    {
     "name": "stdout",
     "output_type": "stream",
     "text": [
      "a -> 00\n",
      "b -> 01\n",
      "c -> 10\n",
      "d -> 11\n"
     ]
    },
    {
     "data": {
      "text/plain": [
       "'0010'"
      ]
     },
     "execution_count": 22,
     "metadata": {},
     "output_type": "execute_result"
    }
   ],
   "source": [
    "for char in charset.keys():\n",
    "    print(char, \"->\", encoding4(char))\n",
    "\n",
    "\"\".join(encoding4(char) for char in \"ac\")"
   ]
  },
  {
   "cell_type": "markdown",
   "id": "19427126",
   "metadata": {},
   "source": [
    "Looks alright to me! When decoding, we just chop up the memory into\n",
    "chunks two bits wide and interpret each as a separate character, so `00`\n",
    "yields `a` and `10` yields `c`. Piece of cake. This is where we leave\n",
    "our toy example character set and encodings as they have no more to\n",
    "teach us, and pick up the thread of the story in the real world.\n",
    "\n",
    "## Fixed-width encodings: ASCII et al.\n",
    "\n",
    "Obviously, how many different characters your encoding can handle\n",
    "depends on how many bits you allow per character:\n",
    "\n",
    "- with 1 bit you can have $2^1 = 2$ characters (one is mapped to 0, the\n",
    "  other to 1)\n",
    "- with 2 bits you can have $2^2 = 2 \\times 2 = 4$ characters (mapped to\n",
    "  00, 01, 10 and 11)\n",
    "- with 3 bits you can have $2^3 = 2 \\times 2 \\times 2 = 8$ characters\n",
    "- etc.\n",
    "\n",
    "The oldest encoding still in widespread use is called\n",
    "[`ASCII`](https://en.wikipedia.org/wiki/ASCII), which is a 7-bit\n",
    "encoding. What's the number of *different* sequences of seven 1's and\n",
    "0's?"
   ]
  },
  {
   "cell_type": "code",
   "execution_count": 23,
   "id": "4fada088",
   "metadata": {},
   "outputs": [
    {
     "data": {
      "text/plain": [
       "128"
      ]
     },
     "execution_count": 23,
     "metadata": {},
     "output_type": "execute_result"
    }
   ],
   "source": [
    "# this is how Python spells 2⁷, i.e. 2*2*2*2*2*2*2\n",
    "2**7"
   ]
  },
  {
   "cell_type": "markdown",
   "id": "bfe3c25c",
   "metadata": {},
   "source": [
    "```{margin}\n",
    "\"ASCII\" stands for \"**American** Standard Code for Information\n",
    "Interchange\" -- which explains why there are no accented characters, for\n",
    "instance.\n",
    "```\n",
    "\n",
    "This means `ASCII` can represent [128 different\n",
    "characters](http://www.ascii-code.com/), which comfortably fits the\n",
    "basic Latin alphabet (both lowercase and uppercase), Arabic numerals,\n",
    "punctuation and some \"control characters\" which were primarily useful on\n",
    "the old [teletype terminals](https://en.wikipedia.org/wiki/Teleprinter)\n",
    "for which `ASCII` was designed. For instance, the letter \"A\" corresponds\n",
    "to the number 65 (`1000001` in binary, see above).\n",
    "\n",
    "Nowadays, `ASCII` is represented using 8 bits (= 1 byte), because that's\n",
    "the unit of computer memory which has become ubiquitous (in terms of\n",
    "both hardware and software assumptions), but still uses only 7 bits'\n",
    "worth of information. That extra bit means that there's **room for\n",
    "another 128 characters in addition to the 128 ASCII ones**, coming up to\n",
    "a total of 256."
   ]
  },
  {
   "cell_type": "code",
   "execution_count": 24,
   "id": "07e7a74e",
   "metadata": {},
   "outputs": [
    {
     "data": {
      "text/plain": [
       "256"
      ]
     },
     "execution_count": 24,
     "metadata": {},
     "output_type": "execute_result"
    }
   ],
   "source": [
    "2**(7+1)"
   ]
  },
  {
   "cell_type": "markdown",
   "id": "d67a6376",
   "metadata": {},
   "source": [
    "What happens in the range [128; 256) is not covered by the `ASCII`\n",
    "standard. In the 1990s, many encodings were standardized which used this\n",
    "range for their own purposes, usually representing additional accented\n",
    "characters used in a particular region. E.g. Czech (and Slovak,\n",
    "Polish...) alphabets can be represented using the ISO `latin-2`\n",
    "encoding, or Microsoft's `cp-1250`. Encodings which stick to the same\n",
    "character mappings as `ASCII` in the range [0; 128) **and represent them\n",
    "physically in the same way (as 1 byte)**, while potentially adding more\n",
    "character mappings beyond that, are called **`ASCII`-compatible**.\n",
    "\n",
    "`ASCII` compatibility is a good thing&trade;, because when you start\n",
    "reading a character stream in a computer, there's **no way to know in\n",
    "advance what encoding it is in** (unless it's a file you've encoded\n",
    "yourself and you happen to remember). So in practice, a heuristic has\n",
    "been established to start reading the stream assuming it's `ASCII` by\n",
    "default, and switch to a different encoding if evidence becomes\n",
    "available to the contrary. For instance, HTML files describing web pages\n",
    "displayed in your browser should all start with something like this:\n",
    "\n",
    "```{margin}\n",
    "You may be thinking, that `charset` attribute should have more properly\n",
    "been called `encoding`, and you would be right. As we've seen, a\n",
    "character set is just a table of characters and numbers. Specifying how\n",
    "they're represented inside the computer is the encoding's job, which is\n",
    "what this attribute is supposed to help determine. Which only goes to\n",
    "show you that this text stuff is hard and even professional programmers\n",
    "involved in defining standards like HTML sometimes get it wrong.\n",
    "```\n",
    "\n",
    "```html\n",
    "<!DOCTYPE html>\n",
    "<html>\n",
    "<head>\n",
    "  <meta charset=\"utf-8\"/>\n",
    "  ...\n",
    "```\n",
    "\n",
    "This way, whenever a program wants to read a file like this, it can\n",
    "start off with `ASCII`, waiting to see if it reaches the `charset` (i.e.\n",
    "encoding) attribute, and once it does, it can switch from `ASCII` to\n",
    "that encoding (`UTF-8` here) and restart reading the file, now fairly\n",
    "sure that it's using the correct encoding. This trick works only if we\n",
    "can assume that whatever encoding the rest of the file is in, the first\n",
    "few lines can be considered as `ASCII` for all practical intents and\n",
    "purposes.\n",
    "\n",
    "Without the `charset` attribute, the only way to know if the encoding is\n",
    "right would be for you to look at the rendered text and see if it makes\n",
    "sense; if it did not, you'd have to resort to trial and error, manually\n",
    "switching the encodings and looking for the one in which the numbers\n",
    "behind the characters stop coming out as gibberish and are actually\n",
    "translated into intelligible text.\n",
    "\n",
    "Let's take a look at printable characters in the `Latin-2` **character\n",
    "set**. The character set consists of mappings between positive\n",
    "**integers** (whole numbers) and characters; each one of these is called\n",
    "a **codepoint**. The `Latin-2` **encoding** then defines how to encode\n",
    "each of these integers as a series of bits (1's and 0's) in the\n",
    "computer's memory."
   ]
  },
  {
   "cell_type": "code",
   "execution_count": 25,
   "id": "0db24f75",
   "metadata": {
    "tags": [
     "output_scroll"
    ]
   },
   "outputs": [
    {
     "data": {
      "text/plain": [
       "[(32, ' '),\n",
       " (33, '!'),\n",
       " (34, '\"'),\n",
       " (35, '#'),\n",
       " (36, '$'),\n",
       " (37, '%'),\n",
       " (38, '&'),\n",
       " (39, \"'\"),\n",
       " (40, '('),\n",
       " (41, ')'),\n",
       " (42, '*'),\n",
       " (43, '+'),\n",
       " (44, ','),\n",
       " (45, '-'),\n",
       " (46, '.'),\n",
       " (47, '/'),\n",
       " (48, '0'),\n",
       " (49, '1'),\n",
       " (50, '2'),\n",
       " (51, '3'),\n",
       " (52, '4'),\n",
       " (53, '5'),\n",
       " (54, '6'),\n",
       " (55, '7'),\n",
       " (56, '8'),\n",
       " (57, '9'),\n",
       " (58, ':'),\n",
       " (59, ';'),\n",
       " (60, '<'),\n",
       " (61, '='),\n",
       " (62, '>'),\n",
       " (63, '?'),\n",
       " (64, '@'),\n",
       " (65, 'A'),\n",
       " (66, 'B'),\n",
       " (67, 'C'),\n",
       " (68, 'D'),\n",
       " (69, 'E'),\n",
       " (70, 'F'),\n",
       " (71, 'G'),\n",
       " (72, 'H'),\n",
       " (73, 'I'),\n",
       " (74, 'J'),\n",
       " (75, 'K'),\n",
       " (76, 'L'),\n",
       " (77, 'M'),\n",
       " (78, 'N'),\n",
       " (79, 'O'),\n",
       " (80, 'P'),\n",
       " (81, 'Q'),\n",
       " (82, 'R'),\n",
       " (83, 'S'),\n",
       " (84, 'T'),\n",
       " (85, 'U'),\n",
       " (86, 'V'),\n",
       " (87, 'W'),\n",
       " (88, 'X'),\n",
       " (89, 'Y'),\n",
       " (90, 'Z'),\n",
       " (91, '['),\n",
       " (92, '\\\\'),\n",
       " (93, ']'),\n",
       " (94, '^'),\n",
       " (95, '_'),\n",
       " (96, '`'),\n",
       " (97, 'a'),\n",
       " (98, 'b'),\n",
       " (99, 'c'),\n",
       " (100, 'd'),\n",
       " (101, 'e'),\n",
       " (102, 'f'),\n",
       " (103, 'g'),\n",
       " (104, 'h'),\n",
       " (105, 'i'),\n",
       " (106, 'j'),\n",
       " (107, 'k'),\n",
       " (108, 'l'),\n",
       " (109, 'm'),\n",
       " (110, 'n'),\n",
       " (111, 'o'),\n",
       " (112, 'p'),\n",
       " (113, 'q'),\n",
       " (114, 'r'),\n",
       " (115, 's'),\n",
       " (116, 't'),\n",
       " (117, 'u'),\n",
       " (118, 'v'),\n",
       " (119, 'w'),\n",
       " (120, 'x'),\n",
       " (121, 'y'),\n",
       " (122, 'z'),\n",
       " (123, '{'),\n",
       " (124, '|'),\n",
       " (125, '}'),\n",
       " (126, '~'),\n",
       " (161, 'Ą'),\n",
       " (162, '˘'),\n",
       " (163, 'Ł'),\n",
       " (164, '¤'),\n",
       " (165, 'Ľ'),\n",
       " (166, 'Ś'),\n",
       " (167, '§'),\n",
       " (168, '¨'),\n",
       " (169, 'Š'),\n",
       " (170, 'Ş'),\n",
       " (171, 'Ť'),\n",
       " (172, 'Ź'),\n",
       " (174, 'Ž'),\n",
       " (175, 'Ż'),\n",
       " (176, '°'),\n",
       " (177, 'ą'),\n",
       " (178, '˛'),\n",
       " (179, 'ł'),\n",
       " (180, '´'),\n",
       " (181, 'ľ'),\n",
       " (182, 'ś'),\n",
       " (183, 'ˇ'),\n",
       " (184, '¸'),\n",
       " (185, 'š'),\n",
       " (186, 'ş'),\n",
       " (187, 'ť'),\n",
       " (188, 'ź'),\n",
       " (189, '˝'),\n",
       " (190, 'ž'),\n",
       " (191, 'ż'),\n",
       " (192, 'Ŕ'),\n",
       " (193, 'Á'),\n",
       " (194, 'Â'),\n",
       " (195, 'Ă'),\n",
       " (196, 'Ä'),\n",
       " (197, 'Ĺ'),\n",
       " (198, 'Ć'),\n",
       " (199, 'Ç'),\n",
       " (200, 'Č'),\n",
       " (201, 'É'),\n",
       " (202, 'Ę'),\n",
       " (203, 'Ë'),\n",
       " (204, 'Ě'),\n",
       " (205, 'Í'),\n",
       " (206, 'Î'),\n",
       " (207, 'Ď'),\n",
       " (208, 'Đ'),\n",
       " (209, 'Ń'),\n",
       " (210, 'Ň'),\n",
       " (211, 'Ó'),\n",
       " (212, 'Ô'),\n",
       " (213, 'Ő'),\n",
       " (214, 'Ö'),\n",
       " (215, '×'),\n",
       " (216, 'Ř'),\n",
       " (217, 'Ů'),\n",
       " (218, 'Ú'),\n",
       " (219, 'Ű'),\n",
       " (220, 'Ü'),\n",
       " (221, 'Ý'),\n",
       " (222, 'Ţ'),\n",
       " (223, 'ß'),\n",
       " (224, 'ŕ'),\n",
       " (225, 'á'),\n",
       " (226, 'â'),\n",
       " (227, 'ă'),\n",
       " (228, 'ä'),\n",
       " (229, 'ĺ'),\n",
       " (230, 'ć'),\n",
       " (231, 'ç'),\n",
       " (232, 'č'),\n",
       " (233, 'é'),\n",
       " (234, 'ę'),\n",
       " (235, 'ë'),\n",
       " (236, 'ě'),\n",
       " (237, 'í'),\n",
       " (238, 'î'),\n",
       " (239, 'ď'),\n",
       " (240, 'đ'),\n",
       " (241, 'ń'),\n",
       " (242, 'ň'),\n",
       " (243, 'ó'),\n",
       " (244, 'ô'),\n",
       " (245, 'ő'),\n",
       " (246, 'ö'),\n",
       " (247, '÷'),\n",
       " (248, 'ř'),\n",
       " (249, 'ů'),\n",
       " (250, 'ú'),\n",
       " (251, 'ű'),\n",
       " (252, 'ü'),\n",
       " (253, 'ý'),\n",
       " (254, 'ţ'),\n",
       " (255, '˙')]"
      ]
     },
     "execution_count": 25,
     "metadata": {},
     "output_type": "execute_result"
    }
   ],
   "source": [
    "latin2_printable_characters = []\n",
    "# the Latin-2 character set has 256 codepoints, corresponding to\n",
    "# integers from 0 to 255\n",
    "for codepoint in range(256):\n",
    "    # the Latin-2 encoding is simple: each codepoint is encoded\n",
    "    # as the byte corresponding to that integer in binary\n",
    "    byte = bytes([codepoint])\n",
    "    character = byte.decode(encoding=\"latin2\")\n",
    "    if character.isprintable():\n",
    "        latin2_printable_characters.append((codepoint, character))\n",
    "\n",
    "latin2_printable_characters"
   ]
  },
  {
   "cell_type": "markdown",
   "id": "10e28646",
   "metadata": {},
   "source": [
    "Using the 8th bit (and thus the codepoint range [128; 256)) solves the\n",
    "problem of handling languages with character sets different than that of\n",
    "American English, but introduces a lot of complexity -- whenever you\n",
    "come across a text file with an unknown encoding, it might be in one of\n",
    "literally dozens of encodings. Additional drawbacks include:\n",
    "\n",
    "- how to handle multilingual text with characters from many different\n",
    "  alphabets, which are not part of the same 8-bit encoding?\n",
    "- how to handle writing systems which have way more than 256\n",
    "  \"characters\", e.g. Chinese, Japanese and Korean (CJK) ideograms?\n",
    "\n",
    "## Unicode and UTF-8\n",
    "\n",
    "For these purposes, a standard character set known as\n",
    "[**Unicode**](https://en.wikipedia.org/wiki/Unicode) was developed which\n",
    "strives for universal coverage of (ultimately) all characters ever used\n",
    "in the history of writing, even adding new ones like\n",
    "[emojis](https://unicode.org/emoji/charts/full-emoji-list.html). Unicode\n",
    "is much bigger than the character sets we've seen so far -- its most\n",
    "frequently used subset, the [Basic Multilingual\n",
    "Plane](https://en.wikipedia.org/wiki/Plane_%28Unicode%29#Basic_Multilingual_Plane),\n",
    "has $2^{16}$ codepoints, but overall the number of codepoints is past 1M\n",
    "and there's room to accommodate many more."
   ]
  },
  {
   "cell_type": "code",
   "execution_count": 26,
   "id": "b0f1e93b",
   "metadata": {},
   "outputs": [
    {
     "data": {
      "text/plain": [
       "65536"
      ]
     },
     "execution_count": 26,
     "metadata": {},
     "output_type": "execute_result"
    }
   ],
   "source": [
    "2**16"
   ]
  },
  {
   "cell_type": "markdown",
   "id": "cb70eee6",
   "metadata": {},
   "source": [
    "Here's just a small sample of the treasure trove of codepoints that is\n",
    "Unicode."
   ]
  },
  {
   "cell_type": "code",
   "execution_count": 27,
   "id": "91ff7e7f",
   "metadata": {
    "tags": [
     "output_scroll"
    ]
   },
   "outputs": [
    {
     "name": "stdout",
     "output_type": "stream",
     "text": [
      "…\n",
      "U+16a0\tᚠ\tRUNIC LETTER FEHU FEOH FE F\n",
      "U+16a1\tᚡ\tRUNIC LETTER V\n",
      "U+16a2\tᚢ\tRUNIC LETTER URUZ UR U\n",
      "U+16a3\tᚣ\tRUNIC LETTER YR\n",
      "U+16a4\tᚤ\tRUNIC LETTER Y\n",
      "U+16a5\tᚥ\tRUNIC LETTER W\n",
      "U+16a6\tᚦ\tRUNIC LETTER THURISAZ THURS THORN\n",
      "U+16a7\tᚧ\tRUNIC LETTER ETH\n",
      "U+16a8\tᚨ\tRUNIC LETTER ANSUZ A\n",
      "U+16a9\tᚩ\tRUNIC LETTER OS O\n",
      "U+16aa\tᚪ\tRUNIC LETTER AC A\n",
      "U+16ab\tᚫ\tRUNIC LETTER AESC\n",
      "U+16ac\tᚬ\tRUNIC LETTER LONG-BRANCH-OSS O\n",
      "U+16ad\tᚭ\tRUNIC LETTER SHORT-TWIG-OSS O\n",
      "U+16ae\tᚮ\tRUNIC LETTER O\n",
      "U+16af\tᚯ\tRUNIC LETTER OE\n",
      "U+16b0\tᚰ\tRUNIC LETTER ON\n",
      "U+16b1\tᚱ\tRUNIC LETTER RAIDO RAD REID R\n",
      "U+16b2\tᚲ\tRUNIC LETTER KAUNA\n",
      "U+16b3\tᚳ\tRUNIC LETTER CEN\n",
      "U+16b4\tᚴ\tRUNIC LETTER KAUN K\n",
      "U+16b5\tᚵ\tRUNIC LETTER G\n",
      "U+16b6\tᚶ\tRUNIC LETTER ENG\n",
      "U+16b7\tᚷ\tRUNIC LETTER GEBO GYFU G\n",
      "U+16b8\tᚸ\tRUNIC LETTER GAR\n",
      "U+16b9\tᚹ\tRUNIC LETTER WUNJO WYNN W\n",
      "U+16ba\tᚺ\tRUNIC LETTER HAGLAZ H\n",
      "U+16bb\tᚻ\tRUNIC LETTER HAEGL H\n",
      "U+16bc\tᚼ\tRUNIC LETTER LONG-BRANCH-HAGALL H\n",
      "U+16bd\tᚽ\tRUNIC LETTER SHORT-TWIG-HAGALL H\n",
      "U+16be\tᚾ\tRUNIC LETTER NAUDIZ NYD NAUD N\n",
      "U+16bf\tᚿ\tRUNIC LETTER SHORT-TWIG-NAUD N\n",
      "U+16c0\tᛀ\tRUNIC LETTER DOTTED-N\n",
      "U+16c1\tᛁ\tRUNIC LETTER ISAZ IS ISS I\n",
      "U+16c2\tᛂ\tRUNIC LETTER E\n",
      "U+16c3\tᛃ\tRUNIC LETTER JERAN J\n",
      "U+16c4\tᛄ\tRUNIC LETTER GER\n",
      "U+16c5\tᛅ\tRUNIC LETTER LONG-BRANCH-AR AE\n",
      "U+16c6\tᛆ\tRUNIC LETTER SHORT-TWIG-AR A\n",
      "U+16c7\tᛇ\tRUNIC LETTER IWAZ EOH\n",
      "U+16c8\tᛈ\tRUNIC LETTER PERTHO PEORTH P\n",
      "U+16c9\tᛉ\tRUNIC LETTER ALGIZ EOLHX\n",
      "U+16ca\tᛊ\tRUNIC LETTER SOWILO S\n",
      "U+16cb\tᛋ\tRUNIC LETTER SIGEL LONG-BRANCH-SOL S\n",
      "U+16cc\tᛌ\tRUNIC LETTER SHORT-TWIG-SOL S\n",
      "U+16cd\tᛍ\tRUNIC LETTER C\n",
      "U+16ce\tᛎ\tRUNIC LETTER Z\n",
      "U+16cf\tᛏ\tRUNIC LETTER TIWAZ TIR TYR T\n",
      "U+16d0\tᛐ\tRUNIC LETTER SHORT-TWIG-TYR T\n",
      "U+16d1\tᛑ\tRUNIC LETTER D\n",
      "U+16d2\tᛒ\tRUNIC LETTER BERKANAN BEORC BJARKAN B\n",
      "U+16d3\tᛓ\tRUNIC LETTER SHORT-TWIG-BJARKAN B\n",
      "U+16d4\tᛔ\tRUNIC LETTER DOTTED-P\n",
      "U+16d5\tᛕ\tRUNIC LETTER OPEN-P\n",
      "U+16d6\tᛖ\tRUNIC LETTER EHWAZ EH E\n",
      "U+16d7\tᛗ\tRUNIC LETTER MANNAZ MAN M\n",
      "U+16d8\tᛘ\tRUNIC LETTER LONG-BRANCH-MADR M\n",
      "U+16d9\tᛙ\tRUNIC LETTER SHORT-TWIG-MADR M\n",
      "U+16da\tᛚ\tRUNIC LETTER LAUKAZ LAGU LOGR L\n",
      "U+16db\tᛛ\tRUNIC LETTER DOTTED-L\n",
      "U+16dc\tᛜ\tRUNIC LETTER INGWAZ\n",
      "U+16dd\tᛝ\tRUNIC LETTER ING\n",
      "U+16de\tᛞ\tRUNIC LETTER DAGAZ DAEG D\n",
      "U+16df\tᛟ\tRUNIC LETTER OTHALAN ETHEL O\n",
      "U+16e0\tᛠ\tRUNIC LETTER EAR\n",
      "U+16e1\tᛡ\tRUNIC LETTER IOR\n",
      "U+16e2\tᛢ\tRUNIC LETTER CWEORTH\n",
      "U+16e3\tᛣ\tRUNIC LETTER CALC\n",
      "U+16e4\tᛤ\tRUNIC LETTER CEALC\n",
      "U+16e5\tᛥ\tRUNIC LETTER STAN\n",
      "U+16e6\tᛦ\tRUNIC LETTER LONG-BRANCH-YR\n",
      "U+16e7\tᛧ\tRUNIC LETTER SHORT-TWIG-YR\n",
      "U+16e8\tᛨ\tRUNIC LETTER ICELANDIC-YR\n",
      "U+16e9\tᛩ\tRUNIC LETTER Q\n",
      "U+16ea\tᛪ\tRUNIC LETTER X\n",
      "U+16eb\t᛫\tRUNIC SINGLE PUNCTUATION\n",
      "U+16ec\t᛬\tRUNIC MULTIPLE PUNCTUATION\n",
      "U+16ed\t᛭\tRUNIC CROSS PUNCTUATION\n",
      "U+16ee\tᛮ\tRUNIC ARLAUG SYMBOL\n",
      "U+16ef\tᛯ\tRUNIC TVIMADUR SYMBOL\n",
      "U+16f0\tᛰ\tRUNIC BELGTHOR SYMBOL\n",
      "…\n",
      "U+1f600\t😀\tGRINNING FACE\n",
      "U+1f601\t😁\tGRINNING FACE WITH SMILING EYES\n",
      "U+1f602\t😂\tFACE WITH TEARS OF JOY\n",
      "U+1f603\t😃\tSMILING FACE WITH OPEN MOUTH\n",
      "U+1f604\t😄\tSMILING FACE WITH OPEN MOUTH AND SMILING EYES\n",
      "U+1f605\t😅\tSMILING FACE WITH OPEN MOUTH AND COLD SWEAT\n",
      "U+1f606\t😆\tSMILING FACE WITH OPEN MOUTH AND TIGHTLY-CLOSED EYES\n",
      "U+1f607\t😇\tSMILING FACE WITH HALO\n",
      "U+1f608\t😈\tSMILING FACE WITH HORNS\n",
      "U+1f609\t😉\tWINKING FACE\n",
      "U+1f60a\t😊\tSMILING FACE WITH SMILING EYES\n",
      "U+1f60b\t😋\tFACE SAVOURING DELICIOUS FOOD\n",
      "U+1f60c\t😌\tRELIEVED FACE\n",
      "U+1f60d\t😍\tSMILING FACE WITH HEART-SHAPED EYES\n",
      "U+1f60e\t😎\tSMILING FACE WITH SUNGLASSES\n",
      "U+1f60f\t😏\tSMIRKING FACE\n",
      "U+1f610\t😐\tNEUTRAL FACE\n",
      "U+1f611\t😑\tEXPRESSIONLESS FACE\n",
      "U+1f612\t😒\tUNAMUSED FACE\n",
      "U+1f613\t😓\tFACE WITH COLD SWEAT\n",
      "U+1f614\t😔\tPENSIVE FACE\n",
      "U+1f615\t😕\tCONFUSED FACE\n",
      "U+1f616\t😖\tCONFOUNDED FACE\n",
      "U+1f617\t😗\tKISSING FACE\n",
      "U+1f618\t😘\tFACE THROWING A KISS\n",
      "U+1f619\t😙\tKISSING FACE WITH SMILING EYES\n",
      "U+1f61a\t😚\tKISSING FACE WITH CLOSED EYES\n",
      "U+1f61b\t😛\tFACE WITH STUCK-OUT TONGUE\n",
      "U+1f61c\t😜\tFACE WITH STUCK-OUT TONGUE AND WINKING EYE\n",
      "U+1f61d\t😝\tFACE WITH STUCK-OUT TONGUE AND TIGHTLY-CLOSED EYES\n",
      "U+1f61e\t😞\tDISAPPOINTED FACE\n",
      "U+1f61f\t😟\tWORRIED FACE\n",
      "U+1f620\t😠\tANGRY FACE\n",
      "U+1f621\t😡\tPOUTING FACE\n",
      "U+1f622\t😢\tCRYING FACE\n",
      "U+1f623\t😣\tPERSEVERING FACE\n",
      "U+1f624\t😤\tFACE WITH LOOK OF TRIUMPH\n",
      "U+1f625\t😥\tDISAPPOINTED BUT RELIEVED FACE\n",
      "U+1f626\t😦\tFROWNING FACE WITH OPEN MOUTH\n",
      "U+1f627\t😧\tANGUISHED FACE\n",
      "U+1f628\t😨\tFEARFUL FACE\n",
      "U+1f629\t😩\tWEARY FACE\n",
      "U+1f62a\t😪\tSLEEPY FACE\n",
      "U+1f62b\t😫\tTIRED FACE\n",
      "U+1f62c\t😬\tGRIMACING FACE\n",
      "U+1f62d\t😭\tLOUDLY CRYING FACE\n",
      "U+1f62e\t😮\tFACE WITH OPEN MOUTH\n",
      "U+1f62f\t😯\tHUSHED FACE\n",
      "U+1f630\t😰\tFACE WITH OPEN MOUTH AND COLD SWEAT\n",
      "U+1f631\t😱\tFACE SCREAMING IN FEAR\n",
      "U+1f632\t😲\tASTONISHED FACE\n",
      "U+1f633\t😳\tFLUSHED FACE\n",
      "U+1f634\t😴\tSLEEPING FACE\n",
      "U+1f635\t😵\tDIZZY FACE\n",
      "U+1f636\t😶\tFACE WITHOUT MOUTH\n",
      "U+1f637\t😷\tFACE WITH MEDICAL MASK\n",
      "U+1f638\t😸\tGRINNING CAT FACE WITH SMILING EYES\n",
      "U+1f639\t😹\tCAT FACE WITH TEARS OF JOY\n",
      "U+1f63a\t😺\tSMILING CAT FACE WITH OPEN MOUTH\n",
      "U+1f63b\t😻\tSMILING CAT FACE WITH HEART-SHAPED EYES\n",
      "U+1f63c\t😼\tCAT FACE WITH WRY SMILE\n",
      "U+1f63d\t😽\tKISSING CAT FACE WITH CLOSED EYES\n",
      "U+1f63e\t😾\tPOUTING CAT FACE\n",
      "U+1f63f\t😿\tCRYING CAT FACE\n",
      "U+1f640\t🙀\tWEARY CAT FACE\n",
      "U+1f641\t🙁\tSLIGHTLY FROWNING FACE\n",
      "U+1f642\t🙂\tSLIGHTLY SMILING FACE\n",
      "U+1f643\t🙃\tUPSIDE-DOWN FACE\n",
      "U+1f644\t🙄\tFACE WITH ROLLING EYES\n",
      "…\n"
     ]
    }
   ],
   "source": [
    "from unicodedata import name\n",
    "\n",
    "print(\"\\N{HORIZONTAL ELLIPSIS}\")\n",
    "for sample in (range(0x16a0, 0x16f1), range(0x1f600, 0x1f645)):\n",
    "    for cp in sample:\n",
    "        char = chr(cp)\n",
    "        print(f\"U+{cp:x}\\t{char}\\t{name(char)}\")\n",
    "    print(\"\\N{HORIZONTAL ELLIPSIS}\")"
   ]
  },
  {
   "cell_type": "markdown",
   "id": "bed030ce",
   "metadata": {},
   "source": [
    "Now, the most straightforward representation for $2^{16}$ codepoints is\n",
    "what? Well, it's simply using 16 bits per character, i.e. 2 bytes. That\n",
    "encoding exists, it's called `UTF-16` (\"UTF\" stands for \"Unicode\n",
    "Transformation Format\"), but consider the drawbacks:\n",
    "\n",
    "- we've lost `ASCII` compatibility by the simple fact of using 2 bytes\n",
    "  per character instead of 1 (encoding \"a\" as `01100001` or\n",
    "  `00000000|01100001`, with the `|` indicating an imaginary boundary\n",
    "  between bytes, is not the same thing)\n",
    "- encoding a string in a language which is mostly written down using\n",
    "  basic letters of the Latin alphabet now takes up twice as much space\n",
    "  (which is probably not a good idea, given the general dominance of\n",
    "  English in electronic communication)\n",
    "\n",
    "Looks like we'll have to think outside the box. The box in question here\n",
    "is fixed-width encodings -- all of the real-world encoding schemes we've\n",
    "encountered so far were fixed-width, meaning that each character was\n",
    "represented by either 7, 8 or 16 bits. In other words, you could jump\n",
    "around the string in multiples of 7, 8 or 16 and always land at the\n",
    "beginning of a character. (Not exactly true for `UTF-16`, because it is\n",
    "something more than just a \"16-bit `ASCII`\": it has ways of handling\n",
    "characters beyond $2^{16}$ using so-called [surrogate\n",
    "sequences](https://en.wikipedia.org/wiki/UTF-16#U.2B10000_to_U.2B10FFFF)\n",
    "-- but you get the gist.)\n",
    "\n",
    "The smart idea that some bright people have come up with was to use a\n",
    "variable-width encoding, specifically one that doesn't suck, unlike our\n",
    "`encoding2`. The most ubiquitous one currently is **`UTF-8`**, which\n",
    "we've already met in the HTML example above. `UTF-8` *is*\n",
    "`ASCII`-compatible, i.e. the 1's and 0's used to encode text containing\n",
    "only `ASCII` characters are the same regardless of whether you use\n",
    "`ASCII` or `UTF-8`: it's a sequence of 8-bit bytes. But `UTF-8` can also\n",
    "handle many more additional characters, as defined by the Unicode\n",
    "standard, by using progressively longer and longer sequences of bits."
   ]
  },
  {
   "cell_type": "code",
   "execution_count": 28,
   "id": "7f13d7eb",
   "metadata": {},
   "outputs": [
    {
     "name": "stdout",
     "output_type": "stream",
     "text": [
      "'A' encoded in UTF-8 is: ['01000001']\n",
      "'č' encoded in UTF-8 is: ['11000100', '10001101']\n",
      "'字' encoded in UTF-8 is: ['11100101', '10101101', '10010111']\n"
     ]
    }
   ],
   "source": [
    "def print_utf8_bytes(char):\n",
    "    \"\"\"Prints binary representation of character as encoded by UTF-8.\n",
    "\n",
    "    \"\"\"\n",
    "    # encode the string as UTF-8 and iterate over the bytes;\n",
    "    # iterating over a sequence of bytes yields integers in the\n",
    "    # range [0; 256); the formatting directive \"{:08b}\" does two\n",
    "    # things:\n",
    "    #   - \"b\" prints the integer in its binary representation\n",
    "    #   - \"08\" left-pads the binary representation with 0's to a total\n",
    "    #     width of 8, which is the width of a byte\n",
    "    binary_bytes = [f\"{byte:08b}\" for byte in char.encode(\"utf8\")]\n",
    "    print(f\"{char!r} encoded in UTF-8 is: {binary_bytes}\")\n",
    "\n",
    "print_utf8_bytes(\"A\")   # the representations...\n",
    "print_utf8_bytes(\"č\")   # ... keep...\n",
    "print_utf8_bytes(\"字\")  # ... getting longer."
   ]
  },
  {
   "cell_type": "markdown",
   "id": "3050692f",
   "metadata": {},
   "source": [
    "How does that even work? The obvious problem here is that with a\n",
    "fixed-width encoding, you just chop up the string at regular intervals\n",
    "(7, 8, 16 bits) and you know that each interval represents one\n",
    "character. So **how do you know where to chop up a variable\n",
    "width-encoded string, if each character can take up a different number\n",
    "of bits?**\n",
    "\n",
    "Essentially, the trick is to **use some of the bits** in the\n",
    "representation of a codepoint **to store information** not about which\n",
    "character it is (whether it's an \"A\" or a \"字\"), but **how many bits it\n",
    "occupies**. This is what we did with our `encoding2`, albeit in a very\n",
    "primitive way, by simply using 0 as a character delimiter. In other\n",
    "words, if you want to skip ahead 10 characters in a string encoded with\n",
    "a variable width-encoding, you can't just skip 10 * 7 or 8 or 16 bits;\n",
    "you have to read all the intervening characters to figure out how much\n",
    "space they take up. Take the following example:"
   ]
  },
  {
   "cell_type": "code",
   "execution_count": 29,
   "id": "cf10c9c3",
   "metadata": {},
   "outputs": [
    {
     "name": "stdout",
     "output_type": "stream",
     "text": [
      "'B' encoded in UTF-8 is: ['01000010']\n",
      "'á' encoded in UTF-8 is: ['11000011', '10100001']\n",
      "'s' encoded in UTF-8 is: ['01110011']\n",
      "'n' encoded in UTF-8 is: ['01101110']\n",
      "'í' encoded in UTF-8 is: ['11000011', '10101101']\n",
      "'k' encoded in UTF-8 is: ['01101011']\n",
      "' ' encoded in UTF-8 is: ['00100000']\n",
      "'李' encoded in UTF-8 is: ['11100110', '10011101', '10001110']\n",
      "'白' encoded in UTF-8 is: ['11100111', '10011001', '10111101']\n"
     ]
    }
   ],
   "source": [
    "for char in \"Básník 李白\":\n",
    "    print_utf8_bytes(char)"
   ]
  },
  {
   "cell_type": "markdown",
   "id": "2cd709a5",
   "metadata": {},
   "source": [
    "```{margin}\n",
    "If this explanation of how UTF-8 works sounds confusing to you, you can\n",
    "instead try to watch the [Characters, Symbols and the Unicode\n",
    "Miracle](https://youtu.be/MijmeoH9LT4) video by the\n",
    "[Computerphile](https://www.youtube.com/channel/UC9-y-6csu5WGm29I7JiwpnA)\n",
    "channel on YouTube.\n",
    "```\n",
    "\n",
    "Notice the initial bits in each byte of a character follow a pattern\n",
    "depending on how many bytes in total that character has:\n",
    "\n",
    "- if it's a 1-byte character, that byte starts with 0\n",
    "- if it's a 2-byte character, the first byte starts with 11 and the\n",
    "  following one with 10\n",
    "- if it's a 3-byte character, the first byte starts with 111 and the\n",
    "  following ones with 10\n",
    "\n",
    "This makes it possible to find out which bytes belong to which\n",
    "characters, and also to spot invalid strings, as the **leading** byte in\n",
    "a **multi-byte sequence** always \"announces\" how many **continuation**\n",
    "bytes (= starting with 10) should follow.\n",
    "\n",
    "<!-- TODO: discuss why redundancy (i.e. explicitly tagging continuation bytes -->\n",
    "<!-- with 10) is useful? though UTF-8's pickiness is lightly touched upon below -->\n",
    "\n",
    "So much for a quick introduction to `UTF-8` (= the encoding), but\n",
    "there's much more to Unicode (= the character set). While `UTF-8`\n",
    "defines only how integer numbers corresponding to codepoints are to be\n",
    "represented as 1's and 0's in a computer's memory, Unicode specifies how\n",
    "those numbers are to be interpreted as characters, what their properties\n",
    "and mutual relationships are, what conversions (i.e. mappings between\n",
    "(sequences of) codepoints) they can undergo, etc.\n",
    "\n",
    "Consider for instance the various ways diacritics are handled: \"č\" can\n",
    "be represented either as a single codepoint ([`LATIN SMALL LETTER C WITH\n",
    "CARON`](http://www.fileformat.info/info/unicode/char/010D/index.htm) --\n",
    "all Unicode codepoints have cute names like this) or a sequence of two\n",
    "codepoints, the character \"c\" and a combining diacritic mark (`COMBINING\n",
    "CARON`). You can search for the codepoints corresponding to Unicode\n",
    "characters e.g.\n",
    "[here](http://www.fileformat.info/info/unicode/char/search.htm) and play\n",
    "with them in Python using the `chr(0xXXXX)` built-in function or with\n",
    "the special string escape sequence `\\uXXXX` (where `XXXX` is the\n",
    "hexadecimal representation of the codepoint) -- both are ways to get the\n",
    "character corresponding to the given codepoint:"
   ]
  },
  {
   "cell_type": "code",
   "execution_count": 30,
   "id": "25ff9f8f",
   "metadata": {},
   "outputs": [
    {
     "name": "stdout",
     "output_type": "stream",
     "text": [
      "č\n",
      "č\n"
     ]
    }
   ],
   "source": [
    "# \"č\" as LATIN SMALL LETTER C WITH CARON, codepoint 010d\n",
    "print(chr(0x010d))\n",
    "print(\"\\u010d\")"
   ]
  },
  {
   "cell_type": "code",
   "execution_count": 31,
   "id": "97516d80",
   "metadata": {},
   "outputs": [
    {
     "name": "stdout",
     "output_type": "stream",
     "text": [
      "č\n",
      "č\n"
     ]
    }
   ],
   "source": [
    "# \"č\" as a sequence of LATIN SMALL LETTER C, codepoint 0063, and\n",
    "# COMBINING CARON, codepoint 030c\n",
    "print(chr(0x0063) + chr(0x030c))\n",
    "print(\"\\u0063\\u030c\")"
   ]
  },
  {
   "cell_type": "code",
   "execution_count": 32,
   "id": "4b19f01b",
   "metadata": {},
   "outputs": [
    {
     "data": {
      "text/plain": [
       "'č'"
      ]
     },
     "execution_count": 32,
     "metadata": {},
     "output_type": "execute_result"
    }
   ],
   "source": [
    "# of course, chr() also works with decimal numbers\n",
    "chr(269)"
   ]
  },
  {
   "cell_type": "markdown",
   "id": "d07d5e10",
   "metadata": {},
   "source": [
    "This means you have to be careful when working with languages that use\n",
    "accents, because **to a computer, the two possible representations are\n",
    "of course different strings**, even though to you, they're conceptually\n",
    "the same:"
   ]
  },
  {
   "cell_type": "code",
   "execution_count": 33,
   "id": "748080ec",
   "metadata": {},
   "outputs": [
    {
     "name": "stdout",
     "output_type": "stream",
     "text": [
      "č č\n"
     ]
    }
   ],
   "source": [
    "s1 = \"\\u010d\"\n",
    "s2 = \"\\u0063\\u030c\"\n",
    "# s1 and s2 look the same to the naked eye...\n",
    "print(s1, s2)"
   ]
  },
  {
   "cell_type": "code",
   "execution_count": 34,
   "id": "2766cf28",
   "metadata": {},
   "outputs": [
    {
     "data": {
      "text/plain": [
       "False"
      ]
     },
     "execution_count": 34,
     "metadata": {},
     "output_type": "execute_result"
    }
   ],
   "source": [
    "# ... but they're not\n",
    "s1 == s2"
   ]
  },
  {
   "cell_type": "markdown",
   "id": "6fc95a43",
   "metadata": {},
   "source": [
    "Watch out, **they even have different lengths**! This might come to bite\n",
    "you if you're trying to compute the length of a word in letters."
   ]
  },
  {
   "cell_type": "code",
   "execution_count": 35,
   "id": "d16a34a1",
   "metadata": {},
   "outputs": [
    {
     "name": "stdout",
     "output_type": "stream",
     "text": [
      "s1 is 1 character(s) long.\n",
      "s2 is 2 character(s) long.\n"
     ]
    }
   ],
   "source": [
    "print(\"s1 is\", len(s1), \"character(s) long.\")\n",
    "print(\"s2 is\", len(s2), \"character(s) long.\")"
   ]
  },
  {
   "cell_type": "markdown",
   "id": "1f9fab0b",
   "metadata": {},
   "source": [
    "For this reason, even though we've been informally calling these Unicode\n",
    "entities \"characters\", it is more accurate and less confusing to use the\n",
    "technical term \"codepoints\".\n",
    "\n",
    "Generally, most text out there will use the first, single-codepoint\n",
    "approach whenever possible, and pre-packaged linguistic corpora will try\n",
    "to be consistent about this (unless they come from the web, which always\n",
    "warrants being suspicious and defensive about your material). If you're\n",
    "worried about inconsistencies in your data, you can perform a\n",
    "[normalization](https://en.wikipedia.org/wiki/Unicode_equivalence#Normalization):"
   ]
  },
  {
   "cell_type": "code",
   "execution_count": 36,
   "id": "c8acbe10",
   "metadata": {},
   "outputs": [
    {
     "data": {
      "text/plain": [
       "True"
      ]
     },
     "execution_count": 36,
     "metadata": {},
     "output_type": "execute_result"
    }
   ],
   "source": [
    "from unicodedata import normalize\n",
    "\n",
    "# NFC stands for Normal Form C; this normalization applies a canonical\n",
    "# decomposition (into a multi-codepoint representation) followed by a\n",
    "# canonical composition (into a single-codepoint representation)\n",
    "s1 = normalize(\"NFC\", s1)\n",
    "s2 = normalize(\"NFC\", s2)\n",
    "\n",
    "s1 == s2"
   ]
  },
  {
   "cell_type": "markdown",
   "id": "299296c3",
   "metadata": {},
   "source": [
    "<!-- TODO: explain that to find out graphemes (technically extended grapheme -->\n",
    "<!-- clusters, which are the closest thing to a layman's notion of -->\n",
    "<!-- characters), you need the regex package and \\X -->\n",
    "\n",
    "<!-- TODO: move this to the getting your data into python section, along with -->\n",
    "<!-- the discussion of file IO? -->\n",
    "\n",
    "Let's wrap things up by saying that Python itself uses Unicode\n",
    "internally, but the encoding it defaults to when opening an external\n",
    "file depends on the *locale* of the system (broadly speaking, the set of\n",
    "region, language and character-encoding related settings of the\n",
    "operating system). On most modern Linux and macOS systems, this will\n",
    "probably be a `UTF-8` locale and Python will therefore assume `UTF-8` as\n",
    "the encoding by default. Unfortunately, Windows is different. To be on\n",
    "the safe side, whenever opening files in Python, you can specify the\n",
    "encoding explicitly:\n",
    "\n",
    "~~~python\n",
    "with open(\"unicode.ipynb\", encoding=\"utf-8\") as file:\n",
    "    pass\n",
    "~~~\n",
    "\n",
    "In fact, it's **always a good idea to specify the encoding explicitly,\n",
    "using `UTF-8` as a default** if you don't know, for at least two reasons\n",
    "-- it makes your code more:\n",
    "\n",
    "1. **portable** -- it will work the same across different operating\n",
    "   systems which assume different default encodings;\n",
    "2. and **resistant to data corruption** -- `UTF-8` is more restrictive\n",
    "   than fixed-width encodings, in the sense that not all sequences of\n",
    "   bytes are valid `UTF-8`.\n",
    "\n",
    " That second point probably requires elaboration. For instance, if one\n",
    " byte starts with 11, then the following one *must* start with 10 (see\n",
    " above). If it starts with anything else, it's an error.  By contrast,\n",
    " in a fixed-width encoding, *any* sequence of bytes is valid. Decoding\n",
    " will always succeed, but if you use the wrong fixed-width encoding, the\n",
    " result will be garbage, which you might not notice. Therefore, it makes\n",
    " sense to default to `UTF-8`: if it works, then there's a good chance\n",
    " that the file actually *was* encoded in `UTF-8` and you've read the\n",
    " data in correctly; if it fails, you get an explicit error which prompts\n",
    " you to investigate further.\n",
    "\n",
    "Another good idea, when dealing with Unicode text from an unknown and\n",
    "unreliable source, is to look at the set of codepoints contained in it\n",
    "and eliminate or replace those that look suspicious. Here's a function\n",
    "to help with that:"
   ]
  },
  {
   "cell_type": "code",
   "execution_count": 37,
   "id": "f788a8b8",
   "metadata": {},
   "outputs": [],
   "source": [
    "import unicodedata as ud\n",
    "from collections import Counter\n",
    "\n",
    "import pandas as pd\n",
    "\n",
    "def inspect_codepoints(string):\n",
    "    \"\"\"Create a frequency distribution of the codepoints in a string.\n",
    "\n",
    "    \"\"\"\n",
    "    char_frequencies = Counter(string)\n",
    "    df = pd.DataFrame.from_records(\n",
    "        (\n",
    "            freq,\n",
    "            char,\n",
    "            f\"U+{ord(char):04x}\",\n",
    "            ud.name(char),\n",
    "            ud.category(char)\n",
    "        )\n",
    "        for char, freq in char_frequencies.most_common()\n",
    "    )\n",
    "    df.columns = (\"freq\", \"char\", \"codepoint\", \"name\", \"category\")\n",
    "    return df"
   ]
  },
  {
   "cell_type": "markdown",
   "id": "c2aa54ea",
   "metadata": {},
   "source": [
    "Depending on your font configuration, it may be very hard to spot the\n",
    "two intruders in the sentence below. The frequency table shows the\n",
    "string contains regular `LATIN SMALL LETTER T` and `LATIN SMALL LETTER\n",
    "G`, but also their specialized but visually similar variants\n",
    "`MATHEMATICAL SANS-SERIF SMALL T` and `LATIN SMALL LETTER SCRIPT G`. You\n",
    "might want to replace such codepoints before doing further text\n",
    "processing..."
   ]
  },
  {
   "cell_type": "code",
   "execution_count": 38,
   "id": "a18efe13",
   "metadata": {},
   "outputs": [
    {
     "data": {
      "text/html": [
       "<div>\n",
       "<style scoped>\n",
       "    .dataframe tbody tr th:only-of-type {\n",
       "        vertical-align: middle;\n",
       "    }\n",
       "\n",
       "    .dataframe tbody tr th {\n",
       "        vertical-align: top;\n",
       "    }\n",
       "\n",
       "    .dataframe thead th {\n",
       "        text-align: right;\n",
       "    }\n",
       "</style>\n",
       "<table border=\"1\" class=\"dataframe\">\n",
       "  <thead>\n",
       "    <tr style=\"text-align: right;\">\n",
       "      <th></th>\n",
       "      <th>freq</th>\n",
       "      <th>char</th>\n",
       "      <th>codepoint</th>\n",
       "      <th>name</th>\n",
       "      <th>category</th>\n",
       "    </tr>\n",
       "  </thead>\n",
       "  <tbody>\n",
       "    <tr>\n",
       "      <th>0</th>\n",
       "      <td>5</td>\n",
       "      <td>e</td>\n",
       "      <td>U+0065</td>\n",
       "      <td>LATIN SMALL LETTER E</td>\n",
       "      <td>Ll</td>\n",
       "    </tr>\n",
       "    <tr>\n",
       "      <th>1</th>\n",
       "      <td>5</td>\n",
       "      <td></td>\n",
       "      <td>U+0020</td>\n",
       "      <td>SPACE</td>\n",
       "      <td>Zs</td>\n",
       "    </tr>\n",
       "    <tr>\n",
       "      <th>2</th>\n",
       "      <td>3</td>\n",
       "      <td>r</td>\n",
       "      <td>U+0072</td>\n",
       "      <td>LATIN SMALL LETTER R</td>\n",
       "      <td>Ll</td>\n",
       "    </tr>\n",
       "    <tr>\n",
       "      <th>3</th>\n",
       "      <td>3</td>\n",
       "      <td>d</td>\n",
       "      <td>U+0064</td>\n",
       "      <td>LATIN SMALL LETTER D</td>\n",
       "      <td>Ll</td>\n",
       "    </tr>\n",
       "    <tr>\n",
       "      <th>4</th>\n",
       "      <td>3</td>\n",
       "      <td>h</td>\n",
       "      <td>U+0068</td>\n",
       "      <td>LATIN SMALL LETTER H</td>\n",
       "      <td>Ll</td>\n",
       "    </tr>\n",
       "    <tr>\n",
       "      <th>5</th>\n",
       "      <td>2</td>\n",
       "      <td>I</td>\n",
       "      <td>U+0049</td>\n",
       "      <td>LATIN CAPITAL LETTER I</td>\n",
       "      <td>Lu</td>\n",
       "    </tr>\n",
       "    <tr>\n",
       "      <th>6</th>\n",
       "      <td>2</td>\n",
       "      <td>n</td>\n",
       "      <td>U+006e</td>\n",
       "      <td>LATIN SMALL LETTER N</td>\n",
       "      <td>Ll</td>\n",
       "    </tr>\n",
       "    <tr>\n",
       "      <th>7</th>\n",
       "      <td>2</td>\n",
       "      <td>o</td>\n",
       "      <td>U+006f</td>\n",
       "      <td>LATIN SMALL LETTER O</td>\n",
       "      <td>Ll</td>\n",
       "    </tr>\n",
       "    <tr>\n",
       "      <th>8</th>\n",
       "      <td>2</td>\n",
       "      <td>c</td>\n",
       "      <td>U+0063</td>\n",
       "      <td>LATIN SMALL LETTER C</td>\n",
       "      <td>Ll</td>\n",
       "    </tr>\n",
       "    <tr>\n",
       "      <th>9</th>\n",
       "      <td>1</td>\n",
       "      <td>t</td>\n",
       "      <td>U+0074</td>\n",
       "      <td>LATIN SMALL LETTER T</td>\n",
       "      <td>Ll</td>\n",
       "    </tr>\n",
       "    <tr>\n",
       "      <th>10</th>\n",
       "      <td>1</td>\n",
       "      <td>u</td>\n",
       "      <td>U+0075</td>\n",
       "      <td>LATIN SMALL LETTER U</td>\n",
       "      <td>Ll</td>\n",
       "    </tr>\n",
       "    <tr>\n",
       "      <th>11</th>\n",
       "      <td>1</td>\n",
       "      <td>s</td>\n",
       "      <td>U+0073</td>\n",
       "      <td>LATIN SMALL LETTER S</td>\n",
       "      <td>Ll</td>\n",
       "    </tr>\n",
       "    <tr>\n",
       "      <th>12</th>\n",
       "      <td>1</td>\n",
       "      <td>,</td>\n",
       "      <td>U+002c</td>\n",
       "      <td>COMMA</td>\n",
       "      <td>Po</td>\n",
       "    </tr>\n",
       "    <tr>\n",
       "      <th>13</th>\n",
       "      <td>1</td>\n",
       "      <td>g</td>\n",
       "      <td>U+0067</td>\n",
       "      <td>LATIN SMALL LETTER G</td>\n",
       "      <td>Ll</td>\n",
       "    </tr>\n",
       "    <tr>\n",
       "      <th>14</th>\n",
       "      <td>1</td>\n",
       "      <td>𝗍</td>\n",
       "      <td>U+1d5cd</td>\n",
       "      <td>MATHEMATICAL SANS-SERIF SMALL T</td>\n",
       "      <td>Ll</td>\n",
       "    </tr>\n",
       "    <tr>\n",
       "      <th>15</th>\n",
       "      <td>1</td>\n",
       "      <td>i</td>\n",
       "      <td>U+0069</td>\n",
       "      <td>LATIN SMALL LETTER I</td>\n",
       "      <td>Ll</td>\n",
       "    </tr>\n",
       "    <tr>\n",
       "      <th>16</th>\n",
       "      <td>1</td>\n",
       "      <td>ɡ</td>\n",
       "      <td>U+0261</td>\n",
       "      <td>LATIN SMALL LETTER SCRIPT G</td>\n",
       "      <td>Ll</td>\n",
       "    </tr>\n",
       "    <tr>\n",
       "      <th>17</th>\n",
       "      <td>1</td>\n",
       "      <td>k</td>\n",
       "      <td>U+006b</td>\n",
       "      <td>LATIN SMALL LETTER K</td>\n",
       "      <td>Ll</td>\n",
       "    </tr>\n",
       "    <tr>\n",
       "      <th>18</th>\n",
       "      <td>1</td>\n",
       "      <td>.</td>\n",
       "      <td>U+002e</td>\n",
       "      <td>FULL STOP</td>\n",
       "      <td>Po</td>\n",
       "    </tr>\n",
       "  </tbody>\n",
       "</table>\n",
       "</div>"
      ],
      "text/plain": [
       "    freq char codepoint                             name category\n",
       "0      5    e    U+0065             LATIN SMALL LETTER E       Ll\n",
       "1      5         U+0020                            SPACE       Zs\n",
       "2      3    r    U+0072             LATIN SMALL LETTER R       Ll\n",
       "3      3    d    U+0064             LATIN SMALL LETTER D       Ll\n",
       "4      3    h    U+0068             LATIN SMALL LETTER H       Ll\n",
       "5      2    I    U+0049           LATIN CAPITAL LETTER I       Lu\n",
       "6      2    n    U+006e             LATIN SMALL LETTER N       Ll\n",
       "7      2    o    U+006f             LATIN SMALL LETTER O       Ll\n",
       "8      2    c    U+0063             LATIN SMALL LETTER C       Ll\n",
       "9      1    t    U+0074             LATIN SMALL LETTER T       Ll\n",
       "10     1    u    U+0075             LATIN SMALL LETTER U       Ll\n",
       "11     1    s    U+0073             LATIN SMALL LETTER S       Ll\n",
       "12     1    ,    U+002c                            COMMA       Po\n",
       "13     1    g    U+0067             LATIN SMALL LETTER G       Ll\n",
       "14     1    𝗍   U+1d5cd  MATHEMATICAL SANS-SERIF SMALL T       Ll\n",
       "15     1    i    U+0069             LATIN SMALL LETTER I       Ll\n",
       "16     1    ɡ    U+0261      LATIN SMALL LETTER SCRIPT G       Ll\n",
       "17     1    k    U+006b             LATIN SMALL LETTER K       Ll\n",
       "18     1    .    U+002e                        FULL STOP       Po"
      ]
     },
     "execution_count": 38,
     "metadata": {},
     "output_type": "execute_result"
    }
   ],
   "source": [
    "inspect_codepoints(\"Intruders here, good 𝗍hinɡ I checked.\")"
   ]
  },
  {
   "cell_type": "markdown",
   "id": "23d399e4",
   "metadata": {},
   "source": [
    "... because of course, for a computer, the word \"thing\" written with two\n",
    "different variants of \"g\" is really just two different words, which is\n",
    "probably not what you want:"
   ]
  },
  {
   "cell_type": "code",
   "execution_count": 39,
   "id": "358838cc",
   "metadata": {},
   "outputs": [
    {
     "data": {
      "text/plain": [
       "False"
      ]
     },
     "execution_count": 39,
     "metadata": {},
     "output_type": "execute_result"
    }
   ],
   "source": [
    "\"thing\" == \"thinɡ\""
   ]
  },
  {
   "cell_type": "markdown",
   "id": "1d7cbe6a",
   "metadata": {},
   "source": [
    "So to sum up:\n",
    "\n",
    "- Unicode strives to be a universal character set. It contains *a lot*\n",
    "  of characters, many very similar-looking yet different. Appearances\n",
    "  can be deceptive, when in doubt, examine which codepoints you're\n",
    "  actually dealing with and/or normalize.\n",
    "- Unicode can be encoded using different encodings. Some are fixed-width\n",
    "  (`UTF-32`, which we haven't mentioned yet), some are almost\n",
    "  fixed-width (`UTF-16`), some are variable-width (`UTF-8`).\n",
    "- `UTF-8` has many desirable properties, so you should always use it\n",
    "  when saving plain text files, and always assume it as a first try when\n",
    "  opening files in an unknown encoding.\n",
    "- Internally, Python uses a custom representation of Unicode, which is\n",
    "  neither of the encodings we already mentioned.\n",
    "- The following functionality is useful for inspecting Unicode data in\n",
    "  Python: the `ord()` and `chr()` built-in functions, the `unicodedata`\n",
    "  standard library module, and the `regex` external package, which like\n",
    "  the standard library `re` module implements regular expression support\n",
    "  from Python, but unlike the latter, it provides much more extensive\n",
    "  Unicode support."
   ]
  }
 ],
 "metadata": {
  "jupytext": {
   "formats": "md:myst",
   "text_representation": {
    "extension": ".md",
    "format_name": "myst",
    "format_version": 0.12,
    "jupytext_version": "1.6.0"
   }
  },
  "kernelspec": {
   "display_name": "Python 3",
   "language": "python",
   "name": "python3"
  },
  "language_info": {
   "codemirror_mode": {
    "name": "ipython",
    "version": 3
   },
   "file_extension": ".py",
   "mimetype": "text/x-python",
   "name": "python",
   "nbconvert_exporter": "python",
   "pygments_lexer": "ipython3",
   "version": "3.9.6"
  },
  "source_map": [
   13,
   99,
   101,
   109,
   111,
   116,
   120,
   122,
   127,
   129,
   136,
   140,
   144,
   148,
   154,
   158,
   162,
   168,
   171,
   198,
   201,
   217,
   221,
   225,
   228,
   234,
   236,
   246,
   248,
   265,
   273,
   312,
   324,
   348,
   350,
   356,
   363,
   372,
   377,
   402,
   405,
   428,
   430,
   492,
   507,
   533,
   535,
   540,
   551,
   588,
   606,
   625,
   628,
   676,
   682,
   689,
   692,
   699,
   706,
   709,
   714,
   717,
   730,
   740,
   790,
   813,
   823,
   825,
   831,
   833
  ]
 },
 "nbformat": 4,
 "nbformat_minor": 5
}