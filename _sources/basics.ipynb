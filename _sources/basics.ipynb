{
 "cells": [
  {
   "cell_type": "markdown",
   "id": "c1776e24",
   "metadata": {},
   "source": [
    "# A tour of Python and NLTK"
   ]
  },
  {
   "cell_type": "code",
   "execution_count": 1,
   "id": "6909e3f9",
   "metadata": {
    "tags": [
     "remove-cell"
    ]
   },
   "outputs": [
    {
     "name": "stderr",
     "output_type": "stream",
     "text": [
      "[nltk_data] Downloading package punkt to /tmp/v4py/nltk_data...\n"
     ]
    },
    {
     "name": "stderr",
     "output_type": "stream",
     "text": [
      "[nltk_data]   Unzipping tokenizers/punkt.zip.\n"
     ]
    },
    {
     "data": {
      "text/plain": [
       "True"
      ]
     },
     "execution_count": 1,
     "metadata": {},
     "output_type": "execute_result"
    }
   ],
   "source": [
    "# Download NLTK resources. Remove code from START_NLTK_TMP to\n",
    "# END_NLTK_TMP to store them in a permanent location instead of a\n",
    "# temporary directory.\n",
    "# --------------------------- START_NLTK_TMP ---------------------------\n",
    "import os\n",
    "import tempfile\n",
    "\n",
    "nltk_data = os.path.join(tempfile.gettempdir(), \"v4py\", \"nltk_data\")\n",
    "os.makedirs(nltk_data, exist_ok=True)\n",
    "os.environ[\"NLTK_DATA\"] = nltk_data\n",
    "# ---------------------------- END_NLTK_TMP ----------------------------\n",
    "\n",
    "import nltk\n",
    "\n",
    "nltk.download(\"punkt\")"
   ]
  },
  {
   "cell_type": "markdown",
   "id": "8ca92f70",
   "metadata": {},
   "source": [
    "## The most important piece of programming advice you'll ever get™\n",
    "\n",
    "Over the course of this book, you'll be presented with a lot of\n",
    "information. Like, *a lot*. It makes no sense trying to memorize all of\n",
    "it on your first pass. No one expects you to. With programming as with\n",
    "anything else, practice makes perfect -- as you keep using Python, the\n",
    "parts you use often enough will gradually enter your muscle memory. The\n",
    "parts that you don't, you'll have to look up as needed. I do that\n",
    "constantly when I write code that uses other people's libraries that I\n",
    "don't use every day.\n",
    "\n",
    "Luckily, there's this thing called the internet, where you can search\n",
    "for information using this thing called search engines, and these search\n",
    "engines are pretty smart nowadays, so you can basically ask them \"how do\n",
    "I do X in Python\" and they'll probably come up with links to reasonable\n",
    "answers, because until you reach an intermediate to advanced level, you\n",
    "can be pretty sure you're not the first person on the internet to have\n",
    "that question. To help you make sense of the results that you're likely\n",
    "to get, here's an overview of the domains that frequently appear in there:\n",
    "\n",
    "- <https://stackoverflow.com/>, and subdomains of\n",
    "  <https://stackexchange.com/>: in the programming community, these are\n",
    "  leading sites offering information in a user-generated question/answer\n",
    "  format. If you have a question, it's probably already been asked and\n",
    "  answered there, maybe even multiple times. If it hasn't, go ask it!\n",
    "- <https://docs.python.org/>: Python's official documentation, including\n",
    "  the many modules included in the standard library\n",
    "- subdomains of <https://readthedocs.io/>: documentation for additional\n",
    "  packages, created by people all over the world; however, larger\n",
    "  projects often host documentation on their own domain, e.g.\n",
    "  <https://pandas.pydata.org/>\n",
    "- <https://github.com>: this is a site many people use to collaborate on\n",
    "  developing software projects in the open (cf. [open\n",
    "  source](https://en.wikipedia.org/wiki/Open_source)). If you encounter\n",
    "  weird behavior in a library, and that library's community uses GitHub\n",
    "  for development, it's a good idea to check that library's [issue\n",
    "  tracker](https://github.com/nltk/nltk/issues) to see whether that\n",
    "  behavior might be a known\n",
    "  [bug](https://en.wikipedia.org/wiki/Software_bug), and if not,\n",
    "  consider reporting it yourself.\n",
    "\n",
    "## How to use this chapter\n",
    "\n",
    "Don't try to memorize all the information contained in here by heart\n",
    "before moving on to the rest of the book. The purpose of this chapter is\n",
    "to familiarize you with basic words and concepts used throughout the\n",
    "book, so that when you run across them, you know where to look them up.\n",
    "That's why they're all in one place. There's also quite a lot of them,\n",
    "and truly mastering them will get you quite far along your Python\n",
    "programming career, so that's not the goal right now. The goal is to get\n",
    "acquainted, possibly skip ahead if you get bored, and definitely skip\n",
    "back for a refresher whenever things stop making sense.\n",
    "\n",
    "## Python notebooks: your fancy new calculator\n",
    "\n",
    "Python notebooks are kind of like a calculator, just a lot more fancy\n",
    "than your typical calculator. But otherwise, they should feel pretty\n",
    "familiar -- you type some stuff in, press a button, Python thinks for a\n",
    "while and spits back an answer.\n",
    "\n",
    "The place where you type stuff is called a **cell**, and **running** a\n",
    "cell with the play button (▶) makes Python **evaluate the code** you\n",
    "typed in, i.e. your **program**. A very simple Python program could\n",
    "consist of just one number:"
   ]
  },
  {
   "cell_type": "code",
   "execution_count": 2,
   "id": "ccc43eb0",
   "metadata": {},
   "outputs": [
    {
     "data": {
      "text/plain": [
       "1"
      ]
     },
     "execution_count": 2,
     "metadata": {},
     "output_type": "execute_result"
    }
   ],
   "source": [
    "1"
   ]
  },
  {
   "cell_type": "markdown",
   "id": "e50bc08f",
   "metadata": {},
   "source": [
    "And Python's answer is, unsuprisingly, the same as a calculator's answer\n",
    "would be: the **expression** `1` evaluates to... Well, it evaluates to\n",
    "`1`. Unlike in a calculator though, you can have multiple cells in a\n",
    "notebook, jump back and forth between them, edit and re-evaluate old\n",
    "ones, etc. Let's create a new cell with the plus button (➕) and try\n",
    "some slightly more complicated expressions."
   ]
  },
  {
   "cell_type": "code",
   "execution_count": 3,
   "id": "4e40f37a",
   "metadata": {},
   "outputs": [
    {
     "data": {
      "text/plain": [
       "2"
      ]
     },
     "execution_count": 3,
     "metadata": {},
     "output_type": "execute_result"
    }
   ],
   "source": [
    "1 + 1"
   ]
  },
  {
   "cell_type": "markdown",
   "id": "19c88c2c",
   "metadata": {},
   "source": [
    "Cells can consist of multiple lines. Let's demonstrate that with a\n",
    "**comment**. Comments are pieces of programs which are completely\n",
    "ignored by the computer, they're included solely for the benefit of the\n",
    "humans reading the code. In Python, the **syntax** for comments is to\n",
    "write a hash mark; everything that follows after that is a comment,\n",
    "which is often signaled by distinctive **syntax highlighting**."
   ]
  },
  {
   "cell_type": "code",
   "execution_count": 4,
   "id": "ab3e6690",
   "metadata": {},
   "outputs": [
    {
     "data": {
      "text/plain": [
       "1"
      ]
     },
     "execution_count": 4,
     "metadata": {},
     "output_type": "execute_result"
    }
   ],
   "source": [
    "# This is a comment.\n",
    "# Python will completely ignore this line, the one above and the one below.\n",
    "# They're here just for you, as the person who reads this code.\n",
    "3 - 2"
   ]
  },
  {
   "cell_type": "markdown",
   "id": "bccd928c",
   "metadata": {},
   "source": [
    "If you'd like to write more extensive prose commentary, consider using\n",
    "**Markdown** cells. In JupyterLab, use the notebook's top toolbar to\n",
    "switch the cell type from *Code* to *Markdown*. Markdown is a\n",
    "lightweight markup language which allows you to add formatting such as\n",
    "*italics* and **bold**, [hyperlinks](https://www.markdowntutorial.com/)\n",
    "and other features, but you don't have to worry about that, you can\n",
    "mostly just write regular text and it'll probably render just fine. If\n",
    "you'd like to learn more about Markdown features, you can always\n",
    "double-click on cells like this one in JupyterLab to see their source\n",
    "code, because they're written in Markdown, or try [this interactive\n",
    "tutorial](https://www.markdowntutorial.com/). But let's focus on Python\n",
    "right now.\n",
    "\n",
    "The `*` operator is used for multiplication, `/` for division, `//` for\n",
    "truncating division, `%` for modulo and `**` for exponentiation."
   ]
  },
  {
   "cell_type": "code",
   "execution_count": 5,
   "id": "a96756b9",
   "metadata": {},
   "outputs": [
    {
     "data": {
      "text/plain": [
       "6"
      ]
     },
     "execution_count": 5,
     "metadata": {},
     "output_type": "execute_result"
    }
   ],
   "source": [
    "2 * 3"
   ]
  },
  {
   "cell_type": "code",
   "execution_count": 6,
   "id": "c466500f",
   "metadata": {},
   "outputs": [
    {
     "data": {
      "text/plain": [
       "1.3333333333333333"
      ]
     },
     "execution_count": 6,
     "metadata": {},
     "output_type": "execute_result"
    }
   ],
   "source": [
    "4 / 3"
   ]
  },
  {
   "cell_type": "code",
   "execution_count": 7,
   "id": "7aaf17b4",
   "metadata": {},
   "outputs": [
    {
     "data": {
      "text/plain": [
       "1"
      ]
     },
     "execution_count": 7,
     "metadata": {},
     "output_type": "execute_result"
    }
   ],
   "source": [
    "# \"truncating\" division means it'll chop off the part of the number\n",
    "# after the decimal point\n",
    "4 // 3"
   ]
  },
  {
   "cell_type": "code",
   "execution_count": 8,
   "id": "a4833d63",
   "metadata": {},
   "outputs": [
    {
     "data": {
      "text/plain": [
       "8"
      ]
     },
     "execution_count": 8,
     "metadata": {},
     "output_type": "execute_result"
    }
   ],
   "source": [
    "2**3"
   ]
  },
  {
   "cell_type": "code",
   "execution_count": 9,
   "id": "b7b9579e",
   "metadata": {},
   "outputs": [
    {
     "data": {
      "text/plain": [
       "4"
      ]
     },
     "execution_count": 9,
     "metadata": {},
     "output_type": "execute_result"
    }
   ],
   "source": [
    "# modulo wraps counting around a certain number, so you can use it e.g.\n",
    "# for converting 24h clock hours to 12h clock hours\n",
    "16 % 12"
   ]
  },
  {
   "cell_type": "markdown",
   "id": "8ed29f91",
   "metadata": {},
   "source": [
    "A decimal point, `.`, is used to separate the whole number part from the\n",
    "fractional part of a number."
   ]
  },
  {
   "cell_type": "code",
   "execution_count": 10,
   "id": "f22f9c59",
   "metadata": {},
   "outputs": [
    {
     "data": {
      "text/plain": [
       "0.2"
      ]
     },
     "execution_count": 10,
     "metadata": {},
     "output_type": "execute_result"
    }
   ],
   "source": [
    "0.1 + 0.1"
   ]
  },
  {
   "cell_type": "markdown",
   "id": "0d77bea7",
   "metadata": {},
   "source": [
    "At this point, if you're following along interactively in JupyterLab,\n",
    "you're probably sick and tired of reaching for your mouse to press ▶ all\n",
    "the time. JupyterLab has many handy keyboard shortcuts which I'll let\n",
    "you discover on your own at your leisure, but the following three are\n",
    "such a huge quality of life improvement that I feel compelled to point\n",
    "them out:\n",
    "\n",
    "- `Alt+Enter`: evaluate, insert new cell and switch to it\n",
    "- `Shift+Enter`: evaluate and switch to next (existing) cell\n",
    "- `Ctrl+Enter`: evaluate and stay at current cell\n",
    "\n",
    "## Text as strings of characters\n",
    "\n",
    "But enough about numbers! We're linguist, so let's look at how we can\n",
    "represent text. The most basic way of representing text in Python is as\n",
    "one long **string** of characters. Strings can be created using quotes,\n",
    "both single and double work fine."
   ]
  },
  {
   "cell_type": "code",
   "execution_count": 11,
   "id": "b5813e80",
   "metadata": {},
   "outputs": [
    {
     "data": {
      "text/plain": [
       "'Hello, world!'"
      ]
     },
     "execution_count": 11,
     "metadata": {},
     "output_type": "execute_result"
    }
   ],
   "source": [
    "\"Hello, world!\""
   ]
  },
  {
   "cell_type": "code",
   "execution_count": 12,
   "id": "c82133f6",
   "metadata": {},
   "outputs": [
    {
     "data": {
      "text/plain": [
       "'Hello, world!'"
      ]
     },
     "execution_count": 12,
     "metadata": {},
     "output_type": "execute_result"
    }
   ],
   "source": [
    "'Hello, world!'"
   ]
  },
  {
   "cell_type": "code",
   "execution_count": 13,
   "id": "c4281f07",
   "metadata": {},
   "outputs": [
    {
     "data": {
      "text/plain": [
       "\"It's me, world!\""
      ]
     },
     "execution_count": 13,
     "metadata": {},
     "output_type": "execute_result"
    }
   ],
   "source": [
    "\"It's me, world!\""
   ]
  },
  {
   "cell_type": "markdown",
   "id": "2f156890",
   "metadata": {},
   "source": [
    "Though you can't just put a single quote inside a single-quote-delimited\n",
    "string because, well, Python would think that's where the string ends."
   ]
  },
  {
   "cell_type": "code",
   "execution_count": 14,
   "id": "76d9687b",
   "metadata": {
    "tags": [
     "raises-exception"
    ]
   },
   "outputs": [
    {
     "ename": "SyntaxError",
     "evalue": "invalid syntax (1132477001.py, line 1)",
     "output_type": "error",
     "traceback": [
      "\u001b[0;36m  File \u001b[0;32m\"/tmp/ipykernel_56602/1132477001.py\"\u001b[0;36m, line \u001b[0;32m1\u001b[0m\n\u001b[0;31m    'It's me, world!'\u001b[0m\n\u001b[0m        ^\u001b[0m\n\u001b[0;31mSyntaxError\u001b[0m\u001b[0;31m:\u001b[0m invalid syntax\n"
     ]
    }
   ],
   "source": [
    "'It's me, world!'"
   ]
  },
  {
   "cell_type": "markdown",
   "id": "882cd116",
   "metadata": {},
   "source": [
    "What Python spits out in this case is an **error traceback**, telling\n",
    "you that something went wrong. Python usually gives extremely helpful\n",
    "error messages that help you diagnose what went wrong, where the error\n",
    "occurred and how you got there, so it's well worth spending time reading\n",
    "them and learning to decipher them (it's not that hard, it just takes\n",
    "practice). The one exception to this is when Python can't even parse\n",
    "your program as valid Python code. In that case, the best it can do is\n",
    "tell you where it got stuck, **raise** a `SyntaxError`, and leave you to\n",
    "figure out what the problem is and how to fix it on your own. Which is\n",
    "what happened here.\n",
    "\n",
    "The easiest workaround when you want your string to contain one kind of\n",
    "quote is to use the other kind of quote to delimit it, like we did in\n",
    "the second-to-last code cell. Sometimes however, you want *both* kinds\n",
    "of quotes. In that case, you can use the backslash character `\\` to\n",
    "**escape** the special, string-terminating meaning of a quote, and make\n",
    "it into a regular character which is part of the string."
   ]
  },
  {
   "cell_type": "code",
   "execution_count": 15,
   "id": "f6fe81e2",
   "metadata": {},
   "outputs": [
    {
     "data": {
      "text/plain": [
       "'\"It\\'s me, world!\" she said.'"
      ]
     },
     "execution_count": 15,
     "metadata": {},
     "output_type": "execute_result"
    }
   ],
   "source": [
    "\"\\\"It's me, world!\\\" she said.\""
   ]
  },
  {
   "cell_type": "markdown",
   "id": "563e9852",
   "metadata": {},
   "source": [
    "Escaping means canceling the default meaning of a character or character\n",
    "sequence and using an alternative one. In a double-quoted string, `\"`\n",
    "normally means \"end the string here\", but a preceding `\\` changes that\n",
    "to \"just insert a double quote at this point in the string\". **Escape\n",
    "sequences** exist to help you put characters in your strings which you\n",
    "just can't put there literally, or which are hard to type on your\n",
    "keyboard. For instance, you can't just put a **newline** character\n",
    "inside a string:"
   ]
  },
  {
   "cell_type": "code",
   "execution_count": 16,
   "id": "c6f2a3ec",
   "metadata": {
    "tags": [
     "raises-exception"
    ]
   },
   "outputs": [
    {
     "ename": "SyntaxError",
     "evalue": "EOL while scanning string literal (1697716864.py, line 1)",
     "output_type": "error",
     "traceback": [
      "\u001b[0;36m  File \u001b[0;32m\"/tmp/ipykernel_56602/1697716864.py\"\u001b[0;36m, line \u001b[0;32m1\u001b[0m\n\u001b[0;31m    \"one line\u001b[0m\n\u001b[0m             ^\u001b[0m\n\u001b[0;31mSyntaxError\u001b[0m\u001b[0;31m:\u001b[0m EOL while scanning string literal\n"
     ]
    }
   ],
   "source": [
    "\"one line\n",
    "another line\""
   ]
  },
  {
   "cell_type": "markdown",
   "id": "492e7d20",
   "metadata": {},
   "source": [
    "Grr, another `SyntaxError`. What you *can* do is use the `\\n` escape\n",
    "sequence to represent that newline, without having an actual newline in\n",
    "your source code and triggering that `SyntaxError`."
   ]
  },
  {
   "cell_type": "code",
   "execution_count": 17,
   "id": "cdc7290f",
   "metadata": {},
   "outputs": [
    {
     "data": {
      "text/plain": [
       "'one line\\nanother line'"
      ]
     },
     "execution_count": 17,
     "metadata": {},
     "output_type": "execute_result"
    }
   ],
   "source": [
    "\"one line\\nanother line\""
   ]
  },
  {
   "cell_type": "markdown",
   "id": "f5c1cb06",
   "metadata": {},
   "source": [
    "How do you know that `\\n` is really a newline if the string still just\n",
    "shows `\\n`? When you evaluate a string, Python shows you its canonical\n",
    "representation which you could put back in your code. This means you get\n",
    "a good idea of what the string contains -- the newline is otherwise a sort\n",
    "of phantom character, as is most **whitespace**, but you can actually\n",
    "*see* it here -- but it's not very pretty nor readable. If you want to\n",
    "get a rendered version of your string, as it would appear in a text\n",
    "file, you need to use the `print()` function."
   ]
  },
  {
   "cell_type": "code",
   "execution_count": 18,
   "id": "616decbf",
   "metadata": {},
   "outputs": [
    {
     "name": "stdout",
     "output_type": "stream",
     "text": [
      "one line\n",
      "another line\n"
     ]
    }
   ],
   "source": [
    "print(\"one line\\nanother line\")"
   ]
  },
  {
   "cell_type": "markdown",
   "id": "eda1b33c",
   "metadata": {},
   "source": [
    "Ah, much better. At least for reading. For inspecting the contents of\n",
    "strings, the default behavior is in fact very useful.\n",
    "\n",
    "There are various other [escape\n",
    "sequences](https://docs.python.org/3/reference/lexical_analysis.html#string-and-bytes-literals)\n",
    "you can use in Python strings, another handy and commonly encountered\n",
    "one is `\\t` for the tab character:"
   ]
  },
  {
   "cell_type": "code",
   "execution_count": 19,
   "id": "7ae43faa",
   "metadata": {},
   "outputs": [
    {
     "name": "stdout",
     "output_type": "stream",
     "text": [
      "one\ttwo\n",
      "three\tfour\n"
     ]
    }
   ],
   "source": [
    "print(\"one\\ttwo\\nthree\\tfour\")"
   ]
  },
  {
   "cell_type": "markdown",
   "id": "720470ab",
   "metadata": {},
   "source": [
    "And less commonly seen but pretty neat as well is `\\N{...}`, for\n",
    "inserting characters based on their [Unicode](unicode) names:"
   ]
  },
  {
   "cell_type": "code",
   "execution_count": 20,
   "id": "220f6253",
   "metadata": {},
   "outputs": [
    {
     "data": {
      "text/plain": [
       "'🙈'"
      ]
     },
     "execution_count": 20,
     "metadata": {},
     "output_type": "execute_result"
    }
   ],
   "source": [
    "\"\\N{see-no-evil monkey}\""
   ]
  },
  {
   "cell_type": "markdown",
   "id": "e8bff95e",
   "metadata": {},
   "source": [
    "If you want to type a longer piece of text into a Python string though,\n",
    "that newline escape thing can become really annoying -- who wants to\n",
    "type several paragraphs as one long line interspersed with `\\n`s?\n",
    "Fear not, **triple-quoted** strings to the rescue:"
   ]
  },
  {
   "cell_type": "code",
   "execution_count": 21,
   "id": "bf601f13",
   "metadata": {},
   "outputs": [
    {
     "data": {
      "text/plain": [
       "'one line\\nanother line'"
      ]
     },
     "execution_count": 21,
     "metadata": {},
     "output_type": "execute_result"
    }
   ],
   "source": [
    "\"\"\"one line\n",
    "another line\"\"\""
   ]
  },
  {
   "cell_type": "code",
   "execution_count": 22,
   "id": "8461d547",
   "metadata": {},
   "outputs": [
    {
     "name": "stdout",
     "output_type": "stream",
     "text": [
      "one line\n",
      "another line\n"
     ]
    }
   ],
   "source": [
    "print('''one line\n",
    "another line''')"
   ]
  },
  {
   "cell_type": "markdown",
   "id": "97e9e283",
   "metadata": {},
   "source": [
    "Inside a triple-quoted or **multiline** string, you can put anything you\n",
    "like, including actual newlines... except of course a sequence of three\n",
    "quotes of the same type that you're using to delimit the string. In that\n",
    "case, you need to escape at least some of them with that backslash\n",
    "again.\n",
    "\n",
    "All these various ways of creating strings are called string\n",
    "**literals**. A literal is a dedicated syntax for creating one type of\n",
    "data. In the previous section, we saw how to write down number literals\n",
    "in Python -- the representation was so straightforward that we didn't\n",
    "even think it needed a special term like 'literal' to describe it.\n",
    "Python has a few more core, built-in data structures which have\n",
    "dedicated literal syntax; we'll encounter them below.\n",
    "\n",
    "## Objects and variables\n",
    "\n",
    "Writing Python code consists of interacting with and manipulating\n",
    "various **objects**. Object is a generic term for anything you can\n",
    "inspect by putting it inside a code cell and evaluating that cell. So\n",
    "far, we've seen numbers, strings and one **function** (that's right,\n",
    "functions are objects too)."
   ]
  },
  {
   "cell_type": "code",
   "execution_count": 23,
   "id": "635f6e75",
   "metadata": {},
   "outputs": [
    {
     "data": {
      "text/plain": [
       "<function print>"
      ]
     },
     "execution_count": 23,
     "metadata": {},
     "output_type": "execute_result"
    }
   ],
   "source": [
    "print"
   ]
  },
  {
   "cell_type": "markdown",
   "id": "6f21b8ea",
   "metadata": {},
   "source": [
    "If you know you'll be using an object repeatedly, it's a good idea to\n",
    "store it in a **variable** using the **assignment operator**, `=`. That\n",
    "way, you don't have to keep writing its literal over and over. The\n",
    "variable name is entirely up to you, though there are some\n",
    "[rules](https://docs.python.org/3/reference/lexical_analysis.html#identifiers)\n",
    "you must abide by; for instance, you can't use spaces, so these are\n",
    "often replaced with **underscores** `_`."
   ]
  },
  {
   "cell_type": "code",
   "execution_count": 24,
   "id": "7f40b714",
   "metadata": {},
   "outputs": [
    {
     "data": {
      "text/plain": [
       "'one\\ttwo\\nthree\\tfour'"
      ]
     },
     "execution_count": 24,
     "metadata": {},
     "output_type": "execute_result"
    }
   ],
   "source": [
    "string = \"one\\ttwo\\nthree\\tfour\"\n",
    "string"
   ]
  },
  {
   "cell_type": "markdown",
   "id": "638e6c16",
   "metadata": {},
   "source": [
    "Anywhere you want to use that object, you can then refer to it using the\n",
    "name of the variable that points to it."
   ]
  },
  {
   "cell_type": "code",
   "execution_count": 25,
   "id": "e40da664",
   "metadata": {},
   "outputs": [
    {
     "name": "stdout",
     "output_type": "stream",
     "text": [
      "one\ttwo\n",
      "three\tfour\n"
     ]
    }
   ],
   "source": [
    "print(string)"
   ]
  },
  {
   "cell_type": "markdown",
   "id": "3d4e03eb",
   "metadata": {},
   "source": [
    "Multiple names can refer to the same object."
   ]
  },
  {
   "cell_type": "code",
   "execution_count": 26,
   "id": "67e4deaa",
   "metadata": {},
   "outputs": [
    {
     "name": "stdout",
     "output_type": "stream",
     "text": [
      "one\ttwo\n",
      "three\tfour\n"
     ]
    }
   ],
   "source": [
    "another_name = string\n",
    "print(another_name)"
   ]
  },
  {
   "cell_type": "markdown",
   "id": "d32bbe4d",
   "metadata": {},
   "source": [
    "Whether two names refer to the same object or not can be checked using\n",
    "the `is` operator."
   ]
  },
  {
   "cell_type": "code",
   "execution_count": 27,
   "id": "4d931838",
   "metadata": {},
   "outputs": [
    {
     "data": {
      "text/plain": [
       "True"
      ]
     },
     "execution_count": 27,
     "metadata": {},
     "output_type": "execute_result"
    }
   ],
   "source": [
    "string is another_name"
   ]
  },
  {
   "cell_type": "code",
   "execution_count": 28,
   "id": "66848114",
   "metadata": {},
   "outputs": [
    {
     "data": {
      "text/plain": [
       "False"
      ]
     },
     "execution_count": 28,
     "metadata": {},
     "output_type": "execute_result"
    }
   ],
   "source": [
    "string is print"
   ]
  },
  {
   "cell_type": "code",
   "execution_count": 29,
   "id": "b4703b20",
   "metadata": {},
   "outputs": [
    {
     "data": {
      "text/plain": [
       "False"
      ]
     },
     "execution_count": 29,
     "metadata": {},
     "output_type": "execute_result"
    }
   ],
   "source": [
    "string2 = \"one\\ttwo\\nthree\\tfour\"\n",
    "# NOTE: when not in the notebook environment, Python will usually be\n",
    "# smart enough to figure out that string and string2 contain the same\n",
    "# characters, it will store just one copy of the string to save\n",
    "# memory and point both variables at it; in that case, the expression\n",
    "# below will evaluate to True\n",
    "string is string2"
   ]
  },
  {
   "cell_type": "markdown",
   "id": "2f45a3ce",
   "metadata": {},
   "source": [
    "When two objects are not the same, they might still be **equal**, in\n",
    "that they *look* the same, they have the same contents. You can check\n",
    "for that using the **equality operator**, `==`."
   ]
  },
  {
   "cell_type": "code",
   "execution_count": 30,
   "id": "c6ca94bb",
   "metadata": {},
   "outputs": [
    {
     "data": {
      "text/plain": [
       "True"
      ]
     },
     "execution_count": 30,
     "metadata": {},
     "output_type": "execute_result"
    }
   ],
   "source": [
    "string == string2"
   ]
  },
  {
   "cell_type": "markdown",
   "id": "c1f22b3c",
   "metadata": {},
   "source": [
    "A quick way to remember that using a real-world analogy: for twins, `is`\n",
    "would be false, since they're two different people, but `==` would be\n",
    "true, since they look the same.\n",
    "\n",
    "The `==` is also a good opportunity to check that numbers and strings\n",
    "really are two completely different things in Python:"
   ]
  },
  {
   "cell_type": "code",
   "execution_count": 31,
   "id": "1fb0c9c8",
   "metadata": {},
   "outputs": [
    {
     "data": {
      "text/plain": [
       "False"
      ]
     },
     "execution_count": 31,
     "metadata": {},
     "output_type": "execute_result"
    }
   ],
   "source": [
    "42 == \"42\""
   ]
  },
  {
   "cell_type": "markdown",
   "id": "12e236a3",
   "metadata": {},
   "source": [
    "## Attributes: objects on objects (on objects...)\n",
    "\n",
    "Only rarely is an object [an island entire of\n",
    "itself](https://web.cs.dal.ca/~johnston/poetry/island.html), most\n",
    "objects have other objects attached to them as **attributes**, and these\n",
    "in turn have attributes of their own, etc. We saw that the period\n",
    "character `.` is used as the decimal separator in number literals. The\n",
    "other, probably more important use of `.` in Python is for accessing\n",
    "those attributes.\n",
    "\n",
    "Say for instance that we have a [complex\n",
    "number](https://en.wikipedia.org/wiki/Complex_number), which consists of\n",
    "two parts, a *real* and an *imaginary* one. This is the literal syntax\n",
    "for complex numbers in Python:"
   ]
  },
  {
   "cell_type": "code",
   "execution_count": 32,
   "id": "b0c163ad",
   "metadata": {},
   "outputs": [
    {
     "data": {
      "text/plain": [
       "(1+2j)"
      ]
     },
     "execution_count": 32,
     "metadata": {},
     "output_type": "execute_result"
    }
   ],
   "source": [
    "c = 1 + 2j\n",
    "c"
   ]
  },
  {
   "cell_type": "markdown",
   "id": "76e5c732",
   "metadata": {},
   "source": [
    "Let's not worry about what complex numbers are good for right now, we're\n",
    "interested in attributes. Complex numbers store their real and imaginary\n",
    "parts as `.real` and `.imag` attributes, respectively."
   ]
  },
  {
   "cell_type": "code",
   "execution_count": 33,
   "id": "fd48e10c",
   "metadata": {},
   "outputs": [
    {
     "data": {
      "text/plain": [
       "1.0"
      ]
     },
     "execution_count": 33,
     "metadata": {},
     "output_type": "execute_result"
    }
   ],
   "source": [
    "c.real"
   ]
  },
  {
   "cell_type": "code",
   "execution_count": 34,
   "id": "a7b5bf98",
   "metadata": {},
   "outputs": [
    {
     "data": {
      "text/plain": [
       "2.0"
      ]
     },
     "execution_count": 34,
     "metadata": {},
     "output_type": "execute_result"
    }
   ],
   "source": [
    "c.imag"
   ]
  },
  {
   "cell_type": "markdown",
   "id": "d5a6800b",
   "metadata": {},
   "source": [
    "### Methods\n",
    "\n",
    "Functions are regular objects and as such, they can also be attached to\n",
    "other objects as attributes, as little snippets of dynamic behavior\n",
    "which do something interesting with the parent object, instead of just\n",
    "storing static data. Functions attached to an object as attributes are\n",
    "more commonly referred to as that object's **methods**, but they're\n",
    "basically just functions. For instance, inspect the the `print()`\n",
    "function we already saw above, and compare it with the `.conjugate()`\n",
    "method."
   ]
  },
  {
   "cell_type": "code",
   "execution_count": 35,
   "id": "19b24d15",
   "metadata": {},
   "outputs": [
    {
     "data": {
      "text/plain": [
       "<function print>"
      ]
     },
     "execution_count": 35,
     "metadata": {},
     "output_type": "execute_result"
    }
   ],
   "source": [
    "print"
   ]
  },
  {
   "cell_type": "code",
   "execution_count": 36,
   "id": "a5be8fbe",
   "metadata": {},
   "outputs": [
    {
     "data": {
      "text/plain": [
       "<function complex.conjugate>"
      ]
     },
     "execution_count": 36,
     "metadata": {},
     "output_type": "execute_result"
    }
   ],
   "source": [
    "c.conjugate"
   ]
  },
  {
   "cell_type": "markdown",
   "id": "5865e7d8",
   "metadata": {},
   "source": [
    "Unlike regular data though, functions are generally not meant to be\n",
    "inspected, they're meant to be **called** using function call syntax,\n",
    "i.e. by appending `()` to the function name. Calling a function triggers\n",
    "its behavior, it runs the piece of code that's associated with it. For\n",
    "instance, the `print()` function prints objects to the screen, as we saw\n",
    "previously. The `.conjugate()` method computes the complex number's\n",
    "[conjugate](https://en.wikipedia.org/wiki/Complex_number#Conjugate)."
   ]
  },
  {
   "cell_type": "code",
   "execution_count": 37,
   "id": "082f05d3",
   "metadata": {},
   "outputs": [
    {
     "data": {
      "text/plain": [
       "(1-2j)"
      ]
     },
     "execution_count": 37,
     "metadata": {},
     "output_type": "execute_result"
    }
   ],
   "source": [
    "c.conjugate()"
   ]
  },
  {
   "cell_type": "markdown",
   "id": "89856b44",
   "metadata": {},
   "source": [
    "```{margin}\n",
    "Tab completion can actually complete more than just attributes, it also\n",
    "covers variable names (just start typing the beginning and press `Tab`),\n",
    "and filesystem paths inside strings.\n",
    "```\n",
    "\n",
    "Let's drop complex numbers as the running example and come back to\n",
    "strings -- they have a much greater variety of interesting methods we\n",
    "can explore. If you're running this notebook interactively inside\n",
    "JupyterLab, a great feature which helps you do so is **tab completion**.\n",
    "If you type a variable name + `.` and hit the `Tab` key, a menu should\n",
    "come up with all the attributes available on the object. Try it!"
   ]
  },
  {
   "cell_type": "code",
   "execution_count": 38,
   "id": "79cf918b",
   "metadata": {},
   "outputs": [],
   "source": [
    "# type string. and press Tab on your keyboard"
   ]
  },
  {
   "cell_type": "code",
   "execution_count": 39,
   "id": "3b68e944",
   "metadata": {
    "tags": [
     "remove-input",
     "output_scroll"
    ]
   },
   "outputs": [
    {
     "data": {
      "text/plain": [
       "['capitalize',\n",
       " 'casefold',\n",
       " 'center',\n",
       " 'count',\n",
       " 'encode',\n",
       " 'endswith',\n",
       " 'expandtabs',\n",
       " 'find',\n",
       " 'format',\n",
       " 'format_map',\n",
       " 'index',\n",
       " 'isalnum',\n",
       " 'isalpha',\n",
       " 'isascii',\n",
       " 'isdecimal',\n",
       " 'isdigit',\n",
       " 'isidentifier',\n",
       " 'islower',\n",
       " 'isnumeric',\n",
       " 'isprintable',\n",
       " 'isspace',\n",
       " 'istitle',\n",
       " 'isupper',\n",
       " 'join',\n",
       " 'ljust',\n",
       " 'lower',\n",
       " 'lstrip',\n",
       " 'maketrans',\n",
       " 'partition',\n",
       " 'removeprefix',\n",
       " 'removesuffix',\n",
       " 'replace',\n",
       " 'rfind',\n",
       " 'rindex',\n",
       " 'rjust',\n",
       " 'rpartition',\n",
       " 'rsplit',\n",
       " 'rstrip',\n",
       " 'split',\n",
       " 'splitlines',\n",
       " 'startswith',\n",
       " 'strip',\n",
       " 'swapcase',\n",
       " 'title',\n",
       " 'translate',\n",
       " 'upper',\n",
       " 'zfill']"
      ]
     },
     "execution_count": 39,
     "metadata": {},
     "output_type": "execute_result"
    }
   ],
   "source": [
    "# NOTE: this is a hack to show the tab completion list in the static\n",
    "# version of the book\n",
    "[a for a in dir(string) if not a.startswith(\"_\")]"
   ]
  },
  {
   "cell_type": "markdown",
   "id": "90c98d0e",
   "metadata": {},
   "source": [
    "You can see there's quite a lot going on in there. There's a whole lot\n",
    "of methods starting with the prefix `is*`, which are there to answer\n",
    "some questions you might have about the contents of your strings."
   ]
  },
  {
   "cell_type": "code",
   "execution_count": 40,
   "id": "fc29bf24",
   "metadata": {},
   "outputs": [
    {
     "data": {
      "text/plain": [
       "True"
      ]
     },
     "execution_count": 40,
     "metadata": {},
     "output_type": "execute_result"
    }
   ],
   "source": [
    "\"cat\".islower()"
   ]
  },
  {
   "cell_type": "code",
   "execution_count": 41,
   "id": "1ad81734",
   "metadata": {},
   "outputs": [
    {
     "data": {
      "text/plain": [
       "True"
      ]
     },
     "execution_count": 41,
     "metadata": {},
     "output_type": "execute_result"
    }
   ],
   "source": [
    "\"DOG\".isupper()"
   ]
  },
  {
   "cell_type": "code",
   "execution_count": 42,
   "id": "fb819476",
   "metadata": {},
   "outputs": [
    {
     "data": {
      "text/plain": [
       "True"
      ]
     },
     "execution_count": 42,
     "metadata": {},
     "output_type": "execute_result"
    }
   ],
   "source": [
    "\"Frank\".istitle()"
   ]
  },
  {
   "cell_type": "code",
   "execution_count": 43,
   "id": "4d8f54aa",
   "metadata": {},
   "outputs": [
    {
     "data": {
      "text/plain": [
       "True"
      ]
     },
     "execution_count": 43,
     "metadata": {},
     "output_type": "execute_result"
    }
   ],
   "source": [
    "\"42\".isnumeric()"
   ]
  },
  {
   "cell_type": "markdown",
   "id": "8a313bf2",
   "metadata": {},
   "source": [
    "If you'd like to learn more about an object, you can use JupyterLab's\n",
    "**interactive help feature**. Type a question mark `?` before the name\n",
    "of the object you're interested in, evaluate the cell, and detailed\n",
    "information about that object will be shown. For instance, if we're\n",
    "interested in what the `.isprintable()` method does:"
   ]
  },
  {
   "cell_type": "code",
   "execution_count": 44,
   "id": "a8645c1f",
   "metadata": {},
   "outputs": [],
   "source": [
    "?string.isprintable"
   ]
  },
  {
   "cell_type": "code",
   "execution_count": 45,
   "id": "315d01cc",
   "metadata": {
    "tags": [
     "remove-input",
     "output_scroll"
    ]
   },
   "outputs": [
    {
     "name": "stdout",
     "output_type": "stream",
     "text": [
      "\u001b[0;31mSignature:\u001b[0m \u001b[0;34m(\u001b[0m\u001b[0;34m)\u001b[0m\u001b[0;34m\u001b[0m\u001b[0;34m\u001b[0m\u001b[0m\n",
      "\u001b[0;31mDocstring:\u001b[0m\n",
      "Return True if the string is printable, False otherwise.\n",
      "\n",
      "A string is printable if all of its characters are considered printable in\n",
      "repr() or if it is empty.\n",
      "\u001b[0;31mType:\u001b[0m      builtin_function_or_method\n",
      "\n"
     ]
    }
   ],
   "source": [
    "# NOTE: and this is a hack to show interactive help outputs in the\n",
    "# static version of the book\n",
    "def print_help(obj, **kwargs):\n",
    "    print(get_ipython().inspector._get_info(obj, **kwargs)[\"text/plain\"])\n",
    "\n",
    "print_help(string.isprintable)"
   ]
  },
  {
   "cell_type": "markdown",
   "id": "21df32d0",
   "metadata": {},
   "source": [
    "```{margin}\n",
    "To be completely accurate, the question mark interactive help feature,\n",
    "as well as some other extensions to Python syntax we'll come across, are\n",
    "implemented by the [IPython](https://ipython.org/) library, which\n",
    "JupyterLab notebooks use to communicate with Python. If you ever end up\n",
    "using Python at the [command\n",
    "line](https://en.wikipedia.org/wiki/Command-line_interface), then these\n",
    "features are also available inside the IPython\n",
    "[REPL](https://en.wikipedia.org/wiki/Read%E2%80%93eval%E2%80%93print_loop),\n",
    "which you can start with the `ipython` command (if installed).\n",
    "```\n",
    "\n",
    "**The question mark is not regular Python syntax**, it only works inside\n",
    "notebooks and is intended to make interactive exploration easier. Stock\n",
    "Python also has a built-in `help()` function which does something\n",
    "similar, but it displays less information. If you want even more\n",
    "details, you can insist by typing two question marks `??` instead of\n",
    "one:"
   ]
  },
  {
   "cell_type": "code",
   "execution_count": 46,
   "id": "999cb3b9",
   "metadata": {},
   "outputs": [],
   "source": [
    "??string.isprintable"
   ]
  },
  {
   "cell_type": "code",
   "execution_count": 47,
   "id": "b8c66a4d",
   "metadata": {
    "tags": [
     "remove-input",
     "output_scroll"
    ]
   },
   "outputs": [
    {
     "name": "stdout",
     "output_type": "stream",
     "text": [
      "\u001b[0;31mSignature:\u001b[0m \u001b[0;34m(\u001b[0m\u001b[0;34m)\u001b[0m\u001b[0;34m\u001b[0m\u001b[0;34m\u001b[0m\u001b[0m\n",
      "\u001b[0;31mDocstring:\u001b[0m\n",
      "Return True if the string is printable, False otherwise.\n",
      "\n",
      "A string is printable if all of its characters are considered printable in\n",
      "repr() or if it is empty.\n",
      "\u001b[0;31mType:\u001b[0m      builtin_function_or_method\n",
      "\n"
     ]
    }
   ],
   "source": [
    "print_help(string.isprintable, detail_level=1)"
   ]
  },
  {
   "cell_type": "markdown",
   "id": "056a7ed1",
   "metadata": {},
   "source": [
    "... though sometimes (as in this case), more detail might not be\n",
    "available and the help output will be the same as with one question\n",
    "mark. For convenience, the question mark(s) can also go behind the\n",
    "object you're taking a peek at."
   ]
  },
  {
   "cell_type": "code",
   "execution_count": 48,
   "id": "562fb982",
   "metadata": {},
   "outputs": [],
   "source": [
    "string.isprintable?"
   ]
  },
  {
   "cell_type": "code",
   "execution_count": 49,
   "id": "f92c20cf",
   "metadata": {
    "tags": [
     "remove-input",
     "output_scroll"
    ]
   },
   "outputs": [
    {
     "name": "stdout",
     "output_type": "stream",
     "text": [
      "\u001b[0;31mSignature:\u001b[0m \u001b[0;34m(\u001b[0m\u001b[0;34m)\u001b[0m\u001b[0;34m\u001b[0m\u001b[0;34m\u001b[0m\u001b[0m\n",
      "\u001b[0;31mDocstring:\u001b[0m\n",
      "Return True if the string is printable, False otherwise.\n",
      "\n",
      "A string is printable if all of its characters are considered printable in\n",
      "repr() or if it is empty.\n",
      "\u001b[0;31mType:\u001b[0m      builtin_function_or_method\n",
      "\n"
     ]
    }
   ],
   "source": [
    "print_help(string.isprintable)"
   ]
  },
  {
   "cell_type": "markdown",
   "id": "fd5711ee",
   "metadata": {},
   "source": [
    "And another way to trigger interactive help is by pressing `Shift-Tab`\n",
    "while your typing cursor is inside an object's name. A floating window\n",
    "will pop up with the help contents inside. This is useful for quick\n",
    "checks, because you don't even have to evaluate the cell.\n",
    "\n",
    "There are also several methods which allow you to create new strings\n",
    "with some of the characters changed."
   ]
  },
  {
   "cell_type": "code",
   "execution_count": 50,
   "id": "d8e1b16c",
   "metadata": {},
   "outputs": [
    {
     "data": {
      "text/plain": [
       "'KLEIN'"
      ]
     },
     "execution_count": 50,
     "metadata": {},
     "output_type": "execute_result"
    }
   ],
   "source": [
    "# convert to upper case\n",
    "\"klein\".upper()"
   ]
  },
  {
   "cell_type": "code",
   "execution_count": 51,
   "id": "1d9a72ca",
   "metadata": {},
   "outputs": [
    {
     "data": {
      "text/plain": [
       "'groß'"
      ]
     },
     "execution_count": 51,
     "metadata": {},
     "output_type": "execute_result"
    }
   ],
   "source": [
    "# convert to lower case\n",
    "\"GROß\".lower()"
   ]
  },
  {
   "cell_type": "code",
   "execution_count": 52,
   "id": "e2f9acfc",
   "metadata": {},
   "outputs": [
    {
     "data": {
      "text/plain": [
       "'gross'"
      ]
     },
     "execution_count": 52,
     "metadata": {},
     "output_type": "execute_result"
    }
   ],
   "source": [
    "# convert to lower case in an even more aggressive way, which is usually\n",
    "# the safer option if you really want to make sure all case distinctions\n",
    "# are ignored\n",
    "\"GROß\".casefold()"
   ]
  },
  {
   "cell_type": "code",
   "execution_count": 53,
   "id": "c4684c88",
   "metadata": {},
   "outputs": [
    {
     "data": {
      "text/plain": [
       "'Pride and prejudice'"
      ]
     },
     "execution_count": 53,
     "metadata": {},
     "output_type": "execute_result"
    }
   ],
   "source": [
    "\"pride and prejudice\".capitalize()"
   ]
  },
  {
   "cell_type": "code",
   "execution_count": 54,
   "id": "236d4f20",
   "metadata": {},
   "outputs": [
    {
     "data": {
      "text/plain": [
       "'Pride And Prejudice'"
      ]
     },
     "execution_count": 54,
     "metadata": {},
     "output_type": "execute_result"
    }
   ],
   "source": [
    "\"pride and prejudice\".title()"
   ]
  },
  {
   "cell_type": "code",
   "execution_count": 55,
   "id": "b4e38b4d",
   "metadata": {},
   "outputs": [
    {
     "data": {
      "text/plain": [
       "'floating in space'"
      ]
     },
     "execution_count": 55,
     "metadata": {},
     "output_type": "execute_result"
    }
   ],
   "source": [
    "# remove leading and trailing whitespace\n",
    "\"\"\"\n",
    "\n",
    "                       floating in space\n",
    "\n",
    "\"\"\".strip()"
   ]
  },
  {
   "cell_type": "markdown",
   "id": "0c0e0562",
   "metadata": {},
   "source": [
    "Some of these methods even require additional arguments to do their\n",
    "work. For instance, if you want to `.replace()` part(s) of the string\n",
    "with something else, you need to tell Python what to replace with what.\n",
    "Arguments are written out between the parentheses doing the function\n",
    "call, and if you can't remember what they are or what order they come\n",
    "in, that's precisely what interactive help is there for!"
   ]
  },
  {
   "cell_type": "code",
   "execution_count": 56,
   "id": "70d88db2",
   "metadata": {},
   "outputs": [
    {
     "data": {
      "text/plain": [
       "'I love dogs and dogegories.'"
      ]
     },
     "execution_count": 56,
     "metadata": {},
     "output_type": "execute_result"
    }
   ],
   "source": [
    "\"I love cats and categories.\".replace(\"cat\", \"dog\")"
   ]
  },
  {
   "cell_type": "markdown",
   "id": "50bb9eb6",
   "metadata": {},
   "source": [
    "Note that **none of these methods modify the original string**, they\n",
    "just use it to derive what the new string should look like."
   ]
  },
  {
   "cell_type": "code",
   "execution_count": 57,
   "id": "b3d31e96",
   "metadata": {},
   "outputs": [
    {
     "data": {
      "text/plain": [
       "'CAT'"
      ]
     },
     "execution_count": 57,
     "metadata": {},
     "output_type": "execute_result"
    }
   ],
   "source": [
    "animal = \"cat\"\n",
    "animal.upper()"
   ]
  },
  {
   "cell_type": "code",
   "execution_count": 58,
   "id": "435006cb",
   "metadata": {},
   "outputs": [
    {
     "data": {
      "text/plain": [
       "'cat'"
      ]
     },
     "execution_count": 58,
     "metadata": {},
     "output_type": "execute_result"
    }
   ],
   "source": [
    "animal"
   ]
  },
  {
   "cell_type": "markdown",
   "id": "c9357c62",
   "metadata": {},
   "source": [
    "This is because strings (and numbers) in Python are **immutable** -- you\n",
    "can't change them in place. You can create new strings and re-assign\n",
    "them to old variable names, but the old strings will always stay the way\n",
    "they were at the beginning."
   ]
  },
  {
   "cell_type": "code",
   "execution_count": 59,
   "id": "507ce4d9",
   "metadata": {},
   "outputs": [],
   "source": [
    "# create a string and give it two names\n",
    "name1 = \"string\"\n",
    "name2 = name1"
   ]
  },
  {
   "cell_type": "code",
   "execution_count": 60,
   "id": "5b52593b",
   "metadata": {},
   "outputs": [
    {
     "data": {
      "text/plain": [
       "'STRING'"
      ]
     },
     "execution_count": 60,
     "metadata": {},
     "output_type": "execute_result"
    }
   ],
   "source": [
    "# create a new string which is an uppercase version of the original\n",
    "# string, and re-assign it to the name2 variable\n",
    "name2 = name2.upper()\n",
    "name2"
   ]
  },
  {
   "cell_type": "code",
   "execution_count": 61,
   "id": "fabc9f7b",
   "metadata": {},
   "outputs": [
    {
     "data": {
      "text/plain": [
       "'string'"
      ]
     },
     "execution_count": 61,
     "metadata": {},
     "output_type": "execute_result"
    }
   ],
   "source": [
    "# but the old string is still there, undisturbed\n",
    "name1"
   ]
  },
  {
   "cell_type": "markdown",
   "id": "774769f2",
   "metadata": {},
   "source": [
    "We'll talk more about immutability in the next section about\n",
    "**collections**, because unlike strings and numbers, some Python objects\n",
    "*can* actually be modified in place.\n",
    "\n",
    "Using tab completion and interactive help (`?` or `Shift-Tab`), I\n",
    "encourage you to familiarize yourself with the methods on string\n",
    "objects, or indeed on any new object type that you come across and\n",
    "intend to use, so that you know what's available and get a picture of\n",
    "what you can use the object for. No need to go through them\n",
    "exhaustively, just skim the list, read the descriptions of some of the\n",
    "methods that sound particularly useful, leave those that sound confusing\n",
    "for later (or never).\n",
    "\n",
    "## Collections\n",
    "\n",
    "**Collections** or **containers** are objects intended to contain other\n",
    "objects, so that you can conveniently manipulate them together. We saw\n",
    "above that almost all Python objects in some sense \"contain\" other\n",
    "objects via their attributes, but those attributes are somehow\n",
    "intimately tied to how any given object works. The whole point of\n",
    "collections is that they (mostly) don't care what you put into them or\n",
    "what you take out; they'll just happily keep an eye on it for you and\n",
    "allow you to juggle and re-arrange the items in clever and succinct\n",
    "ways.\n",
    "\n",
    "To motivate the need for collections, imagine that you want to store the\n",
    "individual tokens in a sentence, \"Let it be.\". Without collections, you\n",
    "would have to use separate variables:"
   ]
  },
  {
   "cell_type": "code",
   "execution_count": 62,
   "id": "d36e6c9e",
   "metadata": {},
   "outputs": [],
   "source": [
    "string1 = \"Let\"\n",
    "string2 = \"it\"\n",
    "string3 = \"be\"\n",
    "string4 = \".\""
   ]
  },
  {
   "cell_type": "markdown",
   "id": "5f3ae85e",
   "metadata": {},
   "source": [
    "This gets really tedious really quickly. Instead, you can use a Python\n",
    "list:"
   ]
  },
  {
   "cell_type": "code",
   "execution_count": 63,
   "id": "752218a4",
   "metadata": {},
   "outputs": [],
   "source": [
    "strings = [\"Let\", \"it\", \"be\", \".\"]"
   ]
  },
  {
   "cell_type": "markdown",
   "id": "08680a53",
   "metadata": {},
   "source": [
    "Much better!\n",
    "\n",
    "### Collection literals\n",
    "\n",
    "We'll start getting acquainted with Python's builtin collections by\n",
    "learning about their literals, i.e. the special syntax used to create\n",
    "them. We'll cover lists, tuples, dictionaries and sets. We've previously\n",
    "covered strings, which can also be seen as collections. The string\n",
    "`\"abc\"` is a collection of characters, or more accurately, a collection\n",
    "of three strings of length 1: `\"a\"`, `\"b\"` and `\"c\"`.\n",
    "\n",
    "We've already met **lists**. In general, Python really doesn't care what\n",
    "kinds of objects you store in your collections, it's entirely up to you,\n",
    "so you can mix and match at will."
   ]
  },
  {
   "cell_type": "code",
   "execution_count": 64,
   "id": "ebc2fc41",
   "metadata": {},
   "outputs": [
    {
     "data": {
      "text/plain": [
       "[1, 'two', <function print>]"
      ]
     },
     "execution_count": 64,
     "metadata": {},
     "output_type": "execute_result"
    }
   ],
   "source": [
    "[1, \"two\", print]"
   ]
  },
  {
   "cell_type": "markdown",
   "id": "73e00087",
   "metadata": {},
   "source": [
    "Lists are great for storing tokenized text:"
   ]
  },
  {
   "cell_type": "code",
   "execution_count": 65,
   "id": "4b67aeb2",
   "metadata": {},
   "outputs": [
    {
     "data": {
      "text/plain": [
       "['Help', '!', 'I', 'need', 'somebody', ',', 'help', '!']"
      ]
     },
     "execution_count": 65,
     "metadata": {},
     "output_type": "execute_result"
    }
   ],
   "source": [
    "[\"Help\", \"!\", \"I\", \"need\", \"somebody\", \",\", \"help\", \"!\"]"
   ]
  },
  {
   "cell_type": "markdown",
   "id": "818ccd95",
   "metadata": {},
   "source": [
    "This is how you create an empty list:"
   ]
  },
  {
   "cell_type": "code",
   "execution_count": 66,
   "id": "dc56e024",
   "metadata": {},
   "outputs": [
    {
     "data": {
      "text/plain": [
       "[]"
      ]
     },
     "execution_count": 66,
     "metadata": {},
     "output_type": "execute_result"
    }
   ],
   "source": [
    "[]"
   ]
  },
  {
   "cell_type": "markdown",
   "id": "fd3b7ec2",
   "metadata": {},
   "source": [
    "Closely related to lists are **tuples** (we'll discuss the differences\n",
    "below)."
   ]
  },
  {
   "cell_type": "code",
   "execution_count": 67,
   "id": "8ea01760",
   "metadata": {},
   "outputs": [
    {
     "data": {
      "text/plain": [
       "(1, 'two', <function print>)"
      ]
     },
     "execution_count": 67,
     "metadata": {},
     "output_type": "execute_result"
    }
   ],
   "source": [
    "(1, \"two\", print)"
   ]
  },
  {
   "cell_type": "markdown",
   "id": "e37dcaad",
   "metadata": {},
   "source": [
    "In many cases, the parentheses are actually optional. You'll probably\n",
    "see me using tuples when I want to output multiple objects from a code\n",
    "cell, because Python only uses the last expression in the cell as its\n",
    "output value."
   ]
  },
  {
   "cell_type": "code",
   "execution_count": 68,
   "id": "8d592f0c",
   "metadata": {},
   "outputs": [
    {
     "data": {
      "text/plain": [
       "<function print>"
      ]
     },
     "execution_count": 68,
     "metadata": {},
     "output_type": "execute_result"
    }
   ],
   "source": [
    "1\n",
    "\"two\"\n",
    "print"
   ]
  },
  {
   "cell_type": "code",
   "execution_count": 69,
   "id": "9971a576",
   "metadata": {},
   "outputs": [
    {
     "data": {
      "text/plain": [
       "(1, 'two', <function print>)"
      ]
     },
     "execution_count": 69,
     "metadata": {},
     "output_type": "execute_result"
    }
   ],
   "source": [
    "1, \"two\", print"
   ]
  },
  {
   "cell_type": "markdown",
   "id": "8c993726",
   "metadata": {},
   "source": [
    "Whenever you see commas without any parentheses around them, it's a\n",
    "tuple. You'll learn over time when it's safe to omit them, but until\n",
    "then, it might be a good idea to play it safe and always use them. This\n",
    "means \"take the number 1, the result of the comparison 2 < 3, and the\n",
    "number 4, and create a 3-tuple out of them\":"
   ]
  },
  {
   "cell_type": "code",
   "execution_count": 70,
   "id": "9672ed8a",
   "metadata": {},
   "outputs": [
    {
     "data": {
      "text/plain": [
       "(1, True, 4)"
      ]
     },
     "execution_count": 70,
     "metadata": {},
     "output_type": "execute_result"
    }
   ],
   "source": [
    "1, 2 < 3, 4"
   ]
  },
  {
   "cell_type": "markdown",
   "id": "39d314f2",
   "metadata": {},
   "source": [
    "Whereas this says, \"create a 2-tuple `(1, 2)` and a 2-tuple `(3, 4)` and\n",
    "*only then* do a comparison of the resulting tuples\":"
   ]
  },
  {
   "cell_type": "code",
   "execution_count": 71,
   "id": "d8797f90",
   "metadata": {},
   "outputs": [
    {
     "data": {
      "text/plain": [
       "True"
      ]
     },
     "execution_count": 71,
     "metadata": {},
     "output_type": "execute_result"
    }
   ],
   "source": [
    "(1, 2) < (3, 4)"
   ]
  },
  {
   "cell_type": "markdown",
   "id": "40b20884",
   "metadata": {},
   "source": [
    "As you can see, the parentheses work in the same way as in math, as a\n",
    "precedence operator: they say \"first create the tuples and then do the\n",
    "rest\", much as $(4 + 3) * 2$ says \"first do the addition, then the\n",
    "multiplication\", overriding the default $4 + 3 * 2$ which goes the other\n",
    "way round. One place they're never optional though is when creating an\n",
    "empty tuple."
   ]
  },
  {
   "cell_type": "code",
   "execution_count": 72,
   "id": "20da48de",
   "metadata": {},
   "outputs": [
    {
     "data": {
      "text/plain": [
       "()"
      ]
     },
     "execution_count": 72,
     "metadata": {},
     "output_type": "execute_result"
    }
   ],
   "source": [
    "()"
   ]
  },
  {
   "cell_type": "markdown",
   "id": "7c82ec8f",
   "metadata": {},
   "source": [
    "Moving on, we have **dictionaries**. Dictionaries are different in that\n",
    "their purpose is not to store only values, but **key--value pairs**. We\n",
    "say that they **map** keys to values, kind of like real-world\n",
    "dictionaries map words in one language to another."
   ]
  },
  {
   "cell_type": "code",
   "execution_count": 73,
   "id": "eeb3a738",
   "metadata": {},
   "outputs": [
    {
     "data": {
      "text/plain": [
       "{'cat': 'chat', 'dog': 'chien'}"
      ]
     },
     "execution_count": 73,
     "metadata": {},
     "output_type": "execute_result"
    }
   ],
   "source": [
    "{\"cat\": \"chat\", \"dog\": \"chien\"}"
   ]
  },
  {
   "cell_type": "markdown",
   "id": "59685521",
   "metadata": {},
   "source": [
    "A constraint on dictionaries is that the **keys must be unique**. If you\n",
    "provide multiple values per key, only the last one will be retained."
   ]
  },
  {
   "cell_type": "code",
   "execution_count": 74,
   "id": "58b9f8e7",
   "metadata": {},
   "outputs": [
    {
     "data": {
      "text/plain": [
       "{'odd': 5, 'even': 4}"
      ]
     },
     "execution_count": 74,
     "metadata": {},
     "output_type": "execute_result"
    }
   ],
   "source": [
    "{\"odd\": 1, \"even\": 2, \"odd\": 3, \"even\": 4, \"odd\": 5}"
   ]
  },
  {
   "cell_type": "markdown",
   "id": "c25ec55d",
   "metadata": {},
   "source": [
    "If you need multiple values per key, well... Just store a collection as\n",
    "the value instead!"
   ]
  },
  {
   "cell_type": "code",
   "execution_count": 75,
   "id": "a36468d0",
   "metadata": {},
   "outputs": [
    {
     "data": {
      "text/plain": [
       "{'odd': [1, 3, 5], 'even': [2, 4]}"
      ]
     },
     "execution_count": 75,
     "metadata": {},
     "output_type": "execute_result"
    }
   ],
   "source": [
    "{\"odd\": [1, 3, 5], \"even\": [2, 4]}"
   ]
  },
  {
   "cell_type": "markdown",
   "id": "b9da57f4",
   "metadata": {},
   "source": [
    "And this is how you create an empty dictionary:"
   ]
  },
  {
   "cell_type": "code",
   "execution_count": 76,
   "id": "f4221200",
   "metadata": {},
   "outputs": [
    {
     "data": {
      "text/plain": [
       "{}"
      ]
     },
     "execution_count": 76,
     "metadata": {},
     "output_type": "execute_result"
    }
   ],
   "source": [
    "{}"
   ]
  },
  {
   "cell_type": "markdown",
   "id": "2dab7a3c",
   "metadata": {},
   "source": [
    "It may not seem like it at first glance, but dictionaries are an\n",
    "extremely powerful and versatile data structure, and they're the\n",
    "backbone upon which Python is built -- they're used everywhere.\n",
    "\n",
    "**Sets** have a literal syntax which somewhat resembles that of\n",
    "dictionaries: it also uses curly braces `{}`, but no colons `:`, because\n",
    "sets again store just values, not key--value pairs. But they do require\n",
    "that their values be unique and throw away any duplicates, so there is a\n",
    "conceptual similarity with dictionaries which motivates that syntactic\n",
    "similarity."
   ]
  },
  {
   "cell_type": "code",
   "execution_count": 77,
   "id": "ed026389",
   "metadata": {},
   "outputs": [
    {
     "data": {
      "text/plain": [
       "{1, 2, 3}"
      ]
     },
     "execution_count": 77,
     "metadata": {},
     "output_type": "execute_result"
    }
   ],
   "source": [
    "{1, 2, 3, 1, 2, 3}"
   ]
  },
  {
   "cell_type": "markdown",
   "id": "e75bbd67",
   "metadata": {},
   "source": [
    "This deduplication behavior makes sets great for deriving vocabularies\n",
    "of unique words."
   ]
  },
  {
   "cell_type": "code",
   "execution_count": 78,
   "id": "0147d5b0",
   "metadata": {},
   "outputs": [
    {
     "data": {
      "text/plain": [
       "{'cat', 'mat', 'on', 'sat', 'the'}"
      ]
     },
     "execution_count": 78,
     "metadata": {},
     "output_type": "execute_result"
    }
   ],
   "source": [
    "{\"the\", \"cat\", \"sat\", \"on\", \"the\", \"mat\"}"
   ]
  },
  {
   "cell_type": "markdown",
   "id": "50ce87b8",
   "metadata": {},
   "source": [
    "Since `{}` is already taken to mean empty dictionary, empty set literals\n",
    "actually look like a function call:"
   ]
  },
  {
   "cell_type": "code",
   "execution_count": 79,
   "id": "51765406",
   "metadata": {},
   "outputs": [
    {
     "data": {
      "text/plain": [
       "set()"
      ]
     },
     "execution_count": 79,
     "metadata": {},
     "output_type": "execute_result"
    }
   ],
   "source": [
    "set()"
   ]
  },
  {
   "cell_type": "markdown",
   "id": "378987cf",
   "metadata": {},
   "source": [
    "This is a somewhat ugly inconsistency in a language that otherwise tries\n",
    "hard to be consistent, but oh well, what can you do.\n",
    "\n",
    "### `len()`: number of items in collection\n",
    "\n",
    "The `len()` function works on **all** collections. It tells you how many\n",
    "elements a collection has."
   ]
  },
  {
   "cell_type": "code",
   "execution_count": 80,
   "id": "d44f782b",
   "metadata": {},
   "outputs": [
    {
     "data": {
      "text/plain": [
       "3"
      ]
     },
     "execution_count": 80,
     "metadata": {},
     "output_type": "execute_result"
    }
   ],
   "source": [
    "len([1, 2, 3])"
   ]
  },
  {
   "cell_type": "code",
   "execution_count": 81,
   "id": "df705247",
   "metadata": {},
   "outputs": [
    {
     "data": {
      "text/plain": [
       "14"
      ]
     },
     "execution_count": 81,
     "metadata": {},
     "output_type": "execute_result"
    }
   ],
   "source": [
    "len(\"Norwegian Wood\")"
   ]
  },
  {
   "cell_type": "markdown",
   "id": "c56ca76a",
   "metadata": {},
   "source": [
    "In the case of dictionaries, it counts the number of key--value pairs."
   ]
  },
  {
   "cell_type": "code",
   "execution_count": 82,
   "id": "c0825e41",
   "metadata": {},
   "outputs": [
    {
     "data": {
      "text/plain": [
       "2"
      ]
     },
     "execution_count": 82,
     "metadata": {},
     "output_type": "execute_result"
    }
   ],
   "source": [
    "len({\"cat\": \"chat\", \"dog\": \"chien\"})"
   ]
  },
  {
   "cell_type": "markdown",
   "id": "746d9a41",
   "metadata": {},
   "source": [
    "### `in`: checking collection membership\n",
    "\n",
    "The `in` operator also works on **all** collections. It tells you\n",
    "whether the collection contains a given element."
   ]
  },
  {
   "cell_type": "code",
   "execution_count": 83,
   "id": "c2839c05",
   "metadata": {},
   "outputs": [
    {
     "data": {
      "text/plain": [
       "True"
      ]
     },
     "execution_count": 83,
     "metadata": {},
     "output_type": "execute_result"
    }
   ],
   "source": [
    "1 in [1, 2, 3]"
   ]
  },
  {
   "cell_type": "code",
   "execution_count": 84,
   "id": "cb92a079",
   "metadata": {},
   "outputs": [
    {
     "data": {
      "text/plain": [
       "False"
      ]
     },
     "execution_count": 84,
     "metadata": {},
     "output_type": "execute_result"
    }
   ],
   "source": [
    "\"one\" in {1, 2, 3}"
   ]
  },
  {
   "cell_type": "markdown",
   "id": "62ef4cfc",
   "metadata": {},
   "source": [
    "For dictionaries, it tests against keys, not values."
   ]
  },
  {
   "cell_type": "code",
   "execution_count": 85,
   "id": "37cf4409",
   "metadata": {},
   "outputs": [
    {
     "data": {
      "text/plain": [
       "True"
      ]
     },
     "execution_count": 85,
     "metadata": {},
     "output_type": "execute_result"
    }
   ],
   "source": [
    "\"cat\" in {\"cat\": \"chat\", \"dog\": \"chien\"}"
   ]
  },
  {
   "cell_type": "code",
   "execution_count": 86,
   "id": "a829b917",
   "metadata": {},
   "outputs": [
    {
     "data": {
      "text/plain": [
       "False"
      ]
     },
     "execution_count": 86,
     "metadata": {},
     "output_type": "execute_result"
    }
   ],
   "source": [
    "\"chat\" in {\"cat\": \"chat\", \"dog\": \"chien\"}"
   ]
  },
  {
   "cell_type": "markdown",
   "id": "e2a31d38",
   "metadata": {},
   "source": [
    "<!-- TODO: in set vs in list -->\n",
    "\n",
    "### `[...]`: retrieving and modifying collection elements"
   ]
  },
  {
   "cell_type": "code",
   "execution_count": 87,
   "id": "dc7bba5c",
   "metadata": {},
   "outputs": [
    {
     "data": {
      "text/plain": [
       "1"
      ]
     },
     "execution_count": 87,
     "metadata": {},
     "output_type": "execute_result"
    }
   ],
   "source": [
    "lst = [1, 2, 3]\n",
    "lst[0]"
   ]
  },
  {
   "cell_type": "code",
   "execution_count": 88,
   "id": "68b09242",
   "metadata": {},
   "outputs": [
    {
     "data": {
      "text/plain": [
       "[100, 2, 3]"
      ]
     },
     "execution_count": 88,
     "metadata": {},
     "output_type": "execute_result"
    }
   ],
   "source": [
    "lst[0] = 100\n",
    "lst"
   ]
  },
  {
   "cell_type": "markdown",
   "id": "bb074984",
   "metadata": {},
   "source": [
    "<!-- TODO: zero-indexed -->\n",
    "<!-- TODO: nesting and retrieving nested values -->\n",
    "<!-- TODO: immutable? -->\n",
    "<!-- TODO: more on slices -->\n",
    "\n",
    "For sequences, i.e. collections which naturally preserve order -- lists,\n",
    "tuples and strings -- you can also extract slices."
   ]
  },
  {
   "cell_type": "code",
   "execution_count": 89,
   "id": "fda312d1",
   "metadata": {},
   "outputs": [
    {
     "data": {
      "text/plain": [
       "'love'"
      ]
     },
     "execution_count": 89,
     "metadata": {},
     "output_type": "execute_result"
    }
   ],
   "source": [
    "string = \"Can't buy me love\"\n",
    "string[13:]"
   ]
  },
  {
   "cell_type": "markdown",
   "id": "eb83e804",
   "metadata": {},
   "source": [
    "### `del`: removing collection elements\n",
    "\n",
    "<!-- TODO: immutable? -->\n",
    "\n",
    "The `del` operator can remove elements from collections that you point\n",
    "at with the `[...]` operator."
   ]
  },
  {
   "cell_type": "code",
   "execution_count": 90,
   "id": "95890b49",
   "metadata": {},
   "outputs": [
    {
     "data": {
      "text/plain": [
       "[1, 3]"
      ]
     },
     "execution_count": 90,
     "metadata": {},
     "output_type": "execute_result"
    }
   ],
   "source": [
    "lst = [1, 2, 3]\n",
    "del lst[1]\n",
    "lst"
   ]
  },
  {
   "cell_type": "code",
   "execution_count": 91,
   "id": "c50cf78b",
   "metadata": {},
   "outputs": [
    {
     "data": {
      "text/plain": [
       "{'two': 2}"
      ]
     },
     "execution_count": 91,
     "metadata": {},
     "output_type": "execute_result"
    }
   ],
   "source": [
    "dct = {\"one\": 1, \"two\": 2}\n",
    "del dct[\"one\"]\n",
    "dct"
   ]
  },
  {
   "cell_type": "markdown",
   "id": "8e98f2ec",
   "metadata": {},
   "source": [
    "It also works for variables."
   ]
  },
  {
   "cell_type": "code",
   "execution_count": 92,
   "id": "825ac5b3",
   "metadata": {},
   "outputs": [
    {
     "data": {
      "text/plain": [
       "1"
      ]
     },
     "execution_count": 92,
     "metadata": {},
     "output_type": "execute_result"
    }
   ],
   "source": [
    "# create a variable\n",
    "num = 1\n",
    "num"
   ]
  },
  {
   "cell_type": "code",
   "execution_count": 93,
   "id": "16c9586f",
   "metadata": {
    "tags": [
     "raises-exception",
     "output_scroll"
    ]
   },
   "outputs": [
    {
     "ename": "NameError",
     "evalue": "name 'num' is not defined",
     "output_type": "error",
     "traceback": [
      "\u001b[0;31m---------------------------------------------------------------------------\u001b[0m",
      "\u001b[0;31mNameError\u001b[0m                                 Traceback (most recent call last)",
      "\u001b[0;32m/tmp/ipykernel_56602/56445515.py\u001b[0m in \u001b[0;36m<module>\u001b[0;34m\u001b[0m\n\u001b[1;32m      1\u001b[0m \u001b[0;31m# poof! it's gone\u001b[0m\u001b[0;34m\u001b[0m\u001b[0;34m\u001b[0m\u001b[0;34m\u001b[0m\u001b[0m\n\u001b[1;32m      2\u001b[0m \u001b[0;32mdel\u001b[0m \u001b[0mnum\u001b[0m\u001b[0;34m\u001b[0m\u001b[0;34m\u001b[0m\u001b[0m\n\u001b[0;32m----> 3\u001b[0;31m \u001b[0mnum\u001b[0m\u001b[0;34m\u001b[0m\u001b[0;34m\u001b[0m\u001b[0m\n\u001b[0m",
      "\u001b[0;31mNameError\u001b[0m: name 'num' is not defined"
     ]
    }
   ],
   "source": [
    "# poof! it's gone\n",
    "del num\n",
    "num"
   ]
  },
  {
   "cell_type": "markdown",
   "id": "748a8a3b",
   "metadata": {},
   "source": [
    "### Converting between collections\n",
    "\n",
    "If you want to convert between the different types of collections, you\n",
    "can mostly use built-in functions named after the target collection. For\n",
    "instance, if you want to turn a set into a list:"
   ]
  },
  {
   "cell_type": "code",
   "execution_count": 94,
   "id": "1cfbe568",
   "metadata": {},
   "outputs": [
    {
     "data": {
      "text/plain": [
       "[1, 2, 3]"
      ]
     },
     "execution_count": 94,
     "metadata": {},
     "output_type": "execute_result"
    }
   ],
   "source": [
    "list({1, 2, 3, 1, 2, 3})"
   ]
  },
  {
   "cell_type": "markdown",
   "id": "c6565edc",
   "metadata": {},
   "source": [
    "Or a list into a tuple:"
   ]
  },
  {
   "cell_type": "code",
   "execution_count": 95,
   "id": "37f1c5ed",
   "metadata": {},
   "outputs": [
    {
     "data": {
      "text/plain": [
       "(1, 2, 3)"
      ]
     },
     "execution_count": 95,
     "metadata": {},
     "output_type": "execute_result"
    }
   ],
   "source": [
    "tuple([1, 2, 3])"
   ]
  },
  {
   "cell_type": "markdown",
   "id": "865e3530",
   "metadata": {},
   "source": [
    "Or a tuple into a set:"
   ]
  },
  {
   "cell_type": "code",
   "execution_count": 96,
   "id": "23212c32",
   "metadata": {},
   "outputs": [
    {
     "data": {
      "text/plain": [
       "{1, 2, 3}"
      ]
     },
     "execution_count": 96,
     "metadata": {},
     "output_type": "execute_result"
    }
   ],
   "source": [
    "set((1, 2, 3, 1))"
   ]
  },
  {
   "cell_type": "markdown",
   "id": "13b573d0",
   "metadata": {},
   "source": [
    "With dictionaries, it's slightly more complicated, as they don't contain\n",
    "only values, but key--value pairs. When converting from a dictionary,\n",
    "you thus have to decide whether you want just the keys (the default, but\n",
    "you can also request it explicitly with the `.keys()` method), just the\n",
    "values, or key--value pairs -- so-called `.items()`."
   ]
  },
  {
   "cell_type": "code",
   "execution_count": 97,
   "id": "a7f870e2",
   "metadata": {},
   "outputs": [
    {
     "data": {
      "text/plain": [
       "['cat', 'dog']"
      ]
     },
     "execution_count": 97,
     "metadata": {},
     "output_type": "execute_result"
    }
   ],
   "source": [
    "en2fr = {\"cat\": \"chat\", \"dog\": \"chien\"}\n",
    "list(en2fr)"
   ]
  },
  {
   "cell_type": "code",
   "execution_count": 98,
   "id": "4fad9b55",
   "metadata": {},
   "outputs": [
    {
     "data": {
      "text/plain": [
       "['cat', 'dog']"
      ]
     },
     "execution_count": 98,
     "metadata": {},
     "output_type": "execute_result"
    }
   ],
   "source": [
    "list(en2fr.keys())"
   ]
  },
  {
   "cell_type": "code",
   "execution_count": 99,
   "id": "14b54155",
   "metadata": {},
   "outputs": [
    {
     "data": {
      "text/plain": [
       "('chat', 'chien')"
      ]
     },
     "execution_count": 99,
     "metadata": {},
     "output_type": "execute_result"
    }
   ],
   "source": [
    "tuple(en2fr.values())"
   ]
  },
  {
   "cell_type": "code",
   "execution_count": 100,
   "id": "149e6e4f",
   "metadata": {},
   "outputs": [
    {
     "data": {
      "text/plain": [
       "{('cat', 'chat'), ('dog', 'chien')}"
      ]
     },
     "execution_count": 100,
     "metadata": {},
     "output_type": "execute_result"
    }
   ],
   "source": [
    "set(en2fr.items())"
   ]
  },
  {
   "cell_type": "markdown",
   "id": "debe6656",
   "metadata": {},
   "source": [
    "Conversely, when converting *to* a dictionary, you have to provide a\n",
    "collection which can be interpreted as containing *both* keys and\n",
    "values, otherwise you can't really build a dictionary out of it. One\n",
    "possible option is a list of 2-tuples."
   ]
  },
  {
   "cell_type": "code",
   "execution_count": 101,
   "id": "7f790d8a",
   "metadata": {},
   "outputs": [
    {
     "data": {
      "text/plain": [
       "{'a': 'b', 'c': 'd'}"
      ]
     },
     "execution_count": 101,
     "metadata": {},
     "output_type": "execute_result"
    }
   ],
   "source": [
    "dict([(\"a\", \"b\"), (\"c\", \"d\")])"
   ]
  },
  {
   "cell_type": "markdown",
   "id": "7f22b42e",
   "metadata": {},
   "source": [
    "But it's definitely not the only one. Try to understand and describe\n",
    "what's going on in the next cell!"
   ]
  },
  {
   "cell_type": "code",
   "execution_count": 102,
   "id": "33eef25e",
   "metadata": {},
   "outputs": [
    {
     "data": {
      "text/plain": [
       "{'a': 'b', 'c': 'd'}"
      ]
     },
     "execution_count": 102,
     "metadata": {},
     "output_type": "execute_result"
    }
   ],
   "source": [
    "dict([\"ab\", \"cd\"])"
   ]
  },
  {
   "cell_type": "markdown",
   "id": "25afe465",
   "metadata": {},
   "source": [
    "The `dict` function also allows you to create a fresh dictionary in a\n",
    "way that may be slightly easier to type, with fewer curly braces and\n",
    "quotes, if your keys are strings which also happen to be valid\n",
    "**identifiers** (i.e., they could be used as variable names)."
   ]
  },
  {
   "cell_type": "code",
   "execution_count": 103,
   "id": "648cf0a8",
   "metadata": {},
   "outputs": [
    {
     "data": {
      "text/plain": [
       "{'cat': 'chat', 'dog': 'chien'}"
      ]
     },
     "execution_count": 103,
     "metadata": {},
     "output_type": "execute_result"
    }
   ],
   "source": [
    "dict(cat=\"chat\", dog=\"chien\")"
   ]
  },
  {
   "cell_type": "markdown",
   "id": "254be986",
   "metadata": {},
   "source": [
    "Strings are kind of the odd one out in this company because the `str`\n",
    "function doesn't convert another collection to a string, at least not in\n",
    "the same sense the other functions we've seen work. It returns a\n",
    "**string representation** of the collection, intended to suggest how you\n",
    "could create such a collection using literal syntax."
   ]
  },
  {
   "cell_type": "code",
   "execution_count": 104,
   "id": "83fa5e41",
   "metadata": {},
   "outputs": [
    {
     "data": {
      "text/plain": [
       "'[1, 2, 3]'"
      ]
     },
     "execution_count": 104,
     "metadata": {},
     "output_type": "execute_result"
    }
   ],
   "source": [
    "str([1, 2, 3])"
   ]
  },
  {
   "cell_type": "code",
   "execution_count": 105,
   "id": "b9817bc5",
   "metadata": {},
   "outputs": [
    {
     "data": {
      "text/plain": [
       "\"{'cat': 'chat', 'dog': 'chien'}\""
      ]
     },
     "execution_count": 105,
     "metadata": {},
     "output_type": "execute_result"
    }
   ],
   "source": [
    "str(en2fr)"
   ]
  },
  {
   "cell_type": "markdown",
   "id": "2fe8048e",
   "metadata": {},
   "source": [
    "<!-- TODO: string join here or elsewhere? -->\n",
    "\n",
    "In the other direction, the other collection functions split strings at\n",
    "character boundaries."
   ]
  },
  {
   "cell_type": "code",
   "execution_count": 106,
   "id": "225ee6eb",
   "metadata": {},
   "outputs": [
    {
     "data": {
      "text/plain": [
       "['a', 'b', 'r', 'a', 'c', 'a', 'd', 'a', 'b', 'r', 'a']"
      ]
     },
     "execution_count": 106,
     "metadata": {},
     "output_type": "execute_result"
    }
   ],
   "source": [
    "list(\"abracadabra\")"
   ]
  },
  {
   "cell_type": "code",
   "execution_count": 107,
   "id": "a966cd89",
   "metadata": {},
   "outputs": [
    {
     "data": {
      "text/plain": [
       "{'a', 'b', 'c', 'd', 'r'}"
      ]
     },
     "execution_count": 107,
     "metadata": {},
     "output_type": "execute_result"
    }
   ],
   "source": [
    "set(\"abracadabra\")"
   ]
  },
  {
   "cell_type": "markdown",
   "id": "59cf322b",
   "metadata": {},
   "source": [
    "If you want to split anywhere else, you'll have to use the `.split()`\n",
    "method on strings. By default, it splits on whitespace, any amount and\n",
    "any kind of it."
   ]
  },
  {
   "cell_type": "code",
   "execution_count": 108,
   "id": "6434389c",
   "metadata": {},
   "outputs": [
    {
     "data": {
      "text/plain": [
       "['foo', 'bar', 'baz', 'qux']"
      ]
     },
     "execution_count": 108,
     "metadata": {},
     "output_type": "execute_result"
    }
   ],
   "source": [
    "\"  foo\\nbar  \\n baz   qux  \".split()"
   ]
  },
  {
   "cell_type": "markdown",
   "id": "5f267940",
   "metadata": {},
   "source": [
    "But you can also tell it explicitly what string to use as a delimiter,\n",
    "and in that case, it'll follow your orders to the letter."
   ]
  },
  {
   "cell_type": "code",
   "execution_count": 109,
   "id": "bf8e91d9",
   "metadata": {},
   "outputs": [
    {
     "data": {
      "text/plain": [
       "['  foo', 'bar  ', ' baz   qux  ']"
      ]
     },
     "execution_count": 109,
     "metadata": {},
     "output_type": "execute_result"
    }
   ],
   "source": [
    "\"  foo\\nbar  \\n baz   qux  \".split(\"\\n\")"
   ]
  },
  {
   "cell_type": "markdown",
   "id": "3b5b6a03",
   "metadata": {},
   "source": [
    "Even creating empty strings if two designated delimiters immediately\n",
    "adjoin each other."
   ]
  },
  {
   "cell_type": "code",
   "execution_count": 110,
   "id": "f406e607",
   "metadata": {},
   "outputs": [
    {
     "data": {
      "text/plain": [
       "['', '', 'foo\\nbar', '', '\\n', 'baz', '', '', 'qux', '', '']"
      ]
     },
     "execution_count": 110,
     "metadata": {},
     "output_type": "execute_result"
    }
   ],
   "source": [
    "\"  foo\\nbar  \\n baz   qux  \".split(\" \")"
   ]
  },
  {
   "cell_type": "markdown",
   "id": "b77da2b5",
   "metadata": {},
   "source": [
    "The delimiter can consist of multiple characters."
   ]
  },
  {
   "cell_type": "code",
   "execution_count": 111,
   "id": "d95cfd71",
   "metadata": {},
   "outputs": [
    {
     "data": {
      "text/plain": [
       "['the c', ' s', ' on the m', '']"
      ]
     },
     "execution_count": 111,
     "metadata": {},
     "output_type": "execute_result"
    }
   ],
   "source": [
    "\"the cat sat on the mat\".split(\"at\")"
   ]
  },
  {
   "cell_type": "markdown",
   "id": "48d075d4",
   "metadata": {},
   "source": [
    "### Combining collections\n",
    "\n",
    "<!-- TODO: + on sequences, update on dicts, set methods and operators -->\n",
    "\n",
    "### Further exploration\n",
    "\n",
    "The character, specificities and possible use cases of each collection\n",
    "type are further revealed by the methods they expose. We'll point them\n",
    "out as we encounter them in practice throughout the rest of the book,\n",
    "but if you're curious, I encourage you to play around with the\n",
    "individual collections and explore their abilities via the previously\n",
    "described tab completion + interactive help approach.\n",
    "\n",
    "## Importing additional libraries\n",
    "\n",
    "We're about to dive into the magical world of conditionals and\n",
    "for-loops, but to make it more interesting, I thought we'd throw in some\n",
    "data and tools provided by the [NLTK](https://www.nltk.org/) (which\n",
    "stands for *Natural Language Toolkit*) library. In order to do that\n",
    "however, we need to know how to import it, so bear with me for this\n",
    "short interlude.\n",
    "\n",
    "In every Python session, some core functions and data types are\n",
    "available by default -- everything we've seen so far is part of these\n",
    "so-called built-ins. In and of themselves, they're already amazingly\n",
    "useful and allow you to do lots of stuff, but if everyone always had to\n",
    "start from these basic building blocks, programming would be repetitive\n",
    "and tedious. That's why people build reusable pieces of code that can be\n",
    "**imported** into Python to extend its functionality. These are called\n",
    "libraries or packages or modules. Strictly speaking, each of these terms\n",
    "means slightly different things, but informally, they can be used\n",
    "interchangeably.\n",
    "\n",
    "Import syntax in Python is simple and intuitive; it has a few basic\n",
    "variations which we'll presently go through."
   ]
  },
  {
   "cell_type": "code",
   "execution_count": 112,
   "id": "95885818",
   "metadata": {},
   "outputs": [],
   "source": [
    "import nltk"
   ]
  },
  {
   "cell_type": "markdown",
   "id": "6f6eade5",
   "metadata": {},
   "source": [
    "This imports the `nltk` module and creates an `nltk` variable which you\n",
    "can use to access the objects inside the module via attribute syntax.\n",
    "For instance, the `word_tokenize()` function splits text into words, or\n",
    "technically, tokens."
   ]
  },
  {
   "cell_type": "code",
   "execution_count": 113,
   "id": "39b958c3",
   "metadata": {},
   "outputs": [
    {
     "data": {
      "text/plain": [
       "['Let', 'it', 'be', '.']"
      ]
     },
     "execution_count": 113,
     "metadata": {},
     "output_type": "execute_result"
    }
   ],
   "source": [
    "nltk.word_tokenize(\"Let it be.\")"
   ]
  },
  {
   "cell_type": "markdown",
   "id": "f6eef80f",
   "metadata": {},
   "source": [
    "Notice how by default, Python tries to keep your objects and imported\n",
    "objects in separate **namespaces**, so that they don't collide. If you\n",
    "happen to have previously defined a `word_tokenize()` function of your\n",
    "own, importing the `nltk` module won't clobber it, because `nltk`'s\n",
    "`word_tokenize()` function is kept tucked away in the `nltk` namespace.\n",
    "\n",
    "Of course, it may be the case that you actually have a previously\n",
    "created object named `nltk` that you don't want to clobber. If so, then\n",
    "you can use renaming imports to pick the namespace yourself."
   ]
  },
  {
   "cell_type": "code",
   "execution_count": 114,
   "id": "a54e07bb",
   "metadata": {},
   "outputs": [],
   "source": [
    "import nltk as ling"
   ]
  },
  {
   "cell_type": "markdown",
   "id": "d9c0eb21",
   "metadata": {},
   "source": [
    "This imports the `nltk` module, but stores it in the variable /\n",
    "namespace `ling` instead of `nltk`."
   ]
  },
  {
   "cell_type": "code",
   "execution_count": 115,
   "id": "a31fe919",
   "metadata": {},
   "outputs": [
    {
     "data": {
      "text/plain": [
       "['Dig', 'a', 'pony', '.']"
      ]
     },
     "execution_count": 115,
     "metadata": {},
     "output_type": "execute_result"
    }
   ],
   "source": [
    "ling.word_tokenize(\"Dig a pony.\")"
   ]
  },
  {
   "cell_type": "markdown",
   "id": "9c95d14f",
   "metadata": {},
   "source": [
    "If you know you're going to be using a specific object a lot and you\n",
    "don't want to go to the trouble of typing the namespace prefix `nltk.`\n",
    "over and over again, then you can specifically request that it be\n",
    "added to your own namespace with the following syntax (notice that it's\n",
    "customary to separate imports from regular code by at least one empty\n",
    "line):"
   ]
  },
  {
   "cell_type": "code",
   "execution_count": 116,
   "id": "014ea460",
   "metadata": {},
   "outputs": [
    {
     "data": {
      "text/plain": [
       "['Two', 'of', 'us', 'wearing', 'raincoats', '.']"
      ]
     },
     "execution_count": 116,
     "metadata": {},
     "output_type": "execute_result"
    }
   ],
   "source": [
    "from nltk import word_tokenize\n",
    "\n",
    "word_tokenize(\"Two of us wearing raincoats.\")"
   ]
  },
  {
   "cell_type": "markdown",
   "id": "781dc2d7",
   "metadata": {},
   "source": [
    "And of course, you can combine this with renaming if necessary."
   ]
  },
  {
   "cell_type": "code",
   "execution_count": 117,
   "id": "f2d3aa74",
   "metadata": {},
   "outputs": [
    {
     "data": {
      "text/plain": [
       "['I', ',', 'me', ',', 'mine', '.']"
      ]
     },
     "execution_count": 117,
     "metadata": {},
     "output_type": "execute_result"
    }
   ],
   "source": [
    "from nltk import word_tokenize as tokenize\n",
    "\n",
    "tokenize(\"I, me, mine.\")"
   ]
  },
  {
   "cell_type": "markdown",
   "id": "669ffd55",
   "metadata": {},
   "source": [
    "By the way, if you ever accidentally overwrite a built-in function with\n",
    "another object, this is how you can restore it, by importing it from the\n",
    "`builtins` module."
   ]
  },
  {
   "cell_type": "code",
   "execution_count": 118,
   "id": "9eb30aa2",
   "metadata": {
    "tags": [
     "raises-exception",
     "output_scroll"
    ]
   },
   "outputs": [
    {
     "ename": "TypeError",
     "evalue": "'int' object is not callable",
     "output_type": "error",
     "traceback": [
      "\u001b[0;31m---------------------------------------------------------------------------\u001b[0m",
      "\u001b[0;31mTypeError\u001b[0m                                 Traceback (most recent call last)",
      "\u001b[0;32m/tmp/ipykernel_56602/474153094.py\u001b[0m in \u001b[0;36m<module>\u001b[0;34m\u001b[0m\n\u001b[1;32m      1\u001b[0m \u001b[0;31m# oops\u001b[0m\u001b[0;34m\u001b[0m\u001b[0;34m\u001b[0m\u001b[0;34m\u001b[0m\u001b[0m\n\u001b[1;32m      2\u001b[0m \u001b[0mlen\u001b[0m \u001b[0;34m=\u001b[0m \u001b[0;36m5\u001b[0m\u001b[0;34m\u001b[0m\u001b[0;34m\u001b[0m\u001b[0m\n\u001b[0;32m----> 3\u001b[0;31m \u001b[0mlen\u001b[0m\u001b[0;34m(\u001b[0m\u001b[0;34m\"five\"\u001b[0m\u001b[0;34m)\u001b[0m\u001b[0;34m\u001b[0m\u001b[0;34m\u001b[0m\u001b[0m\n\u001b[0m",
      "\u001b[0;31mTypeError\u001b[0m: 'int' object is not callable"
     ]
    }
   ],
   "source": [
    "# oops\n",
    "len = 5\n",
    "len(\"five\")"
   ]
  },
  {
   "cell_type": "code",
   "execution_count": 119,
   "id": "cc6a9bad",
   "metadata": {},
   "outputs": [
    {
     "data": {
      "text/plain": [
       "4"
      ]
     },
     "execution_count": 119,
     "metadata": {},
     "output_type": "execute_result"
    }
   ],
   "source": [
    "# problem solved\n",
    "from builtins import len\n",
    "\n",
    "len(\"five\")"
   ]
  },
  {
   "cell_type": "markdown",
   "id": "dc090e57",
   "metadata": {},
   "source": [
    "You can perform multiple imports per line by separating the different\n",
    "things to import with a comma."
   ]
  },
  {
   "cell_type": "code",
   "execution_count": 120,
   "id": "91c08da8",
   "metadata": {},
   "outputs": [],
   "source": [
    "import nltk, builtins\n",
    "from builtins import len, set"
   ]
  },
  {
   "cell_type": "markdown",
   "id": "e74b19db",
   "metadata": {},
   "source": [
    "If you want to import all objects defined in a module under the names\n",
    "given to them in that module, you can use star import syntax."
   ]
  },
  {
   "cell_type": "code",
   "execution_count": 121,
   "id": "fb8bd02b",
   "metadata": {},
   "outputs": [],
   "source": [
    "from builtins import *"
   ]
  },
  {
   "cell_type": "markdown",
   "id": "71e61e04",
   "metadata": {},
   "source": [
    "At first, this might seem convenient and appealing. Those of you who\n",
    "know R might be intuitively drawn to this form because this is R's\n",
    "default. Resist the urge. This variant makes it hard to track where\n",
    "objects came from, because a lot of names can hide under that `*`, not\n",
    "to mention if you do this with multiple modules. In time, you'll grow to\n",
    "appreciate Python's more verbose but cleaner approach to namespaces,\n",
    "which makes it much easier to see at a glance where your variables came\n",
    "from.\n",
    "\n",
    "Finally, the Python standard library contains many useful modules (the\n",
    "saying goes that Python comes with batteries included), but for many\n",
    "tasks, you'll likely want to install additional packages. This can be\n",
    "done in a variety of different of ways, including a [GUI\n",
    "manager](https://docs.anaconda.com/anaconda/navigator/tutorials/manage-packages/)\n",
    "if you're using the Anaconda Python distribution, but the official\n",
    "Python package manager that should always be available is a command-line\n",
    "tool called `pip`.\n",
    "\n",
    "This chapter is not about learning to use the command line, so just a\n",
    "quick crash course on `pip`. First, you need to figure out the name of\n",
    "the package you need. That can be done by searching the internet for\n",
    "keywords related to the functionality you want + Python, or by directly\n",
    "searching the [Python Package Index](https://pypi.org/).\n",
    "\n",
    "When you have have the name, you need to run the `pip install` command\n",
    "at the command line. Conveniently, you can do so directly from\n",
    "JupyterLab by prefixing it with `!` (this is another one of those\n",
    "special JupyterLab features which isn't actually part of Python itself).\n",
    "For instance, to instal the `nltk` library, you would run the following\n",
    "command:"
   ]
  },
  {
   "cell_type": "code",
   "execution_count": 122,
   "id": "97df270a",
   "metadata": {
    "tags": [
     "output_scroll",
     "remove-stderr"
    ]
   },
   "outputs": [
    {
     "name": "stdout",
     "output_type": "stream",
     "text": [
      "Looking in indexes: https://pypi.org/simple, https://packagecloud.io/akopytov/sysbench/pypi/simple\r\n",
      "Requirement already satisfied: nltk in /home/david/repos/v4py.github.io/.venv/lib/python3.9/site-packages (3.6.4)\r\n"
     ]
    },
    {
     "name": "stdout",
     "output_type": "stream",
     "text": [
      "Requirement already satisfied: click in /home/david/repos/v4py.github.io/.venv/lib/python3.9/site-packages (from nltk) (7.1.2)\r\n",
      "Requirement already satisfied: tqdm in /home/david/repos/v4py.github.io/.venv/lib/python3.9/site-packages (from nltk) (4.62.3)\r\n",
      "Requirement already satisfied: joblib in /home/david/repos/v4py.github.io/.venv/lib/python3.9/site-packages (from nltk) (1.1.0)\r\n",
      "Requirement already satisfied: regex in /home/david/repos/v4py.github.io/.venv/lib/python3.9/site-packages (from nltk) (2021.9.30)\r\n"
     ]
    }
   ],
   "source": [
    "!pip install nltk"
   ]
  },
  {
   "cell_type": "markdown",
   "id": "020c5bba",
   "metadata": {},
   "source": [
    "If you get some sort of permission denied error, it's because `pip` is\n",
    "trying to write into a system-wide library for all users which you don't\n",
    "have write access to. In that case, try running `pip install --user\n",
    "nltk` instead.\n",
    "\n",
    "That's enough about libraries right now. On to control flow!\n",
    "\n",
    "<!-- # Control flow -->\n",
    "\n",
    "<!-- # Functions: writing our own -->\n",
    "\n",
    "<!-- functions at the end, showing that any code can be wrapped for reuse -->\n",
    "\n",
    "<!-- ## A few useful built-in functions we haven't met yet -->\n",
    "\n",
    "<!-- built-in functions (type, isinstance (show just a glimpse of classes), str, int, float, ...) -->\n",
    "<!-- [List of built-in functions](https://docs.python.org/3/library/functions.html) -->\n",
    "\n",
    "<!-- vim: set spell spelllang=en: -->"
   ]
  }
 ],
 "metadata": {
  "jupytext": {
   "formats": "md:myst",
   "text_representation": {
    "extension": ".md",
    "format_name": "myst",
    "format_version": 0.12,
    "jupytext_version": "1.6.0"
   }
  },
  "kernelspec": {
   "display_name": "Python 3",
   "language": "python",
   "name": "python3"
  },
  "language_info": {
   "codemirror_mode": {
    "name": "ipython",
    "version": 3
   },
   "file_extension": ".py",
   "mimetype": "text/x-python",
   "name": "python",
   "nbconvert_exporter": "python",
   "pygments_lexer": "ipython3",
   "version": "3.9.6"
  },
  "source_map": [
   13,
   17,
   35,
   102,
   104,
   113,
   115,
   124,
   129,
   147,
   151,
   155,
   161,
   165,
   169,
   174,
   176,
   196,
   200,
   204,
   206,
   211,
   215,
   235,
   237,
   248,
   253,
   259,
   261,
   272,
   274,
   284,
   286,
   291,
   293,
   300,
   305,
   308,
   332,
   334,
   344,
   347,
   352,
   354,
   358,
   361,
   366,
   370,
   374,
   382,
   388,
   390,
   399,
   401,
   418,
   421,
   427,
   431,
   433,
   446,
   450,
   452,
   462,
   464,
   479,
   483,
   489,
   495,
   499,
   503,
   507,
   509,
   517,
   521,
   530,
   551,
   555,
   559,
   566,
   570,
   574,
   584,
   589,
   594,
   601,
   605,
   609,
   616,
   625,
   627,
   632,
   637,
   639,
   646,
   652,
   659,
   662,
   693,
   698,
   703,
   705,
   722,
   724,
   728,
   730,
   734,
   736,
   741,
   743,
   750,
   756,
   758,
   766,
   768,
   773,
   775,
   784,
   786,
   793,
   795,
   800,
   802,
   807,
   809,
   813,
   815,
   828,
   830,
   835,
   837,
   842,
   844,
   854,
   858,
   860,
   864,
   866,
   873,
   877,
   879,
   883,
   887,
   889,
   895,
   900,
   903,
   913,
   916,
   925,
   931,
   935,
   939,
   945,
   951,
   959,
   961,
   965,
   967,
   971,
   973,
   981,
   986,
   990,
   994,
   996,
   1003,
   1005,
   1010,
   1012,
   1019,
   1021,
   1029,
   1033,
   1035,
   1042,
   1046,
   1048,
   1054,
   1056,
   1061,
   1063,
   1068,
   1070,
   1074,
   1076,
   1114,
   1116,
   1123,
   1125,
   1137,
   1139,
   1144,
   1146,
   1155,
   1159,
   1163,
   1167,
   1173,
   1181,
   1186,
   1191,
   1194,
   1199,
   1201,
   1234,
   1238
  ]
 },
 "nbformat": 4,
 "nbformat_minor": 5
}