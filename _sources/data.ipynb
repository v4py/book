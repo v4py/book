{
 "cells": [
  {
   "cell_type": "markdown",
   "id": "66062d91",
   "metadata": {},
   "source": [
    "# Getting your data into Python\n",
    "\n",
    "## Overview\n",
    "\n",
    "This chapter is about interacting with data on your computer's disk --\n",
    "mostly loading it into Python, but also writing it back, and storing it\n",
    "for quick reloading later.\n",
    "\n",
    "## Plain text files\n",
    "\n",
    "A **plain text** file is a file where every single bit contributes\n",
    "towards representing plain text content. What fits into the concept of\n",
    "'plain text' is actually surprisingly fuzzy -- it depends on which\n",
    "characters are available in the character set you're using, and\n",
    "character sets are just arbitrary human conventions. Historically,\n",
    "there were computer systems that didn't make case distinctions, so upper\n",
    "vs. lower case was not something you could express using just plain\n",
    "text.\n",
    "\n",
    "Nowadays, Unicode is making inroads into text properties which were\n",
    "previously the domain of **rich text**, assigning dedicated codepoints\n",
    "to 𝘪𝘵𝘢𝘭𝘪𝘤𝘴 or ˢᵘᵖᵉʳˢᶜʳᶦᵖᵗ, which allow you, among other things, to work\n",
    "around the lack of rich text capabilities in Twitter or Facebook posts\n",
    "(although that's obviously not what they were originally intended for).\n",
    "But the further you go along the axis of content vs. appearance, the\n",
    "more you encounter properties which are unlikely to ever make it into\n",
    "plain text, like the ability to specify which particular font the text\n",
    "should be displayed with."
   ]
  },
  {
   "cell_type": "code",
   "execution_count": 1,
   "id": "7659d522",
   "metadata": {
    "tags": [
     "output_scroll"
    ]
   },
   "outputs": [
    {
     "name": "stdout",
     "output_type": "stream",
     "text": [
      "𝘪\tMATHEMATICAL SANS-SERIF ITALIC SMALL I\n",
      "𝘵\tMATHEMATICAL SANS-SERIF ITALIC SMALL T\n",
      "𝘢\tMATHEMATICAL SANS-SERIF ITALIC SMALL A\n",
      "𝘭\tMATHEMATICAL SANS-SERIF ITALIC SMALL L\n",
      "𝘪\tMATHEMATICAL SANS-SERIF ITALIC SMALL I\n",
      "𝘤\tMATHEMATICAL SANS-SERIF ITALIC SMALL C\n",
      "𝘴\tMATHEMATICAL SANS-SERIF ITALIC SMALL S\n",
      "ˢ\tMODIFIER LETTER SMALL S\n",
      "ᵘ\tMODIFIER LETTER SMALL U\n",
      "ᵖ\tMODIFIER LETTER SMALL P\n",
      "ᵉ\tMODIFIER LETTER SMALL E\n",
      "ʳ\tMODIFIER LETTER SMALL R\n",
      "ˢ\tMODIFIER LETTER SMALL S\n",
      "ᶜ\tMODIFIER LETTER SMALL C\n",
      "ʳ\tMODIFIER LETTER SMALL R\n",
      "ᶦ\tMODIFIER LETTER SMALL CAPITAL I\n",
      "ᵖ\tMODIFIER LETTER SMALL P\n",
      "ᵗ\tMODIFIER LETTER SMALL T\n"
     ]
    }
   ],
   "source": [
    "from unicodedata import name\n",
    "\n",
    "for char in \"𝘪𝘵𝘢𝘭𝘪𝘤𝘴ˢᵘᵖᵉʳˢᶜʳᶦᵖᵗ\":\n",
    "    print(char, name(char), sep=\"\\t\")"
   ]
  },
  {
   "cell_type": "markdown",
   "id": "7678e3b6",
   "metadata": {},
   "source": [
    "Plain text files can be opened with the built-in `open()` function. As\n",
    "we've seen in our discussion of [Unicode](unicode), your safest bet with\n",
    "a plain text file in an unknown encoding is to start by trying to open\n",
    "it as `UTF-8` -- not because that will always work, but precisely\n",
    "because it won't: if it's not actually `UTF-8`, you're likely to get an\n",
    "error, which will tell you there's something fishy and prevent you from\n",
    "corrupting your data. Also, `UTF-8` is becoming more and more prevalent,\n",
    "so chances are good that file actually *is* `UTF-8`, in which case\n",
    "you're golden. The `text.txt` file below, though, isn't."
   ]
  },
  {
   "cell_type": "code",
   "execution_count": 2,
   "id": "cd3489e8",
   "metadata": {
    "tags": [
     "raises-exception",
     "output_scroll"
    ]
   },
   "outputs": [
    {
     "ename": "UnicodeDecodeError",
     "evalue": "'utf-8' codec can't decode bytes in position 1-2: invalid continuation byte",
     "output_type": "error",
     "traceback": [
      "\u001b[0;31m---------------------------------------------------------------------------\u001b[0m",
      "\u001b[0;31mUnicodeDecodeError\u001b[0m                        Traceback (most recent call last)",
      "\u001b[0;32m/tmp/ipykernel_11227/3031899450.py\u001b[0m in \u001b[0;36m<module>\u001b[0;34m\u001b[0m\n\u001b[1;32m      1\u001b[0m \u001b[0;32mwith\u001b[0m \u001b[0mopen\u001b[0m\u001b[0;34m(\u001b[0m\u001b[0;34m\"data/text.txt\"\u001b[0m\u001b[0;34m,\u001b[0m \u001b[0mencoding\u001b[0m\u001b[0;34m=\u001b[0m\u001b[0;34m\"utf-8\"\u001b[0m\u001b[0;34m)\u001b[0m \u001b[0;32mas\u001b[0m \u001b[0mfile\u001b[0m\u001b[0;34m:\u001b[0m\u001b[0;34m\u001b[0m\u001b[0;34m\u001b[0m\u001b[0m\n\u001b[0;32m----> 2\u001b[0;31m     \u001b[0mprint\u001b[0m\u001b[0;34m(\u001b[0m\u001b[0mfile\u001b[0m\u001b[0;34m.\u001b[0m\u001b[0mread\u001b[0m\u001b[0;34m(\u001b[0m\u001b[0;34m)\u001b[0m\u001b[0;34m)\u001b[0m\u001b[0;34m\u001b[0m\u001b[0;34m\u001b[0m\u001b[0m\n\u001b[0m",
      "\u001b[0;32m~/.local/pyenv/versions/3.9.6/lib/python3.9/codecs.py\u001b[0m in \u001b[0;36mdecode\u001b[0;34m(self, input, final)\u001b[0m\n\u001b[1;32m    320\u001b[0m         \u001b[0;31m# decode input (taking the buffer into account)\u001b[0m\u001b[0;34m\u001b[0m\u001b[0;34m\u001b[0m\u001b[0;34m\u001b[0m\u001b[0m\n\u001b[1;32m    321\u001b[0m         \u001b[0mdata\u001b[0m \u001b[0;34m=\u001b[0m \u001b[0mself\u001b[0m\u001b[0;34m.\u001b[0m\u001b[0mbuffer\u001b[0m \u001b[0;34m+\u001b[0m \u001b[0minput\u001b[0m\u001b[0;34m\u001b[0m\u001b[0;34m\u001b[0m\u001b[0m\n\u001b[0;32m--> 322\u001b[0;31m         \u001b[0;34m(\u001b[0m\u001b[0mresult\u001b[0m\u001b[0;34m,\u001b[0m \u001b[0mconsumed\u001b[0m\u001b[0;34m)\u001b[0m \u001b[0;34m=\u001b[0m \u001b[0mself\u001b[0m\u001b[0;34m.\u001b[0m\u001b[0m_buffer_decode\u001b[0m\u001b[0;34m(\u001b[0m\u001b[0mdata\u001b[0m\u001b[0;34m,\u001b[0m \u001b[0mself\u001b[0m\u001b[0;34m.\u001b[0m\u001b[0merrors\u001b[0m\u001b[0;34m,\u001b[0m \u001b[0mfinal\u001b[0m\u001b[0;34m)\u001b[0m\u001b[0;34m\u001b[0m\u001b[0;34m\u001b[0m\u001b[0m\n\u001b[0m\u001b[1;32m    323\u001b[0m         \u001b[0;31m# keep undecoded input until the next call\u001b[0m\u001b[0;34m\u001b[0m\u001b[0;34m\u001b[0m\u001b[0;34m\u001b[0m\u001b[0m\n\u001b[1;32m    324\u001b[0m         \u001b[0mself\u001b[0m\u001b[0;34m.\u001b[0m\u001b[0mbuffer\u001b[0m \u001b[0;34m=\u001b[0m \u001b[0mdata\u001b[0m\u001b[0;34m[\u001b[0m\u001b[0mconsumed\u001b[0m\u001b[0;34m:\u001b[0m\u001b[0;34m]\u001b[0m\u001b[0;34m\u001b[0m\u001b[0;34m\u001b[0m\u001b[0m\n",
      "\u001b[0;31mUnicodeDecodeError\u001b[0m: 'utf-8' codec can't decode bytes in position 1-2: invalid continuation byte"
     ]
    }
   ],
   "source": [
    "with open(\"data/text.txt\", encoding=\"utf-8\") as file:\n",
    "    print(file.read())"
   ]
  },
  {
   "cell_type": "markdown",
   "id": "7ecb4768",
   "metadata": {},
   "source": [
    "OK, that didn't work. Now you can start thinking about alternatives. Do\n",
    "you know anything about the language the text in the file is supposed to\n",
    "be in? If it's a Western European language, then the encoding might be\n",
    "[`latin1`](https://en.wikipedia.org/wiki/ISO/IEC_8859-1) or\n",
    "[`cp1252`](https://en.wikipedia.org/wiki/Windows-1252); if it's Central\n",
    "European, then perhaps\n",
    "[`latin2`](https://en.wikipedia.org/wiki/ISO/IEC_8859-2) or\n",
    "[`cp1250`](https://en.wikipedia.org/wiki/Windows-1250) (beyond those\n",
    "two regions, I'm afraid I can't give any tips, you'll have to rely on\n",
    "web search engines).\n",
    "\n",
    "Let's say we know `text.txt` is in Czech, a Central European\n",
    "language. We might want to try `cp1250`, because that's *still* (ugh)\n",
    "the default encoding for text files created under the Czech version of\n",
    "Windows, and that's where the file might have come from."
   ]
  },
  {
   "cell_type": "code",
   "execution_count": 3,
   "id": "192cc7b1",
   "metadata": {},
   "outputs": [
    {
     "name": "stdout",
     "output_type": "stream",
     "text": [
      "Běľela Magda kaňonem, sráľela banány rádiem.\n",
      "Helenka líbala na kolínko robustního cestáře France.\n",
      "Pan čáp ztratil čepičku, měla barvu barvičku...?\n",
      "\n"
     ]
    }
   ],
   "source": [
    "with open(\"data/text.txt\", encoding=\"cp1250\") as file:\n",
    "    print(file.read())"
   ]
  },
  {
   "cell_type": "markdown",
   "id": "8cd22684",
   "metadata": {},
   "source": [
    "The tricky thing here is that everything went seemingly fine, no error\n",
    "occurred. That's because `cp1250` is an 8-bit fixed-width encoding, and\n",
    "any sequence of bytes can be interpreted as a `cp1250`-encoded file --\n",
    "even if it was originally intended to be something else. If a Czech\n",
    "speaker tries to read this output, some words will be off. It may be\n",
    "hard to spot them, because many 8-bit encodings share a lot of the\n",
    "byte--character mappings, at least in the ASCII range [0; 128), but to a\n",
    "smaller extent even beyond. This makes it easier to still read at least\n",
    "parts of the file if you've guessed the encoding wrong, but it also\n",
    "makes it harder to realize that.\n",
    "\n",
    "The 1990s were the age of many different 8-bit encodings for different\n",
    "groups of languages. It sucked. Be glad you live in the age of `UTF-8`.\n",
    "\n",
    "Finally, if we try `latin2`, that Czech person helpfully standing behind\n",
    "you can tell you that now, the result looks alright. If you compare with\n",
    "the previous attempt, you may see that there are indeed minute\n",
    "differences."
   ]
  },
  {
   "cell_type": "code",
   "execution_count": 4,
   "id": "75343ccf",
   "metadata": {},
   "outputs": [
    {
     "name": "stdout",
     "output_type": "stream",
     "text": [
      "Běžela Magda kaňonem, srážela banány rádiem.\n",
      "Helenka líbala na kolínko robustního cestáře France.\n",
      "Pan čáp ztratil čepičku, měla barvu barvičku...?\n",
      "\n"
     ]
    }
   ],
   "source": [
    "with open(\"data/text.txt\", encoding=\"latin2\") as file:\n",
    "    print(file.read())"
   ]
  },
  {
   "cell_type": "markdown",
   "id": "a4e2d1db",
   "metadata": {},
   "source": [
    "Sometimes, you may encounter a plain text file that you know should be\n",
    "in `UTF-8`, but it has become corrupted for some reason -- maybe it was\n",
    "spliced together with another file in a different encoding, or maybe\n",
    "some evil spirit flipped a few bits here and there. In that case, the\n",
    "contents won't look right in any one encoding, but you might still want\n",
    "to at least have a glimpse at what it contains. To make Python soldier\n",
    "through in spite of encountering invalid byte sequences (i.e. encoding\n",
    "errors), you can specify an error handler. A preview of a few of the\n",
    "more common options is given below; for a full list, refer\n",
    "[here](https://docs.python.org/3/library/codecs.html#error-handlers)."
   ]
  },
  {
   "cell_type": "code",
   "execution_count": 5,
   "id": "c7787703",
   "metadata": {},
   "outputs": [
    {
     "name": "stdout",
     "output_type": "stream",
     "text": [
      "B�ela Magda ka�onem, sr�ela ban�ny r�diem.\n",
      "Helenka l�bala na kol�nko robustn�ho cest��e France.\n",
      "Pan ��p ztratil �epi�ku, m�la barvu barvi�ku...?\n",
      "\n"
     ]
    }
   ],
   "source": [
    "with open(\"data/text.txt\", encoding=\"utf-8\", errors=\"replace\") as file:\n",
    "    print(file.read())"
   ]
  },
  {
   "cell_type": "code",
   "execution_count": 6,
   "id": "c5eb5c4d",
   "metadata": {},
   "outputs": [
    {
     "name": "stdout",
     "output_type": "stream",
     "text": [
      "Bela Magda kaonem, srela banny rdiem.\n",
      "Helenka lbala na kolnko robustnho ceste France.\n",
      "Pan p ztratil epiku, mla barvu barviku...?\n",
      "\n"
     ]
    }
   ],
   "source": [
    "with open(\"data/text.txt\", encoding=\"utf-8\", errors=\"ignore\") as file:\n",
    "    print(file.read())"
   ]
  },
  {
   "cell_type": "code",
   "execution_count": 7,
   "id": "5577e133",
   "metadata": {},
   "outputs": [
    {
     "name": "stdout",
     "output_type": "stream",
     "text": [
      "B\\xec\\xbeela Magda ka\\xf2onem, sr\\xe1\\xbeela ban\\xe1ny r\\xe1diem.\n",
      "Helenka l\\xedbala na kol\\xednko robustn\\xedho cest\\xe1\\xf8e France.\n",
      "Pan \\xe8\\xe1p ztratil \\xe8epi\\xe8ku, m\\xecla barvu barvi\\xe8ku...?\n",
      "\n"
     ]
    }
   ],
   "source": [
    "with open(\"data/text.txt\", encoding=\"utf-8\", errors=\"backslashreplace\") as file:\n",
    "    print(file.read())"
   ]
  },
  {
   "cell_type": "markdown",
   "id": "64a03680",
   "metadata": {},
   "source": [
    "Incidentally, this allows us to take a peek at what a rich text file\n",
    "looks like under the hood. If you open `text.doc` in a word processor,\n",
    "you'll see that it has the same textual content as `text.txt`. But\n",
    "opening it as plain text, we see that the file definitely contains some\n",
    "more stuff besides that, and most of it can't be interpreted as text --\n",
    "there's a lot of those question mark replacement characters, and even\n",
    "more null bytes (`\\x00`, i.e. a byte consisting of all 0's). Some of it\n",
    "is metadata, e.g. who wrote the text and when, or possibly encoding\n",
    "information, so that the word processor doesn't have to take blind\n",
    "guesses at which encoding the text is stored in like we just had to."
   ]
  },
  {
   "cell_type": "code",
   "execution_count": 8,
   "id": "88ff5020",
   "metadata": {},
   "outputs": [
    {
     "data": {
      "text/plain": [
       "'��\\x11\\u0871\\x1a�\\x00\\x00\\x00\\x00'"
      ]
     },
     "execution_count": 8,
     "metadata": {},
     "output_type": "execute_result"
    }
   ],
   "source": [
    "with open(\"data/text.doc\", encoding=\"utf-8\", errors=\"replace\") as file:\n",
    "    txt = file.read()\n",
    "txt[:10]"
   ]
  },
  {
   "cell_type": "code",
   "execution_count": 9,
   "id": "4afe3474",
   "metadata": {},
   "outputs": [
    {
     "data": {
      "text/plain": [
       "'\\x00\\x00Lukeš, David\\x00\\x00\\x00'"
      ]
     },
     "execution_count": 9,
     "metadata": {},
     "output_type": "execute_result"
    }
   ],
   "source": [
    "# this is probably author metadata?\n",
    "index = txt.find(\"Lukeš\")\n",
    "txt[index-2:index+15]"
   ]
  },
  {
   "cell_type": "code",
   "execution_count": 10,
   "id": "28cf79f4",
   "metadata": {},
   "outputs": [
    {
     "data": {
      "text/plain": [
       "'M\\x00a\\x00g\\x00d\\x00a\\x00 \\x00k\\x00a\\x00H\\x01o\\x00n\\x00e\\x00m'"
      ]
     },
     "execution_count": 10,
     "metadata": {},
     "output_type": "execute_result"
    }
   ],
   "source": [
    "# and this is probably the part which corresponds to \"Magda kaňonem\" in\n",
    "# our plain text file\n",
    "index = txt.find(\"M\")\n",
    "txt[index:index+25]"
   ]
  },
  {
   "cell_type": "markdown",
   "id": "a65624d4",
   "metadata": {},
   "source": [
    "## Manipulating tabular data\n",
    "\n",
    "```{margin}\n",
    "CSVs are actually plain text files -- in their simplest form, each row\n",
    "of the table is just a line of text, with columns separated by commas.\n",
    "However, in order to allow the individual fields to contain commas or\n",
    "newlines (which normally act as column and row separators), the CSV\n",
    "standard defines fairly complicated escaping mechanisms which you don't\n",
    "want to implement yourself. So it's generally better to rely on a\n",
    "library to parse CSVs and not do it manually, unless you know for a fact\n",
    "that the CSV contains none of these gotchas.\n",
    "```\n",
    "\n",
    "Data often comes in tabular format -- Excel files, CSV files and the\n",
    "like. The easiest and most convenient way to load this type of data into\n",
    "Python and manipulate it is using the\n",
    "[`pandas`](https://pandas.pydata.org/) library. While manual\n",
    "modifications of individual cells will probably always be more ergonomic\n",
    "in a spreadsheet editor like Excel, any kind of mass data manipulation\n",
    "is what `pandas`... excels at, if you'll pardon the pun. It does so in a\n",
    "clean and efficient way, mostly without even breaking a sweat, and best\n",
    "of all, you can always retrace your steps and check whether you've made\n",
    "a mistake at some point because you're writing them down as Python\n",
    "commands instead of clicking around in a graphical user interface. Not\n",
    "to mention that this makes it trivial to apply the same series of\n",
    "processing steps to similarly shaped data, once you've figured them out.\n",
    "\n",
    "### The `pandas` library\n",
    "\n",
    "Let's fire up `pandas` and take a look at how it can help you to slice\n",
    "and dice tables in Python. Or should I say `DataFrame`s, because that's\n",
    "what `pandas` calls them, acknowledging inspiration from R's trademark\n",
    "data structure."
   ]
  },
  {
   "cell_type": "code",
   "execution_count": 11,
   "id": "19049451",
   "metadata": {},
   "outputs": [],
   "source": [
    "import pandas as pd"
   ]
  },
  {
   "cell_type": "code",
   "execution_count": 12,
   "id": "1297e2cf",
   "metadata": {},
   "outputs": [],
   "source": [
    "df = pd.read_excel(\"data/concordance_corpus.xlsx\")"
   ]
  },
  {
   "cell_type": "code",
   "execution_count": 13,
   "id": "d4421ec1",
   "metadata": {},
   "outputs": [
    {
     "data": {
      "text/plain": [
       "pandas.core.frame.DataFrame"
      ]
     },
     "execution_count": 13,
     "metadata": {},
     "output_type": "execute_result"
    }
   ],
   "source": [
    "type(df)"
   ]
  },
  {
   "cell_type": "code",
   "execution_count": 14,
   "id": "656e9931",
   "metadata": {},
   "outputs": [
    {
     "data": {
      "text/html": [
       "<div>\n",
       "<style scoped>\n",
       "    .dataframe tbody tr th:only-of-type {\n",
       "        vertical-align: middle;\n",
       "    }\n",
       "\n",
       "    .dataframe tbody tr th {\n",
       "        vertical-align: top;\n",
       "    }\n",
       "\n",
       "    .dataframe thead th {\n",
       "        text-align: right;\n",
       "    }\n",
       "</style>\n",
       "<table border=\"1\" class=\"dataframe\">\n",
       "  <thead>\n",
       "    <tr style=\"text-align: right;\">\n",
       "      <th></th>\n",
       "      <th>newadvent.org</th>\n",
       "      <th>by Theodor Mommsen , undertook its monumental publication , the</th>\n",
       "      <th>Corpus/Corpus/NP</th>\n",
       "      <th>Inscriptionum Latinarum \" , it sent a flattering letter to</th>\n",
       "    </tr>\n",
       "  </thead>\n",
       "  <tbody>\n",
       "    <tr>\n",
       "      <th>0</th>\n",
       "      <td>newadvent.org</td>\n",
       "      <td>Mommsen . The latter 's numerous collaborators...</td>\n",
       "      <td>Corpus/Corpus/NP</td>\n",
       "      <td>\" , among them Edwin Bormann , the noted autho...</td>\n",
       "    </tr>\n",
       "    <tr>\n",
       "      <th>1</th>\n",
       "      <td>newadvent.org</td>\n",
       "      <td>) , concerning the preparatory work for the ab...</td>\n",
       "      <td>Corpus/Corpus/NP</td>\n",
       "      <td>Inscriptionum \" , which appeared in the monthl...</td>\n",
       "    </tr>\n",
       "    <tr>\n",
       "      <th>2</th>\n",
       "      <td>freerepublic.com</td>\n",
       "      <td>, or arrest the MD assembly , or suspend habeus</td>\n",
       "      <td>corpus/corpus/NN</td>\n",
       "      <td>, or invade sovereign states . ​He​ ​did​ ​n't...</td>\n",
       "    </tr>\n",
       "    <tr>\n",
       "      <th>3</th>\n",
       "      <td>hinduism.co.za</td>\n",
       "      <td>corporeal being in the fullness of time , assu...</td>\n",
       "      <td>corpus/corpus/NN</td>\n",
       "      <td>. It arises and perishes in due order . And</td>\n",
       "    </tr>\n",
       "    <tr>\n",
       "      <th>4</th>\n",
       "      <td>lg-legal.com</td>\n",
       "      <td>relation to the takeover offer announced today...</td>\n",
       "      <td>Corpora/corpus/NNS</td>\n",
       "      <td>valuing Archipelago at £ 340 m. 27 Sep 2013 MORE</td>\n",
       "    </tr>\n",
       "    <tr>\n",
       "      <th>...</th>\n",
       "      <td>...</td>\n",
       "      <td>...</td>\n",
       "      <td>...</td>\n",
       "      <td>...</td>\n",
       "    </tr>\n",
       "    <tr>\n",
       "      <th>848</th>\n",
       "      <td>blogs.ulster.ac.uk</td>\n",
       "      <td>University . For example , Corpus Christi Coll...</td>\n",
       "      <td>Corpus/Corpus/NP</td>\n",
       "      <td>Irish Missal , 12 th century ( MS 282 )</td>\n",
       "    </tr>\n",
       "    <tr>\n",
       "      <th>849</th>\n",
       "      <td>ginnysaustin.com</td>\n",
       "      <td>set by a youth cutting my teeth on tacos in</td>\n",
       "      <td>Corpus/Corpus/NP</td>\n",
       "      <td>Christi ( RIP Elva ’s ) . Now , I</td>\n",
       "    </tr>\n",
       "    <tr>\n",
       "      <th>850</th>\n",
       "      <td>patriotsquestion911.com</td>\n",
       "      <td>of the Geneva Conventions , and the repeal of ...</td>\n",
       "      <td>corpus/corpus/NN</td>\n",
       "      <td>( a fundamental point of law that has been with</td>\n",
       "    </tr>\n",
       "    <tr>\n",
       "      <th>851</th>\n",
       "      <td>biblicalarchaeology.org</td>\n",
       "      <td>Keel recently pointed out , even in the highly...</td>\n",
       "      <td>Corpus/Corpus/NP</td>\n",
       "      <td>of West Semitic Stamp Seals published by Nahma...</td>\n",
       "    </tr>\n",
       "    <tr>\n",
       "      <th>852</th>\n",
       "      <td>rrojasdatabank.info</td>\n",
       "      <td>developing ones , were interpreted through the...</td>\n",
       "      <td>corpus/corpus/NN</td>\n",
       "      <td>of knowledge recognized as Keynesian economics...</td>\n",
       "    </tr>\n",
       "  </tbody>\n",
       "</table>\n",
       "<p>853 rows × 4 columns</p>\n",
       "</div>"
      ],
      "text/plain": [
       "               newadvent.org  \\\n",
       "0              newadvent.org   \n",
       "1              newadvent.org   \n",
       "2           freerepublic.com   \n",
       "3             hinduism.co.za   \n",
       "4               lg-legal.com   \n",
       "..                       ...   \n",
       "848       blogs.ulster.ac.uk   \n",
       "849         ginnysaustin.com   \n",
       "850  patriotsquestion911.com   \n",
       "851  biblicalarchaeology.org   \n",
       "852      rrojasdatabank.info   \n",
       "\n",
       "    by Theodor Mommsen , undertook its monumental publication , the  \\\n",
       "0    Mommsen . The latter 's numerous collaborators...                \n",
       "1    ) , concerning the preparatory work for the ab...                \n",
       "2      , or arrest the MD assembly , or suspend habeus                \n",
       "3    corporeal being in the fullness of time , assu...                \n",
       "4    relation to the takeover offer announced today...                \n",
       "..                                                 ...                \n",
       "848  University . For example , Corpus Christi Coll...                \n",
       "849        set by a youth cutting my teeth on tacos in                \n",
       "850  of the Geneva Conventions , and the repeal of ...                \n",
       "851  Keel recently pointed out , even in the highly...                \n",
       "852  developing ones , were interpreted through the...                \n",
       "\n",
       "       Corpus/Corpus/NP  \\\n",
       "0      Corpus/Corpus/NP   \n",
       "1      Corpus/Corpus/NP   \n",
       "2      corpus/corpus/NN   \n",
       "3      corpus/corpus/NN   \n",
       "4    Corpora/corpus/NNS   \n",
       "..                  ...   \n",
       "848    Corpus/Corpus/NP   \n",
       "849    Corpus/Corpus/NP   \n",
       "850    corpus/corpus/NN   \n",
       "851    Corpus/Corpus/NP   \n",
       "852    corpus/corpus/NN   \n",
       "\n",
       "    Inscriptionum Latinarum \" , it sent a flattering letter to  \n",
       "0    \" , among them Edwin Bormann , the noted autho...          \n",
       "1    Inscriptionum \" , which appeared in the monthl...          \n",
       "2    , or invade sovereign states . ​He​ ​did​ ​n't...          \n",
       "3          . It arises and perishes in due order . And          \n",
       "4     valuing Archipelago at £ 340 m. 27 Sep 2013 MORE          \n",
       "..                                                 ...          \n",
       "848            Irish Missal , 12 th century ( MS 282 )          \n",
       "849                  Christi ( RIP Elva ’s ) . Now , I          \n",
       "850    ( a fundamental point of law that has been with          \n",
       "851  of West Semitic Stamp Seals published by Nahma...          \n",
       "852  of knowledge recognized as Keynesian economics...          \n",
       "\n",
       "[853 rows x 4 columns]"
      ]
     },
     "execution_count": 14,
     "metadata": {},
     "output_type": "execute_result"
    }
   ],
   "source": [
    "df"
   ]
  },
  {
   "cell_type": "markdown",
   "id": "e9b9e1af",
   "metadata": {},
   "source": [
    "<!-- TODO: Whew, preview long and unwieldy, let's use the `.head()` method -->\n",
    "<!-- from now on to condense it a little bit. -->"
   ]
  },
  {
   "cell_type": "code",
   "execution_count": 15,
   "id": "284c1618",
   "metadata": {},
   "outputs": [
    {
     "data": {
      "text/html": [
       "<div>\n",
       "<style scoped>\n",
       "    .dataframe tbody tr th:only-of-type {\n",
       "        vertical-align: middle;\n",
       "    }\n",
       "\n",
       "    .dataframe tbody tr th {\n",
       "        vertical-align: top;\n",
       "    }\n",
       "\n",
       "    .dataframe thead th {\n",
       "        text-align: right;\n",
       "    }\n",
       "</style>\n",
       "<table border=\"1\" class=\"dataframe\">\n",
       "  <thead>\n",
       "    <tr style=\"text-align: right;\">\n",
       "      <th></th>\n",
       "      <th>0</th>\n",
       "      <th>1</th>\n",
       "      <th>2</th>\n",
       "      <th>3</th>\n",
       "    </tr>\n",
       "  </thead>\n",
       "  <tbody>\n",
       "    <tr>\n",
       "      <th>0</th>\n",
       "      <td>newadvent.org</td>\n",
       "      <td>by Theodor Mommsen , undertook its monumental ...</td>\n",
       "      <td>Corpus/Corpus/NP</td>\n",
       "      <td>Inscriptionum Latinarum \" , it sent a flatteri...</td>\n",
       "    </tr>\n",
       "    <tr>\n",
       "      <th>1</th>\n",
       "      <td>newadvent.org</td>\n",
       "      <td>Mommsen . The latter 's numerous collaborators...</td>\n",
       "      <td>Corpus/Corpus/NP</td>\n",
       "      <td>\" , among them Edwin Bormann , the noted autho...</td>\n",
       "    </tr>\n",
       "    <tr>\n",
       "      <th>2</th>\n",
       "      <td>newadvent.org</td>\n",
       "      <td>) , concerning the preparatory work for the ab...</td>\n",
       "      <td>Corpus/Corpus/NP</td>\n",
       "      <td>Inscriptionum \" , which appeared in the monthl...</td>\n",
       "    </tr>\n",
       "    <tr>\n",
       "      <th>3</th>\n",
       "      <td>freerepublic.com</td>\n",
       "      <td>, or arrest the MD assembly , or suspend habeus</td>\n",
       "      <td>corpus/corpus/NN</td>\n",
       "      <td>, or invade sovereign states . ​He​ ​did​ ​n't...</td>\n",
       "    </tr>\n",
       "    <tr>\n",
       "      <th>4</th>\n",
       "      <td>hinduism.co.za</td>\n",
       "      <td>corporeal being in the fullness of time , assu...</td>\n",
       "      <td>corpus/corpus/NN</td>\n",
       "      <td>. It arises and perishes in due order . And</td>\n",
       "    </tr>\n",
       "    <tr>\n",
       "      <th>...</th>\n",
       "      <td>...</td>\n",
       "      <td>...</td>\n",
       "      <td>...</td>\n",
       "      <td>...</td>\n",
       "    </tr>\n",
       "    <tr>\n",
       "      <th>849</th>\n",
       "      <td>blogs.ulster.ac.uk</td>\n",
       "      <td>University . For example , Corpus Christi Coll...</td>\n",
       "      <td>Corpus/Corpus/NP</td>\n",
       "      <td>Irish Missal , 12 th century ( MS 282 )</td>\n",
       "    </tr>\n",
       "    <tr>\n",
       "      <th>850</th>\n",
       "      <td>ginnysaustin.com</td>\n",
       "      <td>set by a youth cutting my teeth on tacos in</td>\n",
       "      <td>Corpus/Corpus/NP</td>\n",
       "      <td>Christi ( RIP Elva ’s ) . Now , I</td>\n",
       "    </tr>\n",
       "    <tr>\n",
       "      <th>851</th>\n",
       "      <td>patriotsquestion911.com</td>\n",
       "      <td>of the Geneva Conventions , and the repeal of ...</td>\n",
       "      <td>corpus/corpus/NN</td>\n",
       "      <td>( a fundamental point of law that has been with</td>\n",
       "    </tr>\n",
       "    <tr>\n",
       "      <th>852</th>\n",
       "      <td>biblicalarchaeology.org</td>\n",
       "      <td>Keel recently pointed out , even in the highly...</td>\n",
       "      <td>Corpus/Corpus/NP</td>\n",
       "      <td>of West Semitic Stamp Seals published by Nahma...</td>\n",
       "    </tr>\n",
       "    <tr>\n",
       "      <th>853</th>\n",
       "      <td>rrojasdatabank.info</td>\n",
       "      <td>developing ones , were interpreted through the...</td>\n",
       "      <td>corpus/corpus/NN</td>\n",
       "      <td>of knowledge recognized as Keynesian economics...</td>\n",
       "    </tr>\n",
       "  </tbody>\n",
       "</table>\n",
       "<p>854 rows × 4 columns</p>\n",
       "</div>"
      ],
      "text/plain": [
       "                           0  \\\n",
       "0              newadvent.org   \n",
       "1              newadvent.org   \n",
       "2              newadvent.org   \n",
       "3           freerepublic.com   \n",
       "4             hinduism.co.za   \n",
       "..                       ...   \n",
       "849       blogs.ulster.ac.uk   \n",
       "850         ginnysaustin.com   \n",
       "851  patriotsquestion911.com   \n",
       "852  biblicalarchaeology.org   \n",
       "853      rrojasdatabank.info   \n",
       "\n",
       "                                                     1                 2  \\\n",
       "0    by Theodor Mommsen , undertook its monumental ...  Corpus/Corpus/NP   \n",
       "1    Mommsen . The latter 's numerous collaborators...  Corpus/Corpus/NP   \n",
       "2    ) , concerning the preparatory work for the ab...  Corpus/Corpus/NP   \n",
       "3      , or arrest the MD assembly , or suspend habeus  corpus/corpus/NN   \n",
       "4    corporeal being in the fullness of time , assu...  corpus/corpus/NN   \n",
       "..                                                 ...               ...   \n",
       "849  University . For example , Corpus Christi Coll...  Corpus/Corpus/NP   \n",
       "850        set by a youth cutting my teeth on tacos in  Corpus/Corpus/NP   \n",
       "851  of the Geneva Conventions , and the repeal of ...  corpus/corpus/NN   \n",
       "852  Keel recently pointed out , even in the highly...  Corpus/Corpus/NP   \n",
       "853  developing ones , were interpreted through the...  corpus/corpus/NN   \n",
       "\n",
       "                                                     3  \n",
       "0    Inscriptionum Latinarum \" , it sent a flatteri...  \n",
       "1    \" , among them Edwin Bormann , the noted autho...  \n",
       "2    Inscriptionum \" , which appeared in the monthl...  \n",
       "3    , or invade sovereign states . ​He​ ​did​ ​n't...  \n",
       "4          . It arises and perishes in due order . And  \n",
       "..                                                 ...  \n",
       "849            Irish Missal , 12 th century ( MS 282 )  \n",
       "850                  Christi ( RIP Elva ’s ) . Now , I  \n",
       "851    ( a fundamental point of law that has been with  \n",
       "852  of West Semitic Stamp Seals published by Nahma...  \n",
       "853  of knowledge recognized as Keynesian economics...  \n",
       "\n",
       "[854 rows x 4 columns]"
      ]
     },
     "execution_count": 15,
     "metadata": {},
     "output_type": "execute_result"
    }
   ],
   "source": [
    "pd.read_excel(\n",
    "    \"data/concordance_corpus.xlsx\",\n",
    "    header=None\n",
    ")"
   ]
  },
  {
   "cell_type": "code",
   "execution_count": 16,
   "id": "9b8421a4",
   "metadata": {},
   "outputs": [],
   "source": [
    "pd.read_excel?"
   ]
  },
  {
   "cell_type": "code",
   "execution_count": 17,
   "id": "c92a23da",
   "metadata": {},
   "outputs": [
    {
     "data": {
      "text/html": [
       "<div>\n",
       "<style scoped>\n",
       "    .dataframe tbody tr th:only-of-type {\n",
       "        vertical-align: middle;\n",
       "    }\n",
       "\n",
       "    .dataframe tbody tr th {\n",
       "        vertical-align: top;\n",
       "    }\n",
       "\n",
       "    .dataframe thead th {\n",
       "        text-align: right;\n",
       "    }\n",
       "</style>\n",
       "<table border=\"1\" class=\"dataframe\">\n",
       "  <thead>\n",
       "    <tr style=\"text-align: right;\">\n",
       "      <th></th>\n",
       "      <th>domain</th>\n",
       "      <th>left</th>\n",
       "      <th>kwic</th>\n",
       "      <th>right</th>\n",
       "    </tr>\n",
       "  </thead>\n",
       "  <tbody>\n",
       "    <tr>\n",
       "      <th>0</th>\n",
       "      <td>newadvent.org</td>\n",
       "      <td>by Theodor Mommsen , undertook its monumental ...</td>\n",
       "      <td>Corpus/Corpus/NP</td>\n",
       "      <td>Inscriptionum Latinarum \" , it sent a flatteri...</td>\n",
       "    </tr>\n",
       "    <tr>\n",
       "      <th>1</th>\n",
       "      <td>newadvent.org</td>\n",
       "      <td>Mommsen . The latter 's numerous collaborators...</td>\n",
       "      <td>Corpus/Corpus/NP</td>\n",
       "      <td>\" , among them Edwin Bormann , the noted autho...</td>\n",
       "    </tr>\n",
       "    <tr>\n",
       "      <th>2</th>\n",
       "      <td>newadvent.org</td>\n",
       "      <td>) , concerning the preparatory work for the ab...</td>\n",
       "      <td>Corpus/Corpus/NP</td>\n",
       "      <td>Inscriptionum \" , which appeared in the monthl...</td>\n",
       "    </tr>\n",
       "    <tr>\n",
       "      <th>3</th>\n",
       "      <td>freerepublic.com</td>\n",
       "      <td>, or arrest the MD assembly , or suspend habeus</td>\n",
       "      <td>corpus/corpus/NN</td>\n",
       "      <td>, or invade sovereign states . ​He​ ​did​ ​n't...</td>\n",
       "    </tr>\n",
       "    <tr>\n",
       "      <th>4</th>\n",
       "      <td>hinduism.co.za</td>\n",
       "      <td>corporeal being in the fullness of time , assu...</td>\n",
       "      <td>corpus/corpus/NN</td>\n",
       "      <td>. It arises and perishes in due order . And</td>\n",
       "    </tr>\n",
       "    <tr>\n",
       "      <th>...</th>\n",
       "      <td>...</td>\n",
       "      <td>...</td>\n",
       "      <td>...</td>\n",
       "      <td>...</td>\n",
       "    </tr>\n",
       "    <tr>\n",
       "      <th>849</th>\n",
       "      <td>blogs.ulster.ac.uk</td>\n",
       "      <td>University . For example , Corpus Christi Coll...</td>\n",
       "      <td>Corpus/Corpus/NP</td>\n",
       "      <td>Irish Missal , 12 th century ( MS 282 )</td>\n",
       "    </tr>\n",
       "    <tr>\n",
       "      <th>850</th>\n",
       "      <td>ginnysaustin.com</td>\n",
       "      <td>set by a youth cutting my teeth on tacos in</td>\n",
       "      <td>Corpus/Corpus/NP</td>\n",
       "      <td>Christi ( RIP Elva ’s ) . Now , I</td>\n",
       "    </tr>\n",
       "    <tr>\n",
       "      <th>851</th>\n",
       "      <td>patriotsquestion911.com</td>\n",
       "      <td>of the Geneva Conventions , and the repeal of ...</td>\n",
       "      <td>corpus/corpus/NN</td>\n",
       "      <td>( a fundamental point of law that has been with</td>\n",
       "    </tr>\n",
       "    <tr>\n",
       "      <th>852</th>\n",
       "      <td>biblicalarchaeology.org</td>\n",
       "      <td>Keel recently pointed out , even in the highly...</td>\n",
       "      <td>Corpus/Corpus/NP</td>\n",
       "      <td>of West Semitic Stamp Seals published by Nahma...</td>\n",
       "    </tr>\n",
       "    <tr>\n",
       "      <th>853</th>\n",
       "      <td>rrojasdatabank.info</td>\n",
       "      <td>developing ones , were interpreted through the...</td>\n",
       "      <td>corpus/corpus/NN</td>\n",
       "      <td>of knowledge recognized as Keynesian economics...</td>\n",
       "    </tr>\n",
       "  </tbody>\n",
       "</table>\n",
       "<p>854 rows × 4 columns</p>\n",
       "</div>"
      ],
      "text/plain": [
       "                      domain  \\\n",
       "0              newadvent.org   \n",
       "1              newadvent.org   \n",
       "2              newadvent.org   \n",
       "3           freerepublic.com   \n",
       "4             hinduism.co.za   \n",
       "..                       ...   \n",
       "849       blogs.ulster.ac.uk   \n",
       "850         ginnysaustin.com   \n",
       "851  patriotsquestion911.com   \n",
       "852  biblicalarchaeology.org   \n",
       "853      rrojasdatabank.info   \n",
       "\n",
       "                                                  left              kwic  \\\n",
       "0    by Theodor Mommsen , undertook its monumental ...  Corpus/Corpus/NP   \n",
       "1    Mommsen . The latter 's numerous collaborators...  Corpus/Corpus/NP   \n",
       "2    ) , concerning the preparatory work for the ab...  Corpus/Corpus/NP   \n",
       "3      , or arrest the MD assembly , or suspend habeus  corpus/corpus/NN   \n",
       "4    corporeal being in the fullness of time , assu...  corpus/corpus/NN   \n",
       "..                                                 ...               ...   \n",
       "849  University . For example , Corpus Christi Coll...  Corpus/Corpus/NP   \n",
       "850        set by a youth cutting my teeth on tacos in  Corpus/Corpus/NP   \n",
       "851  of the Geneva Conventions , and the repeal of ...  corpus/corpus/NN   \n",
       "852  Keel recently pointed out , even in the highly...  Corpus/Corpus/NP   \n",
       "853  developing ones , were interpreted through the...  corpus/corpus/NN   \n",
       "\n",
       "                                                 right  \n",
       "0    Inscriptionum Latinarum \" , it sent a flatteri...  \n",
       "1    \" , among them Edwin Bormann , the noted autho...  \n",
       "2    Inscriptionum \" , which appeared in the monthl...  \n",
       "3    , or invade sovereign states . ​He​ ​did​ ​n't...  \n",
       "4          . It arises and perishes in due order . And  \n",
       "..                                                 ...  \n",
       "849            Irish Missal , 12 th century ( MS 282 )  \n",
       "850                  Christi ( RIP Elva ’s ) . Now , I  \n",
       "851    ( a fundamental point of law that has been with  \n",
       "852  of West Semitic Stamp Seals published by Nahma...  \n",
       "853  of knowledge recognized as Keynesian economics...  \n",
       "\n",
       "[854 rows x 4 columns]"
      ]
     },
     "execution_count": 17,
     "metadata": {},
     "output_type": "execute_result"
    }
   ],
   "source": [
    "df = pd.read_excel(\n",
    "    \"data/concordance_corpus.xlsx\",\n",
    "    header=None,\n",
    "    names=[\"domain\", \"left\", \"kwic\", \"right\"]\n",
    ")\n",
    "df"
   ]
  },
  {
   "cell_type": "code",
   "execution_count": 18,
   "id": "87ee2abf",
   "metadata": {},
   "outputs": [
    {
     "data": {
      "text/plain": [
       "0                newadvent.org\n",
       "1                newadvent.org\n",
       "2                newadvent.org\n",
       "3             freerepublic.com\n",
       "4               hinduism.co.za\n",
       "                ...           \n",
       "849         blogs.ulster.ac.uk\n",
       "850           ginnysaustin.com\n",
       "851    patriotsquestion911.com\n",
       "852    biblicalarchaeology.org\n",
       "853        rrojasdatabank.info\n",
       "Name: domain, Length: 854, dtype: object"
      ]
     },
     "execution_count": 18,
     "metadata": {},
     "output_type": "execute_result"
    }
   ],
   "source": [
    "df[\"domain\"]"
   ]
  },
  {
   "cell_type": "code",
   "execution_count": 19,
   "id": "1aac3801",
   "metadata": {},
   "outputs": [
    {
     "data": {
      "text/plain": [
       "234"
      ]
     },
     "execution_count": 19,
     "metadata": {},
     "output_type": "execute_result"
    }
   ],
   "source": [
    "len(set(df[\"domain\"]))"
   ]
  },
  {
   "cell_type": "code",
   "execution_count": 20,
   "id": "20e047e9",
   "metadata": {},
   "outputs": [
    {
     "data": {
      "text/html": [
       "<div>\n",
       "<style scoped>\n",
       "    .dataframe tbody tr th:only-of-type {\n",
       "        vertical-align: middle;\n",
       "    }\n",
       "\n",
       "    .dataframe tbody tr th {\n",
       "        vertical-align: top;\n",
       "    }\n",
       "\n",
       "    .dataframe thead th {\n",
       "        text-align: right;\n",
       "    }\n",
       "</style>\n",
       "<table border=\"1\" class=\"dataframe\">\n",
       "  <thead>\n",
       "    <tr style=\"text-align: right;\">\n",
       "      <th></th>\n",
       "      <th>domain</th>\n",
       "      <th>kwic</th>\n",
       "    </tr>\n",
       "  </thead>\n",
       "  <tbody>\n",
       "    <tr>\n",
       "      <th>0</th>\n",
       "      <td>newadvent.org</td>\n",
       "      <td>Corpus/Corpus/NP</td>\n",
       "    </tr>\n",
       "    <tr>\n",
       "      <th>1</th>\n",
       "      <td>newadvent.org</td>\n",
       "      <td>Corpus/Corpus/NP</td>\n",
       "    </tr>\n",
       "    <tr>\n",
       "      <th>2</th>\n",
       "      <td>newadvent.org</td>\n",
       "      <td>Corpus/Corpus/NP</td>\n",
       "    </tr>\n",
       "    <tr>\n",
       "      <th>3</th>\n",
       "      <td>freerepublic.com</td>\n",
       "      <td>corpus/corpus/NN</td>\n",
       "    </tr>\n",
       "    <tr>\n",
       "      <th>4</th>\n",
       "      <td>hinduism.co.za</td>\n",
       "      <td>corpus/corpus/NN</td>\n",
       "    </tr>\n",
       "    <tr>\n",
       "      <th>...</th>\n",
       "      <td>...</td>\n",
       "      <td>...</td>\n",
       "    </tr>\n",
       "    <tr>\n",
       "      <th>849</th>\n",
       "      <td>blogs.ulster.ac.uk</td>\n",
       "      <td>Corpus/Corpus/NP</td>\n",
       "    </tr>\n",
       "    <tr>\n",
       "      <th>850</th>\n",
       "      <td>ginnysaustin.com</td>\n",
       "      <td>Corpus/Corpus/NP</td>\n",
       "    </tr>\n",
       "    <tr>\n",
       "      <th>851</th>\n",
       "      <td>patriotsquestion911.com</td>\n",
       "      <td>corpus/corpus/NN</td>\n",
       "    </tr>\n",
       "    <tr>\n",
       "      <th>852</th>\n",
       "      <td>biblicalarchaeology.org</td>\n",
       "      <td>Corpus/Corpus/NP</td>\n",
       "    </tr>\n",
       "    <tr>\n",
       "      <th>853</th>\n",
       "      <td>rrojasdatabank.info</td>\n",
       "      <td>corpus/corpus/NN</td>\n",
       "    </tr>\n",
       "  </tbody>\n",
       "</table>\n",
       "<p>854 rows × 2 columns</p>\n",
       "</div>"
      ],
      "text/plain": [
       "                      domain              kwic\n",
       "0              newadvent.org  Corpus/Corpus/NP\n",
       "1              newadvent.org  Corpus/Corpus/NP\n",
       "2              newadvent.org  Corpus/Corpus/NP\n",
       "3           freerepublic.com  corpus/corpus/NN\n",
       "4             hinduism.co.za  corpus/corpus/NN\n",
       "..                       ...               ...\n",
       "849       blogs.ulster.ac.uk  Corpus/Corpus/NP\n",
       "850         ginnysaustin.com  Corpus/Corpus/NP\n",
       "851  patriotsquestion911.com  corpus/corpus/NN\n",
       "852  biblicalarchaeology.org  Corpus/Corpus/NP\n",
       "853      rrojasdatabank.info  corpus/corpus/NN\n",
       "\n",
       "[854 rows x 2 columns]"
      ]
     },
     "execution_count": 20,
     "metadata": {},
     "output_type": "execute_result"
    }
   ],
   "source": [
    "df[[\"domain\", \"kwic\"]]"
   ]
  },
  {
   "cell_type": "code",
   "execution_count": 21,
   "id": "a99fab48",
   "metadata": {},
   "outputs": [
    {
     "data": {
      "text/html": [
       "<div>\n",
       "<style scoped>\n",
       "    .dataframe tbody tr th:only-of-type {\n",
       "        vertical-align: middle;\n",
       "    }\n",
       "\n",
       "    .dataframe tbody tr th {\n",
       "        vertical-align: top;\n",
       "    }\n",
       "\n",
       "    .dataframe thead th {\n",
       "        text-align: right;\n",
       "    }\n",
       "</style>\n",
       "<table border=\"1\" class=\"dataframe\">\n",
       "  <thead>\n",
       "    <tr style=\"text-align: right;\">\n",
       "      <th></th>\n",
       "      <th>domain</th>\n",
       "      <th>left</th>\n",
       "      <th>kwic</th>\n",
       "    </tr>\n",
       "  </thead>\n",
       "  <tbody>\n",
       "    <tr>\n",
       "      <th>1</th>\n",
       "      <td>newadvent.org</td>\n",
       "      <td>Mommsen . The latter 's numerous collaborators...</td>\n",
       "      <td>Corpus/Corpus/NP</td>\n",
       "    </tr>\n",
       "    <tr>\n",
       "      <th>2</th>\n",
       "      <td>newadvent.org</td>\n",
       "      <td>) , concerning the preparatory work for the ab...</td>\n",
       "      <td>Corpus/Corpus/NP</td>\n",
       "    </tr>\n",
       "    <tr>\n",
       "      <th>3</th>\n",
       "      <td>freerepublic.com</td>\n",
       "      <td>, or arrest the MD assembly , or suspend habeus</td>\n",
       "      <td>corpus/corpus/NN</td>\n",
       "    </tr>\n",
       "  </tbody>\n",
       "</table>\n",
       "</div>"
      ],
      "text/plain": [
       "             domain                                               left  \\\n",
       "1     newadvent.org  Mommsen . The latter 's numerous collaborators...   \n",
       "2     newadvent.org  ) , concerning the preparatory work for the ab...   \n",
       "3  freerepublic.com    , or arrest the MD assembly , or suspend habeus   \n",
       "\n",
       "               kwic  \n",
       "1  Corpus/Corpus/NP  \n",
       "2  Corpus/Corpus/NP  \n",
       "3  corpus/corpus/NN  "
      ]
     },
     "execution_count": 21,
     "metadata": {},
     "output_type": "execute_result"
    }
   ],
   "source": [
    "df.loc[1:3, \"domain\":\"kwic\"]"
   ]
  },
  {
   "cell_type": "code",
   "execution_count": 22,
   "id": "ef70007d",
   "metadata": {},
   "outputs": [
    {
     "data": {
      "text/html": [
       "<div>\n",
       "<style scoped>\n",
       "    .dataframe tbody tr th:only-of-type {\n",
       "        vertical-align: middle;\n",
       "    }\n",
       "\n",
       "    .dataframe tbody tr th {\n",
       "        vertical-align: top;\n",
       "    }\n",
       "\n",
       "    .dataframe thead th {\n",
       "        text-align: right;\n",
       "    }\n",
       "</style>\n",
       "<table border=\"1\" class=\"dataframe\">\n",
       "  <thead>\n",
       "    <tr style=\"text-align: right;\">\n",
       "      <th></th>\n",
       "      <th>domain</th>\n",
       "      <th>kwic</th>\n",
       "    </tr>\n",
       "  </thead>\n",
       "  <tbody>\n",
       "    <tr>\n",
       "      <th>1</th>\n",
       "      <td>newadvent.org</td>\n",
       "      <td>Corpus/Corpus/NP</td>\n",
       "    </tr>\n",
       "    <tr>\n",
       "      <th>2</th>\n",
       "      <td>newadvent.org</td>\n",
       "      <td>Corpus/Corpus/NP</td>\n",
       "    </tr>\n",
       "    <tr>\n",
       "      <th>3</th>\n",
       "      <td>freerepublic.com</td>\n",
       "      <td>corpus/corpus/NN</td>\n",
       "    </tr>\n",
       "  </tbody>\n",
       "</table>\n",
       "</div>"
      ],
      "text/plain": [
       "             domain              kwic\n",
       "1     newadvent.org  Corpus/Corpus/NP\n",
       "2     newadvent.org  Corpus/Corpus/NP\n",
       "3  freerepublic.com  corpus/corpus/NN"
      ]
     },
     "execution_count": 22,
     "metadata": {},
     "output_type": "execute_result"
    }
   ],
   "source": [
    "df.loc[1:3, [\"domain\", \"kwic\"]]"
   ]
  },
  {
   "cell_type": "code",
   "execution_count": 23,
   "id": "d2128379",
   "metadata": {},
   "outputs": [
    {
     "data": {
      "text/plain": [
       "0      Corpus/Corpus/NP\n",
       "1      Corpus/Corpus/NP\n",
       "2      Corpus/Corpus/NP\n",
       "3      corpus/corpus/NN\n",
       "4      corpus/corpus/NN\n",
       "             ...       \n",
       "849    Corpus/Corpus/NP\n",
       "850    Corpus/Corpus/NP\n",
       "851    corpus/corpus/NN\n",
       "852    Corpus/Corpus/NP\n",
       "853    corpus/corpus/NN\n",
       "Name: kwic, Length: 854, dtype: object"
      ]
     },
     "execution_count": 23,
     "metadata": {},
     "output_type": "execute_result"
    }
   ],
   "source": [
    "df.kwic"
   ]
  },
  {
   "cell_type": "code",
   "execution_count": 24,
   "id": "f89c8b8d",
   "metadata": {},
   "outputs": [
    {
     "data": {
      "text/plain": [
       "0       True\n",
       "1       True\n",
       "2       True\n",
       "3      False\n",
       "4      False\n",
       "       ...  \n",
       "849    False\n",
       "850    False\n",
       "851    False\n",
       "852    False\n",
       "853    False\n",
       "Name: domain, Length: 854, dtype: bool"
      ]
     },
     "execution_count": 24,
     "metadata": {},
     "output_type": "execute_result"
    }
   ],
   "source": [
    "df.domain == \"newadvent.org\""
   ]
  },
  {
   "cell_type": "code",
   "execution_count": 25,
   "id": "b85c3cb9",
   "metadata": {},
   "outputs": [
    {
     "data": {
      "text/html": [
       "<div>\n",
       "<style scoped>\n",
       "    .dataframe tbody tr th:only-of-type {\n",
       "        vertical-align: middle;\n",
       "    }\n",
       "\n",
       "    .dataframe tbody tr th {\n",
       "        vertical-align: top;\n",
       "    }\n",
       "\n",
       "    .dataframe thead th {\n",
       "        text-align: right;\n",
       "    }\n",
       "</style>\n",
       "<table border=\"1\" class=\"dataframe\">\n",
       "  <thead>\n",
       "    <tr style=\"text-align: right;\">\n",
       "      <th></th>\n",
       "      <th>domain</th>\n",
       "      <th>left</th>\n",
       "      <th>kwic</th>\n",
       "      <th>right</th>\n",
       "    </tr>\n",
       "  </thead>\n",
       "  <tbody>\n",
       "    <tr>\n",
       "      <th>1</th>\n",
       "      <td>newadvent.org</td>\n",
       "      <td>Mommsen . The latter 's numerous collaborators...</td>\n",
       "      <td>Corpus/Corpus/NP</td>\n",
       "      <td>\" , among them Edwin Bormann , the noted autho...</td>\n",
       "    </tr>\n",
       "    <tr>\n",
       "      <th>2</th>\n",
       "      <td>newadvent.org</td>\n",
       "      <td>) , concerning the preparatory work for the ab...</td>\n",
       "      <td>Corpus/Corpus/NP</td>\n",
       "      <td>Inscriptionum \" , which appeared in the monthl...</td>\n",
       "    </tr>\n",
       "    <tr>\n",
       "      <th>3</th>\n",
       "      <td>freerepublic.com</td>\n",
       "      <td>, or arrest the MD assembly , or suspend habeus</td>\n",
       "      <td>corpus/corpus/NN</td>\n",
       "      <td>, or invade sovereign states . ​He​ ​did​ ​n't...</td>\n",
       "    </tr>\n",
       "  </tbody>\n",
       "</table>\n",
       "</div>"
      ],
      "text/plain": [
       "             domain                                               left  \\\n",
       "1     newadvent.org  Mommsen . The latter 's numerous collaborators...   \n",
       "2     newadvent.org  ) , concerning the preparatory work for the ab...   \n",
       "3  freerepublic.com    , or arrest the MD assembly , or suspend habeus   \n",
       "\n",
       "               kwic                                              right  \n",
       "1  Corpus/Corpus/NP  \" , among them Edwin Bormann , the noted autho...  \n",
       "2  Corpus/Corpus/NP  Inscriptionum \" , which appeared in the monthl...  \n",
       "3  corpus/corpus/NN  , or invade sovereign states . ​He​ ​did​ ​n't...  "
      ]
     },
     "execution_count": 25,
     "metadata": {},
     "output_type": "execute_result"
    }
   ],
   "source": [
    "df.loc[1:3]"
   ]
  },
  {
   "cell_type": "code",
   "execution_count": 26,
   "id": "7d54c979",
   "metadata": {},
   "outputs": [
    {
     "data": {
      "text/html": [
       "<div>\n",
       "<style scoped>\n",
       "    .dataframe tbody tr th:only-of-type {\n",
       "        vertical-align: middle;\n",
       "    }\n",
       "\n",
       "    .dataframe tbody tr th {\n",
       "        vertical-align: top;\n",
       "    }\n",
       "\n",
       "    .dataframe thead th {\n",
       "        text-align: right;\n",
       "    }\n",
       "</style>\n",
       "<table border=\"1\" class=\"dataframe\">\n",
       "  <thead>\n",
       "    <tr style=\"text-align: right;\">\n",
       "      <th></th>\n",
       "      <th>domain</th>\n",
       "      <th>left</th>\n",
       "      <th>kwic</th>\n",
       "      <th>right</th>\n",
       "    </tr>\n",
       "  </thead>\n",
       "  <tbody>\n",
       "    <tr>\n",
       "      <th>0</th>\n",
       "      <td>newadvent.org</td>\n",
       "      <td>by Theodor Mommsen , undertook its monumental ...</td>\n",
       "      <td>Corpus/Corpus/NP</td>\n",
       "      <td>Inscriptionum Latinarum \" , it sent a flatteri...</td>\n",
       "    </tr>\n",
       "    <tr>\n",
       "      <th>1</th>\n",
       "      <td>newadvent.org</td>\n",
       "      <td>Mommsen . The latter 's numerous collaborators...</td>\n",
       "      <td>Corpus/Corpus/NP</td>\n",
       "      <td>\" , among them Edwin Bormann , the noted autho...</td>\n",
       "    </tr>\n",
       "    <tr>\n",
       "      <th>2</th>\n",
       "      <td>newadvent.org</td>\n",
       "      <td>) , concerning the preparatory work for the ab...</td>\n",
       "      <td>Corpus/Corpus/NP</td>\n",
       "      <td>Inscriptionum \" , which appeared in the monthl...</td>\n",
       "    </tr>\n",
       "    <tr>\n",
       "      <th>155</th>\n",
       "      <td>newadvent.org</td>\n",
       "      <td>made their way into the earlier editions of the \"</td>\n",
       "      <td>Corpus/Corpus/NP</td>\n",
       "      <td>Juris Civilis \" , the \" Corpus Juris Canonici \"</td>\n",
       "    </tr>\n",
       "    <tr>\n",
       "      <th>156</th>\n",
       "      <td>newadvent.org</td>\n",
       "      <td>of the \" Corpus Juris Civilis \" , the \"</td>\n",
       "      <td>Corpus/Corpus/NP</td>\n",
       "      <td>Juris Canonici \" , and the large collections o...</td>\n",
       "    </tr>\n",
       "    <tr>\n",
       "      <th>308</th>\n",
       "      <td>newadvent.org</td>\n",
       "      <td>deceased : e.g. QUI LEGIS , ORA PRO EO (</td>\n",
       "      <td>Corpus/Corpus/NP</td>\n",
       "      <td>Inscript . Lat . , X , n. 3312 )</td>\n",
       "    </tr>\n",
       "  </tbody>\n",
       "</table>\n",
       "</div>"
      ],
      "text/plain": [
       "            domain                                               left  \\\n",
       "0    newadvent.org  by Theodor Mommsen , undertook its monumental ...   \n",
       "1    newadvent.org  Mommsen . The latter 's numerous collaborators...   \n",
       "2    newadvent.org  ) , concerning the preparatory work for the ab...   \n",
       "155  newadvent.org  made their way into the earlier editions of the \"   \n",
       "156  newadvent.org            of the \" Corpus Juris Civilis \" , the \"   \n",
       "308  newadvent.org           deceased : e.g. QUI LEGIS , ORA PRO EO (   \n",
       "\n",
       "                 kwic                                              right  \n",
       "0    Corpus/Corpus/NP  Inscriptionum Latinarum \" , it sent a flatteri...  \n",
       "1    Corpus/Corpus/NP  \" , among them Edwin Bormann , the noted autho...  \n",
       "2    Corpus/Corpus/NP  Inscriptionum \" , which appeared in the monthl...  \n",
       "155  Corpus/Corpus/NP    Juris Civilis \" , the \" Corpus Juris Canonici \"  \n",
       "156  Corpus/Corpus/NP  Juris Canonici \" , and the large collections o...  \n",
       "308  Corpus/Corpus/NP                   Inscript . Lat . , X , n. 3312 )  "
      ]
     },
     "execution_count": 26,
     "metadata": {},
     "output_type": "execute_result"
    }
   ],
   "source": [
    "df.loc[df.domain == \"newadvent.org\"]"
   ]
  },
  {
   "cell_type": "code",
   "execution_count": 27,
   "id": "5fbaf8bc",
   "metadata": {},
   "outputs": [
    {
     "data": {
      "text/plain": [
       "<pandas.core.indexing._LocIndexer at 0x7f08f08b1d10>"
      ]
     },
     "execution_count": 27,
     "metadata": {},
     "output_type": "execute_result"
    }
   ],
   "source": [
    "df.loc"
   ]
  },
  {
   "cell_type": "code",
   "execution_count": 28,
   "id": "be84aaa6",
   "metadata": {},
   "outputs": [
    {
     "data": {
      "text/html": [
       "<div>\n",
       "<style scoped>\n",
       "    .dataframe tbody tr th:only-of-type {\n",
       "        vertical-align: middle;\n",
       "    }\n",
       "\n",
       "    .dataframe tbody tr th {\n",
       "        vertical-align: top;\n",
       "    }\n",
       "\n",
       "    .dataframe thead th {\n",
       "        text-align: right;\n",
       "    }\n",
       "</style>\n",
       "<table border=\"1\" class=\"dataframe\">\n",
       "  <thead>\n",
       "    <tr style=\"text-align: right;\">\n",
       "      <th></th>\n",
       "      <th>domain</th>\n",
       "      <th>left</th>\n",
       "      <th>kwic</th>\n",
       "      <th>right</th>\n",
       "    </tr>\n",
       "  </thead>\n",
       "  <tbody>\n",
       "    <tr>\n",
       "      <th>0</th>\n",
       "      <td>newadvent.org</td>\n",
       "      <td>by Theodor Mommsen , undertook its monumental ...</td>\n",
       "      <td>Corpus/Corpus/NP</td>\n",
       "      <td>Inscriptionum Latinarum \" , it sent a flatteri...</td>\n",
       "    </tr>\n",
       "    <tr>\n",
       "      <th>1</th>\n",
       "      <td>newadvent.org</td>\n",
       "      <td>Mommsen . The latter 's numerous collaborators...</td>\n",
       "      <td>Corpus/Corpus/NP</td>\n",
       "      <td>\" , among them Edwin Bormann , the noted autho...</td>\n",
       "    </tr>\n",
       "    <tr>\n",
       "      <th>2</th>\n",
       "      <td>newadvent.org</td>\n",
       "      <td>) , concerning the preparatory work for the ab...</td>\n",
       "      <td>Corpus/Corpus/NP</td>\n",
       "      <td>Inscriptionum \" , which appeared in the monthl...</td>\n",
       "    </tr>\n",
       "    <tr>\n",
       "      <th>155</th>\n",
       "      <td>newadvent.org</td>\n",
       "      <td>made their way into the earlier editions of the \"</td>\n",
       "      <td>Corpus/Corpus/NP</td>\n",
       "      <td>Juris Civilis \" , the \" Corpus Juris Canonici \"</td>\n",
       "    </tr>\n",
       "    <tr>\n",
       "      <th>156</th>\n",
       "      <td>newadvent.org</td>\n",
       "      <td>of the \" Corpus Juris Civilis \" , the \"</td>\n",
       "      <td>Corpus/Corpus/NP</td>\n",
       "      <td>Juris Canonici \" , and the large collections o...</td>\n",
       "    </tr>\n",
       "    <tr>\n",
       "      <th>308</th>\n",
       "      <td>newadvent.org</td>\n",
       "      <td>deceased : e.g. QUI LEGIS , ORA PRO EO (</td>\n",
       "      <td>Corpus/Corpus/NP</td>\n",
       "      <td>Inscript . Lat . , X , n. 3312 )</td>\n",
       "    </tr>\n",
       "  </tbody>\n",
       "</table>\n",
       "</div>"
      ],
      "text/plain": [
       "            domain                                               left  \\\n",
       "0    newadvent.org  by Theodor Mommsen , undertook its monumental ...   \n",
       "1    newadvent.org  Mommsen . The latter 's numerous collaborators...   \n",
       "2    newadvent.org  ) , concerning the preparatory work for the ab...   \n",
       "155  newadvent.org  made their way into the earlier editions of the \"   \n",
       "156  newadvent.org            of the \" Corpus Juris Civilis \" , the \"   \n",
       "308  newadvent.org           deceased : e.g. QUI LEGIS , ORA PRO EO (   \n",
       "\n",
       "                 kwic                                              right  \n",
       "0    Corpus/Corpus/NP  Inscriptionum Latinarum \" , it sent a flatteri...  \n",
       "1    Corpus/Corpus/NP  \" , among them Edwin Bormann , the noted autho...  \n",
       "2    Corpus/Corpus/NP  Inscriptionum \" , which appeared in the monthl...  \n",
       "155  Corpus/Corpus/NP    Juris Civilis \" , the \" Corpus Juris Canonici \"  \n",
       "156  Corpus/Corpus/NP  Juris Canonici \" , and the large collections o...  \n",
       "308  Corpus/Corpus/NP                   Inscript . Lat . , X , n. 3312 )  "
      ]
     },
     "execution_count": 28,
     "metadata": {},
     "output_type": "execute_result"
    }
   ],
   "source": [
    "df.query(\"domain == 'newadvent.org'\")"
   ]
  },
  {
   "cell_type": "code",
   "execution_count": 29,
   "id": "3f4b5cd8",
   "metadata": {},
   "outputs": [
    {
     "data": {
      "text/plain": [
       "0       True\n",
       "1       True\n",
       "2       True\n",
       "3      False\n",
       "4      False\n",
       "       ...  \n",
       "849    False\n",
       "850    False\n",
       "851    False\n",
       "852     True\n",
       "853    False\n",
       "Name: domain, Length: 854, dtype: bool"
      ]
     },
     "execution_count": 29,
     "metadata": {},
     "output_type": "execute_result"
    }
   ],
   "source": [
    "df.domain.str.endswith(\".org\")"
   ]
  },
  {
   "cell_type": "code",
   "execution_count": 30,
   "id": "d028c76e",
   "metadata": {},
   "outputs": [
    {
     "data": {
      "text/html": [
       "<div>\n",
       "<style scoped>\n",
       "    .dataframe tbody tr th:only-of-type {\n",
       "        vertical-align: middle;\n",
       "    }\n",
       "\n",
       "    .dataframe tbody tr th {\n",
       "        vertical-align: top;\n",
       "    }\n",
       "\n",
       "    .dataframe thead th {\n",
       "        text-align: right;\n",
       "    }\n",
       "</style>\n",
       "<table border=\"1\" class=\"dataframe\">\n",
       "  <thead>\n",
       "    <tr style=\"text-align: right;\">\n",
       "      <th></th>\n",
       "      <th>domain</th>\n",
       "      <th>left</th>\n",
       "      <th>kwic</th>\n",
       "      <th>right</th>\n",
       "    </tr>\n",
       "  </thead>\n",
       "  <tbody>\n",
       "    <tr>\n",
       "      <th>0</th>\n",
       "      <td>newadvent.org</td>\n",
       "      <td>by Theodor Mommsen , undertook its monumental ...</td>\n",
       "      <td>Corpus/Corpus/NP</td>\n",
       "      <td>Inscriptionum Latinarum \" , it sent a flatteri...</td>\n",
       "    </tr>\n",
       "    <tr>\n",
       "      <th>1</th>\n",
       "      <td>newadvent.org</td>\n",
       "      <td>Mommsen . The latter 's numerous collaborators...</td>\n",
       "      <td>Corpus/Corpus/NP</td>\n",
       "      <td>\" , among them Edwin Bormann , the noted autho...</td>\n",
       "    </tr>\n",
       "    <tr>\n",
       "      <th>2</th>\n",
       "      <td>newadvent.org</td>\n",
       "      <td>) , concerning the preparatory work for the ab...</td>\n",
       "      <td>Corpus/Corpus/NP</td>\n",
       "      <td>Inscriptionum \" , which appeared in the monthl...</td>\n",
       "    </tr>\n",
       "    <tr>\n",
       "      <th>23</th>\n",
       "      <td>thefullwiki.org</td>\n",
       "      <td>the fundamental rule from which can be deduced...</td>\n",
       "      <td>corpus/corpus/NN</td>\n",
       "      <td>of libertarian theory . [ 13 ] ” W. D.</td>\n",
       "    </tr>\n",
       "    <tr>\n",
       "      <th>25</th>\n",
       "      <td>schools-wikipedia.org</td>\n",
       "      <td>of the thousands of extant inscriptions are pu...</td>\n",
       "      <td>Corpus/Corpus/NP</td>\n",
       "      <td>of Indus Seals and Inscriptions ( 1987 , 1991 ,</td>\n",
       "    </tr>\n",
       "    <tr>\n",
       "      <th>...</th>\n",
       "      <td>...</td>\n",
       "      <td>...</td>\n",
       "      <td>...</td>\n",
       "      <td>...</td>\n",
       "    </tr>\n",
       "    <tr>\n",
       "      <th>835</th>\n",
       "      <td>obdurodon.org</td>\n",
       "      <td>goal is to provide scholars with a large but m...</td>\n",
       "      <td>corpus/corpus/NN</td>\n",
       "      <td>of data for comparative study of calendar trad...</td>\n",
       "    </tr>\n",
       "    <tr>\n",
       "      <th>838</th>\n",
       "      <td>realizingrights.org</td>\n",
       "      <td>adopt the principles and rights outlined in th...</td>\n",
       "      <td>corpus/corpus/NN</td>\n",
       "      <td>as a set of public health ethics then we are</td>\n",
       "    </tr>\n",
       "    <tr>\n",
       "      <th>843</th>\n",
       "      <td>unispal.un.org</td>\n",
       "      <td>, venerated by Christians , Jews and Moslems , a</td>\n",
       "      <td>corpus/corpus/NN</td>\n",
       "      <td>separatum , which should be under internationa...</td>\n",
       "    </tr>\n",
       "    <tr>\n",
       "      <th>844</th>\n",
       "      <td>home.igc.org</td>\n",
       "      <td>heads of state Blocking the small arms treaty ...</td>\n",
       "      <td>corpus/corpus/NN</td>\n",
       "      <td>to prisoners on Guantanamo and other secret pr...</td>\n",
       "    </tr>\n",
       "    <tr>\n",
       "      <th>852</th>\n",
       "      <td>biblicalarchaeology.org</td>\n",
       "      <td>Keel recently pointed out , even in the highly...</td>\n",
       "      <td>Corpus/Corpus/NP</td>\n",
       "      <td>of West Semitic Stamp Seals published by Nahma...</td>\n",
       "    </tr>\n",
       "  </tbody>\n",
       "</table>\n",
       "<p>161 rows × 4 columns</p>\n",
       "</div>"
      ],
      "text/plain": [
       "                      domain  \\\n",
       "0              newadvent.org   \n",
       "1              newadvent.org   \n",
       "2              newadvent.org   \n",
       "23           thefullwiki.org   \n",
       "25     schools-wikipedia.org   \n",
       "..                       ...   \n",
       "835            obdurodon.org   \n",
       "838      realizingrights.org   \n",
       "843           unispal.un.org   \n",
       "844             home.igc.org   \n",
       "852  biblicalarchaeology.org   \n",
       "\n",
       "                                                  left              kwic  \\\n",
       "0    by Theodor Mommsen , undertook its monumental ...  Corpus/Corpus/NP   \n",
       "1    Mommsen . The latter 's numerous collaborators...  Corpus/Corpus/NP   \n",
       "2    ) , concerning the preparatory work for the ab...  Corpus/Corpus/NP   \n",
       "23   the fundamental rule from which can be deduced...  corpus/corpus/NN   \n",
       "25   of the thousands of extant inscriptions are pu...  Corpus/Corpus/NP   \n",
       "..                                                 ...               ...   \n",
       "835  goal is to provide scholars with a large but m...  corpus/corpus/NN   \n",
       "838  adopt the principles and rights outlined in th...  corpus/corpus/NN   \n",
       "843   , venerated by Christians , Jews and Moslems , a  corpus/corpus/NN   \n",
       "844  heads of state Blocking the small arms treaty ...  corpus/corpus/NN   \n",
       "852  Keel recently pointed out , even in the highly...  Corpus/Corpus/NP   \n",
       "\n",
       "                                                 right  \n",
       "0    Inscriptionum Latinarum \" , it sent a flatteri...  \n",
       "1    \" , among them Edwin Bormann , the noted autho...  \n",
       "2    Inscriptionum \" , which appeared in the monthl...  \n",
       "23              of libertarian theory . [ 13 ] ” W. D.  \n",
       "25     of Indus Seals and Inscriptions ( 1987 , 1991 ,  \n",
       "..                                                 ...  \n",
       "835  of data for comparative study of calendar trad...  \n",
       "838       as a set of public health ethics then we are  \n",
       "843  separatum , which should be under internationa...  \n",
       "844  to prisoners on Guantanamo and other secret pr...  \n",
       "852  of West Semitic Stamp Seals published by Nahma...  \n",
       "\n",
       "[161 rows x 4 columns]"
      ]
     },
     "execution_count": 30,
     "metadata": {},
     "output_type": "execute_result"
    }
   ],
   "source": [
    "df.loc[df.domain.str.endswith(\".org\")]"
   ]
  },
  {
   "cell_type": "code",
   "execution_count": 31,
   "id": "2a7248b8",
   "metadata": {},
   "outputs": [
    {
     "data": {
      "text/plain": [
       "0      [Corpus, Corpus, NP]\n",
       "1      [Corpus, Corpus, NP]\n",
       "2      [Corpus, Corpus, NP]\n",
       "3      [corpus, corpus, NN]\n",
       "4      [corpus, corpus, NN]\n",
       "               ...         \n",
       "849    [Corpus, Corpus, NP]\n",
       "850    [Corpus, Corpus, NP]\n",
       "851    [corpus, corpus, NN]\n",
       "852    [Corpus, Corpus, NP]\n",
       "853    [corpus, corpus, NN]\n",
       "Name: kwic, Length: 854, dtype: object"
      ]
     },
     "execution_count": 31,
     "metadata": {},
     "output_type": "execute_result"
    }
   ],
   "source": [
    "df.kwic.str.split(\"/\")"
   ]
  },
  {
   "cell_type": "code",
   "execution_count": 32,
   "id": "42762907",
   "metadata": {},
   "outputs": [
    {
     "name": "stdout",
     "output_type": "stream",
     "text": [
      "['Corpus', 'Corpus', 'NP']\n"
     ]
    }
   ],
   "source": [
    "for row in df.kwic.str.split(\"/\"):\n",
    "    print(row)\n",
    "    break"
   ]
  },
  {
   "cell_type": "code",
   "execution_count": 33,
   "id": "8d75f88b",
   "metadata": {},
   "outputs": [
    {
     "data": {
      "text/html": [
       "<div>\n",
       "<style scoped>\n",
       "    .dataframe tbody tr th:only-of-type {\n",
       "        vertical-align: middle;\n",
       "    }\n",
       "\n",
       "    .dataframe tbody tr th {\n",
       "        vertical-align: top;\n",
       "    }\n",
       "\n",
       "    .dataframe thead th {\n",
       "        text-align: right;\n",
       "    }\n",
       "</style>\n",
       "<table border=\"1\" class=\"dataframe\">\n",
       "  <thead>\n",
       "    <tr style=\"text-align: right;\">\n",
       "      <th></th>\n",
       "      <th>0</th>\n",
       "      <th>1</th>\n",
       "      <th>2</th>\n",
       "    </tr>\n",
       "  </thead>\n",
       "  <tbody>\n",
       "    <tr>\n",
       "      <th>0</th>\n",
       "      <td>Corpus</td>\n",
       "      <td>Corpus</td>\n",
       "      <td>NP</td>\n",
       "    </tr>\n",
       "    <tr>\n",
       "      <th>1</th>\n",
       "      <td>Corpus</td>\n",
       "      <td>Corpus</td>\n",
       "      <td>NP</td>\n",
       "    </tr>\n",
       "    <tr>\n",
       "      <th>2</th>\n",
       "      <td>Corpus</td>\n",
       "      <td>Corpus</td>\n",
       "      <td>NP</td>\n",
       "    </tr>\n",
       "    <tr>\n",
       "      <th>3</th>\n",
       "      <td>corpus</td>\n",
       "      <td>corpus</td>\n",
       "      <td>NN</td>\n",
       "    </tr>\n",
       "    <tr>\n",
       "      <th>4</th>\n",
       "      <td>corpus</td>\n",
       "      <td>corpus</td>\n",
       "      <td>NN</td>\n",
       "    </tr>\n",
       "    <tr>\n",
       "      <th>...</th>\n",
       "      <td>...</td>\n",
       "      <td>...</td>\n",
       "      <td>...</td>\n",
       "    </tr>\n",
       "    <tr>\n",
       "      <th>849</th>\n",
       "      <td>Corpus</td>\n",
       "      <td>Corpus</td>\n",
       "      <td>NP</td>\n",
       "    </tr>\n",
       "    <tr>\n",
       "      <th>850</th>\n",
       "      <td>Corpus</td>\n",
       "      <td>Corpus</td>\n",
       "      <td>NP</td>\n",
       "    </tr>\n",
       "    <tr>\n",
       "      <th>851</th>\n",
       "      <td>corpus</td>\n",
       "      <td>corpus</td>\n",
       "      <td>NN</td>\n",
       "    </tr>\n",
       "    <tr>\n",
       "      <th>852</th>\n",
       "      <td>Corpus</td>\n",
       "      <td>Corpus</td>\n",
       "      <td>NP</td>\n",
       "    </tr>\n",
       "    <tr>\n",
       "      <th>853</th>\n",
       "      <td>corpus</td>\n",
       "      <td>corpus</td>\n",
       "      <td>NN</td>\n",
       "    </tr>\n",
       "  </tbody>\n",
       "</table>\n",
       "<p>854 rows × 3 columns</p>\n",
       "</div>"
      ],
      "text/plain": [
       "          0       1   2\n",
       "0    Corpus  Corpus  NP\n",
       "1    Corpus  Corpus  NP\n",
       "2    Corpus  Corpus  NP\n",
       "3    corpus  corpus  NN\n",
       "4    corpus  corpus  NN\n",
       "..      ...     ...  ..\n",
       "849  Corpus  Corpus  NP\n",
       "850  Corpus  Corpus  NP\n",
       "851  corpus  corpus  NN\n",
       "852  Corpus  Corpus  NP\n",
       "853  corpus  corpus  NN\n",
       "\n",
       "[854 rows x 3 columns]"
      ]
     },
     "execution_count": 33,
     "metadata": {},
     "output_type": "execute_result"
    }
   ],
   "source": [
    "df.kwic.str.split(\"/\", expand=True)"
   ]
  },
  {
   "cell_type": "code",
   "execution_count": 34,
   "id": "6b81e015",
   "metadata": {},
   "outputs": [
    {
     "data": {
      "text/html": [
       "<div>\n",
       "<style scoped>\n",
       "    .dataframe tbody tr th:only-of-type {\n",
       "        vertical-align: middle;\n",
       "    }\n",
       "\n",
       "    .dataframe tbody tr th {\n",
       "        vertical-align: top;\n",
       "    }\n",
       "\n",
       "    .dataframe thead th {\n",
       "        text-align: right;\n",
       "    }\n",
       "</style>\n",
       "<table border=\"1\" class=\"dataframe\">\n",
       "  <thead>\n",
       "    <tr style=\"text-align: right;\">\n",
       "      <th></th>\n",
       "      <th>kwic</th>\n",
       "      <th>domain</th>\n",
       "    </tr>\n",
       "  </thead>\n",
       "  <tbody>\n",
       "    <tr>\n",
       "      <th>0</th>\n",
       "      <td>Corpus/Corpus/NP</td>\n",
       "      <td>newadvent.org</td>\n",
       "    </tr>\n",
       "    <tr>\n",
       "      <th>1</th>\n",
       "      <td>Corpus/Corpus/NP</td>\n",
       "      <td>newadvent.org</td>\n",
       "    </tr>\n",
       "    <tr>\n",
       "      <th>2</th>\n",
       "      <td>Corpus/Corpus/NP</td>\n",
       "      <td>newadvent.org</td>\n",
       "    </tr>\n",
       "    <tr>\n",
       "      <th>3</th>\n",
       "      <td>corpus/corpus/NN</td>\n",
       "      <td>freerepublic.com</td>\n",
       "    </tr>\n",
       "    <tr>\n",
       "      <th>4</th>\n",
       "      <td>corpus/corpus/NN</td>\n",
       "      <td>hinduism.co.za</td>\n",
       "    </tr>\n",
       "    <tr>\n",
       "      <th>...</th>\n",
       "      <td>...</td>\n",
       "      <td>...</td>\n",
       "    </tr>\n",
       "    <tr>\n",
       "      <th>849</th>\n",
       "      <td>Corpus/Corpus/NP</td>\n",
       "      <td>blogs.ulster.ac.uk</td>\n",
       "    </tr>\n",
       "    <tr>\n",
       "      <th>850</th>\n",
       "      <td>Corpus/Corpus/NP</td>\n",
       "      <td>ginnysaustin.com</td>\n",
       "    </tr>\n",
       "    <tr>\n",
       "      <th>851</th>\n",
       "      <td>corpus/corpus/NN</td>\n",
       "      <td>patriotsquestion911.com</td>\n",
       "    </tr>\n",
       "    <tr>\n",
       "      <th>852</th>\n",
       "      <td>Corpus/Corpus/NP</td>\n",
       "      <td>biblicalarchaeology.org</td>\n",
       "    </tr>\n",
       "    <tr>\n",
       "      <th>853</th>\n",
       "      <td>corpus/corpus/NN</td>\n",
       "      <td>rrojasdatabank.info</td>\n",
       "    </tr>\n",
       "  </tbody>\n",
       "</table>\n",
       "<p>854 rows × 2 columns</p>\n",
       "</div>"
      ],
      "text/plain": [
       "                 kwic                   domain\n",
       "0    Corpus/Corpus/NP            newadvent.org\n",
       "1    Corpus/Corpus/NP            newadvent.org\n",
       "2    Corpus/Corpus/NP            newadvent.org\n",
       "3    corpus/corpus/NN         freerepublic.com\n",
       "4    corpus/corpus/NN           hinduism.co.za\n",
       "..                ...                      ...\n",
       "849  Corpus/Corpus/NP       blogs.ulster.ac.uk\n",
       "850  Corpus/Corpus/NP         ginnysaustin.com\n",
       "851  corpus/corpus/NN  patriotsquestion911.com\n",
       "852  Corpus/Corpus/NP  biblicalarchaeology.org\n",
       "853  corpus/corpus/NN      rrojasdatabank.info\n",
       "\n",
       "[854 rows x 2 columns]"
      ]
     },
     "execution_count": 34,
     "metadata": {},
     "output_type": "execute_result"
    }
   ],
   "source": [
    "df[[\"kwic\", \"domain\"]]"
   ]
  },
  {
   "cell_type": "code",
   "execution_count": 35,
   "id": "68b75cd9",
   "metadata": {
    "tags": [
     "raises-exception",
     "full-width",
     "output_scroll"
    ]
   },
   "outputs": [
    {
     "ename": "KeyError",
     "evalue": "\"None of [Index(['word', 'lemma', 'tag'], dtype='object')] are in the [columns]\"",
     "output_type": "error",
     "traceback": [
      "\u001b[0;31m---------------------------------------------------------------------------\u001b[0m",
      "\u001b[0;31mKeyError\u001b[0m                                  Traceback (most recent call last)",
      "\u001b[0;32m/tmp/ipykernel_11227/2526799359.py\u001b[0m in \u001b[0;36m<module>\u001b[0;34m\u001b[0m\n\u001b[0;32m----> 1\u001b[0;31m \u001b[0mdf\u001b[0m\u001b[0;34m[\u001b[0m\u001b[0;34m[\u001b[0m\u001b[0;34m\"word\"\u001b[0m\u001b[0;34m,\u001b[0m \u001b[0;34m\"lemma\"\u001b[0m\u001b[0;34m,\u001b[0m \u001b[0;34m\"tag\"\u001b[0m\u001b[0;34m]\u001b[0m\u001b[0;34m]\u001b[0m\u001b[0;34m\u001b[0m\u001b[0;34m\u001b[0m\u001b[0m\n\u001b[0m",
      "\u001b[0;32m~/repos/v4py.github.io/.venv/lib/python3.9/site-packages/pandas/core/frame.py\u001b[0m in \u001b[0;36m__getitem__\u001b[0;34m(self, key)\u001b[0m\n\u001b[1;32m   3462\u001b[0m             \u001b[0;32mif\u001b[0m \u001b[0mis_iterator\u001b[0m\u001b[0;34m(\u001b[0m\u001b[0mkey\u001b[0m\u001b[0;34m)\u001b[0m\u001b[0;34m:\u001b[0m\u001b[0;34m\u001b[0m\u001b[0;34m\u001b[0m\u001b[0m\n\u001b[1;32m   3463\u001b[0m                 \u001b[0mkey\u001b[0m \u001b[0;34m=\u001b[0m \u001b[0mlist\u001b[0m\u001b[0;34m(\u001b[0m\u001b[0mkey\u001b[0m\u001b[0;34m)\u001b[0m\u001b[0;34m\u001b[0m\u001b[0;34m\u001b[0m\u001b[0m\n\u001b[0;32m-> 3464\u001b[0;31m             \u001b[0mindexer\u001b[0m \u001b[0;34m=\u001b[0m \u001b[0mself\u001b[0m\u001b[0;34m.\u001b[0m\u001b[0mloc\u001b[0m\u001b[0;34m.\u001b[0m\u001b[0m_get_listlike_indexer\u001b[0m\u001b[0;34m(\u001b[0m\u001b[0mkey\u001b[0m\u001b[0;34m,\u001b[0m \u001b[0maxis\u001b[0m\u001b[0;34m=\u001b[0m\u001b[0;36m1\u001b[0m\u001b[0;34m)\u001b[0m\u001b[0;34m[\u001b[0m\u001b[0;36m1\u001b[0m\u001b[0;34m]\u001b[0m\u001b[0;34m\u001b[0m\u001b[0;34m\u001b[0m\u001b[0m\n\u001b[0m\u001b[1;32m   3465\u001b[0m \u001b[0;34m\u001b[0m\u001b[0m\n\u001b[1;32m   3466\u001b[0m         \u001b[0;31m# take() does not accept boolean indexers\u001b[0m\u001b[0;34m\u001b[0m\u001b[0;34m\u001b[0m\u001b[0;34m\u001b[0m\u001b[0m\n",
      "\u001b[0;32m~/repos/v4py.github.io/.venv/lib/python3.9/site-packages/pandas/core/indexing.py\u001b[0m in \u001b[0;36m_get_listlike_indexer\u001b[0;34m(self, key, axis)\u001b[0m\n\u001b[1;32m   1312\u001b[0m             \u001b[0mkeyarr\u001b[0m\u001b[0;34m,\u001b[0m \u001b[0mindexer\u001b[0m\u001b[0;34m,\u001b[0m \u001b[0mnew_indexer\u001b[0m \u001b[0;34m=\u001b[0m \u001b[0max\u001b[0m\u001b[0;34m.\u001b[0m\u001b[0m_reindex_non_unique\u001b[0m\u001b[0;34m(\u001b[0m\u001b[0mkeyarr\u001b[0m\u001b[0;34m)\u001b[0m\u001b[0;34m\u001b[0m\u001b[0;34m\u001b[0m\u001b[0m\n\u001b[1;32m   1313\u001b[0m \u001b[0;34m\u001b[0m\u001b[0m\n\u001b[0;32m-> 1314\u001b[0;31m         \u001b[0mself\u001b[0m\u001b[0;34m.\u001b[0m\u001b[0m_validate_read_indexer\u001b[0m\u001b[0;34m(\u001b[0m\u001b[0mkeyarr\u001b[0m\u001b[0;34m,\u001b[0m \u001b[0mindexer\u001b[0m\u001b[0;34m,\u001b[0m \u001b[0maxis\u001b[0m\u001b[0;34m)\u001b[0m\u001b[0;34m\u001b[0m\u001b[0;34m\u001b[0m\u001b[0m\n\u001b[0m\u001b[1;32m   1315\u001b[0m \u001b[0;34m\u001b[0m\u001b[0m\n\u001b[1;32m   1316\u001b[0m         if needs_i8_conversion(ax.dtype) or isinstance(\n",
      "\u001b[0;32m~/repos/v4py.github.io/.venv/lib/python3.9/site-packages/pandas/core/indexing.py\u001b[0m in \u001b[0;36m_validate_read_indexer\u001b[0;34m(self, key, indexer, axis)\u001b[0m\n\u001b[1;32m   1372\u001b[0m                 \u001b[0;32mif\u001b[0m \u001b[0muse_interval_msg\u001b[0m\u001b[0;34m:\u001b[0m\u001b[0;34m\u001b[0m\u001b[0;34m\u001b[0m\u001b[0m\n\u001b[1;32m   1373\u001b[0m                     \u001b[0mkey\u001b[0m \u001b[0;34m=\u001b[0m \u001b[0mlist\u001b[0m\u001b[0;34m(\u001b[0m\u001b[0mkey\u001b[0m\u001b[0;34m)\u001b[0m\u001b[0;34m\u001b[0m\u001b[0;34m\u001b[0m\u001b[0m\n\u001b[0;32m-> 1374\u001b[0;31m                 \u001b[0;32mraise\u001b[0m \u001b[0mKeyError\u001b[0m\u001b[0;34m(\u001b[0m\u001b[0;34mf\"None of [{key}] are in the [{axis_name}]\"\u001b[0m\u001b[0;34m)\u001b[0m\u001b[0;34m\u001b[0m\u001b[0;34m\u001b[0m\u001b[0m\n\u001b[0m\u001b[1;32m   1375\u001b[0m \u001b[0;34m\u001b[0m\u001b[0m\n\u001b[1;32m   1376\u001b[0m             \u001b[0mnot_found\u001b[0m \u001b[0;34m=\u001b[0m \u001b[0mlist\u001b[0m\u001b[0;34m(\u001b[0m\u001b[0mensure_index\u001b[0m\u001b[0;34m(\u001b[0m\u001b[0mkey\u001b[0m\u001b[0;34m)\u001b[0m\u001b[0;34m[\u001b[0m\u001b[0mmissing_mask\u001b[0m\u001b[0;34m.\u001b[0m\u001b[0mnonzero\u001b[0m\u001b[0;34m(\u001b[0m\u001b[0;34m)\u001b[0m\u001b[0;34m[\u001b[0m\u001b[0;36m0\u001b[0m\u001b[0;34m]\u001b[0m\u001b[0;34m]\u001b[0m\u001b[0;34m.\u001b[0m\u001b[0munique\u001b[0m\u001b[0;34m(\u001b[0m\u001b[0;34m)\u001b[0m\u001b[0;34m)\u001b[0m\u001b[0;34m\u001b[0m\u001b[0;34m\u001b[0m\u001b[0m\n",
      "\u001b[0;31mKeyError\u001b[0m: \"None of [Index(['word', 'lemma', 'tag'], dtype='object')] are in the [columns]\""
     ]
    }
   ],
   "source": [
    "df[[\"word\", \"lemma\", \"tag\"]]"
   ]
  },
  {
   "cell_type": "code",
   "execution_count": 36,
   "id": "ffe06372",
   "metadata": {},
   "outputs": [],
   "source": [
    "df[[\"word\", \"lemma\", \"tag\"]] = df.kwic.str.split(\"/\", expand=True)"
   ]
  },
  {
   "cell_type": "code",
   "execution_count": 37,
   "id": "6d12c70e",
   "metadata": {},
   "outputs": [
    {
     "data": {
      "text/html": [
       "<div>\n",
       "<style scoped>\n",
       "    .dataframe tbody tr th:only-of-type {\n",
       "        vertical-align: middle;\n",
       "    }\n",
       "\n",
       "    .dataframe tbody tr th {\n",
       "        vertical-align: top;\n",
       "    }\n",
       "\n",
       "    .dataframe thead th {\n",
       "        text-align: right;\n",
       "    }\n",
       "</style>\n",
       "<table border=\"1\" class=\"dataframe\">\n",
       "  <thead>\n",
       "    <tr style=\"text-align: right;\">\n",
       "      <th></th>\n",
       "      <th>domain</th>\n",
       "      <th>left</th>\n",
       "      <th>kwic</th>\n",
       "      <th>right</th>\n",
       "      <th>word</th>\n",
       "      <th>lemma</th>\n",
       "      <th>tag</th>\n",
       "    </tr>\n",
       "  </thead>\n",
       "  <tbody>\n",
       "    <tr>\n",
       "      <th>0</th>\n",
       "      <td>newadvent.org</td>\n",
       "      <td>by Theodor Mommsen , undertook its monumental ...</td>\n",
       "      <td>Corpus/Corpus/NP</td>\n",
       "      <td>Inscriptionum Latinarum \" , it sent a flatteri...</td>\n",
       "      <td>Corpus</td>\n",
       "      <td>Corpus</td>\n",
       "      <td>NP</td>\n",
       "    </tr>\n",
       "    <tr>\n",
       "      <th>1</th>\n",
       "      <td>newadvent.org</td>\n",
       "      <td>Mommsen . The latter 's numerous collaborators...</td>\n",
       "      <td>Corpus/Corpus/NP</td>\n",
       "      <td>\" , among them Edwin Bormann , the noted autho...</td>\n",
       "      <td>Corpus</td>\n",
       "      <td>Corpus</td>\n",
       "      <td>NP</td>\n",
       "    </tr>\n",
       "    <tr>\n",
       "      <th>2</th>\n",
       "      <td>newadvent.org</td>\n",
       "      <td>) , concerning the preparatory work for the ab...</td>\n",
       "      <td>Corpus/Corpus/NP</td>\n",
       "      <td>Inscriptionum \" , which appeared in the monthl...</td>\n",
       "      <td>Corpus</td>\n",
       "      <td>Corpus</td>\n",
       "      <td>NP</td>\n",
       "    </tr>\n",
       "    <tr>\n",
       "      <th>3</th>\n",
       "      <td>freerepublic.com</td>\n",
       "      <td>, or arrest the MD assembly , or suspend habeus</td>\n",
       "      <td>corpus/corpus/NN</td>\n",
       "      <td>, or invade sovereign states . ​He​ ​did​ ​n't...</td>\n",
       "      <td>corpus</td>\n",
       "      <td>corpus</td>\n",
       "      <td>NN</td>\n",
       "    </tr>\n",
       "    <tr>\n",
       "      <th>4</th>\n",
       "      <td>hinduism.co.za</td>\n",
       "      <td>corporeal being in the fullness of time , assu...</td>\n",
       "      <td>corpus/corpus/NN</td>\n",
       "      <td>. It arises and perishes in due order . And</td>\n",
       "      <td>corpus</td>\n",
       "      <td>corpus</td>\n",
       "      <td>NN</td>\n",
       "    </tr>\n",
       "    <tr>\n",
       "      <th>...</th>\n",
       "      <td>...</td>\n",
       "      <td>...</td>\n",
       "      <td>...</td>\n",
       "      <td>...</td>\n",
       "      <td>...</td>\n",
       "      <td>...</td>\n",
       "      <td>...</td>\n",
       "    </tr>\n",
       "    <tr>\n",
       "      <th>849</th>\n",
       "      <td>blogs.ulster.ac.uk</td>\n",
       "      <td>University . For example , Corpus Christi Coll...</td>\n",
       "      <td>Corpus/Corpus/NP</td>\n",
       "      <td>Irish Missal , 12 th century ( MS 282 )</td>\n",
       "      <td>Corpus</td>\n",
       "      <td>Corpus</td>\n",
       "      <td>NP</td>\n",
       "    </tr>\n",
       "    <tr>\n",
       "      <th>850</th>\n",
       "      <td>ginnysaustin.com</td>\n",
       "      <td>set by a youth cutting my teeth on tacos in</td>\n",
       "      <td>Corpus/Corpus/NP</td>\n",
       "      <td>Christi ( RIP Elva ’s ) . Now , I</td>\n",
       "      <td>Corpus</td>\n",
       "      <td>Corpus</td>\n",
       "      <td>NP</td>\n",
       "    </tr>\n",
       "    <tr>\n",
       "      <th>851</th>\n",
       "      <td>patriotsquestion911.com</td>\n",
       "      <td>of the Geneva Conventions , and the repeal of ...</td>\n",
       "      <td>corpus/corpus/NN</td>\n",
       "      <td>( a fundamental point of law that has been with</td>\n",
       "      <td>corpus</td>\n",
       "      <td>corpus</td>\n",
       "      <td>NN</td>\n",
       "    </tr>\n",
       "    <tr>\n",
       "      <th>852</th>\n",
       "      <td>biblicalarchaeology.org</td>\n",
       "      <td>Keel recently pointed out , even in the highly...</td>\n",
       "      <td>Corpus/Corpus/NP</td>\n",
       "      <td>of West Semitic Stamp Seals published by Nahma...</td>\n",
       "      <td>Corpus</td>\n",
       "      <td>Corpus</td>\n",
       "      <td>NP</td>\n",
       "    </tr>\n",
       "    <tr>\n",
       "      <th>853</th>\n",
       "      <td>rrojasdatabank.info</td>\n",
       "      <td>developing ones , were interpreted through the...</td>\n",
       "      <td>corpus/corpus/NN</td>\n",
       "      <td>of knowledge recognized as Keynesian economics...</td>\n",
       "      <td>corpus</td>\n",
       "      <td>corpus</td>\n",
       "      <td>NN</td>\n",
       "    </tr>\n",
       "  </tbody>\n",
       "</table>\n",
       "<p>854 rows × 7 columns</p>\n",
       "</div>"
      ],
      "text/plain": [
       "                      domain  \\\n",
       "0              newadvent.org   \n",
       "1              newadvent.org   \n",
       "2              newadvent.org   \n",
       "3           freerepublic.com   \n",
       "4             hinduism.co.za   \n",
       "..                       ...   \n",
       "849       blogs.ulster.ac.uk   \n",
       "850         ginnysaustin.com   \n",
       "851  patriotsquestion911.com   \n",
       "852  biblicalarchaeology.org   \n",
       "853      rrojasdatabank.info   \n",
       "\n",
       "                                                  left              kwic  \\\n",
       "0    by Theodor Mommsen , undertook its monumental ...  Corpus/Corpus/NP   \n",
       "1    Mommsen . The latter 's numerous collaborators...  Corpus/Corpus/NP   \n",
       "2    ) , concerning the preparatory work for the ab...  Corpus/Corpus/NP   \n",
       "3      , or arrest the MD assembly , or suspend habeus  corpus/corpus/NN   \n",
       "4    corporeal being in the fullness of time , assu...  corpus/corpus/NN   \n",
       "..                                                 ...               ...   \n",
       "849  University . For example , Corpus Christi Coll...  Corpus/Corpus/NP   \n",
       "850        set by a youth cutting my teeth on tacos in  Corpus/Corpus/NP   \n",
       "851  of the Geneva Conventions , and the repeal of ...  corpus/corpus/NN   \n",
       "852  Keel recently pointed out , even in the highly...  Corpus/Corpus/NP   \n",
       "853  developing ones , were interpreted through the...  corpus/corpus/NN   \n",
       "\n",
       "                                                 right    word   lemma tag  \n",
       "0    Inscriptionum Latinarum \" , it sent a flatteri...  Corpus  Corpus  NP  \n",
       "1    \" , among them Edwin Bormann , the noted autho...  Corpus  Corpus  NP  \n",
       "2    Inscriptionum \" , which appeared in the monthl...  Corpus  Corpus  NP  \n",
       "3    , or invade sovereign states . ​He​ ​did​ ​n't...  corpus  corpus  NN  \n",
       "4          . It arises and perishes in due order . And  corpus  corpus  NN  \n",
       "..                                                 ...     ...     ...  ..  \n",
       "849            Irish Missal , 12 th century ( MS 282 )  Corpus  Corpus  NP  \n",
       "850                  Christi ( RIP Elva ’s ) . Now , I  Corpus  Corpus  NP  \n",
       "851    ( a fundamental point of law that has been with  corpus  corpus  NN  \n",
       "852  of West Semitic Stamp Seals published by Nahma...  Corpus  Corpus  NP  \n",
       "853  of knowledge recognized as Keynesian economics...  corpus  corpus  NN  \n",
       "\n",
       "[854 rows x 7 columns]"
      ]
     },
     "execution_count": 37,
     "metadata": {},
     "output_type": "execute_result"
    }
   ],
   "source": [
    "df"
   ]
  },
  {
   "cell_type": "code",
   "execution_count": 38,
   "id": "f6900f18",
   "metadata": {},
   "outputs": [],
   "source": [
    "df2 = df[[\"domain\", \"left\", \"word\", \"lemma\", \"tag\", \"right\"]]"
   ]
  },
  {
   "cell_type": "code",
   "execution_count": 39,
   "id": "4f6cbedc",
   "metadata": {},
   "outputs": [
    {
     "data": {
      "text/html": [
       "<div>\n",
       "<style scoped>\n",
       "    .dataframe tbody tr th:only-of-type {\n",
       "        vertical-align: middle;\n",
       "    }\n",
       "\n",
       "    .dataframe tbody tr th {\n",
       "        vertical-align: top;\n",
       "    }\n",
       "\n",
       "    .dataframe thead th {\n",
       "        text-align: right;\n",
       "    }\n",
       "</style>\n",
       "<table border=\"1\" class=\"dataframe\">\n",
       "  <thead>\n",
       "    <tr style=\"text-align: right;\">\n",
       "      <th></th>\n",
       "      <th>domain</th>\n",
       "      <th>left</th>\n",
       "      <th>word</th>\n",
       "      <th>lemma</th>\n",
       "      <th>tag</th>\n",
       "      <th>right</th>\n",
       "    </tr>\n",
       "  </thead>\n",
       "  <tbody>\n",
       "    <tr>\n",
       "      <th>0</th>\n",
       "      <td>newadvent.org</td>\n",
       "      <td>by Theodor Mommsen , undertook its monumental ...</td>\n",
       "      <td>Corpus</td>\n",
       "      <td>Corpus</td>\n",
       "      <td>NP</td>\n",
       "      <td>Inscriptionum Latinarum \" , it sent a flatteri...</td>\n",
       "    </tr>\n",
       "    <tr>\n",
       "      <th>1</th>\n",
       "      <td>newadvent.org</td>\n",
       "      <td>Mommsen . The latter 's numerous collaborators...</td>\n",
       "      <td>Corpus</td>\n",
       "      <td>Corpus</td>\n",
       "      <td>NP</td>\n",
       "      <td>\" , among them Edwin Bormann , the noted autho...</td>\n",
       "    </tr>\n",
       "    <tr>\n",
       "      <th>2</th>\n",
       "      <td>newadvent.org</td>\n",
       "      <td>) , concerning the preparatory work for the ab...</td>\n",
       "      <td>Corpus</td>\n",
       "      <td>Corpus</td>\n",
       "      <td>NP</td>\n",
       "      <td>Inscriptionum \" , which appeared in the monthl...</td>\n",
       "    </tr>\n",
       "    <tr>\n",
       "      <th>3</th>\n",
       "      <td>freerepublic.com</td>\n",
       "      <td>, or arrest the MD assembly , or suspend habeus</td>\n",
       "      <td>corpus</td>\n",
       "      <td>corpus</td>\n",
       "      <td>NN</td>\n",
       "      <td>, or invade sovereign states . ​He​ ​did​ ​n't...</td>\n",
       "    </tr>\n",
       "    <tr>\n",
       "      <th>4</th>\n",
       "      <td>hinduism.co.za</td>\n",
       "      <td>corporeal being in the fullness of time , assu...</td>\n",
       "      <td>corpus</td>\n",
       "      <td>corpus</td>\n",
       "      <td>NN</td>\n",
       "      <td>. It arises and perishes in due order . And</td>\n",
       "    </tr>\n",
       "    <tr>\n",
       "      <th>...</th>\n",
       "      <td>...</td>\n",
       "      <td>...</td>\n",
       "      <td>...</td>\n",
       "      <td>...</td>\n",
       "      <td>...</td>\n",
       "      <td>...</td>\n",
       "    </tr>\n",
       "    <tr>\n",
       "      <th>849</th>\n",
       "      <td>blogs.ulster.ac.uk</td>\n",
       "      <td>University . For example , Corpus Christi Coll...</td>\n",
       "      <td>Corpus</td>\n",
       "      <td>Corpus</td>\n",
       "      <td>NP</td>\n",
       "      <td>Irish Missal , 12 th century ( MS 282 )</td>\n",
       "    </tr>\n",
       "    <tr>\n",
       "      <th>850</th>\n",
       "      <td>ginnysaustin.com</td>\n",
       "      <td>set by a youth cutting my teeth on tacos in</td>\n",
       "      <td>Corpus</td>\n",
       "      <td>Corpus</td>\n",
       "      <td>NP</td>\n",
       "      <td>Christi ( RIP Elva ’s ) . Now , I</td>\n",
       "    </tr>\n",
       "    <tr>\n",
       "      <th>851</th>\n",
       "      <td>patriotsquestion911.com</td>\n",
       "      <td>of the Geneva Conventions , and the repeal of ...</td>\n",
       "      <td>corpus</td>\n",
       "      <td>corpus</td>\n",
       "      <td>NN</td>\n",
       "      <td>( a fundamental point of law that has been with</td>\n",
       "    </tr>\n",
       "    <tr>\n",
       "      <th>852</th>\n",
       "      <td>biblicalarchaeology.org</td>\n",
       "      <td>Keel recently pointed out , even in the highly...</td>\n",
       "      <td>Corpus</td>\n",
       "      <td>Corpus</td>\n",
       "      <td>NP</td>\n",
       "      <td>of West Semitic Stamp Seals published by Nahma...</td>\n",
       "    </tr>\n",
       "    <tr>\n",
       "      <th>853</th>\n",
       "      <td>rrojasdatabank.info</td>\n",
       "      <td>developing ones , were interpreted through the...</td>\n",
       "      <td>corpus</td>\n",
       "      <td>corpus</td>\n",
       "      <td>NN</td>\n",
       "      <td>of knowledge recognized as Keynesian economics...</td>\n",
       "    </tr>\n",
       "  </tbody>\n",
       "</table>\n",
       "<p>854 rows × 6 columns</p>\n",
       "</div>"
      ],
      "text/plain": [
       "                      domain  \\\n",
       "0              newadvent.org   \n",
       "1              newadvent.org   \n",
       "2              newadvent.org   \n",
       "3           freerepublic.com   \n",
       "4             hinduism.co.za   \n",
       "..                       ...   \n",
       "849       blogs.ulster.ac.uk   \n",
       "850         ginnysaustin.com   \n",
       "851  patriotsquestion911.com   \n",
       "852  biblicalarchaeology.org   \n",
       "853      rrojasdatabank.info   \n",
       "\n",
       "                                                  left    word   lemma tag  \\\n",
       "0    by Theodor Mommsen , undertook its monumental ...  Corpus  Corpus  NP   \n",
       "1    Mommsen . The latter 's numerous collaborators...  Corpus  Corpus  NP   \n",
       "2    ) , concerning the preparatory work for the ab...  Corpus  Corpus  NP   \n",
       "3      , or arrest the MD assembly , or suspend habeus  corpus  corpus  NN   \n",
       "4    corporeal being in the fullness of time , assu...  corpus  corpus  NN   \n",
       "..                                                 ...     ...     ...  ..   \n",
       "849  University . For example , Corpus Christi Coll...  Corpus  Corpus  NP   \n",
       "850        set by a youth cutting my teeth on tacos in  Corpus  Corpus  NP   \n",
       "851  of the Geneva Conventions , and the repeal of ...  corpus  corpus  NN   \n",
       "852  Keel recently pointed out , even in the highly...  Corpus  Corpus  NP   \n",
       "853  developing ones , were interpreted through the...  corpus  corpus  NN   \n",
       "\n",
       "                                                 right  \n",
       "0    Inscriptionum Latinarum \" , it sent a flatteri...  \n",
       "1    \" , among them Edwin Bormann , the noted autho...  \n",
       "2    Inscriptionum \" , which appeared in the monthl...  \n",
       "3    , or invade sovereign states . ​He​ ​did​ ​n't...  \n",
       "4          . It arises and perishes in due order . And  \n",
       "..                                                 ...  \n",
       "849            Irish Missal , 12 th century ( MS 282 )  \n",
       "850                  Christi ( RIP Elva ’s ) . Now , I  \n",
       "851    ( a fundamental point of law that has been with  \n",
       "852  of West Semitic Stamp Seals published by Nahma...  \n",
       "853  of knowledge recognized as Keynesian economics...  \n",
       "\n",
       "[854 rows x 6 columns]"
      ]
     },
     "execution_count": 39,
     "metadata": {},
     "output_type": "execute_result"
    }
   ],
   "source": [
    "df2"
   ]
  },
  {
   "cell_type": "code",
   "execution_count": 40,
   "id": "deec7580",
   "metadata": {},
   "outputs": [],
   "source": [
    "df.plot?"
   ]
  },
  {
   "cell_type": "code",
   "execution_count": 41,
   "id": "d29bfe00",
   "metadata": {},
   "outputs": [
    {
     "data": {
      "text/plain": [
       "0                newadvent.org\n",
       "1                newadvent.org\n",
       "2                newadvent.org\n",
       "3             freerepublic.com\n",
       "4               hinduism.co.za\n",
       "                ...           \n",
       "849         blogs.ulster.ac.uk\n",
       "850           ginnysaustin.com\n",
       "851    patriotsquestion911.com\n",
       "852    biblicalarchaeology.org\n",
       "853        rrojasdatabank.info\n",
       "Name: domain, Length: 854, dtype: object"
      ]
     },
     "execution_count": 41,
     "metadata": {},
     "output_type": "execute_result"
    }
   ],
   "source": [
    "df[\"domain\"]"
   ]
  },
  {
   "cell_type": "code",
   "execution_count": 42,
   "id": "2cfc4431",
   "metadata": {},
   "outputs": [
    {
     "data": {
      "text/plain": [
       "ucrel.lancs.ac.uk            123\n",
       "nltk.googlecode.com           90\n",
       "quinndombrowski.com           65\n",
       "medicolegal.tripod.com        28\n",
       "cass.lancs.ac.uk              21\n",
       "                            ... \n",
       "publiusonline.com              1\n",
       "brainethics.wordpress.com      1\n",
       "epluribusmedia.org             1\n",
       "news.art.fsu.edu               1\n",
       "rrojasdatabank.info            1\n",
       "Name: domain, Length: 234, dtype: int64"
      ]
     },
     "execution_count": 42,
     "metadata": {},
     "output_type": "execute_result"
    }
   ],
   "source": [
    "df[\"domain\"].value_counts()"
   ]
  },
  {
   "cell_type": "code",
   "execution_count": 43,
   "id": "90e4d793",
   "metadata": {},
   "outputs": [
    {
     "data": {
      "text/plain": [
       "<AxesSubplot:>"
      ]
     },
     "execution_count": 43,
     "metadata": {},
     "output_type": "execute_result"
    },
    {
     "data": {
      "image/png": "[encoded data removed]",
      "text/plain": [
       "<Figure size 432x288 with 1 Axes>"
      ]
     },
     "metadata": {
      "filenames": {
       "image/png": "/home/david/repos/v4py.github.io/_build/jupyter_execute/data_50_1.png"
      },
      "needs_background": "light"
     },
     "output_type": "display_data"
    }
   ],
   "source": [
    "df[\"domain\"].value_counts().plot(kind=\"bar\")"
   ]
  },
  {
   "cell_type": "code",
   "execution_count": 44,
   "id": "7d4e2b43",
   "metadata": {},
   "outputs": [
    {
     "data": {
      "text/plain": [
       "<AxesSubplot:>"
      ]
     },
     "execution_count": 44,
     "metadata": {},
     "output_type": "execute_result"
    },
    {
     "data": {
      "image/png": "[encoded data removed]",
      "text/plain": [
       "<Figure size 432x288 with 1 Axes>"
      ]
     },
     "metadata": {
      "filenames": {
       "image/png": "/home/david/repos/v4py.github.io/_build/jupyter_execute/data_51_1.png"
      },
      "needs_background": "light"
     },
     "output_type": "display_data"
    }
   ],
   "source": [
    "df[\"domain\"].value_counts().head().plot(kind=\"bar\")"
   ]
  },
  {
   "cell_type": "code",
   "execution_count": 45,
   "id": "1ae7be06",
   "metadata": {},
   "outputs": [
    {
     "data": {
      "text/html": [
       "<div>\n",
       "<style scoped>\n",
       "    .dataframe tbody tr th:only-of-type {\n",
       "        vertical-align: middle;\n",
       "    }\n",
       "\n",
       "    .dataframe tbody tr th {\n",
       "        vertical-align: top;\n",
       "    }\n",
       "\n",
       "    .dataframe thead th {\n",
       "        text-align: right;\n",
       "    }\n",
       "</style>\n",
       "<table border=\"1\" class=\"dataframe\">\n",
       "  <thead>\n",
       "    <tr style=\"text-align: right;\">\n",
       "      <th></th>\n",
       "      <th>1;\"completely  different\";\"672\";\"\"</th>\n",
       "    </tr>\n",
       "  </thead>\n",
       "  <tbody>\n",
       "    <tr>\n",
       "      <th>0</th>\n",
       "      <td>2;\"entirely  different\";\"386\";\"\"</td>\n",
       "    </tr>\n",
       "    <tr>\n",
       "      <th>1</th>\n",
       "      <td>3;\"entirely  new\";\"334\";\"\"</td>\n",
       "    </tr>\n",
       "    <tr>\n",
       "      <th>2</th>\n",
       "      <td>4;\"totally  different\";\"282\";\"\"</td>\n",
       "    </tr>\n",
       "    <tr>\n",
       "      <th>3</th>\n",
       "      <td>5;\"completely  new\";\"261\";\"\"</td>\n",
       "    </tr>\n",
       "    <tr>\n",
       "      <th>4</th>\n",
       "      <td>6;\"completely  free\";\"147\";\"\"</td>\n",
       "    </tr>\n",
       "    <tr>\n",
       "      <th>...</th>\n",
       "      <td>...</td>\n",
       "    </tr>\n",
       "    <tr>\n",
       "      <th>2844</th>\n",
       "      <td>2846;\"entirely  relative\";\"1\";\"\"</td>\n",
       "    </tr>\n",
       "    <tr>\n",
       "      <th>2845</th>\n",
       "      <td>2847;\"completely  brown\";\"1\";\"\"</td>\n",
       "    </tr>\n",
       "    <tr>\n",
       "      <th>2846</th>\n",
       "      <td>2848;\"completely  literate\";\"1\";\"\"</td>\n",
       "    </tr>\n",
       "    <tr>\n",
       "      <th>2847</th>\n",
       "      <td>2849;\"totally  boneheaded\";\"1\";\"\"</td>\n",
       "    </tr>\n",
       "    <tr>\n",
       "      <th>2848</th>\n",
       "      <td>2850;\"totally  housebound\";\"1\";\"\"</td>\n",
       "    </tr>\n",
       "  </tbody>\n",
       "</table>\n",
       "<p>2849 rows × 1 columns</p>\n",
       "</div>"
      ],
      "text/plain": [
       "      1;\"completely  different\";\"672\";\"\"\n",
       "0       2;\"entirely  different\";\"386\";\"\"\n",
       "1             3;\"entirely  new\";\"334\";\"\"\n",
       "2        4;\"totally  different\";\"282\";\"\"\n",
       "3           5;\"completely  new\";\"261\";\"\"\n",
       "4          6;\"completely  free\";\"147\";\"\"\n",
       "...                                  ...\n",
       "2844    2846;\"entirely  relative\";\"1\";\"\"\n",
       "2845     2847;\"completely  brown\";\"1\";\"\"\n",
       "2846  2848;\"completely  literate\";\"1\";\"\"\n",
       "2847   2849;\"totally  boneheaded\";\"1\";\"\"\n",
       "2848   2850;\"totally  housebound\";\"1\";\"\"\n",
       "\n",
       "[2849 rows x 1 columns]"
      ]
     },
     "execution_count": 45,
     "metadata": {},
     "output_type": "execute_result"
    }
   ],
   "source": [
    "pd.read_csv(\"data/frequencies_intensifiers.csv\")"
   ]
  },
  {
   "cell_type": "code",
   "execution_count": 46,
   "id": "912b7c50",
   "metadata": {},
   "outputs": [],
   "source": [
    "pd.read_csv?"
   ]
  },
  {
   "cell_type": "code",
   "execution_count": 47,
   "id": "3198734d",
   "metadata": {},
   "outputs": [
    {
     "data": {
      "text/html": [
       "<div>\n",
       "<style scoped>\n",
       "    .dataframe tbody tr th:only-of-type {\n",
       "        vertical-align: middle;\n",
       "    }\n",
       "\n",
       "    .dataframe tbody tr th {\n",
       "        vertical-align: top;\n",
       "    }\n",
       "\n",
       "    .dataframe thead th {\n",
       "        text-align: right;\n",
       "    }\n",
       "</style>\n",
       "<table border=\"1\" class=\"dataframe\">\n",
       "  <thead>\n",
       "    <tr style=\"text-align: right;\">\n",
       "      <th></th>\n",
       "      <th>rank</th>\n",
       "      <th>collocation</th>\n",
       "      <th>freq</th>\n",
       "      <th>empty</th>\n",
       "    </tr>\n",
       "  </thead>\n",
       "  <tbody>\n",
       "    <tr>\n",
       "      <th>0</th>\n",
       "      <td>1</td>\n",
       "      <td>completely  different</td>\n",
       "      <td>672</td>\n",
       "      <td>NaN</td>\n",
       "    </tr>\n",
       "    <tr>\n",
       "      <th>1</th>\n",
       "      <td>2</td>\n",
       "      <td>entirely  different</td>\n",
       "      <td>386</td>\n",
       "      <td>NaN</td>\n",
       "    </tr>\n",
       "    <tr>\n",
       "      <th>2</th>\n",
       "      <td>3</td>\n",
       "      <td>entirely  new</td>\n",
       "      <td>334</td>\n",
       "      <td>NaN</td>\n",
       "    </tr>\n",
       "    <tr>\n",
       "      <th>3</th>\n",
       "      <td>4</td>\n",
       "      <td>totally  different</td>\n",
       "      <td>282</td>\n",
       "      <td>NaN</td>\n",
       "    </tr>\n",
       "    <tr>\n",
       "      <th>4</th>\n",
       "      <td>5</td>\n",
       "      <td>completely  new</td>\n",
       "      <td>261</td>\n",
       "      <td>NaN</td>\n",
       "    </tr>\n",
       "    <tr>\n",
       "      <th>...</th>\n",
       "      <td>...</td>\n",
       "      <td>...</td>\n",
       "      <td>...</td>\n",
       "      <td>...</td>\n",
       "    </tr>\n",
       "    <tr>\n",
       "      <th>2845</th>\n",
       "      <td>2846</td>\n",
       "      <td>entirely  relative</td>\n",
       "      <td>1</td>\n",
       "      <td>NaN</td>\n",
       "    </tr>\n",
       "    <tr>\n",
       "      <th>2846</th>\n",
       "      <td>2847</td>\n",
       "      <td>completely  brown</td>\n",
       "      <td>1</td>\n",
       "      <td>NaN</td>\n",
       "    </tr>\n",
       "    <tr>\n",
       "      <th>2847</th>\n",
       "      <td>2848</td>\n",
       "      <td>completely  literate</td>\n",
       "      <td>1</td>\n",
       "      <td>NaN</td>\n",
       "    </tr>\n",
       "    <tr>\n",
       "      <th>2848</th>\n",
       "      <td>2849</td>\n",
       "      <td>totally  boneheaded</td>\n",
       "      <td>1</td>\n",
       "      <td>NaN</td>\n",
       "    </tr>\n",
       "    <tr>\n",
       "      <th>2849</th>\n",
       "      <td>2850</td>\n",
       "      <td>totally  housebound</td>\n",
       "      <td>1</td>\n",
       "      <td>NaN</td>\n",
       "    </tr>\n",
       "  </tbody>\n",
       "</table>\n",
       "<p>2850 rows × 4 columns</p>\n",
       "</div>"
      ],
      "text/plain": [
       "      rank            collocation  freq  empty\n",
       "0        1  completely  different   672    NaN\n",
       "1        2    entirely  different   386    NaN\n",
       "2        3          entirely  new   334    NaN\n",
       "3        4     totally  different   282    NaN\n",
       "4        5        completely  new   261    NaN\n",
       "...    ...                    ...   ...    ...\n",
       "2845  2846     entirely  relative     1    NaN\n",
       "2846  2847      completely  brown     1    NaN\n",
       "2847  2848   completely  literate     1    NaN\n",
       "2848  2849    totally  boneheaded     1    NaN\n",
       "2849  2850    totally  housebound     1    NaN\n",
       "\n",
       "[2850 rows x 4 columns]"
      ]
     },
     "execution_count": 47,
     "metadata": {},
     "output_type": "execute_result"
    }
   ],
   "source": [
    "pd.read_csv(\n",
    "    \"data/frequencies_intensifiers.csv\",\n",
    "    sep=\";\",\n",
    "    header=None,\n",
    "    names=[\"rank\", \"collocation\", \"freq\", \"empty\"]\n",
    ")"
   ]
  },
  {
   "cell_type": "markdown",
   "id": "6191c28f",
   "metadata": {},
   "source": [
    "If you want to go in the other direction and store `DataFrame`s on disk\n",
    "as Excel spreadsheets, CSV files or many other formats, check out the\n",
    "methods starting with `to_*` on `DataFrame` objects (remember you can\n",
    "use `Tab` in JupyterLab to bring up a completion menu if you start\n",
    "typing just `to_`).\n",
    "\n",
    "`pandas` is an impressively featureful library and we've barely\n",
    "scratched the surface of what you can do with it. It has also only\n",
    "fairly recently hit 1.0 status, which means a lot of polish has been\n",
    "applied to its website and documentation. Previously, the documentation,\n",
    "though extensive and complete, was somewhat hard to navigate; this has\n",
    "gotten much better. For more information, I suggest reviewing the\n",
    "library's [*Getting\n",
    "started*](https://pandas.pydata.org/docs/getting_started/index.html),\n",
    "which contains a [list of practical\n",
    "tasks](https://pandas.pydata.org/docs/getting_started/index.html#intro-to-pandas)\n",
    "you might want to use `pandas` for along with recipes telling you how to\n",
    "achieve that.\n",
    "\n",
    "### The `csv` module in the standard library\n",
    "\n",
    "The Python standard library also comes with a [`csv`\n",
    "module](https://docs.python.org/3/library/csv.html). This is useful when\n",
    "you don't have the option to install `pandas`, or when you don't really\n",
    "need to work with the CSV file as a table, you just need to pull out\n",
    "some values and put them in a dictionary for instance. In that case,\n",
    "`pandas` may be an unnecessarily heavy dependency (as a Swiss Army knife\n",
    "for data manipulation, it's pretty hefty), not to mention that loading\n",
    "the entire table into memory at once might be wasteful, especially if\n",
    "it's large and you just want one or two columns.\n",
    "\n",
    "Let's first take a peek at the contents of a CSV file. As mentioned,\n",
    "it's basically just a plain text file. This particular CSV file contains\n",
    "a frequency distribution of *intensifier + adverb* combinations."
   ]
  },
  {
   "cell_type": "code",
   "execution_count": 48,
   "id": "1b99b92f",
   "metadata": {},
   "outputs": [
    {
     "name": "stdout",
     "output_type": "stream",
     "text": [
      "\"1\";\"completely  different\";\"672\";\"\"\n",
      "\n"
     ]
    }
   ],
   "source": [
    "with open(\"data/frequencies_intensifiers.csv\", encoding=\"utf-8\") as file:\n",
    "    for line in file:\n",
    "        print(line)\n",
    "        break"
   ]
  },
  {
   "cell_type": "code",
   "execution_count": 49,
   "id": "7333fdfa",
   "metadata": {},
   "outputs": [],
   "source": [
    "import csv"
   ]
  },
  {
   "cell_type": "code",
   "execution_count": 50,
   "id": "2429f67b",
   "metadata": {},
   "outputs": [
    {
     "name": "stdout",
     "output_type": "stream",
     "text": [
      "['1;\"completely  different\";\"672\";\"\"']\n"
     ]
    }
   ],
   "source": [
    "with open(\"data/frequencies_intensifiers.csv\", encoding=\"utf-8\") as file:\n",
    "    reader = csv.reader(file)\n",
    "    for row in reader:\n",
    "        print(row)\n",
    "        break"
   ]
  },
  {
   "cell_type": "code",
   "execution_count": 51,
   "id": "cddd385d",
   "metadata": {},
   "outputs": [
    {
     "data": {
      "text/plain": [
       "['1;\"completely  different\";\"672\";\"\"']"
      ]
     },
     "execution_count": 51,
     "metadata": {},
     "output_type": "execute_result"
    }
   ],
   "source": [
    "row"
   ]
  },
  {
   "cell_type": "code",
   "execution_count": 52,
   "id": "450d522f",
   "metadata": {},
   "outputs": [
    {
     "data": {
      "text/plain": [
       "1"
      ]
     },
     "execution_count": 52,
     "metadata": {},
     "output_type": "execute_result"
    }
   ],
   "source": [
    "len(row)"
   ]
  },
  {
   "cell_type": "code",
   "execution_count": 53,
   "id": "7244cfdc",
   "metadata": {},
   "outputs": [],
   "source": [
    "csv.reader?"
   ]
  },
  {
   "cell_type": "code",
   "execution_count": 54,
   "id": "ffc32ee0",
   "metadata": {},
   "outputs": [
    {
     "name": "stdout",
     "output_type": "stream",
     "text": [
      "['1', 'completely  different', '672', '']\n"
     ]
    }
   ],
   "source": [
    "with open(\"data/frequencies_intensifiers.csv\", encoding=\"utf-8\") as file:\n",
    "    reader = csv.reader(file, delimiter=\";\")\n",
    "    for row in reader:\n",
    "        print(row)\n",
    "        break"
   ]
  },
  {
   "cell_type": "code",
   "execution_count": 55,
   "id": "b38cc8e6",
   "metadata": {},
   "outputs": [
    {
     "data": {
      "text/plain": [
       "4"
      ]
     },
     "execution_count": 55,
     "metadata": {},
     "output_type": "execute_result"
    }
   ],
   "source": [
    "len(row)"
   ]
  },
  {
   "cell_type": "code",
   "execution_count": 56,
   "id": "731223d4",
   "metadata": {},
   "outputs": [
    {
     "data": {
      "text/plain": [
       "4"
      ]
     },
     "execution_count": 56,
     "metadata": {},
     "output_type": "execute_result"
    }
   ],
   "source": [
    "int(\"4\")"
   ]
  },
  {
   "cell_type": "code",
   "execution_count": 57,
   "id": "a10f875e",
   "metadata": {},
   "outputs": [
    {
     "data": {
      "text/plain": [
       "4.5"
      ]
     },
     "execution_count": 57,
     "metadata": {},
     "output_type": "execute_result"
    }
   ],
   "source": [
    "float(\"4.5\")"
   ]
  },
  {
   "cell_type": "code",
   "execution_count": 58,
   "id": "5437c3f8",
   "metadata": {},
   "outputs": [
    {
     "data": {
      "text/plain": [
       "'completely  different'"
      ]
     },
     "execution_count": 58,
     "metadata": {},
     "output_type": "execute_result"
    }
   ],
   "source": [
    "row[1]"
   ]
  },
  {
   "cell_type": "code",
   "execution_count": 59,
   "id": "40b26282",
   "metadata": {},
   "outputs": [
    {
     "data": {
      "text/plain": [
       "['completely', 'different']"
      ]
     },
     "execution_count": 59,
     "metadata": {},
     "output_type": "execute_result"
    }
   ],
   "source": [
    "row[1].split()"
   ]
  },
  {
   "cell_type": "code",
   "execution_count": 60,
   "id": "538a8ded",
   "metadata": {},
   "outputs": [],
   "source": [
    "adv, adj = row[1].split()"
   ]
  },
  {
   "cell_type": "markdown",
   "id": "68fbd99e",
   "metadata": {},
   "source": [
    "Let's divide up the adjectives into sets based on which intensifiers\n",
    "they co-occur."
   ]
  },
  {
   "cell_type": "code",
   "execution_count": 61,
   "id": "0d8e0ca4",
   "metadata": {},
   "outputs": [],
   "source": [
    "completely = set()\n",
    "totally = set()\n",
    "entirely = set()\n",
    "utterly = set()\n",
    "\n",
    "with open(\"data/frequencies_intensifiers.csv\", encoding=\"utf-8\") as file:\n",
    "    reader = csv.reader(file, delimiter=\";\")\n",
    "    for row in reader:\n",
    "        adv, adj = row[1].split()\n",
    "        if adv == \"completely\":\n",
    "            completely.add(adj)\n",
    "        elif adv == \"totally\":\n",
    "            totally.add(adj)\n",
    "        elif adv == \"entirely\":\n",
    "            entirely.add(adj)\n",
    "        elif adv == \"utterly\":\n",
    "            utterly.add(adj)\n",
    "        else:\n",
    "            print(\"unexpected adverb:\", adv)"
   ]
  },
  {
   "cell_type": "markdown",
   "id": "397a25da",
   "metadata": {},
   "source": [
    "By using set operations, we can now figure out which intensifiers tend\n",
    "(not) to co-occur with which adjectives."
   ]
  },
  {
   "cell_type": "code",
   "execution_count": 62,
   "id": "e900151e",
   "metadata": {},
   "outputs": [],
   "source": [
    "not_utterly = completely | totally | entirely\n",
    "# or: not_utterly = completely.union(totally).union(entirely)"
   ]
  },
  {
   "cell_type": "code",
   "execution_count": 63,
   "id": "fe91bd32",
   "metadata": {
    "tags": [
     "output_scroll"
    ]
   },
   "outputs": [
    {
     "data": {
      "text/plain": [
       "{'appalling',\n",
       " 'arresting',\n",
       " 'bigoted',\n",
       " 'blasphemous',\n",
       " 'blasphomous',\n",
       " 'cack-handed',\n",
       " 'childish',\n",
       " 'clever',\n",
       " 'conditional',\n",
       " 'contemptible',\n",
       " 'crippling',\n",
       " 'damnable',\n",
       " 'defective',\n",
       " 'degrading',\n",
       " 'depraved',\n",
       " 'despicable',\n",
       " 'detestable',\n",
       " 'devoted',\n",
       " 'digestible',\n",
       " 'disappointing',\n",
       " 'disconsolate',\n",
       " 'disgraceful',\n",
       " 'dismal',\n",
       " 'disposable',\n",
       " 'distasteful',\n",
       " 'distinguished',\n",
       " 'disturbing',\n",
       " 'downcast',\n",
       " 'dreadful',\n",
       " 'earthy',\n",
       " 'effeminate',\n",
       " 'endless',\n",
       " 'energetic',\n",
       " 'enraged',\n",
       " 'exquisite',\n",
       " 'extraordinary',\n",
       " 'fatuous',\n",
       " 'fluid',\n",
       " 'forgettable',\n",
       " 'fragile',\n",
       " 'geeky',\n",
       " 'graceful',\n",
       " 'gracious',\n",
       " 'guileless',\n",
       " 'heartbreaking',\n",
       " 'hopeful',\n",
       " 'hysterical',\n",
       " 'impassioned',\n",
       " 'important',\n",
       " 'impoverished',\n",
       " 'indistinguishable',\n",
       " 'indivisible',\n",
       " 'infrequent',\n",
       " 'lawless',\n",
       " 'materialistic',\n",
       " 'minuscule',\n",
       " 'non-essential',\n",
       " 'nugatory',\n",
       " 'obscene',\n",
       " 'obtuse',\n",
       " 'one-of-a-kind',\n",
       " 'orthodox',\n",
       " 'paltry',\n",
       " 'partisan',\n",
       " 'passé',\n",
       " 'pathological',\n",
       " 'perverse',\n",
       " 'phenomenal',\n",
       " 'praiseworthy',\n",
       " 'prepared',\n",
       " 'preposterous',\n",
       " 'profound',\n",
       " 'reductionistic',\n",
       " 'remarkable',\n",
       " 'remiss',\n",
       " 'riveting',\n",
       " 'ruthless',\n",
       " 'self-destructive',\n",
       " 'shambolic',\n",
       " 'shameful',\n",
       " 'similar',\n",
       " 'simple',\n",
       " 'simplistic',\n",
       " 'situational',\n",
       " 'smug',\n",
       " 'spectacular',\n",
       " 'splendid',\n",
       " 'squalid',\n",
       " 'stifling',\n",
       " 'stirring',\n",
       " 'stubborn',\n",
       " 'stunning',\n",
       " 'subdued',\n",
       " 'therapeutic',\n",
       " 'thoughtless',\n",
       " 'totalitarian',\n",
       " 'un-australian',\n",
       " 'uncared',\n",
       " 'uncollectable',\n",
       " 'undesirable',\n",
       " 'unexceptional',\n",
       " 'unfathomable',\n",
       " 'ungodly',\n",
       " 'uninteresting',\n",
       " 'unprovable',\n",
       " 'unreconcilable',\n",
       " 'unscientific',\n",
       " 'unscrupulous',\n",
       " 'unspooky',\n",
       " 'unsuspecting',\n",
       " 'unwinnable',\n",
       " 'vain',\n",
       " 'vastated',\n",
       " 'vulgar'}"
      ]
     },
     "execution_count": 63,
     "metadata": {},
     "output_type": "execute_result"
    }
   ],
   "source": [
    "utterly - not_utterly\n",
    "# or: utterly.difference(not_utterly)"
   ]
  },
  {
   "cell_type": "markdown",
   "id": "16b6f655",
   "metadata": {},
   "source": [
    "## Storing objects on disk and reloading them\n",
    "\n",
    "Some values take a long time to compute, so you don't want to have to\n",
    "compute them again and again each time you close and reopen JupyterLab.\n",
    "Instead, you'd like to compute them once, store them somewhere, and\n",
    "reload them (almost) instantaneously whenever you need.\n",
    "\n",
    "### The `%store` magic function\n",
    "\n",
    "The `%store` magic function can store individual variables; it's perhaps\n",
    "the simplest option, but you don't really control where the object gets\n",
    "stored."
   ]
  },
  {
   "cell_type": "code",
   "execution_count": 64,
   "id": "9d17b81d",
   "metadata": {},
   "outputs": [],
   "source": [
    "a = 2"
   ]
  },
  {
   "cell_type": "code",
   "execution_count": 65,
   "id": "3253d460",
   "metadata": {},
   "outputs": [
    {
     "name": "stdout",
     "output_type": "stream",
     "text": [
      "Stored 'a' (int)\n"
     ]
    }
   ],
   "source": [
    "%store a"
   ]
  },
  {
   "cell_type": "code",
   "execution_count": 66,
   "id": "c511fdd8",
   "metadata": {},
   "outputs": [
    {
     "data": {
      "text/plain": [
       "3"
      ]
     },
     "execution_count": 66,
     "metadata": {},
     "output_type": "execute_result"
    }
   ],
   "source": [
    "a = 3\n",
    "a"
   ]
  },
  {
   "cell_type": "markdown",
   "id": "fed8d9e9",
   "metadata": {},
   "source": [
    "Reload the stored value of the `a` variable:"
   ]
  },
  {
   "cell_type": "code",
   "execution_count": 67,
   "id": "0ea30dc3",
   "metadata": {},
   "outputs": [],
   "source": [
    "%store -r a"
   ]
  },
  {
   "cell_type": "code",
   "execution_count": 68,
   "id": "20c51608",
   "metadata": {},
   "outputs": [
    {
     "data": {
      "text/plain": [
       "2"
      ]
     },
     "execution_count": 68,
     "metadata": {},
     "output_type": "execute_result"
    }
   ],
   "source": [
    "a"
   ]
  },
  {
   "cell_type": "markdown",
   "id": "a7023511",
   "metadata": {},
   "source": [
    "For more information, consult `%store`'s docstring."
   ]
  },
  {
   "cell_type": "code",
   "execution_count": 69,
   "id": "d27f3402",
   "metadata": {},
   "outputs": [],
   "source": [
    "?%store"
   ]
  },
  {
   "cell_type": "markdown",
   "id": "e622c1a8",
   "metadata": {},
   "source": [
    "### The `json` standard library module\n",
    "\n",
    "The standard library [`json`\n",
    "module](https://docs.python.org/3/library/json.html) can also be used\n",
    "for this purpose."
   ]
  },
  {
   "cell_type": "code",
   "execution_count": 70,
   "id": "2c1a7c93",
   "metadata": {},
   "outputs": [],
   "source": [
    "import json"
   ]
  },
  {
   "cell_type": "markdown",
   "id": "0bdf29ba",
   "metadata": {},
   "source": [
    "JSON [serialization](https://en.wikipedia.org/wiki/Serialization)\n",
    "actually results in plain text, which is nice and mostly human readable,\n",
    "if it's pretty-printed. It looks close to how the same data structure\n",
    "is written down in Python (can you spot the differences?)."
   ]
  },
  {
   "cell_type": "code",
   "execution_count": 71,
   "id": "963a51ab",
   "metadata": {},
   "outputs": [
    {
     "name": "stdout",
     "output_type": "stream",
     "text": [
      "{\n",
      "  \"name\": \"John Doe\",\n",
      "  \"age\": 31,\n",
      "  \"interests\": [\n",
      "    \"Python\",\n",
      "    \"linguistics\"\n",
      "  ],\n",
      "  \"single\": false,\n",
      "  \"pet\": null\n",
      "}\n"
     ]
    }
   ],
   "source": [
    "person = {\n",
    "    \"name\": \"John Doe\",\n",
    "    \"age\": 31,\n",
    "    \"interests\": [\"Python\", \"linguistics\"],\n",
    "    \"single\": False,\n",
    "    \"pet\": None,\n",
    "}\n",
    "print(json.dumps(person, indent=2))"
   ]
  },
  {
   "cell_type": "markdown",
   "id": "659f021b",
   "metadata": {},
   "source": [
    "When writing to disk, you get to pick where the object is stored, at the\n",
    "expense of having to type more than with `%store`. The `\"w\"` argument\n",
    "sets the mode of the open file to *write* (the `\"r\"` mode for *reading*\n",
    "is the default, so we didn't need to set it explicitly before when\n",
    "reading files)."
   ]
  },
  {
   "cell_type": "code",
   "execution_count": 72,
   "id": "a07ae246",
   "metadata": {},
   "outputs": [],
   "source": [
    "with open(\"person.json\", \"w\") as file:\n",
    "    json.dump(person, file, indent=2)"
   ]
  },
  {
   "cell_type": "code",
   "execution_count": 73,
   "id": "e1e0afa0",
   "metadata": {},
   "outputs": [
    {
     "name": "stdout",
     "output_type": "stream",
     "text": [
      "{\r\n",
      "  \"name\": \"John Doe\",\r\n",
      "  \"age\": 31,\r\n",
      "  \"interests\": [\r\n",
      "    \"Python\",\r\n",
      "    \"linguistics\"\r\n",
      "  ],\r\n",
      "  \"single\": false,\r\n",
      "  \"pet\": null\r\n",
      "}"
     ]
    }
   ],
   "source": [
    "%cat person.json"
   ]
  },
  {
   "cell_type": "code",
   "execution_count": 74,
   "id": "faaab4e3",
   "metadata": {},
   "outputs": [
    {
     "data": {
      "text/plain": [
       "{'name': 'John Doe',\n",
       " 'age': 31,\n",
       " 'interests': ['Python', 'linguistics'],\n",
       " 'single': False,\n",
       " 'pet': None}"
      ]
     },
     "execution_count": 74,
     "metadata": {},
     "output_type": "execute_result"
    }
   ],
   "source": [
    "with open(\"person.json\") as file:\n",
    "    data = json.load(file)\n",
    "data"
   ]
  },
  {
   "cell_type": "code",
   "execution_count": 75,
   "id": "d8fe29fc",
   "metadata": {},
   "outputs": [],
   "source": [
    "# cleanup\n",
    "%rm person.json"
   ]
  },
  {
   "cell_type": "markdown",
   "id": "2f6882a8",
   "metadata": {},
   "source": [
    "If you want to store multiple objects like this, just put them in a\n",
    "dictionary and `json.dump` the whole thing.\n",
    "\n",
    "JSON was created as an interchange format, which comes both with\n",
    "advantages and a drawbacks. The advantage is it can be easily loaded\n",
    "into different languages / tools, almost every programming language now\n",
    "has an easily accessible JSON library. The main drawback is that it only\n",
    "works for storing a limited range of types: dicts, lists, strings,\n",
    "numbers, Boolean values (`True` and `False`) and `None`. As an\n",
    "interchange format, it makes sense that it has to stick to the lowest\n",
    "common denominator of what's available in some form in almost every\n",
    "programming language, otherwise there couldn't be much interchange.\n",
    "Some additional types can be stored as JSON, but only by being converted\n",
    "to one of the above -- e.g. if you store a tuple in JSON and load it\n",
    "back, it will become a list."
   ]
  },
  {
   "cell_type": "code",
   "execution_count": 76,
   "id": "724b5d98",
   "metadata": {},
   "outputs": [
    {
     "data": {
      "text/plain": [
       "[1, 2, 3]"
      ]
     },
     "execution_count": 76,
     "metadata": {},
     "output_type": "execute_result"
    }
   ],
   "source": [
    "json.loads(json.dumps((1, 2, 3)))"
   ]
  },
  {
   "cell_type": "markdown",
   "id": "04a08049",
   "metadata": {},
   "source": [
    "### The `pickle` standard library module\n",
    "\n",
    "[Pickling objects](https://docs.python.org/3/library/pickle.html) works\n",
    "in a very similar way to dumping them as JSON, just make sure to open\n",
    "the file for writing **in binary mode** (`\"wb\"`):"
   ]
  },
  {
   "cell_type": "code",
   "execution_count": 77,
   "id": "d96a9997",
   "metadata": {},
   "outputs": [],
   "source": [
    "import pickle\n",
    "\n",
    "with open(\"person.pickle\", \"wb\") as file:\n",
    "    pickle.dump(person, file)"
   ]
  },
  {
   "cell_type": "markdown",
   "id": "d8f5e507",
   "metadata": {},
   "source": [
    "... and for reading as well (`\"rb\"`):"
   ]
  },
  {
   "cell_type": "code",
   "execution_count": 78,
   "id": "5d5693c5",
   "metadata": {},
   "outputs": [
    {
     "data": {
      "text/plain": [
       "{'name': 'John Doe',\n",
       " 'age': 31,\n",
       " 'interests': ['Python', 'linguistics'],\n",
       " 'single': False,\n",
       " 'pet': None}"
      ]
     },
     "execution_count": 78,
     "metadata": {},
     "output_type": "execute_result"
    }
   ],
   "source": [
    "with open(\"person.pickle\", \"rb\") as file:\n",
    "    data = pickle.load(file)\n",
    "data"
   ]
  },
  {
   "cell_type": "markdown",
   "id": "dc9e072e",
   "metadata": {},
   "source": [
    "This is because pickling doesn't use a plain text format, but a custom\n",
    "binary format."
   ]
  },
  {
   "cell_type": "code",
   "execution_count": 79,
   "id": "76f8ef92",
   "metadata": {
    "tags": [
     "output_scroll"
    ]
   },
   "outputs": [
    {
     "name": "stdout",
     "output_type": "stream",
     "text": [
      "�\u0004�W\u0000\u0000\u0000\u0000\u0000\u0000\u0000}�(�\u0004name��\bJohn Doe��\u0003age�K\u001f�\tinterests�]�(�\u0006Python��\u000b",
      "linguistics�e�\u0006single���\u0003pet�Nu."
     ]
    }
   ],
   "source": [
    "%cat person.pickle"
   ]
  },
  {
   "cell_type": "code",
   "execution_count": 80,
   "id": "99da48cd",
   "metadata": {},
   "outputs": [],
   "source": [
    "# cleanup\n",
    "%rm person.pickle"
   ]
  },
  {
   "cell_type": "markdown",
   "id": "e35f6a19",
   "metadata": {},
   "source": [
    "The advantage of `pickle` is that unlike JSON, it can faithfully\n",
    "preserve a much wider spectrum of Python objects (most things you're\n",
    "likely to need in normal practice). This flexibility is partially\n",
    "achieved by allowing arbitrary code to run during unpickling, based on\n",
    "what's stored in the pickle, which is a security flaw -- someone could\n",
    "in theory send you a maliciously crafted pickle which deletes your home\n",
    "directory upon unpickling. **So only unpickle data from sources you\n",
    "trust.**\n",
    "\n",
    "Another disadvantage is that the format is specific to Python, and it\n",
    "can even change between versions of the language: there are [several\n",
    "versions of the pickle\n",
    "protocol](https://docs.python.org/3/library/pickle.html#data-stream-format),\n",
    "as it gets improved over time. This means that if you want to share\n",
    "pickled objects across Python versions, you need to be careful about\n",
    "which protocol version you use in order to retain backwards\n",
    "compatibility.\n",
    "\n",
    "Like with JSON, if you want to pickle multiple objects, you still have\n",
    "to store them separately, or put them all in a dict manually and store\n",
    "the dict.\n",
    "\n",
    "### The `dill` library\n",
    "\n",
    "[`dill`](https://dill.readthedocs.io) is `pickle` on steroids. For any\n",
    "less proficient English speakers reading and/or those without a\n",
    "background in English literature, the name is a pun on [dill\n",
    "pickle](https://www.google.com/search?client=q=dill+pickle), or maybe\n",
    "even [*A Dill Pickle*](https://en.wikipedia.org/wiki/A_Dill_Pickle).\n",
    "Its biggest advantage is that it can pickle entire sessions (kind of\n",
    "like R does, if you're familiar with R), you don't have to specify\n",
    "objects one by one. Before we demonstrate this though, we'll need to get\n",
    "rid of our CSV `reader` object from before, because it turns out that's\n",
    "one of the objects which can't be even dill-pickled. (You don't have to\n",
    "remember this by heart, I certainly don't -- Python will complain loudly\n",
    "if you try to pickle something that can't be pickled.)"
   ]
  },
  {
   "cell_type": "code",
   "execution_count": 81,
   "id": "6ca24484",
   "metadata": {},
   "outputs": [],
   "source": [
    "import dill\n",
    "\n",
    "del reader\n",
    "dill.dump_session(\"session.pickle\")"
   ]
  },
  {
   "cell_type": "code",
   "execution_count": 82,
   "id": "ec5c0461",
   "metadata": {},
   "outputs": [],
   "source": [
    "dill.load_session(\"session.pickle\")\n",
    "# cleanup\n",
    "%rm session.pickle"
   ]
  },
  {
   "cell_type": "markdown",
   "id": "9ff5442b",
   "metadata": {},
   "source": [
    "Apart from the advantages of being able to pickle entire sessions,\n",
    "`dill` also extends pickling support to more types of objects. You can\n",
    "just switch your code to using `dill.dump()` / `dill.load()` instead of\n",
    "`pickle.dump()` / `pickle.load()` and you get this extended support for\n",
    "free.\n",
    "\n",
    "The disadvantages are the same as for `pickle`, plus it's not bundled\n",
    "with Python, so it's another dependency you have to [install it\n",
    "separately](https://pypi.org/project/dill/)."
   ]
  }
 ],
 "metadata": {
  "jupytext": {
   "formats": "md:myst",
   "text_representation": {
    "extension": ".md",
    "format_name": "myst",
    "format_version": 0.12,
    "jupytext_version": "1.6.0"
   }
  },
  "kernelspec": {
   "display_name": "Python 3",
   "language": "python",
   "name": "python3"
  },
  "language_info": {
   "codemirror_mode": {
    "name": "ipython",
    "version": 3
   },
   "file_extension": ".py",
   "mimetype": "text/x-python",
   "name": "python",
   "nbconvert_exporter": "python",
   "pygments_lexer": "ipython3",
   "version": "3.9.6"
  },
  "source_map": [
   13,
   44,
   51,
   63,
   68,
   86,
   89,
   110,
   113,
   126,
   131,
   136,
   139,
   152,
   158,
   164,
   169,
   205,
   209,
   213,
   217,
   219,
   224,
   231,
   235,
   244,
   248,
   252,
   256,
   260,
   264,
   268,
   272,
   276,
   280,
   284,
   288,
   292,
   296,
   300,
   306,
   310,
   314,
   320,
   324,
   328,
   332,
   336,
   340,
   344,
   348,
   352,
   356,
   360,
   364,
   371,
   408,
   415,
   419,
   427,
   431,
   435,
   439,
   447,
   451,
   455,
   459,
   463,
   467,
   469,
   474,
   494,
   499,
   504,
   509,
   524,
   528,
   532,
   535,
   539,
   543,
   545,
   549,
   551,
   559,
   561,
   568,
   577,
   585,
   590,
   594,
   600,
   603,
   621,
   623,
   631,
   636,
   640,
   644,
   649,
   655,
   658,
   697,
   704,
   708
  ]
 },
 "nbformat": 4,
 "nbformat_minor": 5
}