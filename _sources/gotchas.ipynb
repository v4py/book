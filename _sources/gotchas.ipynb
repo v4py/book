{
 "cells": [
  {
   "cell_type": "markdown",
   "id": "0a7c45ea",
   "metadata": {},
   "source": [
    "# Python gotchas\n",
    "\n",
    "## With great power comes great responsibility\n",
    "\n",
    "You now know enough Python to be dangerous! Unfortunately, that also\n",
    "means you can occasionally be dangerous to yourself. Python tries hard\n",
    "to be a consistent language that prevents you from accidentally shooting\n",
    "yourself in the foot, but there are still many gotchas, as with most\n",
    "programming languages. Here's a selection of all-time favorites to look\n",
    "out for as you start building larger and more complicated programs.\n",
    "\n",
    "## Variable scope"
   ]
  },
  {
   "cell_type": "code",
   "execution_count": 1,
   "id": "c01d65c9",
   "metadata": {},
   "outputs": [],
   "source": [
    "# global scope\n",
    "a = 2"
   ]
  },
  {
   "cell_type": "code",
   "execution_count": 2,
   "id": "6424d904",
   "metadata": {},
   "outputs": [],
   "source": [
    "def func():\n",
    "    print(a)\n",
    "    # local scope\n",
    "    b = 3"
   ]
  },
  {
   "cell_type": "code",
   "execution_count": 3,
   "id": "ba6bf360",
   "metadata": {},
   "outputs": [
    {
     "name": "stdout",
     "output_type": "stream",
     "text": [
      "2\n"
     ]
    }
   ],
   "source": [
    "func()"
   ]
  },
  {
   "cell_type": "code",
   "execution_count": 4,
   "id": "303a1fbc",
   "metadata": {
    "tags": [
     "raises-exception",
     "full-width",
     "output_scroll"
    ]
   },
   "outputs": [
    {
     "ename": "NameError",
     "evalue": "name 'b' is not defined",
     "output_type": "error",
     "traceback": [
      "\u001b[0;31m---------------------------------------------------------------------------\u001b[0m",
      "\u001b[0;31mNameError\u001b[0m                                 Traceback (most recent call last)",
      "\u001b[0;32m/tmp/ipykernel_57042/1685013873.py\u001b[0m in \u001b[0;36m<module>\u001b[0;34m\u001b[0m\n\u001b[0;32m----> 1\u001b[0;31m \u001b[0mb\u001b[0m\u001b[0;34m\u001b[0m\u001b[0;34m\u001b[0m\u001b[0m\n\u001b[0m",
      "\u001b[0;31mNameError\u001b[0m: name 'b' is not defined"
     ]
    }
   ],
   "source": [
    "b"
   ]
  },
  {
   "cell_type": "code",
   "execution_count": 5,
   "id": "0dac182f",
   "metadata": {},
   "outputs": [],
   "source": [
    "def func():\n",
    "    # local variable shadows global variable\n",
    "    a = 4\n",
    "    print(a)"
   ]
  },
  {
   "cell_type": "code",
   "execution_count": 6,
   "id": "aed2f54d",
   "metadata": {},
   "outputs": [
    {
     "name": "stdout",
     "output_type": "stream",
     "text": [
      "4\n"
     ]
    }
   ],
   "source": [
    "func()"
   ]
  },
  {
   "cell_type": "code",
   "execution_count": 7,
   "id": "7275779a",
   "metadata": {},
   "outputs": [
    {
     "data": {
      "text/plain": [
       "2"
      ]
     },
     "execution_count": 7,
     "metadata": {},
     "output_type": "execute_result"
    }
   ],
   "source": [
    "a"
   ]
  },
  {
   "cell_type": "markdown",
   "id": "7993246f",
   "metadata": {},
   "source": [
    "Listing global variables:"
   ]
  },
  {
   "cell_type": "code",
   "execution_count": 8,
   "id": "9357a0fc",
   "metadata": {},
   "outputs": [
    {
     "name": "stdout",
     "output_type": "stream",
     "text": [
      "a\t func\t \n"
     ]
    }
   ],
   "source": [
    "%who"
   ]
  },
  {
   "cell_type": "code",
   "execution_count": 9,
   "id": "ffd9c664",
   "metadata": {},
   "outputs": [
    {
     "name": "stdout",
     "output_type": "stream",
     "text": [
      "Variable   Type        Data/Info\n",
      "--------------------------------\n",
      "a          int         2\n",
      "func       function    <function func at 0x7faa8c487c10>\n"
     ]
    }
   ],
   "source": [
    "%whos"
   ]
  },
  {
   "cell_type": "markdown",
   "id": "cae97389",
   "metadata": {},
   "source": [
    "## `return` vs. `print`"
   ]
  },
  {
   "cell_type": "code",
   "execution_count": 10,
   "id": "7f6f77a0",
   "metadata": {},
   "outputs": [],
   "source": [
    "def func1():\n",
    "    return 1"
   ]
  },
  {
   "cell_type": "code",
   "execution_count": 11,
   "id": "a121c8f4",
   "metadata": {},
   "outputs": [],
   "source": [
    "def func2():\n",
    "    print(1)"
   ]
  },
  {
   "cell_type": "code",
   "execution_count": 12,
   "id": "99dbc434",
   "metadata": {},
   "outputs": [
    {
     "data": {
      "text/plain": [
       "1"
      ]
     },
     "execution_count": 12,
     "metadata": {},
     "output_type": "execute_result"
    }
   ],
   "source": [
    "func1()"
   ]
  },
  {
   "cell_type": "code",
   "execution_count": 13,
   "id": "dc6eaf38",
   "metadata": {},
   "outputs": [
    {
     "name": "stdout",
     "output_type": "stream",
     "text": [
      "1\n"
     ]
    }
   ],
   "source": [
    "func2()"
   ]
  },
  {
   "cell_type": "code",
   "execution_count": 14,
   "id": "564dcbe2",
   "metadata": {},
   "outputs": [],
   "source": [
    "result1 = func1()"
   ]
  },
  {
   "cell_type": "code",
   "execution_count": 15,
   "id": "7165fdb4",
   "metadata": {},
   "outputs": [
    {
     "data": {
      "text/plain": [
       "1"
      ]
     },
     "execution_count": 15,
     "metadata": {},
     "output_type": "execute_result"
    }
   ],
   "source": [
    "result1"
   ]
  },
  {
   "cell_type": "code",
   "execution_count": 16,
   "id": "2fcc672d",
   "metadata": {},
   "outputs": [
    {
     "name": "stdout",
     "output_type": "stream",
     "text": [
      "1\n"
     ]
    }
   ],
   "source": [
    "result2 = func2()"
   ]
  },
  {
   "cell_type": "code",
   "execution_count": 17,
   "id": "c7756bba",
   "metadata": {},
   "outputs": [],
   "source": [
    "result2"
   ]
  },
  {
   "cell_type": "code",
   "execution_count": 18,
   "id": "66b1d479",
   "metadata": {},
   "outputs": [
    {
     "data": {
      "text/plain": [
       "True"
      ]
     },
     "execution_count": 18,
     "metadata": {},
     "output_type": "execute_result"
    }
   ],
   "source": [
    "result2 is None"
   ]
  },
  {
   "cell_type": "markdown",
   "id": "7aeb1d26",
   "metadata": {},
   "source": [
    "Python automatically returns `None` whenever it reaches the end of a\n",
    "function without encountering a `return` statement, but we can also\n",
    "`return None` explicitly."
   ]
  },
  {
   "cell_type": "code",
   "execution_count": 19,
   "id": "2cea5a92",
   "metadata": {},
   "outputs": [],
   "source": [
    "def func2():\n",
    "    print(1)\n",
    "    return None"
   ]
  },
  {
   "cell_type": "code",
   "execution_count": 20,
   "id": "d2d425a2",
   "metadata": {},
   "outputs": [
    {
     "name": "stdout",
     "output_type": "stream",
     "text": [
      "1\n"
     ]
    }
   ],
   "source": [
    "func2()"
   ]
  },
  {
   "cell_type": "code",
   "execution_count": 21,
   "id": "643d2e1c",
   "metadata": {},
   "outputs": [
    {
     "name": "stdout",
     "output_type": "stream",
     "text": [
      "1\n"
     ]
    }
   ],
   "source": [
    "res = func2()"
   ]
  },
  {
   "cell_type": "code",
   "execution_count": 22,
   "id": "025bd276",
   "metadata": {},
   "outputs": [
    {
     "data": {
      "text/plain": [
       "True"
      ]
     },
     "execution_count": 22,
     "metadata": {},
     "output_type": "execute_result"
    }
   ],
   "source": [
    "res is None"
   ]
  },
  {
   "cell_type": "markdown",
   "id": "fd7a2876",
   "metadata": {},
   "source": [
    "## Difference between `==` and `is`"
   ]
  },
  {
   "cell_type": "code",
   "execution_count": 23,
   "id": "c4c8b00a",
   "metadata": {},
   "outputs": [],
   "source": [
    "list1 = [1, 2]\n",
    "list2 = [2, 3]"
   ]
  },
  {
   "cell_type": "code",
   "execution_count": 24,
   "id": "8455cab0",
   "metadata": {},
   "outputs": [
    {
     "data": {
      "text/plain": [
       "False"
      ]
     },
     "execution_count": 24,
     "metadata": {},
     "output_type": "execute_result"
    }
   ],
   "source": [
    "list1 == list2"
   ]
  },
  {
   "cell_type": "code",
   "execution_count": 25,
   "id": "efeb6e68",
   "metadata": {},
   "outputs": [
    {
     "data": {
      "text/plain": [
       "False"
      ]
     },
     "execution_count": 25,
     "metadata": {},
     "output_type": "execute_result"
    }
   ],
   "source": [
    "list1 is list2"
   ]
  },
  {
   "cell_type": "code",
   "execution_count": 26,
   "id": "085c588b",
   "metadata": {},
   "outputs": [],
   "source": [
    "list3 = [1, 2]"
   ]
  },
  {
   "cell_type": "code",
   "execution_count": 27,
   "id": "4708129a",
   "metadata": {},
   "outputs": [
    {
     "data": {
      "text/plain": [
       "True"
      ]
     },
     "execution_count": 27,
     "metadata": {},
     "output_type": "execute_result"
    }
   ],
   "source": [
    "list1 == list3"
   ]
  },
  {
   "cell_type": "code",
   "execution_count": 28,
   "id": "0039b4a5",
   "metadata": {},
   "outputs": [
    {
     "data": {
      "text/plain": [
       "False"
      ]
     },
     "execution_count": 28,
     "metadata": {},
     "output_type": "execute_result"
    }
   ],
   "source": [
    "list1 is list3"
   ]
  },
  {
   "cell_type": "code",
   "execution_count": 29,
   "id": "6796a6cd",
   "metadata": {},
   "outputs": [
    {
     "data": {
      "text/plain": [
       "[1, 2]"
      ]
     },
     "execution_count": 29,
     "metadata": {},
     "output_type": "execute_result"
    }
   ],
   "source": [
    "list1"
   ]
  },
  {
   "cell_type": "code",
   "execution_count": 30,
   "id": "97783ba0",
   "metadata": {},
   "outputs": [
    {
     "data": {
      "text/plain": [
       "[1, 2]"
      ]
     },
     "execution_count": 30,
     "metadata": {},
     "output_type": "execute_result"
    }
   ],
   "source": [
    "list3"
   ]
  },
  {
   "cell_type": "code",
   "execution_count": 31,
   "id": "e7908dc8",
   "metadata": {},
   "outputs": [
    {
     "data": {
      "text/plain": [
       "140370475566528"
      ]
     },
     "execution_count": 31,
     "metadata": {},
     "output_type": "execute_result"
    }
   ],
   "source": [
    "id(list1)"
   ]
  },
  {
   "cell_type": "code",
   "execution_count": 32,
   "id": "4caa3fda",
   "metadata": {},
   "outputs": [
    {
     "data": {
      "text/plain": [
       "140370475277184"
      ]
     },
     "execution_count": 32,
     "metadata": {},
     "output_type": "execute_result"
    }
   ],
   "source": [
    "id(list3)"
   ]
  },
  {
   "cell_type": "code",
   "execution_count": 33,
   "id": "4e8bae94",
   "metadata": {},
   "outputs": [],
   "source": [
    "list3.append(42)"
   ]
  },
  {
   "cell_type": "code",
   "execution_count": 34,
   "id": "f3d0b4c1",
   "metadata": {},
   "outputs": [
    {
     "data": {
      "text/plain": [
       "[1, 2, 42]"
      ]
     },
     "execution_count": 34,
     "metadata": {},
     "output_type": "execute_result"
    }
   ],
   "source": [
    "list3"
   ]
  },
  {
   "cell_type": "code",
   "execution_count": 35,
   "id": "bcece227",
   "metadata": {},
   "outputs": [
    {
     "data": {
      "text/plain": [
       "[1, 2]"
      ]
     },
     "execution_count": 35,
     "metadata": {},
     "output_type": "execute_result"
    }
   ],
   "source": [
    "list1"
   ]
  },
  {
   "cell_type": "code",
   "execution_count": 36,
   "id": "64da8c7c",
   "metadata": {},
   "outputs": [
    {
     "data": {
      "text/plain": [
       "False"
      ]
     },
     "execution_count": 36,
     "metadata": {},
     "output_type": "execute_result"
    }
   ],
   "source": [
    "list1 == list3"
   ]
  },
  {
   "cell_type": "code",
   "execution_count": 37,
   "id": "d3c9da98",
   "metadata": {},
   "outputs": [
    {
     "data": {
      "text/plain": [
       "[1, 2, 42]"
      ]
     },
     "execution_count": 37,
     "metadata": {},
     "output_type": "execute_result"
    }
   ],
   "source": [
    "list3"
   ]
  },
  {
   "cell_type": "code",
   "execution_count": 38,
   "id": "57165dd6",
   "metadata": {},
   "outputs": [],
   "source": [
    "list4 = list3"
   ]
  },
  {
   "cell_type": "code",
   "execution_count": 39,
   "id": "73023673",
   "metadata": {},
   "outputs": [
    {
     "data": {
      "text/plain": [
       "True"
      ]
     },
     "execution_count": 39,
     "metadata": {},
     "output_type": "execute_result"
    }
   ],
   "source": [
    "list3 == list4"
   ]
  },
  {
   "cell_type": "code",
   "execution_count": 40,
   "id": "d368eac2",
   "metadata": {},
   "outputs": [
    {
     "data": {
      "text/plain": [
       "True"
      ]
     },
     "execution_count": 40,
     "metadata": {},
     "output_type": "execute_result"
    }
   ],
   "source": [
    "list3 is list4"
   ]
  },
  {
   "cell_type": "code",
   "execution_count": 41,
   "id": "0e0f3fa9",
   "metadata": {},
   "outputs": [],
   "source": [
    "list3.append(5)"
   ]
  },
  {
   "cell_type": "code",
   "execution_count": 42,
   "id": "f70d2322",
   "metadata": {},
   "outputs": [
    {
     "data": {
      "text/plain": [
       "[1, 2, 42, 5]"
      ]
     },
     "execution_count": 42,
     "metadata": {},
     "output_type": "execute_result"
    }
   ],
   "source": [
    "list3"
   ]
  },
  {
   "cell_type": "code",
   "execution_count": 43,
   "id": "5d2f87e3",
   "metadata": {},
   "outputs": [
    {
     "data": {
      "text/plain": [
       "[1, 2, 42, 5]"
      ]
     },
     "execution_count": 43,
     "metadata": {},
     "output_type": "execute_result"
    }
   ],
   "source": [
    "list4"
   ]
  },
  {
   "cell_type": "code",
   "execution_count": 44,
   "id": "43e3de82",
   "metadata": {},
   "outputs": [],
   "source": [
    "def mutating_function(lst):\n",
    "    lst.append(500)"
   ]
  },
  {
   "cell_type": "code",
   "execution_count": 45,
   "id": "b1cdddc3",
   "metadata": {},
   "outputs": [],
   "source": [
    "mutating_function(list4)"
   ]
  },
  {
   "cell_type": "code",
   "execution_count": 46,
   "id": "b5942376",
   "metadata": {},
   "outputs": [
    {
     "data": {
      "text/plain": [
       "[1, 2, 42, 5, 500]"
      ]
     },
     "execution_count": 46,
     "metadata": {},
     "output_type": "execute_result"
    }
   ],
   "source": [
    "list4"
   ]
  },
  {
   "cell_type": "markdown",
   "id": "cb0931de",
   "metadata": {},
   "source": [
    "## Shallow copies"
   ]
  },
  {
   "cell_type": "code",
   "execution_count": 47,
   "id": "4a6041f2",
   "metadata": {},
   "outputs": [
    {
     "data": {
      "text/plain": [
       "[1, 2, 42, 5, 500]"
      ]
     },
     "execution_count": 47,
     "metadata": {},
     "output_type": "execute_result"
    }
   ],
   "source": [
    "# either by slicing...\n",
    "list4[:]"
   ]
  },
  {
   "cell_type": "code",
   "execution_count": 48,
   "id": "2b16a598",
   "metadata": {},
   "outputs": [],
   "source": [
    "list5 = list4[:]"
   ]
  },
  {
   "cell_type": "code",
   "execution_count": 49,
   "id": "856d1980",
   "metadata": {},
   "outputs": [
    {
     "data": {
      "text/plain": [
       "True"
      ]
     },
     "execution_count": 49,
     "metadata": {},
     "output_type": "execute_result"
    }
   ],
   "source": [
    "list5 == list4"
   ]
  },
  {
   "cell_type": "code",
   "execution_count": 50,
   "id": "81b7a719",
   "metadata": {},
   "outputs": [
    {
     "data": {
      "text/plain": [
       "False"
      ]
     },
     "execution_count": 50,
     "metadata": {},
     "output_type": "execute_result"
    }
   ],
   "source": [
    "list5 is list4"
   ]
  },
  {
   "cell_type": "code",
   "execution_count": 51,
   "id": "81947478",
   "metadata": {},
   "outputs": [],
   "source": [
    "# ... or the copy method\n",
    "list6 = list4.copy()"
   ]
  },
  {
   "cell_type": "code",
   "execution_count": 52,
   "id": "eb76cee8",
   "metadata": {},
   "outputs": [
    {
     "data": {
      "text/plain": [
       "True"
      ]
     },
     "execution_count": 52,
     "metadata": {},
     "output_type": "execute_result"
    }
   ],
   "source": [
    "list6 == list4"
   ]
  },
  {
   "cell_type": "code",
   "execution_count": 53,
   "id": "8edd88b9",
   "metadata": {},
   "outputs": [
    {
     "data": {
      "text/plain": [
       "False"
      ]
     },
     "execution_count": 53,
     "metadata": {},
     "output_type": "execute_result"
    }
   ],
   "source": [
    "list6 is list4"
   ]
  },
  {
   "cell_type": "code",
   "execution_count": 54,
   "id": "8180cbcb",
   "metadata": {},
   "outputs": [],
   "source": [
    "sentences = [\n",
    "    [\"Call\", \"me\", \"Ishmael\", \".\"],\n",
    "    [\"I\", \"am\", \"tired\", \".\"]\n",
    "]"
   ]
  },
  {
   "cell_type": "code",
   "execution_count": 55,
   "id": "c8335eaf",
   "metadata": {},
   "outputs": [],
   "source": [
    "copy = sentences.copy()"
   ]
  },
  {
   "cell_type": "code",
   "execution_count": 56,
   "id": "8a73c22d",
   "metadata": {},
   "outputs": [
    {
     "data": {
      "text/plain": [
       "True"
      ]
     },
     "execution_count": 56,
     "metadata": {},
     "output_type": "execute_result"
    }
   ],
   "source": [
    "sentences == copy"
   ]
  },
  {
   "cell_type": "code",
   "execution_count": 57,
   "id": "1d0bbfae",
   "metadata": {},
   "outputs": [
    {
     "data": {
      "text/plain": [
       "False"
      ]
     },
     "execution_count": 57,
     "metadata": {},
     "output_type": "execute_result"
    }
   ],
   "source": [
    "sentences is copy"
   ]
  },
  {
   "cell_type": "code",
   "execution_count": 58,
   "id": "8711a2d1",
   "metadata": {},
   "outputs": [
    {
     "data": {
      "text/plain": [
       "[['Call', 'me', 'Ishmael', '.'], ['I', 'am', 'tired', '.']]"
      ]
     },
     "execution_count": 58,
     "metadata": {},
     "output_type": "execute_result"
    }
   ],
   "source": [
    "copy"
   ]
  },
  {
   "cell_type": "code",
   "execution_count": 59,
   "id": "50aa667e",
   "metadata": {},
   "outputs": [
    {
     "data": {
      "text/plain": [
       "'Ishmael'"
      ]
     },
     "execution_count": 59,
     "metadata": {},
     "output_type": "execute_result"
    }
   ],
   "source": [
    "copy[0][2]"
   ]
  },
  {
   "cell_type": "code",
   "execution_count": 60,
   "id": "561fb19a",
   "metadata": {},
   "outputs": [],
   "source": [
    "copy[0][2] = \"David\""
   ]
  },
  {
   "cell_type": "code",
   "execution_count": 61,
   "id": "d159ffce",
   "metadata": {},
   "outputs": [
    {
     "data": {
      "text/plain": [
       "[['Call', 'me', 'David', '.'], ['I', 'am', 'tired', '.']]"
      ]
     },
     "execution_count": 61,
     "metadata": {},
     "output_type": "execute_result"
    }
   ],
   "source": [
    "copy"
   ]
  },
  {
   "cell_type": "code",
   "execution_count": 62,
   "id": "2fab2f1a",
   "metadata": {},
   "outputs": [
    {
     "data": {
      "text/plain": [
       "[['Call', 'me', 'David', '.'], ['I', 'am', 'tired', '.']]"
      ]
     },
     "execution_count": 62,
     "metadata": {},
     "output_type": "execute_result"
    }
   ],
   "source": [
    "sentences"
   ]
  },
  {
   "cell_type": "code",
   "execution_count": 63,
   "id": "e927d63c",
   "metadata": {},
   "outputs": [
    {
     "data": {
      "text/plain": [
       "False"
      ]
     },
     "execution_count": 63,
     "metadata": {},
     "output_type": "execute_result"
    }
   ],
   "source": [
    "copy is sentences"
   ]
  },
  {
   "cell_type": "code",
   "execution_count": 64,
   "id": "851593b3",
   "metadata": {},
   "outputs": [
    {
     "data": {
      "text/plain": [
       "True"
      ]
     },
     "execution_count": 64,
     "metadata": {},
     "output_type": "execute_result"
    }
   ],
   "source": [
    "copy[0] is sentences[0]"
   ]
  },
  {
   "cell_type": "markdown",
   "id": "20f44339",
   "metadata": {},
   "source": [
    "## Deep copies"
   ]
  },
  {
   "cell_type": "code",
   "execution_count": 65,
   "id": "69b85dea",
   "metadata": {},
   "outputs": [],
   "source": [
    "from copy import deepcopy"
   ]
  },
  {
   "cell_type": "code",
   "execution_count": 66,
   "id": "43fb928c",
   "metadata": {},
   "outputs": [],
   "source": [
    "deep = deepcopy(sentences)"
   ]
  },
  {
   "cell_type": "code",
   "execution_count": 67,
   "id": "886e39a7",
   "metadata": {},
   "outputs": [
    {
     "data": {
      "text/plain": [
       "[['Call', 'me', 'David', '.'], ['I', 'am', 'tired', '.']]"
      ]
     },
     "execution_count": 67,
     "metadata": {},
     "output_type": "execute_result"
    }
   ],
   "source": [
    "deep"
   ]
  },
  {
   "cell_type": "code",
   "execution_count": 68,
   "id": "480c9c9d",
   "metadata": {},
   "outputs": [
    {
     "data": {
      "text/plain": [
       "True"
      ]
     },
     "execution_count": 68,
     "metadata": {},
     "output_type": "execute_result"
    }
   ],
   "source": [
    "deep == sentences"
   ]
  },
  {
   "cell_type": "code",
   "execution_count": 69,
   "id": "0ec25bec",
   "metadata": {},
   "outputs": [
    {
     "data": {
      "text/plain": [
       "False"
      ]
     },
     "execution_count": 69,
     "metadata": {},
     "output_type": "execute_result"
    }
   ],
   "source": [
    "deep is sentences"
   ]
  },
  {
   "cell_type": "code",
   "execution_count": 70,
   "id": "9357d7eb",
   "metadata": {},
   "outputs": [
    {
     "data": {
      "text/plain": [
       "False"
      ]
     },
     "execution_count": 70,
     "metadata": {},
     "output_type": "execute_result"
    }
   ],
   "source": [
    "deep[0] is sentences[0]"
   ]
  },
  {
   "cell_type": "code",
   "execution_count": 71,
   "id": "901cd12c",
   "metadata": {},
   "outputs": [
    {
     "data": {
      "text/plain": [
       "False"
      ]
     },
     "execution_count": 71,
     "metadata": {},
     "output_type": "execute_result"
    }
   ],
   "source": [
    "deep[1] is sentences[1]"
   ]
  },
  {
   "cell_type": "code",
   "execution_count": 72,
   "id": "79b8e122",
   "metadata": {},
   "outputs": [],
   "source": [
    "deep[0][2] = \"Ishmael\""
   ]
  },
  {
   "cell_type": "code",
   "execution_count": 73,
   "id": "faaa618f",
   "metadata": {},
   "outputs": [
    {
     "data": {
      "text/plain": [
       "[['Call', 'me', 'Ishmael', '.'], ['I', 'am', 'tired', '.']]"
      ]
     },
     "execution_count": 73,
     "metadata": {},
     "output_type": "execute_result"
    }
   ],
   "source": [
    "deep"
   ]
  },
  {
   "cell_type": "code",
   "execution_count": 74,
   "id": "a2bc3619",
   "metadata": {},
   "outputs": [
    {
     "data": {
      "text/plain": [
       "[['Call', 'me', 'David', '.'], ['I', 'am', 'tired', '.']]"
      ]
     },
     "execution_count": 74,
     "metadata": {},
     "output_type": "execute_result"
    }
   ],
   "source": [
    "sentences"
   ]
  },
  {
   "cell_type": "code",
   "execution_count": 75,
   "id": "acc3715d",
   "metadata": {},
   "outputs": [
    {
     "data": {
      "text/plain": [
       "[['Call', 'me', 'David', '.'], ['I', 'am', 'tired', '.']]"
      ]
     },
     "execution_count": 75,
     "metadata": {},
     "output_type": "execute_result"
    }
   ],
   "source": [
    "copy"
   ]
  },
  {
   "cell_type": "markdown",
   "id": "91ba3749",
   "metadata": {},
   "source": [
    "## Unlike the postman, imports only ever run once"
   ]
  },
  {
   "cell_type": "code",
   "execution_count": 76,
   "id": "10ddc0ae",
   "metadata": {},
   "outputs": [
    {
     "name": "stdout",
     "output_type": "stream",
     "text": [
      "Writing my_module.py\n"
     ]
    }
   ],
   "source": [
    "%%writefile my_module.py\n",
    "def add_ten(num):\n",
    "    return num + 1"
   ]
  },
  {
   "cell_type": "code",
   "execution_count": 77,
   "id": "cd2e4e23",
   "metadata": {},
   "outputs": [
    {
     "data": {
      "text/plain": [
       "4"
      ]
     },
     "execution_count": 77,
     "metadata": {},
     "output_type": "execute_result"
    }
   ],
   "source": [
    "import my_module\n",
    "\n",
    "my_module.add_ten(3)"
   ]
  },
  {
   "cell_type": "markdown",
   "id": "5d78d349",
   "metadata": {},
   "source": [
    "Now you realize you made a mistake and fix it."
   ]
  },
  {
   "cell_type": "code",
   "execution_count": 78,
   "id": "6eb7de16",
   "metadata": {},
   "outputs": [
    {
     "name": "stdout",
     "output_type": "stream",
     "text": [
      "Overwriting my_module.py\n"
     ]
    }
   ],
   "source": [
    "%%writefile my_module.py\n",
    "def add_ten(num):\n",
    "    return num + 10"
   ]
  },
  {
   "cell_type": "code",
   "execution_count": 79,
   "id": "8d99d321",
   "metadata": {},
   "outputs": [
    {
     "data": {
      "text/plain": [
       "4"
      ]
     },
     "execution_count": 79,
     "metadata": {},
     "output_type": "execute_result"
    }
   ],
   "source": [
    "import my_module\n",
    "\n",
    "my_module.add_ten(3)"
   ]
  },
  {
   "cell_type": "markdown",
   "id": "fab13404",
   "metadata": {},
   "source": [
    "Still wrong, modules are only loaded once (explain why).\n",
    "\n",
    "In JupyterLab (IPython), there's a workaround. Unfortunately, it won't\n",
    "work on previously imported modules, so we need to create a new one."
   ]
  },
  {
   "cell_type": "code",
   "execution_count": 80,
   "id": "7f10d015",
   "metadata": {},
   "outputs": [],
   "source": [
    "# cleanup\n",
    "%rm my_module.py\n",
    "\n",
    "%load_ext autoreload\n",
    "%autoreload 1"
   ]
  },
  {
   "cell_type": "code",
   "execution_count": 81,
   "id": "0a5680eb",
   "metadata": {},
   "outputs": [
    {
     "name": "stdout",
     "output_type": "stream",
     "text": [
      "Writing another_module.py\n"
     ]
    }
   ],
   "source": [
    "%%writefile another_module.py\n",
    "def add_ten(num):\n",
    "    # d'oh, again!\n",
    "    return num + 1"
   ]
  },
  {
   "cell_type": "code",
   "execution_count": 82,
   "id": "186bcbba",
   "metadata": {},
   "outputs": [
    {
     "data": {
      "text/plain": [
       "4"
      ]
     },
     "execution_count": 82,
     "metadata": {},
     "output_type": "execute_result"
    }
   ],
   "source": [
    "# notice %aimport instead of regular import\n",
    "%aimport another_module\n",
    "\n",
    "another_module.add_ten(3)"
   ]
  },
  {
   "cell_type": "code",
   "execution_count": 83,
   "id": "cdefcee8",
   "metadata": {},
   "outputs": [
    {
     "name": "stdout",
     "output_type": "stream",
     "text": [
      "Overwriting another_module.py\n"
     ]
    }
   ],
   "source": [
    "%%writefile another_module.py\n",
    "def add_ten(num):\n",
    "    return num + 10"
   ]
  },
  {
   "cell_type": "code",
   "execution_count": 84,
   "id": "8e49af0b",
   "metadata": {},
   "outputs": [
    {
     "data": {
      "text/plain": [
       "13"
      ]
     },
     "execution_count": 84,
     "metadata": {},
     "output_type": "execute_result"
    }
   ],
   "source": [
    "another_module.add_ten(3)"
   ]
  },
  {
   "cell_type": "markdown",
   "id": "c4ab87ca",
   "metadata": {},
   "source": [
    "Check out the various usage options by invoking `?%autoreload`. But\n",
    "careful, such module reloading is not in general guaranteed to work,\n",
    "Python just really doesn't like it. If you run into weird behavior doing\n",
    "this, the safe bet is to just restart your Python session (what\n",
    "JupyterLab calls the **kernel**)."
   ]
  },
  {
   "cell_type": "code",
   "execution_count": 85,
   "id": "af951e5a",
   "metadata": {},
   "outputs": [],
   "source": [
    "# cleanup\n",
    "%rm another_module.py"
   ]
  },
  {
   "cell_type": "markdown",
   "id": "a7a20d6c",
   "metadata": {},
   "source": [
    "<!-- vim: set spell spelllang=en: -->"
   ]
  }
 ],
 "metadata": {
  "jupytext": {
   "formats": "md:myst",
   "text_representation": {
    "extension": ".md",
    "format_name": "myst",
    "format_version": 0.12,
    "jupytext_version": "1.6.0"
   }
  },
  "kernelspec": {
   "display_name": "Python 3",
   "language": "python",
   "name": "python3"
  },
  "language_info": {
   "codemirror_mode": {
    "name": "ipython",
    "version": 3
   },
   "file_extension": ".py",
   "mimetype": "text/x-python",
   "name": "python",
   "nbconvert_exporter": "python",
   "pygments_lexer": "ipython3",
   "version": "3.9.6"
  },
  "source_map": [
   13,
   28,
   33,
   40,
   44,
   50,
   57,
   61,
   63,
   67,
   71,
   73,
   77,
   82,
   87,
   91,
   95,
   99,
   103,
   107,
   111,
   113,
   119,
   125,
   129,
   133,
   135,
   139,
   144,
   148,
   152,
   156,
   160,
   164,
   168,
   172,
   176,
   180,
   184,
   188,
   192,
   196,
   200,
   204,
   208,
   212,
   216,
   220,
   224,
   229,
   233,
   235,
   239,
   244,
   248,
   252,
   256,
   261,
   265,
   269,
   276,
   280,
   284,
   288,
   292,
   296,
   300,
   304,
   308,
   312,
   314,
   318,
   322,
   326,
   330,
   334,
   338,
   342,
   346,
   350,
   354,
   358,
   360,
   364,
   370,
   374,
   378,
   384,
   388,
   395,
   403,
   410,
   417,
   423,
   425,
   433,
   436
  ]
 },
 "nbformat": 4,
 "nbformat_minor": 5
}