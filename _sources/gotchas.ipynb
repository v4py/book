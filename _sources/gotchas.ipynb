{
 "cells": [
  {
   "cell_type": "markdown",
   "id": "5443a38f",
   "metadata": {},
   "source": [
    "# Python gotchas\n",
    "\n",
    "## With great power comes great responsibility\n",
    "\n",
    "You now know enough Python to be dangerous! Unfortunately, that also\n",
    "means you can occasionally be dangerous to yourself. Python tries hard\n",
    "to be a consistent language that prevents you from accidentally shooting\n",
    "yourself in the foot, but there are still many gotchas, as with most\n",
    "programming languages. Here's a selection of all-time favorites to look\n",
    "out for as you start building larger and more complicated programs.\n",
    "\n",
    "## Variable scope"
   ]
  },
  {
   "cell_type": "code",
   "execution_count": 1,
   "id": "c43b3e63",
   "metadata": {},
   "outputs": [],
   "source": [
    "# global scope\n",
    "a = 2"
   ]
  },
  {
   "cell_type": "code",
   "execution_count": 2,
   "id": "c6a37c46",
   "metadata": {},
   "outputs": [],
   "source": [
    "def func():\n",
    "    print(a)\n",
    "    # local scope\n",
    "    b = 3"
   ]
  },
  {
   "cell_type": "code",
   "execution_count": 3,
   "id": "2aecfab0",
   "metadata": {},
   "outputs": [
    {
     "name": "stdout",
     "output_type": "stream",
     "text": [
      "2\n"
     ]
    }
   ],
   "source": [
    "func()"
   ]
  },
  {
   "cell_type": "code",
   "execution_count": 4,
   "id": "3a31d3ef",
   "metadata": {
    "tags": [
     "raises-exception",
     "full-width",
     "output_scroll"
    ]
   },
   "outputs": [
    {
     "ename": "NameError",
     "evalue": "name 'b' is not defined",
     "output_type": "error",
     "traceback": [
      "\u001b[0;31m---------------------------------------------------------------------------\u001b[0m",
      "\u001b[0;31mNameError\u001b[0m                                 Traceback (most recent call last)",
      "\u001b[0;32m/tmp/ipykernel_57042/1685013873.py\u001b[0m in \u001b[0;36m<module>\u001b[0;34m\u001b[0m\n\u001b[0;32m----> 1\u001b[0;31m \u001b[0mb\u001b[0m\u001b[0;34m\u001b[0m\u001b[0;34m\u001b[0m\u001b[0m\n\u001b[0m",
      "\u001b[0;31mNameError\u001b[0m: name 'b' is not defined"
     ]
    }
   ],
   "source": [
    "b"
   ]
  },
  {
   "cell_type": "code",
   "execution_count": 5,
   "id": "b24d85db",
   "metadata": {},
   "outputs": [],
   "source": [
    "def func():\n",
    "    # local variable shadows global variable\n",
    "    a = 4\n",
    "    print(a)"
   ]
  },
  {
   "cell_type": "code",
   "execution_count": 6,
   "id": "35d23698",
   "metadata": {},
   "outputs": [
    {
     "name": "stdout",
     "output_type": "stream",
     "text": [
      "4\n"
     ]
    }
   ],
   "source": [
    "func()"
   ]
  },
  {
   "cell_type": "code",
   "execution_count": 7,
   "id": "85596939",
   "metadata": {},
   "outputs": [
    {
     "data": {
      "text/plain": [
       "2"
      ]
     },
     "execution_count": 7,
     "metadata": {},
     "output_type": "execute_result"
    }
   ],
   "source": [
    "a"
   ]
  },
  {
   "cell_type": "markdown",
   "id": "cb17ff72",
   "metadata": {},
   "source": [
    "Listing global variables:"
   ]
  },
  {
   "cell_type": "code",
   "execution_count": 8,
   "id": "63c8966e",
   "metadata": {},
   "outputs": [
    {
     "name": "stdout",
     "output_type": "stream",
     "text": [
      "a\t func\t \n"
     ]
    }
   ],
   "source": [
    "%who"
   ]
  },
  {
   "cell_type": "code",
   "execution_count": 9,
   "id": "a14660dc",
   "metadata": {},
   "outputs": [
    {
     "name": "stdout",
     "output_type": "stream",
     "text": [
      "Variable   Type        Data/Info\n",
      "--------------------------------\n",
      "a          int         2\n",
      "func       function    <function func at 0x7faa8c487c10>\n"
     ]
    }
   ],
   "source": [
    "%whos"
   ]
  },
  {
   "cell_type": "markdown",
   "id": "36d7b930",
   "metadata": {},
   "source": [
    "## `return` vs. `print`"
   ]
  },
  {
   "cell_type": "code",
   "execution_count": 10,
   "id": "a48b335b",
   "metadata": {},
   "outputs": [],
   "source": [
    "def func1():\n",
    "    return 1"
   ]
  },
  {
   "cell_type": "code",
   "execution_count": 11,
   "id": "f31bbad9",
   "metadata": {},
   "outputs": [],
   "source": [
    "def func2():\n",
    "    print(1)"
   ]
  },
  {
   "cell_type": "code",
   "execution_count": 12,
   "id": "7e8d090c",
   "metadata": {},
   "outputs": [
    {
     "data": {
      "text/plain": [
       "1"
      ]
     },
     "execution_count": 12,
     "metadata": {},
     "output_type": "execute_result"
    }
   ],
   "source": [
    "func1()"
   ]
  },
  {
   "cell_type": "code",
   "execution_count": 13,
   "id": "85bcddee",
   "metadata": {},
   "outputs": [
    {
     "name": "stdout",
     "output_type": "stream",
     "text": [
      "1\n"
     ]
    }
   ],
   "source": [
    "func2()"
   ]
  },
  {
   "cell_type": "code",
   "execution_count": 14,
   "id": "15760ea5",
   "metadata": {},
   "outputs": [],
   "source": [
    "result1 = func1()"
   ]
  },
  {
   "cell_type": "code",
   "execution_count": 15,
   "id": "6e3c4bd3",
   "metadata": {},
   "outputs": [
    {
     "data": {
      "text/plain": [
       "1"
      ]
     },
     "execution_count": 15,
     "metadata": {},
     "output_type": "execute_result"
    }
   ],
   "source": [
    "result1"
   ]
  },
  {
   "cell_type": "code",
   "execution_count": 16,
   "id": "f8114a34",
   "metadata": {},
   "outputs": [
    {
     "name": "stdout",
     "output_type": "stream",
     "text": [
      "1\n"
     ]
    }
   ],
   "source": [
    "result2 = func2()"
   ]
  },
  {
   "cell_type": "code",
   "execution_count": 17,
   "id": "d3b867e6",
   "metadata": {},
   "outputs": [],
   "source": [
    "result2"
   ]
  },
  {
   "cell_type": "code",
   "execution_count": 18,
   "id": "905a7101",
   "metadata": {},
   "outputs": [
    {
     "data": {
      "text/plain": [
       "True"
      ]
     },
     "execution_count": 18,
     "metadata": {},
     "output_type": "execute_result"
    }
   ],
   "source": [
    "result2 is None"
   ]
  },
  {
   "cell_type": "markdown",
   "id": "a6c41ef0",
   "metadata": {},
   "source": [
    "Python automatically returns `None` whenever it reaches the end of a\n",
    "function without encountering a `return` statement, but we can also\n",
    "`return None` explicitly."
   ]
  },
  {
   "cell_type": "code",
   "execution_count": 19,
   "id": "9ae180db",
   "metadata": {},
   "outputs": [],
   "source": [
    "def func2():\n",
    "    print(1)\n",
    "    return None"
   ]
  },
  {
   "cell_type": "code",
   "execution_count": 20,
   "id": "c0d99894",
   "metadata": {},
   "outputs": [
    {
     "name": "stdout",
     "output_type": "stream",
     "text": [
      "1\n"
     ]
    }
   ],
   "source": [
    "func2()"
   ]
  },
  {
   "cell_type": "code",
   "execution_count": 21,
   "id": "e63bc9a9",
   "metadata": {},
   "outputs": [
    {
     "name": "stdout",
     "output_type": "stream",
     "text": [
      "1\n"
     ]
    }
   ],
   "source": [
    "res = func2()"
   ]
  },
  {
   "cell_type": "code",
   "execution_count": 22,
   "id": "fd5e5628",
   "metadata": {},
   "outputs": [
    {
     "data": {
      "text/plain": [
       "True"
      ]
     },
     "execution_count": 22,
     "metadata": {},
     "output_type": "execute_result"
    }
   ],
   "source": [
    "res is None"
   ]
  },
  {
   "cell_type": "markdown",
   "id": "d4efd7af",
   "metadata": {},
   "source": [
    "## Difference between `==` and `is`"
   ]
  },
  {
   "cell_type": "code",
   "execution_count": 23,
   "id": "2faef464",
   "metadata": {},
   "outputs": [],
   "source": [
    "list1 = [1, 2]\n",
    "list2 = [2, 3]"
   ]
  },
  {
   "cell_type": "code",
   "execution_count": 24,
   "id": "2c04fad7",
   "metadata": {},
   "outputs": [
    {
     "data": {
      "text/plain": [
       "False"
      ]
     },
     "execution_count": 24,
     "metadata": {},
     "output_type": "execute_result"
    }
   ],
   "source": [
    "list1 == list2"
   ]
  },
  {
   "cell_type": "code",
   "execution_count": 25,
   "id": "f46dca95",
   "metadata": {},
   "outputs": [
    {
     "data": {
      "text/plain": [
       "False"
      ]
     },
     "execution_count": 25,
     "metadata": {},
     "output_type": "execute_result"
    }
   ],
   "source": [
    "list1 is list2"
   ]
  },
  {
   "cell_type": "code",
   "execution_count": 26,
   "id": "6296ccb9",
   "metadata": {},
   "outputs": [],
   "source": [
    "list3 = [1, 2]"
   ]
  },
  {
   "cell_type": "code",
   "execution_count": 27,
   "id": "9f3c00c6",
   "metadata": {},
   "outputs": [
    {
     "data": {
      "text/plain": [
       "True"
      ]
     },
     "execution_count": 27,
     "metadata": {},
     "output_type": "execute_result"
    }
   ],
   "source": [
    "list1 == list3"
   ]
  },
  {
   "cell_type": "code",
   "execution_count": 28,
   "id": "506629f4",
   "metadata": {},
   "outputs": [
    {
     "data": {
      "text/plain": [
       "False"
      ]
     },
     "execution_count": 28,
     "metadata": {},
     "output_type": "execute_result"
    }
   ],
   "source": [
    "list1 is list3"
   ]
  },
  {
   "cell_type": "code",
   "execution_count": 29,
   "id": "08378335",
   "metadata": {},
   "outputs": [
    {
     "data": {
      "text/plain": [
       "[1, 2]"
      ]
     },
     "execution_count": 29,
     "metadata": {},
     "output_type": "execute_result"
    }
   ],
   "source": [
    "list1"
   ]
  },
  {
   "cell_type": "code",
   "execution_count": 30,
   "id": "7fa5cd7d",
   "metadata": {},
   "outputs": [
    {
     "data": {
      "text/plain": [
       "[1, 2]"
      ]
     },
     "execution_count": 30,
     "metadata": {},
     "output_type": "execute_result"
    }
   ],
   "source": [
    "list3"
   ]
  },
  {
   "cell_type": "code",
   "execution_count": 31,
   "id": "6b11d36d",
   "metadata": {},
   "outputs": [
    {
     "data": {
      "text/plain": [
       "140370475566528"
      ]
     },
     "execution_count": 31,
     "metadata": {},
     "output_type": "execute_result"
    }
   ],
   "source": [
    "id(list1)"
   ]
  },
  {
   "cell_type": "code",
   "execution_count": 32,
   "id": "aed323af",
   "metadata": {},
   "outputs": [
    {
     "data": {
      "text/plain": [
       "140370475277184"
      ]
     },
     "execution_count": 32,
     "metadata": {},
     "output_type": "execute_result"
    }
   ],
   "source": [
    "id(list3)"
   ]
  },
  {
   "cell_type": "code",
   "execution_count": 33,
   "id": "4c91777a",
   "metadata": {},
   "outputs": [],
   "source": [
    "list3.append(42)"
   ]
  },
  {
   "cell_type": "code",
   "execution_count": 34,
   "id": "109c21d3",
   "metadata": {},
   "outputs": [
    {
     "data": {
      "text/plain": [
       "[1, 2, 42]"
      ]
     },
     "execution_count": 34,
     "metadata": {},
     "output_type": "execute_result"
    }
   ],
   "source": [
    "list3"
   ]
  },
  {
   "cell_type": "code",
   "execution_count": 35,
   "id": "9d834dad",
   "metadata": {},
   "outputs": [
    {
     "data": {
      "text/plain": [
       "[1, 2]"
      ]
     },
     "execution_count": 35,
     "metadata": {},
     "output_type": "execute_result"
    }
   ],
   "source": [
    "list1"
   ]
  },
  {
   "cell_type": "code",
   "execution_count": 36,
   "id": "40cb43a6",
   "metadata": {},
   "outputs": [
    {
     "data": {
      "text/plain": [
       "False"
      ]
     },
     "execution_count": 36,
     "metadata": {},
     "output_type": "execute_result"
    }
   ],
   "source": [
    "list1 == list3"
   ]
  },
  {
   "cell_type": "code",
   "execution_count": 37,
   "id": "98a52c9d",
   "metadata": {},
   "outputs": [
    {
     "data": {
      "text/plain": [
       "[1, 2, 42]"
      ]
     },
     "execution_count": 37,
     "metadata": {},
     "output_type": "execute_result"
    }
   ],
   "source": [
    "list3"
   ]
  },
  {
   "cell_type": "code",
   "execution_count": 38,
   "id": "4153d879",
   "metadata": {},
   "outputs": [],
   "source": [
    "list4 = list3"
   ]
  },
  {
   "cell_type": "code",
   "execution_count": 39,
   "id": "ad71f6a9",
   "metadata": {},
   "outputs": [
    {
     "data": {
      "text/plain": [
       "True"
      ]
     },
     "execution_count": 39,
     "metadata": {},
     "output_type": "execute_result"
    }
   ],
   "source": [
    "list3 == list4"
   ]
  },
  {
   "cell_type": "code",
   "execution_count": 40,
   "id": "20bd9c56",
   "metadata": {},
   "outputs": [
    {
     "data": {
      "text/plain": [
       "True"
      ]
     },
     "execution_count": 40,
     "metadata": {},
     "output_type": "execute_result"
    }
   ],
   "source": [
    "list3 is list4"
   ]
  },
  {
   "cell_type": "code",
   "execution_count": 41,
   "id": "c6acf0fb",
   "metadata": {},
   "outputs": [],
   "source": [
    "list3.append(5)"
   ]
  },
  {
   "cell_type": "code",
   "execution_count": 42,
   "id": "a229b809",
   "metadata": {},
   "outputs": [
    {
     "data": {
      "text/plain": [
       "[1, 2, 42, 5]"
      ]
     },
     "execution_count": 42,
     "metadata": {},
     "output_type": "execute_result"
    }
   ],
   "source": [
    "list3"
   ]
  },
  {
   "cell_type": "code",
   "execution_count": 43,
   "id": "5ca4c3be",
   "metadata": {},
   "outputs": [
    {
     "data": {
      "text/plain": [
       "[1, 2, 42, 5]"
      ]
     },
     "execution_count": 43,
     "metadata": {},
     "output_type": "execute_result"
    }
   ],
   "source": [
    "list4"
   ]
  },
  {
   "cell_type": "code",
   "execution_count": 44,
   "id": "fcd9b8ff",
   "metadata": {},
   "outputs": [],
   "source": [
    "def mutating_function(lst):\n",
    "    lst.append(500)"
   ]
  },
  {
   "cell_type": "code",
   "execution_count": 45,
   "id": "34235d84",
   "metadata": {},
   "outputs": [],
   "source": [
    "mutating_function(list4)"
   ]
  },
  {
   "cell_type": "code",
   "execution_count": 46,
   "id": "3fd28c72",
   "metadata": {},
   "outputs": [
    {
     "data": {
      "text/plain": [
       "[1, 2, 42, 5, 500]"
      ]
     },
     "execution_count": 46,
     "metadata": {},
     "output_type": "execute_result"
    }
   ],
   "source": [
    "list4"
   ]
  },
  {
   "cell_type": "markdown",
   "id": "32bfa7e8",
   "metadata": {},
   "source": [
    "## Shallow copies"
   ]
  },
  {
   "cell_type": "code",
   "execution_count": 47,
   "id": "4ffac7c7",
   "metadata": {},
   "outputs": [
    {
     "data": {
      "text/plain": [
       "[1, 2, 42, 5, 500]"
      ]
     },
     "execution_count": 47,
     "metadata": {},
     "output_type": "execute_result"
    }
   ],
   "source": [
    "# either by slicing...\n",
    "list4[:]"
   ]
  },
  {
   "cell_type": "code",
   "execution_count": 48,
   "id": "a62285b6",
   "metadata": {},
   "outputs": [],
   "source": [
    "list5 = list4[:]"
   ]
  },
  {
   "cell_type": "code",
   "execution_count": 49,
   "id": "a3bd5726",
   "metadata": {},
   "outputs": [
    {
     "data": {
      "text/plain": [
       "True"
      ]
     },
     "execution_count": 49,
     "metadata": {},
     "output_type": "execute_result"
    }
   ],
   "source": [
    "list5 == list4"
   ]
  },
  {
   "cell_type": "code",
   "execution_count": 50,
   "id": "0df572cc",
   "metadata": {},
   "outputs": [
    {
     "data": {
      "text/plain": [
       "False"
      ]
     },
     "execution_count": 50,
     "metadata": {},
     "output_type": "execute_result"
    }
   ],
   "source": [
    "list5 is list4"
   ]
  },
  {
   "cell_type": "code",
   "execution_count": 51,
   "id": "a3db5d0e",
   "metadata": {},
   "outputs": [],
   "source": [
    "# ... or the copy method\n",
    "list6 = list4.copy()"
   ]
  },
  {
   "cell_type": "code",
   "execution_count": 52,
   "id": "fae64455",
   "metadata": {},
   "outputs": [
    {
     "data": {
      "text/plain": [
       "True"
      ]
     },
     "execution_count": 52,
     "metadata": {},
     "output_type": "execute_result"
    }
   ],
   "source": [
    "list6 == list4"
   ]
  },
  {
   "cell_type": "code",
   "execution_count": 53,
   "id": "181cb92b",
   "metadata": {},
   "outputs": [
    {
     "data": {
      "text/plain": [
       "False"
      ]
     },
     "execution_count": 53,
     "metadata": {},
     "output_type": "execute_result"
    }
   ],
   "source": [
    "list6 is list4"
   ]
  },
  {
   "cell_type": "code",
   "execution_count": 54,
   "id": "2a1238b8",
   "metadata": {},
   "outputs": [],
   "source": [
    "sentences = [\n",
    "    [\"Call\", \"me\", \"Ishmael\", \".\"],\n",
    "    [\"I\", \"am\", \"tired\", \".\"]\n",
    "]"
   ]
  },
  {
   "cell_type": "code",
   "execution_count": 55,
   "id": "4e5e5f0c",
   "metadata": {},
   "outputs": [],
   "source": [
    "copy = sentences.copy()"
   ]
  },
  {
   "cell_type": "code",
   "execution_count": 56,
   "id": "a0f6f074",
   "metadata": {},
   "outputs": [
    {
     "data": {
      "text/plain": [
       "True"
      ]
     },
     "execution_count": 56,
     "metadata": {},
     "output_type": "execute_result"
    }
   ],
   "source": [
    "sentences == copy"
   ]
  },
  {
   "cell_type": "code",
   "execution_count": 57,
   "id": "feaa762e",
   "metadata": {},
   "outputs": [
    {
     "data": {
      "text/plain": [
       "False"
      ]
     },
     "execution_count": 57,
     "metadata": {},
     "output_type": "execute_result"
    }
   ],
   "source": [
    "sentences is copy"
   ]
  },
  {
   "cell_type": "code",
   "execution_count": 58,
   "id": "29370634",
   "metadata": {},
   "outputs": [
    {
     "data": {
      "text/plain": [
       "[['Call', 'me', 'Ishmael', '.'], ['I', 'am', 'tired', '.']]"
      ]
     },
     "execution_count": 58,
     "metadata": {},
     "output_type": "execute_result"
    }
   ],
   "source": [
    "copy"
   ]
  },
  {
   "cell_type": "code",
   "execution_count": 59,
   "id": "c87e864b",
   "metadata": {},
   "outputs": [
    {
     "data": {
      "text/plain": [
       "'Ishmael'"
      ]
     },
     "execution_count": 59,
     "metadata": {},
     "output_type": "execute_result"
    }
   ],
   "source": [
    "copy[0][2]"
   ]
  },
  {
   "cell_type": "code",
   "execution_count": 60,
   "id": "4c34f24e",
   "metadata": {},
   "outputs": [],
   "source": [
    "copy[0][2] = \"David\""
   ]
  },
  {
   "cell_type": "code",
   "execution_count": 61,
   "id": "37c1e4c0",
   "metadata": {},
   "outputs": [
    {
     "data": {
      "text/plain": [
       "[['Call', 'me', 'David', '.'], ['I', 'am', 'tired', '.']]"
      ]
     },
     "execution_count": 61,
     "metadata": {},
     "output_type": "execute_result"
    }
   ],
   "source": [
    "copy"
   ]
  },
  {
   "cell_type": "code",
   "execution_count": 62,
   "id": "aa96c85f",
   "metadata": {},
   "outputs": [
    {
     "data": {
      "text/plain": [
       "[['Call', 'me', 'David', '.'], ['I', 'am', 'tired', '.']]"
      ]
     },
     "execution_count": 62,
     "metadata": {},
     "output_type": "execute_result"
    }
   ],
   "source": [
    "sentences"
   ]
  },
  {
   "cell_type": "code",
   "execution_count": 63,
   "id": "9e00b153",
   "metadata": {},
   "outputs": [
    {
     "data": {
      "text/plain": [
       "False"
      ]
     },
     "execution_count": 63,
     "metadata": {},
     "output_type": "execute_result"
    }
   ],
   "source": [
    "copy is sentences"
   ]
  },
  {
   "cell_type": "code",
   "execution_count": 64,
   "id": "1217a6a7",
   "metadata": {},
   "outputs": [
    {
     "data": {
      "text/plain": [
       "True"
      ]
     },
     "execution_count": 64,
     "metadata": {},
     "output_type": "execute_result"
    }
   ],
   "source": [
    "copy[0] is sentences[0]"
   ]
  },
  {
   "cell_type": "markdown",
   "id": "60f7d250",
   "metadata": {},
   "source": [
    "## Deep copies"
   ]
  },
  {
   "cell_type": "code",
   "execution_count": 65,
   "id": "d57f2fda",
   "metadata": {},
   "outputs": [],
   "source": [
    "from copy import deepcopy"
   ]
  },
  {
   "cell_type": "code",
   "execution_count": 66,
   "id": "b32c65df",
   "metadata": {},
   "outputs": [],
   "source": [
    "deep = deepcopy(sentences)"
   ]
  },
  {
   "cell_type": "code",
   "execution_count": 67,
   "id": "9d3d043b",
   "metadata": {},
   "outputs": [
    {
     "data": {
      "text/plain": [
       "[['Call', 'me', 'David', '.'], ['I', 'am', 'tired', '.']]"
      ]
     },
     "execution_count": 67,
     "metadata": {},
     "output_type": "execute_result"
    }
   ],
   "source": [
    "deep"
   ]
  },
  {
   "cell_type": "code",
   "execution_count": 68,
   "id": "4b09fd64",
   "metadata": {},
   "outputs": [
    {
     "data": {
      "text/plain": [
       "True"
      ]
     },
     "execution_count": 68,
     "metadata": {},
     "output_type": "execute_result"
    }
   ],
   "source": [
    "deep == sentences"
   ]
  },
  {
   "cell_type": "code",
   "execution_count": 69,
   "id": "fb6bba20",
   "metadata": {},
   "outputs": [
    {
     "data": {
      "text/plain": [
       "False"
      ]
     },
     "execution_count": 69,
     "metadata": {},
     "output_type": "execute_result"
    }
   ],
   "source": [
    "deep is sentences"
   ]
  },
  {
   "cell_type": "code",
   "execution_count": 70,
   "id": "aa67c80a",
   "metadata": {},
   "outputs": [
    {
     "data": {
      "text/plain": [
       "False"
      ]
     },
     "execution_count": 70,
     "metadata": {},
     "output_type": "execute_result"
    }
   ],
   "source": [
    "deep[0] is sentences[0]"
   ]
  },
  {
   "cell_type": "code",
   "execution_count": 71,
   "id": "de92cfaf",
   "metadata": {},
   "outputs": [
    {
     "data": {
      "text/plain": [
       "False"
      ]
     },
     "execution_count": 71,
     "metadata": {},
     "output_type": "execute_result"
    }
   ],
   "source": [
    "deep[1] is sentences[1]"
   ]
  },
  {
   "cell_type": "code",
   "execution_count": 72,
   "id": "95eff71c",
   "metadata": {},
   "outputs": [],
   "source": [
    "deep[0][2] = \"Ishmael\""
   ]
  },
  {
   "cell_type": "code",
   "execution_count": 73,
   "id": "8d423593",
   "metadata": {},
   "outputs": [
    {
     "data": {
      "text/plain": [
       "[['Call', 'me', 'Ishmael', '.'], ['I', 'am', 'tired', '.']]"
      ]
     },
     "execution_count": 73,
     "metadata": {},
     "output_type": "execute_result"
    }
   ],
   "source": [
    "deep"
   ]
  },
  {
   "cell_type": "code",
   "execution_count": 74,
   "id": "e8ba756e",
   "metadata": {},
   "outputs": [
    {
     "data": {
      "text/plain": [
       "[['Call', 'me', 'David', '.'], ['I', 'am', 'tired', '.']]"
      ]
     },
     "execution_count": 74,
     "metadata": {},
     "output_type": "execute_result"
    }
   ],
   "source": [
    "sentences"
   ]
  },
  {
   "cell_type": "code",
   "execution_count": 75,
   "id": "8fde2cd4",
   "metadata": {},
   "outputs": [
    {
     "data": {
      "text/plain": [
       "[['Call', 'me', 'David', '.'], ['I', 'am', 'tired', '.']]"
      ]
     },
     "execution_count": 75,
     "metadata": {},
     "output_type": "execute_result"
    }
   ],
   "source": [
    "copy"
   ]
  },
  {
   "cell_type": "markdown",
   "id": "e9640d36",
   "metadata": {},
   "source": [
    "## Unlike the postman, imports only ever run once"
   ]
  },
  {
   "cell_type": "code",
   "execution_count": 76,
   "id": "ef562a15",
   "metadata": {},
   "outputs": [
    {
     "name": "stdout",
     "output_type": "stream",
     "text": [
      "Writing my_module.py\n"
     ]
    }
   ],
   "source": [
    "%%writefile my_module.py\n",
    "def add_ten(num):\n",
    "    return num + 1"
   ]
  },
  {
   "cell_type": "code",
   "execution_count": 77,
   "id": "64b2ca3c",
   "metadata": {},
   "outputs": [
    {
     "data": {
      "text/plain": [
       "4"
      ]
     },
     "execution_count": 77,
     "metadata": {},
     "output_type": "execute_result"
    }
   ],
   "source": [
    "import my_module\n",
    "\n",
    "my_module.add_ten(3)"
   ]
  },
  {
   "cell_type": "markdown",
   "id": "aa89c9f9",
   "metadata": {},
   "source": [
    "Now you realize you made a mistake and fix it."
   ]
  },
  {
   "cell_type": "code",
   "execution_count": 78,
   "id": "49f3445b",
   "metadata": {},
   "outputs": [
    {
     "name": "stdout",
     "output_type": "stream",
     "text": [
      "Overwriting my_module.py\n"
     ]
    }
   ],
   "source": [
    "%%writefile my_module.py\n",
    "def add_ten(num):\n",
    "    return num + 10"
   ]
  },
  {
   "cell_type": "code",
   "execution_count": 79,
   "id": "2b668990",
   "metadata": {},
   "outputs": [
    {
     "data": {
      "text/plain": [
       "4"
      ]
     },
     "execution_count": 79,
     "metadata": {},
     "output_type": "execute_result"
    }
   ],
   "source": [
    "import my_module\n",
    "\n",
    "my_module.add_ten(3)"
   ]
  },
  {
   "cell_type": "markdown",
   "id": "06ca43a0",
   "metadata": {},
   "source": [
    "Still wrong, modules are only loaded once (explain why).\n",
    "\n",
    "In JupyterLab (IPython), there's a workaround. Unfortunately, it won't\n",
    "work on previously imported modules, so we need to create a new one."
   ]
  },
  {
   "cell_type": "code",
   "execution_count": 80,
   "id": "ad51a951",
   "metadata": {},
   "outputs": [],
   "source": [
    "# cleanup\n",
    "%rm my_module.py\n",
    "\n",
    "%load_ext autoreload\n",
    "%autoreload 1"
   ]
  },
  {
   "cell_type": "code",
   "execution_count": 81,
   "id": "969c00e6",
   "metadata": {},
   "outputs": [
    {
     "name": "stdout",
     "output_type": "stream",
     "text": [
      "Writing another_module.py\n"
     ]
    }
   ],
   "source": [
    "%%writefile another_module.py\n",
    "def add_ten(num):\n",
    "    # d'oh, again!\n",
    "    return num + 1"
   ]
  },
  {
   "cell_type": "code",
   "execution_count": 82,
   "id": "296dcdd6",
   "metadata": {},
   "outputs": [
    {
     "data": {
      "text/plain": [
       "4"
      ]
     },
     "execution_count": 82,
     "metadata": {},
     "output_type": "execute_result"
    }
   ],
   "source": [
    "# notice %aimport instead of regular import\n",
    "%aimport another_module\n",
    "\n",
    "another_module.add_ten(3)"
   ]
  },
  {
   "cell_type": "code",
   "execution_count": 83,
   "id": "6017e7e9",
   "metadata": {},
   "outputs": [
    {
     "name": "stdout",
     "output_type": "stream",
     "text": [
      "Overwriting another_module.py\n"
     ]
    }
   ],
   "source": [
    "%%writefile another_module.py\n",
    "def add_ten(num):\n",
    "    return num + 10"
   ]
  },
  {
   "cell_type": "code",
   "execution_count": 84,
   "id": "7d14308c",
   "metadata": {},
   "outputs": [
    {
     "data": {
      "text/plain": [
       "13"
      ]
     },
     "execution_count": 84,
     "metadata": {},
     "output_type": "execute_result"
    }
   ],
   "source": [
    "another_module.add_ten(3)"
   ]
  },
  {
   "cell_type": "markdown",
   "id": "f69d1a97",
   "metadata": {},
   "source": [
    "Check out the various usage options by invoking `?%autoreload`. But\n",
    "careful, such module reloading is not in general guaranteed to work,\n",
    "Python just really doesn't like it. If you run into weird behavior doing\n",
    "this, the safe bet is to just restart your Python session (what\n",
    "JupyterLab calls the **kernel**)."
   ]
  },
  {
   "cell_type": "code",
   "execution_count": 85,
   "id": "280ed0a0",
   "metadata": {},
   "outputs": [],
   "source": [
    "# cleanup\n",
    "%rm another_module.py"
   ]
  },
  {
   "cell_type": "markdown",
   "id": "57d606ec",
   "metadata": {},
   "source": [
    "<!-- vim: set spell spelllang=en: -->"
   ]
  }
 ],
 "metadata": {
  "jupytext": {
   "formats": "md:myst",
   "text_representation": {
    "extension": ".md",
    "format_name": "myst",
    "format_version": 0.12,
    "jupytext_version": "1.6.0"
   }
  },
  "kernelspec": {
   "display_name": "Python 3",
   "language": "python",
   "name": "python3"
  },
  "language_info": {
   "codemirror_mode": {
    "name": "ipython",
    "version": 3
   },
   "file_extension": ".py",
   "mimetype": "text/x-python",
   "name": "python",
   "nbconvert_exporter": "python",
   "pygments_lexer": "ipython3",
   "version": "3.9.6"
  },
  "source_map": [
   13,
   28,
   33,
   40,
   44,
   50,
   57,
   61,
   63,
   67,
   71,
   73,
   77,
   82,
   87,
   91,
   95,
   99,
   103,
   107,
   111,
   113,
   119,
   125,
   129,
   133,
   135,
   139,
   144,
   148,
   152,
   156,
   160,
   164,
   168,
   172,
   176,
   180,
   184,
   188,
   192,
   196,
   200,
   204,
   208,
   212,
   216,
   220,
   224,
   229,
   233,
   235,
   239,
   244,
   248,
   252,
   256,
   261,
   265,
   269,
   276,
   280,
   284,
   288,
   292,
   296,
   300,
   304,
   308,
   312,
   314,
   318,
   322,
   326,
   330,
   334,
   338,
   342,
   346,
   350,
   354,
   358,
   360,
   364,
   370,
   374,
   378,
   384,
   388,
   395,
   403,
   410,
   417,
   423,
   425,
   433,
   436
  ]
 },
 "nbformat": 4,
 "nbformat_minor": 5
}