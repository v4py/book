{
 "cells": [
  {
   "cell_type": "markdown",
   "id": "52ca7e23",
   "metadata": {},
   "source": [
    "# Python gotchas\n",
    "\n",
    "## With great power comes great responsibility\n",
    "\n",
    "You now know enough Python to be dangerous! Unfortunately, that also\n",
    "means you can occasionally be dangerous to yourself. Python tries hard\n",
    "to be a consistent language that prevents you from accidentally shooting\n",
    "yourself in the foot, but there are still many gotchas, as with most\n",
    "programming languages. Here's a selection of all-time favorites to look\n",
    "out for as you start building larger and more complicated programs.\n",
    "\n",
    "## Variable scope"
   ]
  },
  {
   "cell_type": "code",
   "execution_count": 1,
   "id": "30e3b428",
   "metadata": {},
   "outputs": [],
   "source": [
    "# global scope\n",
    "a = 2"
   ]
  },
  {
   "cell_type": "code",
   "execution_count": 2,
   "id": "e724d73c",
   "metadata": {},
   "outputs": [],
   "source": [
    "def func():\n",
    "    print(a)\n",
    "    # local scope\n",
    "    b = 3"
   ]
  },
  {
   "cell_type": "code",
   "execution_count": 3,
   "id": "75698423",
   "metadata": {},
   "outputs": [
    {
     "name": "stdout",
     "output_type": "stream",
     "text": [
      "2\n"
     ]
    }
   ],
   "source": [
    "func()"
   ]
  },
  {
   "cell_type": "code",
   "execution_count": 4,
   "id": "da11b0b8",
   "metadata": {
    "tags": [
     "raises-exception",
     "full-width",
     "output_scroll"
    ]
   },
   "outputs": [
    {
     "ename": "NameError",
     "evalue": "name 'b' is not defined",
     "output_type": "error",
     "traceback": [
      "\u001b[0;31m---------------------------------------------------------------------------\u001b[0m",
      "\u001b[0;31mNameError\u001b[0m                                 Traceback (most recent call last)",
      "\u001b[0;32m/tmp/ipykernel_57042/1685013873.py\u001b[0m in \u001b[0;36m<module>\u001b[0;34m\u001b[0m\n\u001b[0;32m----> 1\u001b[0;31m \u001b[0mb\u001b[0m\u001b[0;34m\u001b[0m\u001b[0;34m\u001b[0m\u001b[0m\n\u001b[0m",
      "\u001b[0;31mNameError\u001b[0m: name 'b' is not defined"
     ]
    }
   ],
   "source": [
    "b"
   ]
  },
  {
   "cell_type": "code",
   "execution_count": 5,
   "id": "54040cb8",
   "metadata": {},
   "outputs": [],
   "source": [
    "def func():\n",
    "    # local variable shadows global variable\n",
    "    a = 4\n",
    "    print(a)"
   ]
  },
  {
   "cell_type": "code",
   "execution_count": 6,
   "id": "535f20a8",
   "metadata": {},
   "outputs": [
    {
     "name": "stdout",
     "output_type": "stream",
     "text": [
      "4\n"
     ]
    }
   ],
   "source": [
    "func()"
   ]
  },
  {
   "cell_type": "code",
   "execution_count": 7,
   "id": "f77656e8",
   "metadata": {},
   "outputs": [
    {
     "data": {
      "text/plain": [
       "2"
      ]
     },
     "execution_count": 7,
     "metadata": {},
     "output_type": "execute_result"
    }
   ],
   "source": [
    "a"
   ]
  },
  {
   "cell_type": "markdown",
   "id": "29e27afd",
   "metadata": {},
   "source": [
    "Listing global variables:"
   ]
  },
  {
   "cell_type": "code",
   "execution_count": 8,
   "id": "a2c69a83",
   "metadata": {},
   "outputs": [
    {
     "name": "stdout",
     "output_type": "stream",
     "text": [
      "a\t func\t \n"
     ]
    }
   ],
   "source": [
    "%who"
   ]
  },
  {
   "cell_type": "code",
   "execution_count": 9,
   "id": "3f440ec4",
   "metadata": {},
   "outputs": [
    {
     "name": "stdout",
     "output_type": "stream",
     "text": [
      "Variable   Type        Data/Info\n",
      "--------------------------------\n",
      "a          int         2\n",
      "func       function    <function func at 0x7faa8c487c10>\n"
     ]
    }
   ],
   "source": [
    "%whos"
   ]
  },
  {
   "cell_type": "markdown",
   "id": "b6ce5cca",
   "metadata": {},
   "source": [
    "## `return` vs. `print`"
   ]
  },
  {
   "cell_type": "code",
   "execution_count": 10,
   "id": "1f5b61b3",
   "metadata": {},
   "outputs": [],
   "source": [
    "def func1():\n",
    "    return 1"
   ]
  },
  {
   "cell_type": "code",
   "execution_count": 11,
   "id": "939b8ec8",
   "metadata": {},
   "outputs": [],
   "source": [
    "def func2():\n",
    "    print(1)"
   ]
  },
  {
   "cell_type": "code",
   "execution_count": 12,
   "id": "2c48c878",
   "metadata": {},
   "outputs": [
    {
     "data": {
      "text/plain": [
       "1"
      ]
     },
     "execution_count": 12,
     "metadata": {},
     "output_type": "execute_result"
    }
   ],
   "source": [
    "func1()"
   ]
  },
  {
   "cell_type": "code",
   "execution_count": 13,
   "id": "5e9bb4f3",
   "metadata": {},
   "outputs": [
    {
     "name": "stdout",
     "output_type": "stream",
     "text": [
      "1\n"
     ]
    }
   ],
   "source": [
    "func2()"
   ]
  },
  {
   "cell_type": "code",
   "execution_count": 14,
   "id": "5cde98e3",
   "metadata": {},
   "outputs": [],
   "source": [
    "result1 = func1()"
   ]
  },
  {
   "cell_type": "code",
   "execution_count": 15,
   "id": "1dce5493",
   "metadata": {},
   "outputs": [
    {
     "data": {
      "text/plain": [
       "1"
      ]
     },
     "execution_count": 15,
     "metadata": {},
     "output_type": "execute_result"
    }
   ],
   "source": [
    "result1"
   ]
  },
  {
   "cell_type": "code",
   "execution_count": 16,
   "id": "4e82c4ac",
   "metadata": {},
   "outputs": [
    {
     "name": "stdout",
     "output_type": "stream",
     "text": [
      "1\n"
     ]
    }
   ],
   "source": [
    "result2 = func2()"
   ]
  },
  {
   "cell_type": "code",
   "execution_count": 17,
   "id": "3c44cecc",
   "metadata": {},
   "outputs": [],
   "source": [
    "result2"
   ]
  },
  {
   "cell_type": "code",
   "execution_count": 18,
   "id": "5c837082",
   "metadata": {},
   "outputs": [
    {
     "data": {
      "text/plain": [
       "True"
      ]
     },
     "execution_count": 18,
     "metadata": {},
     "output_type": "execute_result"
    }
   ],
   "source": [
    "result2 is None"
   ]
  },
  {
   "cell_type": "markdown",
   "id": "14784ba3",
   "metadata": {},
   "source": [
    "Python automatically returns `None` whenever it reaches the end of a\n",
    "function without encountering a `return` statement, but we can also\n",
    "`return None` explicitly."
   ]
  },
  {
   "cell_type": "code",
   "execution_count": 19,
   "id": "6a69a956",
   "metadata": {},
   "outputs": [],
   "source": [
    "def func2():\n",
    "    print(1)\n",
    "    return None"
   ]
  },
  {
   "cell_type": "code",
   "execution_count": 20,
   "id": "6ae12ded",
   "metadata": {},
   "outputs": [
    {
     "name": "stdout",
     "output_type": "stream",
     "text": [
      "1\n"
     ]
    }
   ],
   "source": [
    "func2()"
   ]
  },
  {
   "cell_type": "code",
   "execution_count": 21,
   "id": "be4ded9e",
   "metadata": {},
   "outputs": [
    {
     "name": "stdout",
     "output_type": "stream",
     "text": [
      "1\n"
     ]
    }
   ],
   "source": [
    "res = func2()"
   ]
  },
  {
   "cell_type": "code",
   "execution_count": 22,
   "id": "8ea82865",
   "metadata": {},
   "outputs": [
    {
     "data": {
      "text/plain": [
       "True"
      ]
     },
     "execution_count": 22,
     "metadata": {},
     "output_type": "execute_result"
    }
   ],
   "source": [
    "res is None"
   ]
  },
  {
   "cell_type": "markdown",
   "id": "b0e35fa7",
   "metadata": {},
   "source": [
    "## Difference between `==` and `is`"
   ]
  },
  {
   "cell_type": "code",
   "execution_count": 23,
   "id": "b159cddf",
   "metadata": {},
   "outputs": [],
   "source": [
    "list1 = [1, 2]\n",
    "list2 = [2, 3]"
   ]
  },
  {
   "cell_type": "code",
   "execution_count": 24,
   "id": "ac32b874",
   "metadata": {},
   "outputs": [
    {
     "data": {
      "text/plain": [
       "False"
      ]
     },
     "execution_count": 24,
     "metadata": {},
     "output_type": "execute_result"
    }
   ],
   "source": [
    "list1 == list2"
   ]
  },
  {
   "cell_type": "code",
   "execution_count": 25,
   "id": "38755d09",
   "metadata": {},
   "outputs": [
    {
     "data": {
      "text/plain": [
       "False"
      ]
     },
     "execution_count": 25,
     "metadata": {},
     "output_type": "execute_result"
    }
   ],
   "source": [
    "list1 is list2"
   ]
  },
  {
   "cell_type": "code",
   "execution_count": 26,
   "id": "bfd0d40b",
   "metadata": {},
   "outputs": [],
   "source": [
    "list3 = [1, 2]"
   ]
  },
  {
   "cell_type": "code",
   "execution_count": 27,
   "id": "077d893a",
   "metadata": {},
   "outputs": [
    {
     "data": {
      "text/plain": [
       "True"
      ]
     },
     "execution_count": 27,
     "metadata": {},
     "output_type": "execute_result"
    }
   ],
   "source": [
    "list1 == list3"
   ]
  },
  {
   "cell_type": "code",
   "execution_count": 28,
   "id": "402bf6f0",
   "metadata": {},
   "outputs": [
    {
     "data": {
      "text/plain": [
       "False"
      ]
     },
     "execution_count": 28,
     "metadata": {},
     "output_type": "execute_result"
    }
   ],
   "source": [
    "list1 is list3"
   ]
  },
  {
   "cell_type": "code",
   "execution_count": 29,
   "id": "d62fee77",
   "metadata": {},
   "outputs": [
    {
     "data": {
      "text/plain": [
       "[1, 2]"
      ]
     },
     "execution_count": 29,
     "metadata": {},
     "output_type": "execute_result"
    }
   ],
   "source": [
    "list1"
   ]
  },
  {
   "cell_type": "code",
   "execution_count": 30,
   "id": "68316caf",
   "metadata": {},
   "outputs": [
    {
     "data": {
      "text/plain": [
       "[1, 2]"
      ]
     },
     "execution_count": 30,
     "metadata": {},
     "output_type": "execute_result"
    }
   ],
   "source": [
    "list3"
   ]
  },
  {
   "cell_type": "code",
   "execution_count": 31,
   "id": "5de42464",
   "metadata": {},
   "outputs": [
    {
     "data": {
      "text/plain": [
       "140370475566528"
      ]
     },
     "execution_count": 31,
     "metadata": {},
     "output_type": "execute_result"
    }
   ],
   "source": [
    "id(list1)"
   ]
  },
  {
   "cell_type": "code",
   "execution_count": 32,
   "id": "f494ee4d",
   "metadata": {},
   "outputs": [
    {
     "data": {
      "text/plain": [
       "140370475277184"
      ]
     },
     "execution_count": 32,
     "metadata": {},
     "output_type": "execute_result"
    }
   ],
   "source": [
    "id(list3)"
   ]
  },
  {
   "cell_type": "code",
   "execution_count": 33,
   "id": "79cf2a8c",
   "metadata": {},
   "outputs": [],
   "source": [
    "list3.append(42)"
   ]
  },
  {
   "cell_type": "code",
   "execution_count": 34,
   "id": "09d737d4",
   "metadata": {},
   "outputs": [
    {
     "data": {
      "text/plain": [
       "[1, 2, 42]"
      ]
     },
     "execution_count": 34,
     "metadata": {},
     "output_type": "execute_result"
    }
   ],
   "source": [
    "list3"
   ]
  },
  {
   "cell_type": "code",
   "execution_count": 35,
   "id": "3e8667da",
   "metadata": {},
   "outputs": [
    {
     "data": {
      "text/plain": [
       "[1, 2]"
      ]
     },
     "execution_count": 35,
     "metadata": {},
     "output_type": "execute_result"
    }
   ],
   "source": [
    "list1"
   ]
  },
  {
   "cell_type": "code",
   "execution_count": 36,
   "id": "2faefa75",
   "metadata": {},
   "outputs": [
    {
     "data": {
      "text/plain": [
       "False"
      ]
     },
     "execution_count": 36,
     "metadata": {},
     "output_type": "execute_result"
    }
   ],
   "source": [
    "list1 == list3"
   ]
  },
  {
   "cell_type": "code",
   "execution_count": 37,
   "id": "2d1ec122",
   "metadata": {},
   "outputs": [
    {
     "data": {
      "text/plain": [
       "[1, 2, 42]"
      ]
     },
     "execution_count": 37,
     "metadata": {},
     "output_type": "execute_result"
    }
   ],
   "source": [
    "list3"
   ]
  },
  {
   "cell_type": "code",
   "execution_count": 38,
   "id": "78bb5c01",
   "metadata": {},
   "outputs": [],
   "source": [
    "list4 = list3"
   ]
  },
  {
   "cell_type": "code",
   "execution_count": 39,
   "id": "358e733a",
   "metadata": {},
   "outputs": [
    {
     "data": {
      "text/plain": [
       "True"
      ]
     },
     "execution_count": 39,
     "metadata": {},
     "output_type": "execute_result"
    }
   ],
   "source": [
    "list3 == list4"
   ]
  },
  {
   "cell_type": "code",
   "execution_count": 40,
   "id": "c4a91b7c",
   "metadata": {},
   "outputs": [
    {
     "data": {
      "text/plain": [
       "True"
      ]
     },
     "execution_count": 40,
     "metadata": {},
     "output_type": "execute_result"
    }
   ],
   "source": [
    "list3 is list4"
   ]
  },
  {
   "cell_type": "code",
   "execution_count": 41,
   "id": "85185ace",
   "metadata": {},
   "outputs": [],
   "source": [
    "list3.append(5)"
   ]
  },
  {
   "cell_type": "code",
   "execution_count": 42,
   "id": "eab5aa65",
   "metadata": {},
   "outputs": [
    {
     "data": {
      "text/plain": [
       "[1, 2, 42, 5]"
      ]
     },
     "execution_count": 42,
     "metadata": {},
     "output_type": "execute_result"
    }
   ],
   "source": [
    "list3"
   ]
  },
  {
   "cell_type": "code",
   "execution_count": 43,
   "id": "64ce2bc7",
   "metadata": {},
   "outputs": [
    {
     "data": {
      "text/plain": [
       "[1, 2, 42, 5]"
      ]
     },
     "execution_count": 43,
     "metadata": {},
     "output_type": "execute_result"
    }
   ],
   "source": [
    "list4"
   ]
  },
  {
   "cell_type": "code",
   "execution_count": 44,
   "id": "2439e264",
   "metadata": {},
   "outputs": [],
   "source": [
    "def mutating_function(lst):\n",
    "    lst.append(500)"
   ]
  },
  {
   "cell_type": "code",
   "execution_count": 45,
   "id": "6687cecd",
   "metadata": {},
   "outputs": [],
   "source": [
    "mutating_function(list4)"
   ]
  },
  {
   "cell_type": "code",
   "execution_count": 46,
   "id": "48dfc344",
   "metadata": {},
   "outputs": [
    {
     "data": {
      "text/plain": [
       "[1, 2, 42, 5, 500]"
      ]
     },
     "execution_count": 46,
     "metadata": {},
     "output_type": "execute_result"
    }
   ],
   "source": [
    "list4"
   ]
  },
  {
   "cell_type": "markdown",
   "id": "e12435c9",
   "metadata": {},
   "source": [
    "## Shallow copies"
   ]
  },
  {
   "cell_type": "code",
   "execution_count": 47,
   "id": "f81e8219",
   "metadata": {},
   "outputs": [
    {
     "data": {
      "text/plain": [
       "[1, 2, 42, 5, 500]"
      ]
     },
     "execution_count": 47,
     "metadata": {},
     "output_type": "execute_result"
    }
   ],
   "source": [
    "# either by slicing...\n",
    "list4[:]"
   ]
  },
  {
   "cell_type": "code",
   "execution_count": 48,
   "id": "8f984684",
   "metadata": {},
   "outputs": [],
   "source": [
    "list5 = list4[:]"
   ]
  },
  {
   "cell_type": "code",
   "execution_count": 49,
   "id": "68b50123",
   "metadata": {},
   "outputs": [
    {
     "data": {
      "text/plain": [
       "True"
      ]
     },
     "execution_count": 49,
     "metadata": {},
     "output_type": "execute_result"
    }
   ],
   "source": [
    "list5 == list4"
   ]
  },
  {
   "cell_type": "code",
   "execution_count": 50,
   "id": "c55f1d2a",
   "metadata": {},
   "outputs": [
    {
     "data": {
      "text/plain": [
       "False"
      ]
     },
     "execution_count": 50,
     "metadata": {},
     "output_type": "execute_result"
    }
   ],
   "source": [
    "list5 is list4"
   ]
  },
  {
   "cell_type": "code",
   "execution_count": 51,
   "id": "a183d8bb",
   "metadata": {},
   "outputs": [],
   "source": [
    "# ... or the copy method\n",
    "list6 = list4.copy()"
   ]
  },
  {
   "cell_type": "code",
   "execution_count": 52,
   "id": "f4510ea5",
   "metadata": {},
   "outputs": [
    {
     "data": {
      "text/plain": [
       "True"
      ]
     },
     "execution_count": 52,
     "metadata": {},
     "output_type": "execute_result"
    }
   ],
   "source": [
    "list6 == list4"
   ]
  },
  {
   "cell_type": "code",
   "execution_count": 53,
   "id": "636ce1e0",
   "metadata": {},
   "outputs": [
    {
     "data": {
      "text/plain": [
       "False"
      ]
     },
     "execution_count": 53,
     "metadata": {},
     "output_type": "execute_result"
    }
   ],
   "source": [
    "list6 is list4"
   ]
  },
  {
   "cell_type": "code",
   "execution_count": 54,
   "id": "aa3ac8ec",
   "metadata": {},
   "outputs": [],
   "source": [
    "sentences = [\n",
    "    [\"Call\", \"me\", \"Ishmael\", \".\"],\n",
    "    [\"I\", \"am\", \"tired\", \".\"]\n",
    "]"
   ]
  },
  {
   "cell_type": "code",
   "execution_count": 55,
   "id": "11453f8a",
   "metadata": {},
   "outputs": [],
   "source": [
    "copy = sentences.copy()"
   ]
  },
  {
   "cell_type": "code",
   "execution_count": 56,
   "id": "26fd3901",
   "metadata": {},
   "outputs": [
    {
     "data": {
      "text/plain": [
       "True"
      ]
     },
     "execution_count": 56,
     "metadata": {},
     "output_type": "execute_result"
    }
   ],
   "source": [
    "sentences == copy"
   ]
  },
  {
   "cell_type": "code",
   "execution_count": 57,
   "id": "4cc61750",
   "metadata": {},
   "outputs": [
    {
     "data": {
      "text/plain": [
       "False"
      ]
     },
     "execution_count": 57,
     "metadata": {},
     "output_type": "execute_result"
    }
   ],
   "source": [
    "sentences is copy"
   ]
  },
  {
   "cell_type": "code",
   "execution_count": 58,
   "id": "f559969c",
   "metadata": {},
   "outputs": [
    {
     "data": {
      "text/plain": [
       "[['Call', 'me', 'Ishmael', '.'], ['I', 'am', 'tired', '.']]"
      ]
     },
     "execution_count": 58,
     "metadata": {},
     "output_type": "execute_result"
    }
   ],
   "source": [
    "copy"
   ]
  },
  {
   "cell_type": "code",
   "execution_count": 59,
   "id": "61f99552",
   "metadata": {},
   "outputs": [
    {
     "data": {
      "text/plain": [
       "'Ishmael'"
      ]
     },
     "execution_count": 59,
     "metadata": {},
     "output_type": "execute_result"
    }
   ],
   "source": [
    "copy[0][2]"
   ]
  },
  {
   "cell_type": "code",
   "execution_count": 60,
   "id": "40305d79",
   "metadata": {},
   "outputs": [],
   "source": [
    "copy[0][2] = \"David\""
   ]
  },
  {
   "cell_type": "code",
   "execution_count": 61,
   "id": "4c054cc5",
   "metadata": {},
   "outputs": [
    {
     "data": {
      "text/plain": [
       "[['Call', 'me', 'David', '.'], ['I', 'am', 'tired', '.']]"
      ]
     },
     "execution_count": 61,
     "metadata": {},
     "output_type": "execute_result"
    }
   ],
   "source": [
    "copy"
   ]
  },
  {
   "cell_type": "code",
   "execution_count": 62,
   "id": "b8dfd14a",
   "metadata": {},
   "outputs": [
    {
     "data": {
      "text/plain": [
       "[['Call', 'me', 'David', '.'], ['I', 'am', 'tired', '.']]"
      ]
     },
     "execution_count": 62,
     "metadata": {},
     "output_type": "execute_result"
    }
   ],
   "source": [
    "sentences"
   ]
  },
  {
   "cell_type": "code",
   "execution_count": 63,
   "id": "2ec421de",
   "metadata": {},
   "outputs": [
    {
     "data": {
      "text/plain": [
       "False"
      ]
     },
     "execution_count": 63,
     "metadata": {},
     "output_type": "execute_result"
    }
   ],
   "source": [
    "copy is sentences"
   ]
  },
  {
   "cell_type": "code",
   "execution_count": 64,
   "id": "0050e186",
   "metadata": {},
   "outputs": [
    {
     "data": {
      "text/plain": [
       "True"
      ]
     },
     "execution_count": 64,
     "metadata": {},
     "output_type": "execute_result"
    }
   ],
   "source": [
    "copy[0] is sentences[0]"
   ]
  },
  {
   "cell_type": "markdown",
   "id": "7d61b0b2",
   "metadata": {},
   "source": [
    "## Deep copies"
   ]
  },
  {
   "cell_type": "code",
   "execution_count": 65,
   "id": "8207507f",
   "metadata": {},
   "outputs": [],
   "source": [
    "from copy import deepcopy"
   ]
  },
  {
   "cell_type": "code",
   "execution_count": 66,
   "id": "2a30eb72",
   "metadata": {},
   "outputs": [],
   "source": [
    "deep = deepcopy(sentences)"
   ]
  },
  {
   "cell_type": "code",
   "execution_count": 67,
   "id": "20bd0790",
   "metadata": {},
   "outputs": [
    {
     "data": {
      "text/plain": [
       "[['Call', 'me', 'David', '.'], ['I', 'am', 'tired', '.']]"
      ]
     },
     "execution_count": 67,
     "metadata": {},
     "output_type": "execute_result"
    }
   ],
   "source": [
    "deep"
   ]
  },
  {
   "cell_type": "code",
   "execution_count": 68,
   "id": "79ece788",
   "metadata": {},
   "outputs": [
    {
     "data": {
      "text/plain": [
       "True"
      ]
     },
     "execution_count": 68,
     "metadata": {},
     "output_type": "execute_result"
    }
   ],
   "source": [
    "deep == sentences"
   ]
  },
  {
   "cell_type": "code",
   "execution_count": 69,
   "id": "eca3a66b",
   "metadata": {},
   "outputs": [
    {
     "data": {
      "text/plain": [
       "False"
      ]
     },
     "execution_count": 69,
     "metadata": {},
     "output_type": "execute_result"
    }
   ],
   "source": [
    "deep is sentences"
   ]
  },
  {
   "cell_type": "code",
   "execution_count": 70,
   "id": "5b0b634b",
   "metadata": {},
   "outputs": [
    {
     "data": {
      "text/plain": [
       "False"
      ]
     },
     "execution_count": 70,
     "metadata": {},
     "output_type": "execute_result"
    }
   ],
   "source": [
    "deep[0] is sentences[0]"
   ]
  },
  {
   "cell_type": "code",
   "execution_count": 71,
   "id": "cb781cf4",
   "metadata": {},
   "outputs": [
    {
     "data": {
      "text/plain": [
       "False"
      ]
     },
     "execution_count": 71,
     "metadata": {},
     "output_type": "execute_result"
    }
   ],
   "source": [
    "deep[1] is sentences[1]"
   ]
  },
  {
   "cell_type": "code",
   "execution_count": 72,
   "id": "1beb6557",
   "metadata": {},
   "outputs": [],
   "source": [
    "deep[0][2] = \"Ishmael\""
   ]
  },
  {
   "cell_type": "code",
   "execution_count": 73,
   "id": "876f55c4",
   "metadata": {},
   "outputs": [
    {
     "data": {
      "text/plain": [
       "[['Call', 'me', 'Ishmael', '.'], ['I', 'am', 'tired', '.']]"
      ]
     },
     "execution_count": 73,
     "metadata": {},
     "output_type": "execute_result"
    }
   ],
   "source": [
    "deep"
   ]
  },
  {
   "cell_type": "code",
   "execution_count": 74,
   "id": "c6737ae5",
   "metadata": {},
   "outputs": [
    {
     "data": {
      "text/plain": [
       "[['Call', 'me', 'David', '.'], ['I', 'am', 'tired', '.']]"
      ]
     },
     "execution_count": 74,
     "metadata": {},
     "output_type": "execute_result"
    }
   ],
   "source": [
    "sentences"
   ]
  },
  {
   "cell_type": "code",
   "execution_count": 75,
   "id": "317ae1dc",
   "metadata": {},
   "outputs": [
    {
     "data": {
      "text/plain": [
       "[['Call', 'me', 'David', '.'], ['I', 'am', 'tired', '.']]"
      ]
     },
     "execution_count": 75,
     "metadata": {},
     "output_type": "execute_result"
    }
   ],
   "source": [
    "copy"
   ]
  },
  {
   "cell_type": "markdown",
   "id": "cfdb0749",
   "metadata": {},
   "source": [
    "## Unlike the postman, imports only ever run once"
   ]
  },
  {
   "cell_type": "code",
   "execution_count": 76,
   "id": "77405ccc",
   "metadata": {},
   "outputs": [
    {
     "name": "stdout",
     "output_type": "stream",
     "text": [
      "Writing my_module.py\n"
     ]
    }
   ],
   "source": [
    "%%writefile my_module.py\n",
    "def add_ten(num):\n",
    "    return num + 1"
   ]
  },
  {
   "cell_type": "code",
   "execution_count": 77,
   "id": "1b0dd249",
   "metadata": {},
   "outputs": [
    {
     "data": {
      "text/plain": [
       "4"
      ]
     },
     "execution_count": 77,
     "metadata": {},
     "output_type": "execute_result"
    }
   ],
   "source": [
    "import my_module\n",
    "\n",
    "my_module.add_ten(3)"
   ]
  },
  {
   "cell_type": "markdown",
   "id": "ecc208da",
   "metadata": {},
   "source": [
    "Now you realize you made a mistake and fix it."
   ]
  },
  {
   "cell_type": "code",
   "execution_count": 78,
   "id": "e9694d4c",
   "metadata": {},
   "outputs": [
    {
     "name": "stdout",
     "output_type": "stream",
     "text": [
      "Overwriting my_module.py\n"
     ]
    }
   ],
   "source": [
    "%%writefile my_module.py\n",
    "def add_ten(num):\n",
    "    return num + 10"
   ]
  },
  {
   "cell_type": "code",
   "execution_count": 79,
   "id": "7140c4a4",
   "metadata": {},
   "outputs": [
    {
     "data": {
      "text/plain": [
       "4"
      ]
     },
     "execution_count": 79,
     "metadata": {},
     "output_type": "execute_result"
    }
   ],
   "source": [
    "import my_module\n",
    "\n",
    "my_module.add_ten(3)"
   ]
  },
  {
   "cell_type": "markdown",
   "id": "3a08ec38",
   "metadata": {},
   "source": [
    "Still wrong, modules are only loaded once (explain why).\n",
    "\n",
    "In JupyterLab (IPython), there's a workaround. Unfortunately, it won't\n",
    "work on previously imported modules, so we need to create a new one."
   ]
  },
  {
   "cell_type": "code",
   "execution_count": 80,
   "id": "b4ea91ce",
   "metadata": {},
   "outputs": [],
   "source": [
    "# cleanup\n",
    "%rm my_module.py\n",
    "\n",
    "%load_ext autoreload\n",
    "%autoreload 1"
   ]
  },
  {
   "cell_type": "code",
   "execution_count": 81,
   "id": "1a2c409a",
   "metadata": {},
   "outputs": [
    {
     "name": "stdout",
     "output_type": "stream",
     "text": [
      "Writing another_module.py\n"
     ]
    }
   ],
   "source": [
    "%%writefile another_module.py\n",
    "def add_ten(num):\n",
    "    # d'oh, again!\n",
    "    return num + 1"
   ]
  },
  {
   "cell_type": "code",
   "execution_count": 82,
   "id": "f53e2c5d",
   "metadata": {},
   "outputs": [
    {
     "data": {
      "text/plain": [
       "4"
      ]
     },
     "execution_count": 82,
     "metadata": {},
     "output_type": "execute_result"
    }
   ],
   "source": [
    "# notice %aimport instead of regular import\n",
    "%aimport another_module\n",
    "\n",
    "another_module.add_ten(3)"
   ]
  },
  {
   "cell_type": "code",
   "execution_count": 83,
   "id": "c15a925c",
   "metadata": {},
   "outputs": [
    {
     "name": "stdout",
     "output_type": "stream",
     "text": [
      "Overwriting another_module.py\n"
     ]
    }
   ],
   "source": [
    "%%writefile another_module.py\n",
    "def add_ten(num):\n",
    "    return num + 10"
   ]
  },
  {
   "cell_type": "code",
   "execution_count": 84,
   "id": "47ee23c7",
   "metadata": {},
   "outputs": [
    {
     "data": {
      "text/plain": [
       "13"
      ]
     },
     "execution_count": 84,
     "metadata": {},
     "output_type": "execute_result"
    }
   ],
   "source": [
    "another_module.add_ten(3)"
   ]
  },
  {
   "cell_type": "markdown",
   "id": "415ee97a",
   "metadata": {},
   "source": [
    "Check out the various usage options by invoking `?%autoreload`. But\n",
    "careful, such module reloading is not in general guaranteed to work,\n",
    "Python just really doesn't like it. If you run into weird behavior doing\n",
    "this, the safe bet is to just restart your Python session (what\n",
    "JupyterLab calls the **kernel**)."
   ]
  },
  {
   "cell_type": "code",
   "execution_count": 85,
   "id": "5e379720",
   "metadata": {},
   "outputs": [],
   "source": [
    "# cleanup\n",
    "%rm another_module.py"
   ]
  },
  {
   "cell_type": "markdown",
   "id": "6233af77",
   "metadata": {},
   "source": [
    "<!-- vim: set spell spelllang=en: -->"
   ]
  }
 ],
 "metadata": {
  "jupytext": {
   "formats": "md:myst",
   "text_representation": {
    "extension": ".md",
    "format_name": "myst",
    "format_version": 0.12,
    "jupytext_version": "1.6.0"
   }
  },
  "kernelspec": {
   "display_name": "Python 3",
   "language": "python",
   "name": "python3"
  },
  "language_info": {
   "codemirror_mode": {
    "name": "ipython",
    "version": 3
   },
   "file_extension": ".py",
   "mimetype": "text/x-python",
   "name": "python",
   "nbconvert_exporter": "python",
   "pygments_lexer": "ipython3",
   "version": "3.9.6"
  },
  "source_map": [
   13,
   28,
   33,
   40,
   44,
   50,
   57,
   61,
   63,
   67,
   71,
   73,
   77,
   82,
   87,
   91,
   95,
   99,
   103,
   107,
   111,
   113,
   119,
   125,
   129,
   133,
   135,
   139,
   144,
   148,
   152,
   156,
   160,
   164,
   168,
   172,
   176,
   180,
   184,
   188,
   192,
   196,
   200,
   204,
   208,
   212,
   216,
   220,
   224,
   229,
   233,
   235,
   239,
   244,
   248,
   252,
   256,
   261,
   265,
   269,
   276,
   280,
   284,
   288,
   292,
   296,
   300,
   304,
   308,
   312,
   314,
   318,
   322,
   326,
   330,
   334,
   338,
   342,
   346,
   350,
   354,
   358,
   360,
   364,
   370,
   374,
   378,
   384,
   388,
   395,
   403,
   410,
   417,
   423,
   425,
   433,
   436
  ]
 },
 "nbformat": 4,
 "nbformat_minor": 5
}