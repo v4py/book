{
 "cells": [
  {
   "cell_type": "markdown",
   "id": "741790e6",
   "metadata": {},
   "source": [
    "# Python gotchas\n",
    "\n",
    "## With great power comes great responsibility\n",
    "\n",
    "You now know enough Python to be dangerous! Unfortunately, that also\n",
    "means you can occasionally be dangerous to yourself. Python tries hard\n",
    "to be a consistent language that prevents you from accidentally shooting\n",
    "yourself in the foot, but there are still many gotchas, as with most\n",
    "programming languages. Here's a selection of all-time favorites to look\n",
    "out for as you start building larger and more complicated programs.\n",
    "\n",
    "## Variable scope"
   ]
  },
  {
   "cell_type": "code",
   "execution_count": 1,
   "id": "ae85d611",
   "metadata": {},
   "outputs": [],
   "source": [
    "# global scope\n",
    "a = 2"
   ]
  },
  {
   "cell_type": "code",
   "execution_count": 2,
   "id": "bcb2084c",
   "metadata": {},
   "outputs": [],
   "source": [
    "def func():\n",
    "    print(a)\n",
    "    # local scope\n",
    "    b = 3"
   ]
  },
  {
   "cell_type": "code",
   "execution_count": 3,
   "id": "2fe48888",
   "metadata": {},
   "outputs": [
    {
     "name": "stdout",
     "output_type": "stream",
     "text": [
      "2\n"
     ]
    }
   ],
   "source": [
    "func()"
   ]
  },
  {
   "cell_type": "code",
   "execution_count": 4,
   "id": "6b3535dd",
   "metadata": {
    "tags": [
     "raises-exception",
     "full-width",
     "output_scroll"
    ]
   },
   "outputs": [
    {
     "ename": "NameError",
     "evalue": "name 'b' is not defined",
     "output_type": "error",
     "traceback": [
      "\u001b[0;31m---------------------------------------------------------------------------\u001b[0m",
      "\u001b[0;31mNameError\u001b[0m                                 Traceback (most recent call last)",
      "\u001b[0;32m/tmp/ipykernel_57042/1685013873.py\u001b[0m in \u001b[0;36m<module>\u001b[0;34m\u001b[0m\n\u001b[0;32m----> 1\u001b[0;31m \u001b[0mb\u001b[0m\u001b[0;34m\u001b[0m\u001b[0;34m\u001b[0m\u001b[0m\n\u001b[0m",
      "\u001b[0;31mNameError\u001b[0m: name 'b' is not defined"
     ]
    }
   ],
   "source": [
    "b"
   ]
  },
  {
   "cell_type": "code",
   "execution_count": 5,
   "id": "c1791f0f",
   "metadata": {},
   "outputs": [],
   "source": [
    "def func():\n",
    "    # local variable shadows global variable\n",
    "    a = 4\n",
    "    print(a)"
   ]
  },
  {
   "cell_type": "code",
   "execution_count": 6,
   "id": "c2a3e8b9",
   "metadata": {},
   "outputs": [
    {
     "name": "stdout",
     "output_type": "stream",
     "text": [
      "4\n"
     ]
    }
   ],
   "source": [
    "func()"
   ]
  },
  {
   "cell_type": "code",
   "execution_count": 7,
   "id": "91453762",
   "metadata": {},
   "outputs": [
    {
     "data": {
      "text/plain": [
       "2"
      ]
     },
     "execution_count": 7,
     "metadata": {},
     "output_type": "execute_result"
    }
   ],
   "source": [
    "a"
   ]
  },
  {
   "cell_type": "markdown",
   "id": "5f2452a1",
   "metadata": {},
   "source": [
    "Listing global variables:"
   ]
  },
  {
   "cell_type": "code",
   "execution_count": 8,
   "id": "82dcf14b",
   "metadata": {},
   "outputs": [
    {
     "name": "stdout",
     "output_type": "stream",
     "text": [
      "a\t func\t \n"
     ]
    }
   ],
   "source": [
    "%who"
   ]
  },
  {
   "cell_type": "code",
   "execution_count": 9,
   "id": "15e2a8be",
   "metadata": {},
   "outputs": [
    {
     "name": "stdout",
     "output_type": "stream",
     "text": [
      "Variable   Type        Data/Info\n",
      "--------------------------------\n",
      "a          int         2\n",
      "func       function    <function func at 0x7faa8c487c10>\n"
     ]
    }
   ],
   "source": [
    "%whos"
   ]
  },
  {
   "cell_type": "markdown",
   "id": "e5f732b6",
   "metadata": {},
   "source": [
    "## `return` vs. `print`"
   ]
  },
  {
   "cell_type": "code",
   "execution_count": 10,
   "id": "45597bf7",
   "metadata": {},
   "outputs": [],
   "source": [
    "def func1():\n",
    "    return 1"
   ]
  },
  {
   "cell_type": "code",
   "execution_count": 11,
   "id": "30a1fdf2",
   "metadata": {},
   "outputs": [],
   "source": [
    "def func2():\n",
    "    print(1)"
   ]
  },
  {
   "cell_type": "code",
   "execution_count": 12,
   "id": "9938dff6",
   "metadata": {},
   "outputs": [
    {
     "data": {
      "text/plain": [
       "1"
      ]
     },
     "execution_count": 12,
     "metadata": {},
     "output_type": "execute_result"
    }
   ],
   "source": [
    "func1()"
   ]
  },
  {
   "cell_type": "code",
   "execution_count": 13,
   "id": "9ef8f904",
   "metadata": {},
   "outputs": [
    {
     "name": "stdout",
     "output_type": "stream",
     "text": [
      "1\n"
     ]
    }
   ],
   "source": [
    "func2()"
   ]
  },
  {
   "cell_type": "code",
   "execution_count": 14,
   "id": "a0d303f1",
   "metadata": {},
   "outputs": [],
   "source": [
    "result1 = func1()"
   ]
  },
  {
   "cell_type": "code",
   "execution_count": 15,
   "id": "ebc1661d",
   "metadata": {},
   "outputs": [
    {
     "data": {
      "text/plain": [
       "1"
      ]
     },
     "execution_count": 15,
     "metadata": {},
     "output_type": "execute_result"
    }
   ],
   "source": [
    "result1"
   ]
  },
  {
   "cell_type": "code",
   "execution_count": 16,
   "id": "156f1367",
   "metadata": {},
   "outputs": [
    {
     "name": "stdout",
     "output_type": "stream",
     "text": [
      "1\n"
     ]
    }
   ],
   "source": [
    "result2 = func2()"
   ]
  },
  {
   "cell_type": "code",
   "execution_count": 17,
   "id": "6561d85c",
   "metadata": {},
   "outputs": [],
   "source": [
    "result2"
   ]
  },
  {
   "cell_type": "code",
   "execution_count": 18,
   "id": "3c4358d9",
   "metadata": {},
   "outputs": [
    {
     "data": {
      "text/plain": [
       "True"
      ]
     },
     "execution_count": 18,
     "metadata": {},
     "output_type": "execute_result"
    }
   ],
   "source": [
    "result2 is None"
   ]
  },
  {
   "cell_type": "markdown",
   "id": "ff7edbdc",
   "metadata": {},
   "source": [
    "Python automatically returns `None` whenever it reaches the end of a\n",
    "function without encountering a `return` statement, but we can also\n",
    "`return None` explicitly."
   ]
  },
  {
   "cell_type": "code",
   "execution_count": 19,
   "id": "020b9d3e",
   "metadata": {},
   "outputs": [],
   "source": [
    "def func2():\n",
    "    print(1)\n",
    "    return None"
   ]
  },
  {
   "cell_type": "code",
   "execution_count": 20,
   "id": "79625459",
   "metadata": {},
   "outputs": [
    {
     "name": "stdout",
     "output_type": "stream",
     "text": [
      "1\n"
     ]
    }
   ],
   "source": [
    "func2()"
   ]
  },
  {
   "cell_type": "code",
   "execution_count": 21,
   "id": "ade3bbd3",
   "metadata": {},
   "outputs": [
    {
     "name": "stdout",
     "output_type": "stream",
     "text": [
      "1\n"
     ]
    }
   ],
   "source": [
    "res = func2()"
   ]
  },
  {
   "cell_type": "code",
   "execution_count": 22,
   "id": "1a06a2c9",
   "metadata": {},
   "outputs": [
    {
     "data": {
      "text/plain": [
       "True"
      ]
     },
     "execution_count": 22,
     "metadata": {},
     "output_type": "execute_result"
    }
   ],
   "source": [
    "res is None"
   ]
  },
  {
   "cell_type": "markdown",
   "id": "eaa968af",
   "metadata": {},
   "source": [
    "## Difference between `==` and `is`"
   ]
  },
  {
   "cell_type": "code",
   "execution_count": 23,
   "id": "dbe9d2fd",
   "metadata": {},
   "outputs": [],
   "source": [
    "list1 = [1, 2]\n",
    "list2 = [2, 3]"
   ]
  },
  {
   "cell_type": "code",
   "execution_count": 24,
   "id": "64f63aed",
   "metadata": {},
   "outputs": [
    {
     "data": {
      "text/plain": [
       "False"
      ]
     },
     "execution_count": 24,
     "metadata": {},
     "output_type": "execute_result"
    }
   ],
   "source": [
    "list1 == list2"
   ]
  },
  {
   "cell_type": "code",
   "execution_count": 25,
   "id": "86e761b8",
   "metadata": {},
   "outputs": [
    {
     "data": {
      "text/plain": [
       "False"
      ]
     },
     "execution_count": 25,
     "metadata": {},
     "output_type": "execute_result"
    }
   ],
   "source": [
    "list1 is list2"
   ]
  },
  {
   "cell_type": "code",
   "execution_count": 26,
   "id": "885c1021",
   "metadata": {},
   "outputs": [],
   "source": [
    "list3 = [1, 2]"
   ]
  },
  {
   "cell_type": "code",
   "execution_count": 27,
   "id": "91058522",
   "metadata": {},
   "outputs": [
    {
     "data": {
      "text/plain": [
       "True"
      ]
     },
     "execution_count": 27,
     "metadata": {},
     "output_type": "execute_result"
    }
   ],
   "source": [
    "list1 == list3"
   ]
  },
  {
   "cell_type": "code",
   "execution_count": 28,
   "id": "5be7e1f9",
   "metadata": {},
   "outputs": [
    {
     "data": {
      "text/plain": [
       "False"
      ]
     },
     "execution_count": 28,
     "metadata": {},
     "output_type": "execute_result"
    }
   ],
   "source": [
    "list1 is list3"
   ]
  },
  {
   "cell_type": "code",
   "execution_count": 29,
   "id": "acf046e1",
   "metadata": {},
   "outputs": [
    {
     "data": {
      "text/plain": [
       "[1, 2]"
      ]
     },
     "execution_count": 29,
     "metadata": {},
     "output_type": "execute_result"
    }
   ],
   "source": [
    "list1"
   ]
  },
  {
   "cell_type": "code",
   "execution_count": 30,
   "id": "d049b631",
   "metadata": {},
   "outputs": [
    {
     "data": {
      "text/plain": [
       "[1, 2]"
      ]
     },
     "execution_count": 30,
     "metadata": {},
     "output_type": "execute_result"
    }
   ],
   "source": [
    "list3"
   ]
  },
  {
   "cell_type": "code",
   "execution_count": 31,
   "id": "5d2cb696",
   "metadata": {},
   "outputs": [
    {
     "data": {
      "text/plain": [
       "140370475566528"
      ]
     },
     "execution_count": 31,
     "metadata": {},
     "output_type": "execute_result"
    }
   ],
   "source": [
    "id(list1)"
   ]
  },
  {
   "cell_type": "code",
   "execution_count": 32,
   "id": "08077295",
   "metadata": {},
   "outputs": [
    {
     "data": {
      "text/plain": [
       "140370475277184"
      ]
     },
     "execution_count": 32,
     "metadata": {},
     "output_type": "execute_result"
    }
   ],
   "source": [
    "id(list3)"
   ]
  },
  {
   "cell_type": "code",
   "execution_count": 33,
   "id": "1d1b3393",
   "metadata": {},
   "outputs": [],
   "source": [
    "list3.append(42)"
   ]
  },
  {
   "cell_type": "code",
   "execution_count": 34,
   "id": "31bcfce6",
   "metadata": {},
   "outputs": [
    {
     "data": {
      "text/plain": [
       "[1, 2, 42]"
      ]
     },
     "execution_count": 34,
     "metadata": {},
     "output_type": "execute_result"
    }
   ],
   "source": [
    "list3"
   ]
  },
  {
   "cell_type": "code",
   "execution_count": 35,
   "id": "d1e5248a",
   "metadata": {},
   "outputs": [
    {
     "data": {
      "text/plain": [
       "[1, 2]"
      ]
     },
     "execution_count": 35,
     "metadata": {},
     "output_type": "execute_result"
    }
   ],
   "source": [
    "list1"
   ]
  },
  {
   "cell_type": "code",
   "execution_count": 36,
   "id": "3ab5751a",
   "metadata": {},
   "outputs": [
    {
     "data": {
      "text/plain": [
       "False"
      ]
     },
     "execution_count": 36,
     "metadata": {},
     "output_type": "execute_result"
    }
   ],
   "source": [
    "list1 == list3"
   ]
  },
  {
   "cell_type": "code",
   "execution_count": 37,
   "id": "8c95c377",
   "metadata": {},
   "outputs": [
    {
     "data": {
      "text/plain": [
       "[1, 2, 42]"
      ]
     },
     "execution_count": 37,
     "metadata": {},
     "output_type": "execute_result"
    }
   ],
   "source": [
    "list3"
   ]
  },
  {
   "cell_type": "code",
   "execution_count": 38,
   "id": "a57b6f51",
   "metadata": {},
   "outputs": [],
   "source": [
    "list4 = list3"
   ]
  },
  {
   "cell_type": "code",
   "execution_count": 39,
   "id": "4a69e04e",
   "metadata": {},
   "outputs": [
    {
     "data": {
      "text/plain": [
       "True"
      ]
     },
     "execution_count": 39,
     "metadata": {},
     "output_type": "execute_result"
    }
   ],
   "source": [
    "list3 == list4"
   ]
  },
  {
   "cell_type": "code",
   "execution_count": 40,
   "id": "4f841fac",
   "metadata": {},
   "outputs": [
    {
     "data": {
      "text/plain": [
       "True"
      ]
     },
     "execution_count": 40,
     "metadata": {},
     "output_type": "execute_result"
    }
   ],
   "source": [
    "list3 is list4"
   ]
  },
  {
   "cell_type": "code",
   "execution_count": 41,
   "id": "76c7fb93",
   "metadata": {},
   "outputs": [],
   "source": [
    "list3.append(5)"
   ]
  },
  {
   "cell_type": "code",
   "execution_count": 42,
   "id": "1d60007d",
   "metadata": {},
   "outputs": [
    {
     "data": {
      "text/plain": [
       "[1, 2, 42, 5]"
      ]
     },
     "execution_count": 42,
     "metadata": {},
     "output_type": "execute_result"
    }
   ],
   "source": [
    "list3"
   ]
  },
  {
   "cell_type": "code",
   "execution_count": 43,
   "id": "af3672e2",
   "metadata": {},
   "outputs": [
    {
     "data": {
      "text/plain": [
       "[1, 2, 42, 5]"
      ]
     },
     "execution_count": 43,
     "metadata": {},
     "output_type": "execute_result"
    }
   ],
   "source": [
    "list4"
   ]
  },
  {
   "cell_type": "code",
   "execution_count": 44,
   "id": "bdeff667",
   "metadata": {},
   "outputs": [],
   "source": [
    "def mutating_function(lst):\n",
    "    lst.append(500)"
   ]
  },
  {
   "cell_type": "code",
   "execution_count": 45,
   "id": "1de4eb3f",
   "metadata": {},
   "outputs": [],
   "source": [
    "mutating_function(list4)"
   ]
  },
  {
   "cell_type": "code",
   "execution_count": 46,
   "id": "7260ca0e",
   "metadata": {},
   "outputs": [
    {
     "data": {
      "text/plain": [
       "[1, 2, 42, 5, 500]"
      ]
     },
     "execution_count": 46,
     "metadata": {},
     "output_type": "execute_result"
    }
   ],
   "source": [
    "list4"
   ]
  },
  {
   "cell_type": "markdown",
   "id": "675b21f1",
   "metadata": {},
   "source": [
    "## Shallow copies"
   ]
  },
  {
   "cell_type": "code",
   "execution_count": 47,
   "id": "c31a9de4",
   "metadata": {},
   "outputs": [
    {
     "data": {
      "text/plain": [
       "[1, 2, 42, 5, 500]"
      ]
     },
     "execution_count": 47,
     "metadata": {},
     "output_type": "execute_result"
    }
   ],
   "source": [
    "# either by slicing...\n",
    "list4[:]"
   ]
  },
  {
   "cell_type": "code",
   "execution_count": 48,
   "id": "a49d05f0",
   "metadata": {},
   "outputs": [],
   "source": [
    "list5 = list4[:]"
   ]
  },
  {
   "cell_type": "code",
   "execution_count": 49,
   "id": "b6f83f84",
   "metadata": {},
   "outputs": [
    {
     "data": {
      "text/plain": [
       "True"
      ]
     },
     "execution_count": 49,
     "metadata": {},
     "output_type": "execute_result"
    }
   ],
   "source": [
    "list5 == list4"
   ]
  },
  {
   "cell_type": "code",
   "execution_count": 50,
   "id": "4d124146",
   "metadata": {},
   "outputs": [
    {
     "data": {
      "text/plain": [
       "False"
      ]
     },
     "execution_count": 50,
     "metadata": {},
     "output_type": "execute_result"
    }
   ],
   "source": [
    "list5 is list4"
   ]
  },
  {
   "cell_type": "code",
   "execution_count": 51,
   "id": "81df4228",
   "metadata": {},
   "outputs": [],
   "source": [
    "# ... or the copy method\n",
    "list6 = list4.copy()"
   ]
  },
  {
   "cell_type": "code",
   "execution_count": 52,
   "id": "2fcf1c37",
   "metadata": {},
   "outputs": [
    {
     "data": {
      "text/plain": [
       "True"
      ]
     },
     "execution_count": 52,
     "metadata": {},
     "output_type": "execute_result"
    }
   ],
   "source": [
    "list6 == list4"
   ]
  },
  {
   "cell_type": "code",
   "execution_count": 53,
   "id": "3117d01f",
   "metadata": {},
   "outputs": [
    {
     "data": {
      "text/plain": [
       "False"
      ]
     },
     "execution_count": 53,
     "metadata": {},
     "output_type": "execute_result"
    }
   ],
   "source": [
    "list6 is list4"
   ]
  },
  {
   "cell_type": "code",
   "execution_count": 54,
   "id": "98d8a209",
   "metadata": {},
   "outputs": [],
   "source": [
    "sentences = [\n",
    "    [\"Call\", \"me\", \"Ishmael\", \".\"],\n",
    "    [\"I\", \"am\", \"tired\", \".\"]\n",
    "]"
   ]
  },
  {
   "cell_type": "code",
   "execution_count": 55,
   "id": "6e4363ae",
   "metadata": {},
   "outputs": [],
   "source": [
    "copy = sentences.copy()"
   ]
  },
  {
   "cell_type": "code",
   "execution_count": 56,
   "id": "44327a2f",
   "metadata": {},
   "outputs": [
    {
     "data": {
      "text/plain": [
       "True"
      ]
     },
     "execution_count": 56,
     "metadata": {},
     "output_type": "execute_result"
    }
   ],
   "source": [
    "sentences == copy"
   ]
  },
  {
   "cell_type": "code",
   "execution_count": 57,
   "id": "b1e250a9",
   "metadata": {},
   "outputs": [
    {
     "data": {
      "text/plain": [
       "False"
      ]
     },
     "execution_count": 57,
     "metadata": {},
     "output_type": "execute_result"
    }
   ],
   "source": [
    "sentences is copy"
   ]
  },
  {
   "cell_type": "code",
   "execution_count": 58,
   "id": "c10be699",
   "metadata": {},
   "outputs": [
    {
     "data": {
      "text/plain": [
       "[['Call', 'me', 'Ishmael', '.'], ['I', 'am', 'tired', '.']]"
      ]
     },
     "execution_count": 58,
     "metadata": {},
     "output_type": "execute_result"
    }
   ],
   "source": [
    "copy"
   ]
  },
  {
   "cell_type": "code",
   "execution_count": 59,
   "id": "5cdd3ddd",
   "metadata": {},
   "outputs": [
    {
     "data": {
      "text/plain": [
       "'Ishmael'"
      ]
     },
     "execution_count": 59,
     "metadata": {},
     "output_type": "execute_result"
    }
   ],
   "source": [
    "copy[0][2]"
   ]
  },
  {
   "cell_type": "code",
   "execution_count": 60,
   "id": "2ec76995",
   "metadata": {},
   "outputs": [],
   "source": [
    "copy[0][2] = \"David\""
   ]
  },
  {
   "cell_type": "code",
   "execution_count": 61,
   "id": "c612e7b1",
   "metadata": {},
   "outputs": [
    {
     "data": {
      "text/plain": [
       "[['Call', 'me', 'David', '.'], ['I', 'am', 'tired', '.']]"
      ]
     },
     "execution_count": 61,
     "metadata": {},
     "output_type": "execute_result"
    }
   ],
   "source": [
    "copy"
   ]
  },
  {
   "cell_type": "code",
   "execution_count": 62,
   "id": "d11c0f6c",
   "metadata": {},
   "outputs": [
    {
     "data": {
      "text/plain": [
       "[['Call', 'me', 'David', '.'], ['I', 'am', 'tired', '.']]"
      ]
     },
     "execution_count": 62,
     "metadata": {},
     "output_type": "execute_result"
    }
   ],
   "source": [
    "sentences"
   ]
  },
  {
   "cell_type": "code",
   "execution_count": 63,
   "id": "13c85efb",
   "metadata": {},
   "outputs": [
    {
     "data": {
      "text/plain": [
       "False"
      ]
     },
     "execution_count": 63,
     "metadata": {},
     "output_type": "execute_result"
    }
   ],
   "source": [
    "copy is sentences"
   ]
  },
  {
   "cell_type": "code",
   "execution_count": 64,
   "id": "4cd48eb8",
   "metadata": {},
   "outputs": [
    {
     "data": {
      "text/plain": [
       "True"
      ]
     },
     "execution_count": 64,
     "metadata": {},
     "output_type": "execute_result"
    }
   ],
   "source": [
    "copy[0] is sentences[0]"
   ]
  },
  {
   "cell_type": "markdown",
   "id": "449f2e6d",
   "metadata": {},
   "source": [
    "## Deep copies"
   ]
  },
  {
   "cell_type": "code",
   "execution_count": 65,
   "id": "c4cc55f6",
   "metadata": {},
   "outputs": [],
   "source": [
    "from copy import deepcopy"
   ]
  },
  {
   "cell_type": "code",
   "execution_count": 66,
   "id": "ae67e2cc",
   "metadata": {},
   "outputs": [],
   "source": [
    "deep = deepcopy(sentences)"
   ]
  },
  {
   "cell_type": "code",
   "execution_count": 67,
   "id": "13ca9749",
   "metadata": {},
   "outputs": [
    {
     "data": {
      "text/plain": [
       "[['Call', 'me', 'David', '.'], ['I', 'am', 'tired', '.']]"
      ]
     },
     "execution_count": 67,
     "metadata": {},
     "output_type": "execute_result"
    }
   ],
   "source": [
    "deep"
   ]
  },
  {
   "cell_type": "code",
   "execution_count": 68,
   "id": "879360c2",
   "metadata": {},
   "outputs": [
    {
     "data": {
      "text/plain": [
       "True"
      ]
     },
     "execution_count": 68,
     "metadata": {},
     "output_type": "execute_result"
    }
   ],
   "source": [
    "deep == sentences"
   ]
  },
  {
   "cell_type": "code",
   "execution_count": 69,
   "id": "0752c7cd",
   "metadata": {},
   "outputs": [
    {
     "data": {
      "text/plain": [
       "False"
      ]
     },
     "execution_count": 69,
     "metadata": {},
     "output_type": "execute_result"
    }
   ],
   "source": [
    "deep is sentences"
   ]
  },
  {
   "cell_type": "code",
   "execution_count": 70,
   "id": "2fc3f760",
   "metadata": {},
   "outputs": [
    {
     "data": {
      "text/plain": [
       "False"
      ]
     },
     "execution_count": 70,
     "metadata": {},
     "output_type": "execute_result"
    }
   ],
   "source": [
    "deep[0] is sentences[0]"
   ]
  },
  {
   "cell_type": "code",
   "execution_count": 71,
   "id": "706c7fad",
   "metadata": {},
   "outputs": [
    {
     "data": {
      "text/plain": [
       "False"
      ]
     },
     "execution_count": 71,
     "metadata": {},
     "output_type": "execute_result"
    }
   ],
   "source": [
    "deep[1] is sentences[1]"
   ]
  },
  {
   "cell_type": "code",
   "execution_count": 72,
   "id": "fda9c6e8",
   "metadata": {},
   "outputs": [],
   "source": [
    "deep[0][2] = \"Ishmael\""
   ]
  },
  {
   "cell_type": "code",
   "execution_count": 73,
   "id": "14d01e95",
   "metadata": {},
   "outputs": [
    {
     "data": {
      "text/plain": [
       "[['Call', 'me', 'Ishmael', '.'], ['I', 'am', 'tired', '.']]"
      ]
     },
     "execution_count": 73,
     "metadata": {},
     "output_type": "execute_result"
    }
   ],
   "source": [
    "deep"
   ]
  },
  {
   "cell_type": "code",
   "execution_count": 74,
   "id": "1e705ead",
   "metadata": {},
   "outputs": [
    {
     "data": {
      "text/plain": [
       "[['Call', 'me', 'David', '.'], ['I', 'am', 'tired', '.']]"
      ]
     },
     "execution_count": 74,
     "metadata": {},
     "output_type": "execute_result"
    }
   ],
   "source": [
    "sentences"
   ]
  },
  {
   "cell_type": "code",
   "execution_count": 75,
   "id": "0c107e7e",
   "metadata": {},
   "outputs": [
    {
     "data": {
      "text/plain": [
       "[['Call', 'me', 'David', '.'], ['I', 'am', 'tired', '.']]"
      ]
     },
     "execution_count": 75,
     "metadata": {},
     "output_type": "execute_result"
    }
   ],
   "source": [
    "copy"
   ]
  },
  {
   "cell_type": "markdown",
   "id": "bbfa8e50",
   "metadata": {},
   "source": [
    "## Unlike the postman, imports only ever run once"
   ]
  },
  {
   "cell_type": "code",
   "execution_count": 76,
   "id": "0293425c",
   "metadata": {},
   "outputs": [
    {
     "name": "stdout",
     "output_type": "stream",
     "text": [
      "Writing my_module.py\n"
     ]
    }
   ],
   "source": [
    "%%writefile my_module.py\n",
    "def add_ten(num):\n",
    "    return num + 1"
   ]
  },
  {
   "cell_type": "code",
   "execution_count": 77,
   "id": "9a0e6fdd",
   "metadata": {},
   "outputs": [
    {
     "data": {
      "text/plain": [
       "4"
      ]
     },
     "execution_count": 77,
     "metadata": {},
     "output_type": "execute_result"
    }
   ],
   "source": [
    "import my_module\n",
    "\n",
    "my_module.add_ten(3)"
   ]
  },
  {
   "cell_type": "markdown",
   "id": "a0c81dfd",
   "metadata": {},
   "source": [
    "Now you realize you made a mistake and fix it."
   ]
  },
  {
   "cell_type": "code",
   "execution_count": 78,
   "id": "8bf7583c",
   "metadata": {},
   "outputs": [
    {
     "name": "stdout",
     "output_type": "stream",
     "text": [
      "Overwriting my_module.py\n"
     ]
    }
   ],
   "source": [
    "%%writefile my_module.py\n",
    "def add_ten(num):\n",
    "    return num + 10"
   ]
  },
  {
   "cell_type": "code",
   "execution_count": 79,
   "id": "f82bf860",
   "metadata": {},
   "outputs": [
    {
     "data": {
      "text/plain": [
       "4"
      ]
     },
     "execution_count": 79,
     "metadata": {},
     "output_type": "execute_result"
    }
   ],
   "source": [
    "import my_module\n",
    "\n",
    "my_module.add_ten(3)"
   ]
  },
  {
   "cell_type": "markdown",
   "id": "53f67d6b",
   "metadata": {},
   "source": [
    "Still wrong, modules are only loaded once (explain why).\n",
    "\n",
    "In JupyterLab (IPython), there's a workaround. Unfortunately, it won't\n",
    "work on previously imported modules, so we need to create a new one."
   ]
  },
  {
   "cell_type": "code",
   "execution_count": 80,
   "id": "7f2487c0",
   "metadata": {},
   "outputs": [],
   "source": [
    "# cleanup\n",
    "%rm my_module.py\n",
    "\n",
    "%load_ext autoreload\n",
    "%autoreload 1"
   ]
  },
  {
   "cell_type": "code",
   "execution_count": 81,
   "id": "481ecb22",
   "metadata": {},
   "outputs": [
    {
     "name": "stdout",
     "output_type": "stream",
     "text": [
      "Writing another_module.py\n"
     ]
    }
   ],
   "source": [
    "%%writefile another_module.py\n",
    "def add_ten(num):\n",
    "    # d'oh, again!\n",
    "    return num + 1"
   ]
  },
  {
   "cell_type": "code",
   "execution_count": 82,
   "id": "0d5f9f40",
   "metadata": {},
   "outputs": [
    {
     "data": {
      "text/plain": [
       "4"
      ]
     },
     "execution_count": 82,
     "metadata": {},
     "output_type": "execute_result"
    }
   ],
   "source": [
    "# notice %aimport instead of regular import\n",
    "%aimport another_module\n",
    "\n",
    "another_module.add_ten(3)"
   ]
  },
  {
   "cell_type": "code",
   "execution_count": 83,
   "id": "b0bcd647",
   "metadata": {},
   "outputs": [
    {
     "name": "stdout",
     "output_type": "stream",
     "text": [
      "Overwriting another_module.py\n"
     ]
    }
   ],
   "source": [
    "%%writefile another_module.py\n",
    "def add_ten(num):\n",
    "    return num + 10"
   ]
  },
  {
   "cell_type": "code",
   "execution_count": 84,
   "id": "1c89dce8",
   "metadata": {},
   "outputs": [
    {
     "data": {
      "text/plain": [
       "13"
      ]
     },
     "execution_count": 84,
     "metadata": {},
     "output_type": "execute_result"
    }
   ],
   "source": [
    "another_module.add_ten(3)"
   ]
  },
  {
   "cell_type": "markdown",
   "id": "1a21b8b7",
   "metadata": {},
   "source": [
    "Check out the various usage options by invoking `?%autoreload`. But\n",
    "careful, such module reloading is not in general guaranteed to work,\n",
    "Python just really doesn't like it. If you run into weird behavior doing\n",
    "this, the safe bet is to just restart your Python session (what\n",
    "JupyterLab calls the **kernel**)."
   ]
  },
  {
   "cell_type": "code",
   "execution_count": 85,
   "id": "2428bd7d",
   "metadata": {},
   "outputs": [],
   "source": [
    "# cleanup\n",
    "%rm another_module.py"
   ]
  },
  {
   "cell_type": "markdown",
   "id": "1f1ce9c0",
   "metadata": {},
   "source": [
    "<!-- vim: set spell spelllang=en: -->"
   ]
  }
 ],
 "metadata": {
  "jupytext": {
   "formats": "md:myst",
   "text_representation": {
    "extension": ".md",
    "format_name": "myst",
    "format_version": 0.12,
    "jupytext_version": "1.6.0"
   }
  },
  "kernelspec": {
   "display_name": "Python 3",
   "language": "python",
   "name": "python3"
  },
  "language_info": {
   "codemirror_mode": {
    "name": "ipython",
    "version": 3
   },
   "file_extension": ".py",
   "mimetype": "text/x-python",
   "name": "python",
   "nbconvert_exporter": "python",
   "pygments_lexer": "ipython3",
   "version": "3.9.6"
  },
  "source_map": [
   13,
   28,
   33,
   40,
   44,
   50,
   57,
   61,
   63,
   67,
   71,
   73,
   77,
   82,
   87,
   91,
   95,
   99,
   103,
   107,
   111,
   113,
   119,
   125,
   129,
   133,
   135,
   139,
   144,
   148,
   152,
   156,
   160,
   164,
   168,
   172,
   176,
   180,
   184,
   188,
   192,
   196,
   200,
   204,
   208,
   212,
   216,
   220,
   224,
   229,
   233,
   235,
   239,
   244,
   248,
   252,
   256,
   261,
   265,
   269,
   276,
   280,
   284,
   288,
   292,
   296,
   300,
   304,
   308,
   312,
   314,
   318,
   322,
   326,
   330,
   334,
   338,
   342,
   346,
   350,
   354,
   358,
   360,
   364,
   370,
   374,
   378,
   384,
   388,
   395,
   403,
   410,
   417,
   423,
   425,
   433,
   436
  ]
 },
 "nbformat": 4,
 "nbformat_minor": 5
}